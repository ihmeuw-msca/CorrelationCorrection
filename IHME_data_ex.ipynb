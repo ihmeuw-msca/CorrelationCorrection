{
 "cells": [
  {
   "cell_type": "code",
   "execution_count": 2,
   "metadata": {},
   "outputs": [],
   "source": [
    "import numpy as np\n",
    "import pandas as pd\n",
    "import matplotlib.pyplot as plt\n",
    "\n",
    "from src.IterativeFitting import IterativeFitting as IF\n",
    "from src.CorrFuncs import covariance_matrix"
   ]
  },
  {
   "cell_type": "code",
   "execution_count": 3,
   "metadata": {},
   "outputs": [],
   "source": [
    "study_df = pd.read_excel(\"SBPvPAD_data.xlsx\")"
   ]
  },
  {
   "cell_type": "code",
   "execution_count": 4,
   "metadata": {},
   "outputs": [
    {
     "data": {
      "text/html": [
       "<div>\n",
       "<style scoped>\n",
       "    .dataframe tbody tr th:only-of-type {\n",
       "        vertical-align: middle;\n",
       "    }\n",
       "\n",
       "    .dataframe tbody tr th {\n",
       "        vertical-align: top;\n",
       "    }\n",
       "\n",
       "    .dataframe thead th {\n",
       "        text-align: right;\n",
       "    }\n",
       "</style>\n",
       "<table border=\"1\" class=\"dataframe\">\n",
       "  <thead>\n",
       "    <tr style=\"text-align: right;\">\n",
       "      <th></th>\n",
       "      <th>Author</th>\n",
       "      <th>dose</th>\n",
       "      <th>cases</th>\n",
       "      <th>controls</th>\n",
       "      <th>subjects</th>\n",
       "      <th>logOR</th>\n",
       "      <th>low</th>\n",
       "      <th>high</th>\n",
       "      <th>std_error</th>\n",
       "    </tr>\n",
       "  </thead>\n",
       "  <tbody>\n",
       "    <tr>\n",
       "      <th>0</th>\n",
       "      <td>Stoekenbroek</td>\n",
       "      <td>114.0</td>\n",
       "      <td>21.000000</td>\n",
       "      <td>5428.500000</td>\n",
       "      <td>5449.5</td>\n",
       "      <td>1.000</td>\n",
       "      <td>1.0000</td>\n",
       "      <td>1.000</td>\n",
       "      <td>0.000000</td>\n",
       "    </tr>\n",
       "    <tr>\n",
       "      <th>1</th>\n",
       "      <td>Stoekenbroek</td>\n",
       "      <td>128.0</td>\n",
       "      <td>39.000000</td>\n",
       "      <td>5410.500000</td>\n",
       "      <td>5449.5</td>\n",
       "      <td>0.410</td>\n",
       "      <td>0.2200</td>\n",
       "      <td>0.590</td>\n",
       "      <td>0.093434</td>\n",
       "    </tr>\n",
       "    <tr>\n",
       "      <th>2</th>\n",
       "      <td>Stoekenbroek</td>\n",
       "      <td>139.0</td>\n",
       "      <td>51.000000</td>\n",
       "      <td>5398.500000</td>\n",
       "      <td>5449.5</td>\n",
       "      <td>0.440</td>\n",
       "      <td>0.2700</td>\n",
       "      <td>0.620</td>\n",
       "      <td>0.088384</td>\n",
       "    </tr>\n",
       "    <tr>\n",
       "      <th>3</th>\n",
       "      <td>Stoekenbroek</td>\n",
       "      <td>159.0</td>\n",
       "      <td>116.000000</td>\n",
       "      <td>5333.500000</td>\n",
       "      <td>5449.5</td>\n",
       "      <td>1.080</td>\n",
       "      <td>0.9900</td>\n",
       "      <td>1.170</td>\n",
       "      <td>0.045455</td>\n",
       "    </tr>\n",
       "    <tr>\n",
       "      <th>4</th>\n",
       "      <td>Itoga</td>\n",
       "      <td>123.9</td>\n",
       "      <td>249.666667</td>\n",
       "      <td>786.333333</td>\n",
       "      <td>1036.0</td>\n",
       "      <td>0.230</td>\n",
       "      <td>0.1600</td>\n",
       "      <td>0.310</td>\n",
       "      <td>0.037879</td>\n",
       "    </tr>\n",
       "    <tr>\n",
       "      <th>5</th>\n",
       "      <td>Itoga</td>\n",
       "      <td>129.8</td>\n",
       "      <td>249.666667</td>\n",
       "      <td>2738.333333</td>\n",
       "      <td>2988.0</td>\n",
       "      <td>1.000</td>\n",
       "      <td>1.0000</td>\n",
       "      <td>1.000</td>\n",
       "      <td>0.000000</td>\n",
       "    </tr>\n",
       "    <tr>\n",
       "      <th>6</th>\n",
       "      <td>Itoga</td>\n",
       "      <td>134.6</td>\n",
       "      <td>249.666667</td>\n",
       "      <td>6048.333333</td>\n",
       "      <td>6298.0</td>\n",
       "      <td>-0.062</td>\n",
       "      <td>-0.1500</td>\n",
       "      <td>-0.023</td>\n",
       "      <td>0.032071</td>\n",
       "    </tr>\n",
       "    <tr>\n",
       "      <th>7</th>\n",
       "      <td>Itoga</td>\n",
       "      <td>139.0</td>\n",
       "      <td>249.666667</td>\n",
       "      <td>9341.333333</td>\n",
       "      <td>9591.0</td>\n",
       "      <td>0.077</td>\n",
       "      <td>0.0004</td>\n",
       "      <td>0.150</td>\n",
       "      <td>0.037778</td>\n",
       "    </tr>\n",
       "    <tr>\n",
       "      <th>8</th>\n",
       "      <td>Itoga</td>\n",
       "      <td>143.7</td>\n",
       "      <td>249.666667</td>\n",
       "      <td>8543.333333</td>\n",
       "      <td>8793.0</td>\n",
       "      <td>0.110</td>\n",
       "      <td>0.0220</td>\n",
       "      <td>0.210</td>\n",
       "      <td>0.047475</td>\n",
       "    </tr>\n",
       "    <tr>\n",
       "      <th>9</th>\n",
       "      <td>Itoga</td>\n",
       "      <td>149.5</td>\n",
       "      <td>249.666667</td>\n",
       "      <td>4401.333333</td>\n",
       "      <td>4651.0</td>\n",
       "      <td>0.190</td>\n",
       "      <td>0.1100</td>\n",
       "      <td>0.280</td>\n",
       "      <td>0.042929</td>\n",
       "    </tr>\n",
       "  </tbody>\n",
       "</table>\n",
       "</div>"
      ],
      "text/plain": [
       "         Author   dose       cases     controls  subjects  logOR     low  \\\n",
       "0  Stoekenbroek  114.0   21.000000  5428.500000    5449.5  1.000  1.0000   \n",
       "1  Stoekenbroek  128.0   39.000000  5410.500000    5449.5  0.410  0.2200   \n",
       "2  Stoekenbroek  139.0   51.000000  5398.500000    5449.5  0.440  0.2700   \n",
       "3  Stoekenbroek  159.0  116.000000  5333.500000    5449.5  1.080  0.9900   \n",
       "4         Itoga  123.9  249.666667   786.333333    1036.0  0.230  0.1600   \n",
       "5         Itoga  129.8  249.666667  2738.333333    2988.0  1.000  1.0000   \n",
       "6         Itoga  134.6  249.666667  6048.333333    6298.0 -0.062 -0.1500   \n",
       "7         Itoga  139.0  249.666667  9341.333333    9591.0  0.077  0.0004   \n",
       "8         Itoga  143.7  249.666667  8543.333333    8793.0  0.110  0.0220   \n",
       "9         Itoga  149.5  249.666667  4401.333333    4651.0  0.190  0.1100   \n",
       "\n",
       "    high  std_error  \n",
       "0  1.000   0.000000  \n",
       "1  0.590   0.093434  \n",
       "2  0.620   0.088384  \n",
       "3  1.170   0.045455  \n",
       "4  0.310   0.037879  \n",
       "5  1.000   0.000000  \n",
       "6 -0.023   0.032071  \n",
       "7  0.150   0.037778  \n",
       "8  0.210   0.047475  \n",
       "9  0.280   0.042929  "
      ]
     },
     "execution_count": 4,
     "metadata": {},
     "output_type": "execute_result"
    }
   ],
   "source": [
    "study_df"
   ]
  },
  {
   "cell_type": "code",
   "execution_count": 5,
   "metadata": {},
   "outputs": [
    {
     "data": {
      "text/plain": [
       "0    1.000\n",
       "1    0.410\n",
       "2    0.440\n",
       "3    1.080\n",
       "4    0.230\n",
       "5    1.000\n",
       "6   -0.062\n",
       "7    0.077\n",
       "8    0.110\n",
       "9    0.190\n",
       "Name: logOR, dtype: float64"
      ]
     },
     "execution_count": 5,
     "metadata": {},
     "output_type": "execute_result"
    }
   ],
   "source": [
    "study_df[\"logOR\"]"
   ]
  },
  {
   "cell_type": "code",
   "execution_count": 6,
   "metadata": {},
   "outputs": [
    {
     "data": {
      "text/html": [
       "<div>\n",
       "<style scoped>\n",
       "    .dataframe tbody tr th:only-of-type {\n",
       "        vertical-align: middle;\n",
       "    }\n",
       "\n",
       "    .dataframe tbody tr th {\n",
       "        vertical-align: top;\n",
       "    }\n",
       "\n",
       "    .dataframe thead th {\n",
       "        text-align: right;\n",
       "    }\n",
       "</style>\n",
       "<table border=\"1\" class=\"dataframe\">\n",
       "  <thead>\n",
       "    <tr style=\"text-align: right;\">\n",
       "      <th></th>\n",
       "      <th>Author</th>\n",
       "      <th>dose</th>\n",
       "      <th>cases</th>\n",
       "      <th>controls</th>\n",
       "      <th>subjects</th>\n",
       "      <th>logOR</th>\n",
       "      <th>low</th>\n",
       "      <th>high</th>\n",
       "      <th>std_error</th>\n",
       "    </tr>\n",
       "  </thead>\n",
       "  <tbody>\n",
       "    <tr>\n",
       "      <th>0</th>\n",
       "      <td>Stoekenbroek</td>\n",
       "      <td>114.0</td>\n",
       "      <td>21.000000</td>\n",
       "      <td>5428.500000</td>\n",
       "      <td>5449.5</td>\n",
       "      <td>0.000</td>\n",
       "      <td>0.0000</td>\n",
       "      <td>0.000</td>\n",
       "      <td>0.000000</td>\n",
       "    </tr>\n",
       "    <tr>\n",
       "      <th>1</th>\n",
       "      <td>Stoekenbroek</td>\n",
       "      <td>128.0</td>\n",
       "      <td>39.000000</td>\n",
       "      <td>5410.500000</td>\n",
       "      <td>5449.5</td>\n",
       "      <td>0.410</td>\n",
       "      <td>0.2200</td>\n",
       "      <td>0.590</td>\n",
       "      <td>0.093434</td>\n",
       "    </tr>\n",
       "    <tr>\n",
       "      <th>2</th>\n",
       "      <td>Stoekenbroek</td>\n",
       "      <td>139.0</td>\n",
       "      <td>51.000000</td>\n",
       "      <td>5398.500000</td>\n",
       "      <td>5449.5</td>\n",
       "      <td>0.440</td>\n",
       "      <td>0.2700</td>\n",
       "      <td>0.620</td>\n",
       "      <td>0.088384</td>\n",
       "    </tr>\n",
       "    <tr>\n",
       "      <th>3</th>\n",
       "      <td>Stoekenbroek</td>\n",
       "      <td>159.0</td>\n",
       "      <td>116.000000</td>\n",
       "      <td>5333.500000</td>\n",
       "      <td>5449.5</td>\n",
       "      <td>1.080</td>\n",
       "      <td>0.9900</td>\n",
       "      <td>1.170</td>\n",
       "      <td>0.045455</td>\n",
       "    </tr>\n",
       "    <tr>\n",
       "      <th>4</th>\n",
       "      <td>Itoga</td>\n",
       "      <td>123.9</td>\n",
       "      <td>249.666667</td>\n",
       "      <td>786.333333</td>\n",
       "      <td>1036.0</td>\n",
       "      <td>0.230</td>\n",
       "      <td>0.1600</td>\n",
       "      <td>0.310</td>\n",
       "      <td>0.037879</td>\n",
       "    </tr>\n",
       "    <tr>\n",
       "      <th>5</th>\n",
       "      <td>Itoga</td>\n",
       "      <td>129.8</td>\n",
       "      <td>249.666667</td>\n",
       "      <td>2738.333333</td>\n",
       "      <td>2988.0</td>\n",
       "      <td>0.000</td>\n",
       "      <td>0.0000</td>\n",
       "      <td>0.000</td>\n",
       "      <td>0.000000</td>\n",
       "    </tr>\n",
       "    <tr>\n",
       "      <th>6</th>\n",
       "      <td>Itoga</td>\n",
       "      <td>134.6</td>\n",
       "      <td>249.666667</td>\n",
       "      <td>6048.333333</td>\n",
       "      <td>6298.0</td>\n",
       "      <td>-0.062</td>\n",
       "      <td>-0.1500</td>\n",
       "      <td>-0.023</td>\n",
       "      <td>0.032071</td>\n",
       "    </tr>\n",
       "    <tr>\n",
       "      <th>7</th>\n",
       "      <td>Itoga</td>\n",
       "      <td>139.0</td>\n",
       "      <td>249.666667</td>\n",
       "      <td>9341.333333</td>\n",
       "      <td>9591.0</td>\n",
       "      <td>0.077</td>\n",
       "      <td>0.0004</td>\n",
       "      <td>0.150</td>\n",
       "      <td>0.037778</td>\n",
       "    </tr>\n",
       "    <tr>\n",
       "      <th>8</th>\n",
       "      <td>Itoga</td>\n",
       "      <td>143.7</td>\n",
       "      <td>249.666667</td>\n",
       "      <td>8543.333333</td>\n",
       "      <td>8793.0</td>\n",
       "      <td>0.110</td>\n",
       "      <td>0.0220</td>\n",
       "      <td>0.210</td>\n",
       "      <td>0.047475</td>\n",
       "    </tr>\n",
       "    <tr>\n",
       "      <th>9</th>\n",
       "      <td>Itoga</td>\n",
       "      <td>149.5</td>\n",
       "      <td>249.666667</td>\n",
       "      <td>4401.333333</td>\n",
       "      <td>4651.0</td>\n",
       "      <td>0.190</td>\n",
       "      <td>0.1100</td>\n",
       "      <td>0.280</td>\n",
       "      <td>0.042929</td>\n",
       "    </tr>\n",
       "  </tbody>\n",
       "</table>\n",
       "</div>"
      ],
      "text/plain": [
       "         Author   dose       cases     controls  subjects  logOR     low  \\\n",
       "0  Stoekenbroek  114.0   21.000000  5428.500000    5449.5  0.000  0.0000   \n",
       "1  Stoekenbroek  128.0   39.000000  5410.500000    5449.5  0.410  0.2200   \n",
       "2  Stoekenbroek  139.0   51.000000  5398.500000    5449.5  0.440  0.2700   \n",
       "3  Stoekenbroek  159.0  116.000000  5333.500000    5449.5  1.080  0.9900   \n",
       "4         Itoga  123.9  249.666667   786.333333    1036.0  0.230  0.1600   \n",
       "5         Itoga  129.8  249.666667  2738.333333    2988.0  0.000  0.0000   \n",
       "6         Itoga  134.6  249.666667  6048.333333    6298.0 -0.062 -0.1500   \n",
       "7         Itoga  139.0  249.666667  9341.333333    9591.0  0.077  0.0004   \n",
       "8         Itoga  143.7  249.666667  8543.333333    8793.0  0.110  0.0220   \n",
       "9         Itoga  149.5  249.666667  4401.333333    4651.0  0.190  0.1100   \n",
       "\n",
       "    high  std_error  \n",
       "0  0.000   0.000000  \n",
       "1  0.590   0.093434  \n",
       "2  0.620   0.088384  \n",
       "3  1.170   0.045455  \n",
       "4  0.310   0.037879  \n",
       "5  0.000   0.000000  \n",
       "6 -0.023   0.032071  \n",
       "7  0.150   0.037778  \n",
       "8  0.210   0.047475  \n",
       "9  0.280   0.042929  "
      ]
     },
     "execution_count": 6,
     "metadata": {},
     "output_type": "execute_result"
    }
   ],
   "source": [
    "study_df.iloc[0,5:8] = np.log(study_df.iloc[0,5:8].to_numpy().astype(np.float64))\n",
    "study_df.iloc[5,5:8] = np.log(study_df.iloc[5,5:8].to_numpy().astype(np.float64))\n",
    "study_df"
   ]
  },
  {
   "cell_type": "code",
   "execution_count": 7,
   "metadata": {},
   "outputs": [],
   "source": [
    "study_df_s = study_df.loc[study_df[\"Author\"] == \"Stoekenbroek\"]\n",
    "study_df_i = study_df.loc[study_df[\"Author\"] == \"Itoga\"]\n",
    "study_df_i = study_df_i.iloc[1:,:]"
   ]
  },
  {
   "cell_type": "code",
   "execution_count": 8,
   "metadata": {},
   "outputs": [],
   "source": [
    "def roll_func(study_df_j,col):\n",
    "    col_s_run = []\n",
    "    col = study_df_j[col].to_numpy().astype(np.float64)\n",
    "    for i in range(col.shape[0]-1):\n",
    "        col_s_run.append(col[i+1]-col[0])\n",
    "    return np.array(col_s_run)"
   ]
  },
  {
   "cell_type": "code",
   "execution_count": 9,
   "metadata": {},
   "outputs": [],
   "source": [
    "dose_s_run = roll_func(study_df_j=study_df_s, col=\"dose\")\n",
    "OR_s_rise = roll_func(study_df_j=study_df_s, col=\"logOR\")\n",
    "low_s_rise = roll_func(study_df_s,\"low\")\n",
    "high_s_rise = roll_func(study_df_s,\"high\")\n",
    "\n",
    "std_s_rise = roll_func(study_df_s, \"std_error\")"
   ]
  },
  {
   "cell_type": "code",
   "execution_count": 10,
   "metadata": {},
   "outputs": [],
   "source": [
    "log_slopes_s = OR_s_rise / dose_s_run\n",
    "low_slopes_s = low_s_rise / dose_s_run\n",
    "high_slopes_s = high_s_rise / dose_s_run\n",
    "\n",
    "std_s_rise = std_s_rise / dose_s_run"
   ]
  },
  {
   "cell_type": "code",
   "execution_count": 11,
   "metadata": {},
   "outputs": [],
   "source": [
    "Sigma_s = np.diag(std_s_rise)**2\n",
    "inv_Sigma_s = np.linalg.inv(Sigma_s)\n",
    "beta_s = np.linalg.inv(np.ones((3,1)).T@inv_Sigma_s@np.ones((3,1)))@np.ones((3,1)).T@inv_Sigma_s@log_slopes_s"
   ]
  },
  {
   "cell_type": "code",
   "execution_count": 12,
   "metadata": {},
   "outputs": [],
   "source": [
    "low_beta_s = np.linalg.inv(np.ones((3,1)).T@inv_Sigma_s@np.ones((3,1)))@np.ones((3,1)).T@inv_Sigma_s@low_slopes_s\n",
    "high_beta_s = np.linalg.inv(np.ones((3,1)).T@inv_Sigma_s@np.ones((3,1)))@np.ones((3,1)).T@inv_Sigma_s@high_slopes_s"
   ]
  },
  {
   "cell_type": "code",
   "execution_count": 13,
   "metadata": {},
   "outputs": [],
   "source": [
    "def create_covar_matrix(study_df,std_rise,Lx):\n",
    "    Nx_s = study_df[\"subjects\"].to_numpy().astype(np.float64)\n",
    "    Lx_s = study_df[Lx].to_numpy().astype(np.float64)[1:]\n",
    "    M1x_s = np.sum(study_df[\"cases\"].to_numpy().astype(np.float64))\n",
    "    A0_s = M1x_s*Nx_s[1:]/(Nx_s.sum())\n",
    "\n",
    "    it_fit_ex = IF(Lx_s,A0_s,Nx_s,M1x_s)\n",
    "    A_s, B_s, a0_s, b0_s = it_fit_ex.convexProgram()\n",
    "\n",
    "    C = covariance_matrix(A_s,B_s,a0_s,b0_s,std_rise**2)\n",
    "    inv_C = np.linalg.inv(C)\n",
    "\n",
    "    return inv_C"
   ]
  },
  {
   "cell_type": "code",
   "execution_count": 14,
   "metadata": {},
   "outputs": [],
   "source": [
    "inv_C_s = create_covar_matrix(study_df_s,std_s_rise,\"logOR\")"
   ]
  },
  {
   "cell_type": "code",
   "execution_count": 15,
   "metadata": {},
   "outputs": [],
   "source": [
    "low_inv_C_s = create_covar_matrix(study_df_s,std_s_rise,\"low\")\n",
    "\n",
    "high_inv_C_s = create_covar_matrix(study_df_s,std_s_rise,\"high\")"
   ]
  },
  {
   "cell_type": "code",
   "execution_count": 16,
   "metadata": {},
   "outputs": [],
   "source": [
    "beta_s_GL = np.linalg.inv(np.ones((3,1)).T@inv_C_s@np.ones((3,1)))@np.ones((3,1)).T@inv_C_s@log_slopes_s\n",
    "low_beta_s_GL = np.linalg.inv(np.ones((3,1)).T@low_inv_C_s@np.ones((3,1)))@np.ones((3,1)).T@low_inv_C_s@log_slopes_s\n",
    "high_beta_s_GL = np.linalg.inv(np.ones((3,1)).T@high_inv_C_s@np.ones((3,1)))@np.ones((3,1)).T@high_inv_C_s@log_slopes_s"
   ]
  },
  {
   "cell_type": "code",
   "execution_count": 17,
   "metadata": {},
   "outputs": [
    {
     "data": {
      "text/plain": [
       "array([0.02414612])"
      ]
     },
     "execution_count": 17,
     "metadata": {},
     "output_type": "execute_result"
    }
   ],
   "source": [
    "beta_s_GL"
   ]
  },
  {
   "cell_type": "code",
   "execution_count": 19,
   "metadata": {},
   "outputs": [],
   "source": [
    "dose_i_run = roll_func(study_df_j=study_df_i, col=\"dose\")\n",
    "OR_i_rise = roll_func(study_df_j=study_df_i, col=\"logOR\")\n",
    "low_i_rise = roll_func(study_df_i,\"low\")\n",
    "high_i_rise = roll_func(study_df_i,\"high\")\n",
    "\n",
    "std_i_rise = roll_func(study_df_i, \"std_error\")\n",
    "\n",
    "log_slopes_i = OR_i_rise / dose_i_run\n",
    "low_slopes_i = low_i_rise / dose_i_run\n",
    "high_slopes_i = high_i_rise / dose_i_run\n",
    "\n",
    "std_i_rise = std_i_rise / dose_i_run\n",
    "\n",
    "Sigma_i = np.diag(std_i_rise)**2\n",
    "inv_Sigma_i = np.linalg.inv(Sigma_i)\n",
    "beta_i = np.linalg.inv(np.ones((4,1)).T@inv_Sigma_i@np.ones((4,1)))@np.ones((4,1)).T@inv_Sigma_i@log_slopes_i\n",
    "\n",
    "inv_C_i = create_covar_matrix(study_df_i,std_i_rise,\"logOR\")\n",
    "\n",
    "beta_i_GL = np.linalg.inv(np.ones((4,1)).T@inv_C_i@np.ones((4,1)))@np.ones((4,1)).T@inv_C_i@log_slopes_i"
   ]
  },
  {
   "cell_type": "code",
   "execution_count": 20,
   "metadata": {},
   "outputs": [],
   "source": [
    "def slope_fn(beta,x):\n",
    "    return beta*x"
   ]
  },
  {
   "cell_type": "code",
   "execution_count": 21,
   "metadata": {},
   "outputs": [],
   "source": [
    "x = np.linspace(115,165)"
   ]
  },
  {
   "cell_type": "code",
   "execution_count": 22,
   "metadata": {},
   "outputs": [
    {
     "data": {
      "text/plain": [
       "<matplotlib.legend.Legend at 0x7f977aba1760>"
      ]
     },
     "execution_count": 22,
     "metadata": {},
     "output_type": "execute_result"
    },
    {
     "data": {
      "image/png": "[encoded data removed]",
      "text/plain": [
       "<Figure size 432x288 with 1 Axes>"
      ]
     },
     "metadata": {
      "needs_background": "light"
     },
     "output_type": "display_data"
    }
   ],
   "source": [
    "plt.plot(x,slope_fn(beta_s,x),label=\"No weights--S\",c=\"olive\")\n",
    "plt.fill_between(x,slope_fn(low_beta_s,x),slope_fn(high_beta_s,x),alpha=0.3,color=\"olive\")\n",
    "plt.plot(x,slope_fn(beta_s_GL,x),label=\"Weights--S\",c=\"cornflowerblue\")\n",
    "plt.fill_between(x,slope_fn(low_beta_s_GL,x),slope_fn(high_beta_s_GL,x),alpha=0.3,color=\"cornflowerblue\")\n",
    "plt.plot(x,slope_fn(beta_i,x),label=\"No weights--I\")\n",
    "plt.plot(x,slope_fn(beta_i_GL,x),label=\"Weights--I\")\n",
    "plt.ylabel(\"log relative risk\")\n",
    "plt.xlabel(\"Systolic blood pressure\")\n",
    "plt.legend()"
   ]
  },
  {
   "cell_type": "code",
   "execution_count": null,
   "metadata": {},
   "outputs": [],
   "source": []
  }
 ],
 "metadata": {
  "kernelspec": {
   "display_name": "Python 3.8.2 64-bit",
   "language": "python",
   "name": "python3"
  },
  "language_info": {
   "codemirror_mode": {
    "name": "ipython",
    "version": 3
   },
   "file_extension": ".py",
   "mimetype": "text/x-python",
   "name": "python",
   "nbconvert_exporter": "python",
   "pygments_lexer": "ipython3",
   "version": "3.8.2"
  },
  "vscode": {
   "interpreter": {
    "hash": "aee8b7b246df8f9039afb4144a1f6fd8d2ca17a180786b69acc140d282b71a49"
   }
  }
 },
 "nbformat": 4,
 "nbformat_minor": 2
}
