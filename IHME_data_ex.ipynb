{
 "cells": [
  {
   "cell_type": "code",
   "execution_count": 2,
   "metadata": {},
   "outputs": [],
   "source": [
    "import numpy as np\n",
    "import pandas as pd\n",
    "import matplotlib.pyplot as plt\n",
    "\n",
    "from src.IterativeFitting import IterativeFitting as IF\n",
    "from src.CorrFuncs import covariance_matrix, trend_est"
   ]
  },
  {
   "cell_type": "code",
   "execution_count": 3,
   "metadata": {},
   "outputs": [],
   "source": [
    "study_df = pd.read_excel(\"SBPvPAD_data.xlsx\")"
   ]
  },
  {
   "cell_type": "code",
   "execution_count": 4,
   "metadata": {},
   "outputs": [
    {
     "data": {
      "text/html": [
       "<div>\n",
       "<style scoped>\n",
       "    .dataframe tbody tr th:only-of-type {\n",
       "        vertical-align: middle;\n",
       "    }\n",
       "\n",
       "    .dataframe tbody tr th {\n",
       "        vertical-align: top;\n",
       "    }\n",
       "\n",
       "    .dataframe thead th {\n",
       "        text-align: right;\n",
       "    }\n",
       "</style>\n",
       "<table border=\"1\" class=\"dataframe\">\n",
       "  <thead>\n",
       "    <tr style=\"text-align: right;\">\n",
       "      <th></th>\n",
       "      <th>Author</th>\n",
       "      <th>dose</th>\n",
       "      <th>cases</th>\n",
       "      <th>controls</th>\n",
       "      <th>subjects</th>\n",
       "      <th>logOR</th>\n",
       "      <th>low</th>\n",
       "      <th>high</th>\n",
       "      <th>std_error</th>\n",
       "    </tr>\n",
       "  </thead>\n",
       "  <tbody>\n",
       "    <tr>\n",
       "      <th>0</th>\n",
       "      <td>Stoekenbroek</td>\n",
       "      <td>114.0</td>\n",
       "      <td>21.000000</td>\n",
       "      <td>5428.500000</td>\n",
       "      <td>5449.5</td>\n",
       "      <td>1.000</td>\n",
       "      <td>1.0000</td>\n",
       "      <td>1.000</td>\n",
       "      <td>0.000000</td>\n",
       "    </tr>\n",
       "    <tr>\n",
       "      <th>1</th>\n",
       "      <td>Stoekenbroek</td>\n",
       "      <td>128.0</td>\n",
       "      <td>39.000000</td>\n",
       "      <td>5410.500000</td>\n",
       "      <td>5449.5</td>\n",
       "      <td>0.410</td>\n",
       "      <td>0.2200</td>\n",
       "      <td>0.590</td>\n",
       "      <td>0.093434</td>\n",
       "    </tr>\n",
       "    <tr>\n",
       "      <th>2</th>\n",
       "      <td>Stoekenbroek</td>\n",
       "      <td>139.0</td>\n",
       "      <td>51.000000</td>\n",
       "      <td>5398.500000</td>\n",
       "      <td>5449.5</td>\n",
       "      <td>0.440</td>\n",
       "      <td>0.2700</td>\n",
       "      <td>0.620</td>\n",
       "      <td>0.088384</td>\n",
       "    </tr>\n",
       "    <tr>\n",
       "      <th>3</th>\n",
       "      <td>Stoekenbroek</td>\n",
       "      <td>159.0</td>\n",
       "      <td>116.000000</td>\n",
       "      <td>5333.500000</td>\n",
       "      <td>5449.5</td>\n",
       "      <td>1.080</td>\n",
       "      <td>0.9900</td>\n",
       "      <td>1.170</td>\n",
       "      <td>0.045455</td>\n",
       "    </tr>\n",
       "    <tr>\n",
       "      <th>4</th>\n",
       "      <td>Itoga</td>\n",
       "      <td>123.9</td>\n",
       "      <td>249.666667</td>\n",
       "      <td>786.333333</td>\n",
       "      <td>1036.0</td>\n",
       "      <td>0.230</td>\n",
       "      <td>0.1600</td>\n",
       "      <td>0.310</td>\n",
       "      <td>0.037879</td>\n",
       "    </tr>\n",
       "    <tr>\n",
       "      <th>5</th>\n",
       "      <td>Itoga</td>\n",
       "      <td>129.8</td>\n",
       "      <td>249.666667</td>\n",
       "      <td>2738.333333</td>\n",
       "      <td>2988.0</td>\n",
       "      <td>1.000</td>\n",
       "      <td>1.0000</td>\n",
       "      <td>1.000</td>\n",
       "      <td>0.000000</td>\n",
       "    </tr>\n",
       "    <tr>\n",
       "      <th>6</th>\n",
       "      <td>Itoga</td>\n",
       "      <td>134.6</td>\n",
       "      <td>249.666667</td>\n",
       "      <td>6048.333333</td>\n",
       "      <td>6298.0</td>\n",
       "      <td>-0.062</td>\n",
       "      <td>-0.1500</td>\n",
       "      <td>-0.023</td>\n",
       "      <td>0.032071</td>\n",
       "    </tr>\n",
       "    <tr>\n",
       "      <th>7</th>\n",
       "      <td>Itoga</td>\n",
       "      <td>139.0</td>\n",
       "      <td>249.666667</td>\n",
       "      <td>9341.333333</td>\n",
       "      <td>9591.0</td>\n",
       "      <td>0.077</td>\n",
       "      <td>0.0004</td>\n",
       "      <td>0.150</td>\n",
       "      <td>0.037778</td>\n",
       "    </tr>\n",
       "    <tr>\n",
       "      <th>8</th>\n",
       "      <td>Itoga</td>\n",
       "      <td>143.7</td>\n",
       "      <td>249.666667</td>\n",
       "      <td>8543.333333</td>\n",
       "      <td>8793.0</td>\n",
       "      <td>0.110</td>\n",
       "      <td>0.0220</td>\n",
       "      <td>0.210</td>\n",
       "      <td>0.047475</td>\n",
       "    </tr>\n",
       "    <tr>\n",
       "      <th>9</th>\n",
       "      <td>Itoga</td>\n",
       "      <td>149.5</td>\n",
       "      <td>249.666667</td>\n",
       "      <td>4401.333333</td>\n",
       "      <td>4651.0</td>\n",
       "      <td>0.190</td>\n",
       "      <td>0.1100</td>\n",
       "      <td>0.280</td>\n",
       "      <td>0.042929</td>\n",
       "    </tr>\n",
       "  </tbody>\n",
       "</table>\n",
       "</div>"
      ],
      "text/plain": [
       "         Author   dose       cases     controls  subjects  logOR     low  \\\n",
       "0  Stoekenbroek  114.0   21.000000  5428.500000    5449.5  1.000  1.0000   \n",
       "1  Stoekenbroek  128.0   39.000000  5410.500000    5449.5  0.410  0.2200   \n",
       "2  Stoekenbroek  139.0   51.000000  5398.500000    5449.5  0.440  0.2700   \n",
       "3  Stoekenbroek  159.0  116.000000  5333.500000    5449.5  1.080  0.9900   \n",
       "4         Itoga  123.9  249.666667   786.333333    1036.0  0.230  0.1600   \n",
       "5         Itoga  129.8  249.666667  2738.333333    2988.0  1.000  1.0000   \n",
       "6         Itoga  134.6  249.666667  6048.333333    6298.0 -0.062 -0.1500   \n",
       "7         Itoga  139.0  249.666667  9341.333333    9591.0  0.077  0.0004   \n",
       "8         Itoga  143.7  249.666667  8543.333333    8793.0  0.110  0.0220   \n",
       "9         Itoga  149.5  249.666667  4401.333333    4651.0  0.190  0.1100   \n",
       "\n",
       "    high  std_error  \n",
       "0  1.000   0.000000  \n",
       "1  0.590   0.093434  \n",
       "2  0.620   0.088384  \n",
       "3  1.170   0.045455  \n",
       "4  0.310   0.037879  \n",
       "5  1.000   0.000000  \n",
       "6 -0.023   0.032071  \n",
       "7  0.150   0.037778  \n",
       "8  0.210   0.047475  \n",
       "9  0.280   0.042929  "
      ]
     },
     "execution_count": 4,
     "metadata": {},
     "output_type": "execute_result"
    }
   ],
   "source": [
    "study_df"
   ]
  },
  {
   "cell_type": "code",
   "execution_count": 5,
   "metadata": {},
   "outputs": [
    {
     "data": {
      "text/plain": [
       "0    1.000\n",
       "1    0.410\n",
       "2    0.440\n",
       "3    1.080\n",
       "4    0.230\n",
       "5    1.000\n",
       "6   -0.062\n",
       "7    0.077\n",
       "8    0.110\n",
       "9    0.190\n",
       "Name: logOR, dtype: float64"
      ]
     },
     "execution_count": 5,
     "metadata": {},
     "output_type": "execute_result"
    }
   ],
   "source": [
    "study_df[\"logOR\"]"
   ]
  },
  {
   "cell_type": "code",
   "execution_count": 6,
   "metadata": {},
   "outputs": [
    {
     "data": {
      "text/html": [
       "<div>\n",
       "<style scoped>\n",
       "    .dataframe tbody tr th:only-of-type {\n",
       "        vertical-align: middle;\n",
       "    }\n",
       "\n",
       "    .dataframe tbody tr th {\n",
       "        vertical-align: top;\n",
       "    }\n",
       "\n",
       "    .dataframe thead th {\n",
       "        text-align: right;\n",
       "    }\n",
       "</style>\n",
       "<table border=\"1\" class=\"dataframe\">\n",
       "  <thead>\n",
       "    <tr style=\"text-align: right;\">\n",
       "      <th></th>\n",
       "      <th>Author</th>\n",
       "      <th>dose</th>\n",
       "      <th>cases</th>\n",
       "      <th>controls</th>\n",
       "      <th>subjects</th>\n",
       "      <th>logOR</th>\n",
       "      <th>low</th>\n",
       "      <th>high</th>\n",
       "      <th>std_error</th>\n",
       "    </tr>\n",
       "  </thead>\n",
       "  <tbody>\n",
       "    <tr>\n",
       "      <th>0</th>\n",
       "      <td>Stoekenbroek</td>\n",
       "      <td>114.0</td>\n",
       "      <td>21.000000</td>\n",
       "      <td>5428.500000</td>\n",
       "      <td>5449.5</td>\n",
       "      <td>0.000</td>\n",
       "      <td>0.0000</td>\n",
       "      <td>0.000</td>\n",
       "      <td>0.000000</td>\n",
       "    </tr>\n",
       "    <tr>\n",
       "      <th>1</th>\n",
       "      <td>Stoekenbroek</td>\n",
       "      <td>128.0</td>\n",
       "      <td>39.000000</td>\n",
       "      <td>5410.500000</td>\n",
       "      <td>5449.5</td>\n",
       "      <td>0.410</td>\n",
       "      <td>0.2200</td>\n",
       "      <td>0.590</td>\n",
       "      <td>0.093434</td>\n",
       "    </tr>\n",
       "    <tr>\n",
       "      <th>2</th>\n",
       "      <td>Stoekenbroek</td>\n",
       "      <td>139.0</td>\n",
       "      <td>51.000000</td>\n",
       "      <td>5398.500000</td>\n",
       "      <td>5449.5</td>\n",
       "      <td>0.440</td>\n",
       "      <td>0.2700</td>\n",
       "      <td>0.620</td>\n",
       "      <td>0.088384</td>\n",
       "    </tr>\n",
       "    <tr>\n",
       "      <th>3</th>\n",
       "      <td>Stoekenbroek</td>\n",
       "      <td>159.0</td>\n",
       "      <td>116.000000</td>\n",
       "      <td>5333.500000</td>\n",
       "      <td>5449.5</td>\n",
       "      <td>1.080</td>\n",
       "      <td>0.9900</td>\n",
       "      <td>1.170</td>\n",
       "      <td>0.045455</td>\n",
       "    </tr>\n",
       "    <tr>\n",
       "      <th>4</th>\n",
       "      <td>Itoga</td>\n",
       "      <td>123.9</td>\n",
       "      <td>249.666667</td>\n",
       "      <td>786.333333</td>\n",
       "      <td>1036.0</td>\n",
       "      <td>0.230</td>\n",
       "      <td>0.1600</td>\n",
       "      <td>0.310</td>\n",
       "      <td>0.037879</td>\n",
       "    </tr>\n",
       "    <tr>\n",
       "      <th>5</th>\n",
       "      <td>Itoga</td>\n",
       "      <td>129.8</td>\n",
       "      <td>249.666667</td>\n",
       "      <td>2738.333333</td>\n",
       "      <td>2988.0</td>\n",
       "      <td>0.000</td>\n",
       "      <td>0.0000</td>\n",
       "      <td>0.000</td>\n",
       "      <td>0.000000</td>\n",
       "    </tr>\n",
       "    <tr>\n",
       "      <th>6</th>\n",
       "      <td>Itoga</td>\n",
       "      <td>134.6</td>\n",
       "      <td>249.666667</td>\n",
       "      <td>6048.333333</td>\n",
       "      <td>6298.0</td>\n",
       "      <td>-0.062</td>\n",
       "      <td>-0.1500</td>\n",
       "      <td>-0.023</td>\n",
       "      <td>0.032071</td>\n",
       "    </tr>\n",
       "    <tr>\n",
       "      <th>7</th>\n",
       "      <td>Itoga</td>\n",
       "      <td>139.0</td>\n",
       "      <td>249.666667</td>\n",
       "      <td>9341.333333</td>\n",
       "      <td>9591.0</td>\n",
       "      <td>0.077</td>\n",
       "      <td>0.0004</td>\n",
       "      <td>0.150</td>\n",
       "      <td>0.037778</td>\n",
       "    </tr>\n",
       "    <tr>\n",
       "      <th>8</th>\n",
       "      <td>Itoga</td>\n",
       "      <td>143.7</td>\n",
       "      <td>249.666667</td>\n",
       "      <td>8543.333333</td>\n",
       "      <td>8793.0</td>\n",
       "      <td>0.110</td>\n",
       "      <td>0.0220</td>\n",
       "      <td>0.210</td>\n",
       "      <td>0.047475</td>\n",
       "    </tr>\n",
       "    <tr>\n",
       "      <th>9</th>\n",
       "      <td>Itoga</td>\n",
       "      <td>149.5</td>\n",
       "      <td>249.666667</td>\n",
       "      <td>4401.333333</td>\n",
       "      <td>4651.0</td>\n",
       "      <td>0.190</td>\n",
       "      <td>0.1100</td>\n",
       "      <td>0.280</td>\n",
       "      <td>0.042929</td>\n",
       "    </tr>\n",
       "  </tbody>\n",
       "</table>\n",
       "</div>"
      ],
      "text/plain": [
       "         Author   dose       cases     controls  subjects  logOR     low  \\\n",
       "0  Stoekenbroek  114.0   21.000000  5428.500000    5449.5  0.000  0.0000   \n",
       "1  Stoekenbroek  128.0   39.000000  5410.500000    5449.5  0.410  0.2200   \n",
       "2  Stoekenbroek  139.0   51.000000  5398.500000    5449.5  0.440  0.2700   \n",
       "3  Stoekenbroek  159.0  116.000000  5333.500000    5449.5  1.080  0.9900   \n",
       "4         Itoga  123.9  249.666667   786.333333    1036.0  0.230  0.1600   \n",
       "5         Itoga  129.8  249.666667  2738.333333    2988.0  0.000  0.0000   \n",
       "6         Itoga  134.6  249.666667  6048.333333    6298.0 -0.062 -0.1500   \n",
       "7         Itoga  139.0  249.666667  9341.333333    9591.0  0.077  0.0004   \n",
       "8         Itoga  143.7  249.666667  8543.333333    8793.0  0.110  0.0220   \n",
       "9         Itoga  149.5  249.666667  4401.333333    4651.0  0.190  0.1100   \n",
       "\n",
       "    high  std_error  \n",
       "0  0.000   0.000000  \n",
       "1  0.590   0.093434  \n",
       "2  0.620   0.088384  \n",
       "3  1.170   0.045455  \n",
       "4  0.310   0.037879  \n",
       "5  0.000   0.000000  \n",
       "6 -0.023   0.032071  \n",
       "7  0.150   0.037778  \n",
       "8  0.210   0.047475  \n",
       "9  0.280   0.042929  "
      ]
     },
     "execution_count": 6,
     "metadata": {},
     "output_type": "execute_result"
    }
   ],
   "source": [
    "study_df.iloc[0,5:8] = np.log(study_df.iloc[0,5:8].to_numpy().astype(np.float64))\n",
    "study_df.iloc[5,5:8] = np.log(study_df.iloc[5,5:8].to_numpy().astype(np.float64))\n",
    "study_df"
   ]
  },
  {
   "cell_type": "code",
   "execution_count": 7,
   "metadata": {},
   "outputs": [],
   "source": [
    "study_df_s = study_df.loc[study_df[\"Author\"] == \"Stoekenbroek\"]\n",
    "study_df_i = study_df.loc[study_df[\"Author\"] == \"Itoga\"]\n",
    "study_df_i = study_df_i.iloc[1:,:]"
   ]
  },
  {
   "cell_type": "code",
   "execution_count": 8,
   "metadata": {},
   "outputs": [],
   "source": [
    "def roll_func(study_df_j,col):\n",
    "    col_s_run = []\n",
    "    col = study_df_j[col].to_numpy().astype(np.float64)\n",
    "    for i in range(col.shape[0]-1):\n",
    "        col_s_run.append(col[i+1]-col[0])\n",
    "    return np.array(col_s_run)"
   ]
  },
  {
   "cell_type": "code",
   "execution_count": 9,
   "metadata": {},
   "outputs": [],
   "source": [
    "dose_s_run = roll_func(study_df_j=study_df_s, col=\"dose\")\n",
    "OR_s_rise = roll_func(study_df_j=study_df_s, col=\"logOR\")\n",
    "low_s_rise = roll_func(study_df_s,\"low\")\n",
    "high_s_rise = roll_func(study_df_s,\"high\")\n",
    "\n",
    "std_s_rise = roll_func(study_df_s, \"std_error\")"
   ]
  },
  {
   "cell_type": "code",
   "execution_count": 10,
   "metadata": {},
   "outputs": [],
   "source": [
    "log_slopes_s = OR_s_rise / dose_s_run\n",
    "low_slopes_s = low_s_rise / dose_s_run\n",
    "high_slopes_s = high_s_rise / dose_s_run\n",
    "\n",
    "std_s_rise = std_s_rise / dose_s_run"
   ]
  },
  {
   "cell_type": "code",
   "execution_count": 11,
   "metadata": {},
   "outputs": [],
   "source": [
    "Sigma_s = np.diag(std_s_rise)**2\n",
    "inv_Sigma_s = np.linalg.inv(Sigma_s)\n",
    "beta_s = np.linalg.inv(np.ones((3,1)).T@inv_Sigma_s@np.ones((3,1)))@np.ones((3,1)).T@inv_Sigma_s@log_slopes_s"
   ]
  },
  {
   "cell_type": "code",
   "execution_count": 12,
   "metadata": {},
   "outputs": [],
   "source": [
    "low_beta_s = np.linalg.inv(np.ones((3,1)).T@inv_Sigma_s@np.ones((3,1)))@np.ones((3,1)).T@inv_Sigma_s@low_slopes_s\n",
    "high_beta_s = np.linalg.inv(np.ones((3,1)).T@inv_Sigma_s@np.ones((3,1)))@np.ones((3,1)).T@inv_Sigma_s@high_slopes_s"
   ]
  },
  {
   "cell_type": "code",
   "execution_count": 13,
   "metadata": {},
   "outputs": [],
   "source": [
    "def create_covar_matrix(study_df,std_rise,Lx,dose_index=1):\n",
    "    Nx_s = study_df[\"subjects\"].to_numpy().astype(np.float64)\n",
    "    Lx_s = study_df[Lx].to_numpy().astype(np.float64)[dose_index:]\n",
    "    M1x_s = np.sum(study_df[\"cases\"].to_numpy().astype(np.float64))\n",
    "    A0_s = M1x_s*Nx_s[1:]/(Nx_s.sum())\n",
    "\n",
    "    it_fit_ex = IF(Lx_s,A0_s,Nx_s,M1x_s)\n",
    "    A_s, B_s, a0_s, b0_s = it_fit_ex.convexProgram()\n",
    "\n",
    "    C = covariance_matrix(A_s,B_s,a0_s,b0_s,std_rise**2)\n",
    "    inv_C = np.linalg.inv(C)\n",
    "\n",
    "    return C, inv_C"
   ]
  },
  {
   "cell_type": "code",
   "execution_count": 14,
   "metadata": {},
   "outputs": [
    {
     "name": "stderr",
     "output_type": "stream",
     "text": [
      "/opt/anaconda3/envs/correlationCorrection/lib/python3.12/site-packages/cvxpy/reductions/solvers/solving_chain.py:354: FutureWarning: \n",
      "    You specified your problem should be solved by ECOS. Starting in\n",
      "    CXVPY 1.6.0, ECOS will no longer be installed by default with CVXPY.\n",
      "    Please either add an explicit dependency on ECOS or switch to our new\n",
      "    default solver, Clarabel, by either not specifying a solver argument\n",
      "    or specifying ``solver=cp.CLARABEL``.\n",
      "    \n",
      "  warnings.warn(ECOS_DEP_DEPRECATION_MSG, FutureWarning)\n"
     ]
    }
   ],
   "source": [
    "C_s, inv_C_s = create_covar_matrix(study_df_s,std_s_rise,\"logOR\")"
   ]
  },
  {
   "cell_type": "code",
   "execution_count": 15,
   "metadata": {},
   "outputs": [],
   "source": [
    "low_C_s, low_inv_C_s = create_covar_matrix(study_df_s,std_s_rise,\"low\")\n",
    "\n",
    "high_C_s, high_inv_C_s = create_covar_matrix(study_df_s,std_s_rise,\"high\")"
   ]
  },
  {
   "cell_type": "code",
   "execution_count": 16,
   "metadata": {},
   "outputs": [],
   "source": [
    "beta_s_GL = np.linalg.inv(np.ones((3,1)).T@inv_C_s@np.ones((3,1)))@np.ones((3,1)).T@inv_C_s@log_slopes_s\n",
    "low_beta_s_GL = np.linalg.inv(np.ones((3,1)).T@low_inv_C_s@np.ones((3,1)))@np.ones((3,1)).T@low_inv_C_s@log_slopes_s\n",
    "high_beta_s_GL = np.linalg.inv(np.ones((3,1)).T@high_inv_C_s@np.ones((3,1)))@np.ones((3,1)).T@high_inv_C_s@log_slopes_s"
   ]
  },
  {
   "cell_type": "code",
   "execution_count": 17,
   "metadata": {},
   "outputs": [
    {
     "data": {
      "text/plain": [
       "array([0.02414612])"
      ]
     },
     "execution_count": 17,
     "metadata": {},
     "output_type": "execute_result"
    }
   ],
   "source": [
    "beta_s_GL"
   ]
  },
  {
   "cell_type": "code",
   "execution_count": 18,
   "metadata": {},
   "outputs": [],
   "source": [
    "dose_i_run = roll_func(study_df_j=study_df_i, col=\"dose\")\n",
    "OR_i_rise = roll_func(study_df_j=study_df_i, col=\"logOR\")\n",
    "low_i_rise = roll_func(study_df_i,\"low\")\n",
    "high_i_rise = roll_func(study_df_i,\"high\")\n",
    "\n",
    "std_i_rise = roll_func(study_df_i, \"std_error\")\n",
    "\n",
    "log_slopes_i = OR_i_rise / dose_i_run\n",
    "low_slopes_i = low_i_rise / dose_i_run\n",
    "high_slopes_i = high_i_rise / dose_i_run\n",
    "\n",
    "std_i_rise = std_i_rise / dose_i_run\n",
    "\n",
    "Sigma_i = np.diag(std_i_rise)**2\n",
    "inv_Sigma_i = np.linalg.inv(Sigma_i)\n",
    "beta_i = np.linalg.inv(np.ones((4,1)).T@inv_Sigma_i@np.ones((4,1)))@np.ones((4,1)).T@inv_Sigma_i@log_slopes_i\n",
    "\n",
    "C_i, inv_C_i = create_covar_matrix(study_df_i,std_i_rise,\"logOR\")\n",
    "\n",
    "beta_i_GL = np.linalg.inv(np.ones((4,1)).T@inv_C_i@np.ones((4,1)))@np.ones((4,1)).T@inv_C_i@log_slopes_i"
   ]
  },
  {
   "cell_type": "code",
   "execution_count": 19,
   "metadata": {},
   "outputs": [
    {
     "data": {
      "text/plain": [
       "array([-0.01291667,  0.00836957,  0.00791367,  0.00964467])"
      ]
     },
     "execution_count": 19,
     "metadata": {},
     "output_type": "execute_result"
    }
   ],
   "source": [
    "log_slopes_i"
   ]
  },
  {
   "cell_type": "code",
   "execution_count": 20,
   "metadata": {},
   "outputs": [
    {
     "data": {
      "text/plain": [
       "array([[4.46410700e-05, 1.97051483e-05, 1.62839694e-05, 9.57345970e-06],\n",
       "       [1.97051483e-05, 1.68615370e-05, 1.08005842e-05, 6.34973910e-06],\n",
       "       [1.62839694e-05, 9.57345970e-06, 1.16652950e-05, 5.24730674e-06],\n",
       "       [1.08005842e-05, 6.34973910e-06, 5.24730674e-06, 4.74870311e-06]])"
      ]
     },
     "execution_count": 20,
     "metadata": {},
     "output_type": "execute_result"
    }
   ],
   "source": [
    "C_i"
   ]
  },
  {
   "cell_type": "code",
   "execution_count": 21,
   "metadata": {},
   "outputs": [
    {
     "data": {
      "text/plain": [
       "array([[4.46410700e-05, 0.00000000e+00, 0.00000000e+00, 0.00000000e+00],\n",
       "       [0.00000000e+00, 1.68615370e-05, 0.00000000e+00, 0.00000000e+00],\n",
       "       [0.00000000e+00, 0.00000000e+00, 1.16652950e-05, 0.00000000e+00],\n",
       "       [0.00000000e+00, 0.00000000e+00, 0.00000000e+00, 4.74870311e-06]])"
      ]
     },
     "execution_count": 21,
     "metadata": {},
     "output_type": "execute_result"
    }
   ],
   "source": [
    "Sigma_i"
   ]
  },
  {
   "cell_type": "code",
   "execution_count": 22,
   "metadata": {},
   "outputs": [],
   "source": [
    "def slope_fn(beta,x):\n",
    "    return beta*x"
   ]
  },
  {
   "cell_type": "code",
   "execution_count": 23,
   "metadata": {},
   "outputs": [],
   "source": [
    "x = np.linspace(115,165)"
   ]
  },
  {
   "cell_type": "code",
   "execution_count": 24,
   "metadata": {},
   "outputs": [
    {
     "data": {
      "text/plain": [
       "<matplotlib.legend.Legend at 0x17e885550>"
      ]
     },
     "execution_count": 24,
     "metadata": {},
     "output_type": "execute_result"
    },
    {
     "data": {
      "image/png": "[encoded data removed]",
      "text/plain": [
       "<Figure size 640x480 with 1 Axes>"
      ]
     },
     "metadata": {},
     "output_type": "display_data"
    }
   ],
   "source": [
    "plt.plot(x,slope_fn(beta_s,x),label=\"No weights--S\",c=\"olive\")\n",
    "plt.fill_between(x,slope_fn(low_beta_s,x),slope_fn(high_beta_s,x),alpha=0.3,color=\"olive\")\n",
    "plt.plot(x,slope_fn(beta_s_GL,x),label=\"Weights--S\",c=\"cornflowerblue\")\n",
    "plt.fill_between(x,slope_fn(low_beta_s_GL,x),slope_fn(high_beta_s_GL,x),alpha=0.3,color=\"cornflowerblue\")\n",
    "plt.plot(x,slope_fn(beta_i,x),label=\"No weights--I\")\n",
    "plt.plot(x,slope_fn(beta_i_GL,x),label=\"Weights--I\")\n",
    "plt.ylabel(\"log relative risk\")\n",
    "plt.xlabel(\"Systolic blood pressure\")\n",
    "plt.legend()"
   ]
  },
  {
   "cell_type": "markdown",
   "metadata": {},
   "source": [
    "#### Itoga"
   ]
  },
  {
   "cell_type": "code",
   "execution_count": 25,
   "metadata": {},
   "outputs": [
    {
     "data": {
      "text/html": [
       "<div>\n",
       "<style scoped>\n",
       "    .dataframe tbody tr th:only-of-type {\n",
       "        vertical-align: middle;\n",
       "    }\n",
       "\n",
       "    .dataframe tbody tr th {\n",
       "        vertical-align: top;\n",
       "    }\n",
       "\n",
       "    .dataframe thead th {\n",
       "        text-align: right;\n",
       "    }\n",
       "</style>\n",
       "<table border=\"1\" class=\"dataframe\">\n",
       "  <thead>\n",
       "    <tr style=\"text-align: right;\">\n",
       "      <th></th>\n",
       "      <th>Author</th>\n",
       "      <th>dose</th>\n",
       "      <th>cases</th>\n",
       "      <th>controls</th>\n",
       "      <th>subjects</th>\n",
       "      <th>logOR</th>\n",
       "      <th>low</th>\n",
       "      <th>high</th>\n",
       "      <th>std_error</th>\n",
       "    </tr>\n",
       "  </thead>\n",
       "  <tbody>\n",
       "    <tr>\n",
       "      <th>5</th>\n",
       "      <td>Itoga</td>\n",
       "      <td>129.8</td>\n",
       "      <td>249.666667</td>\n",
       "      <td>2738.333333</td>\n",
       "      <td>2988.0</td>\n",
       "      <td>0.000</td>\n",
       "      <td>0.0000</td>\n",
       "      <td>0.000</td>\n",
       "      <td>0.000000</td>\n",
       "    </tr>\n",
       "    <tr>\n",
       "      <th>6</th>\n",
       "      <td>Itoga</td>\n",
       "      <td>134.6</td>\n",
       "      <td>249.666667</td>\n",
       "      <td>6048.333333</td>\n",
       "      <td>6298.0</td>\n",
       "      <td>-0.062</td>\n",
       "      <td>-0.1500</td>\n",
       "      <td>-0.023</td>\n",
       "      <td>0.032071</td>\n",
       "    </tr>\n",
       "    <tr>\n",
       "      <th>7</th>\n",
       "      <td>Itoga</td>\n",
       "      <td>139.0</td>\n",
       "      <td>249.666667</td>\n",
       "      <td>9341.333333</td>\n",
       "      <td>9591.0</td>\n",
       "      <td>0.077</td>\n",
       "      <td>0.0004</td>\n",
       "      <td>0.150</td>\n",
       "      <td>0.037778</td>\n",
       "    </tr>\n",
       "    <tr>\n",
       "      <th>8</th>\n",
       "      <td>Itoga</td>\n",
       "      <td>143.7</td>\n",
       "      <td>249.666667</td>\n",
       "      <td>8543.333333</td>\n",
       "      <td>8793.0</td>\n",
       "      <td>0.110</td>\n",
       "      <td>0.0220</td>\n",
       "      <td>0.210</td>\n",
       "      <td>0.047475</td>\n",
       "    </tr>\n",
       "    <tr>\n",
       "      <th>9</th>\n",
       "      <td>Itoga</td>\n",
       "      <td>149.5</td>\n",
       "      <td>249.666667</td>\n",
       "      <td>4401.333333</td>\n",
       "      <td>4651.0</td>\n",
       "      <td>0.190</td>\n",
       "      <td>0.1100</td>\n",
       "      <td>0.280</td>\n",
       "      <td>0.042929</td>\n",
       "    </tr>\n",
       "  </tbody>\n",
       "</table>\n",
       "</div>"
      ],
      "text/plain": [
       "  Author   dose       cases     controls  subjects  logOR     low   high  \\\n",
       "5  Itoga  129.8  249.666667  2738.333333    2988.0  0.000  0.0000  0.000   \n",
       "6  Itoga  134.6  249.666667  6048.333333    6298.0 -0.062 -0.1500 -0.023   \n",
       "7  Itoga  139.0  249.666667  9341.333333    9591.0  0.077  0.0004  0.150   \n",
       "8  Itoga  143.7  249.666667  8543.333333    8793.0  0.110  0.0220  0.210   \n",
       "9  Itoga  149.5  249.666667  4401.333333    4651.0  0.190  0.1100  0.280   \n",
       "\n",
       "   std_error  \n",
       "5   0.000000  \n",
       "6   0.032071  \n",
       "7   0.037778  \n",
       "8   0.047475  \n",
       "9   0.042929  "
      ]
     },
     "execution_count": 25,
     "metadata": {},
     "output_type": "execute_result"
    }
   ],
   "source": [
    "study_df_i"
   ]
  },
  {
   "cell_type": "code",
   "execution_count": 26,
   "metadata": {},
   "outputs": [
    {
     "name": "stderr",
     "output_type": "stream",
     "text": [
      "/opt/anaconda3/envs/correlationCorrection/lib/python3.12/site-packages/cvxpy/reductions/solvers/solving_chain.py:354: FutureWarning: \n",
      "    You specified your problem should be solved by ECOS. Starting in\n",
      "    CXVPY 1.6.0, ECOS will no longer be installed by default with CVXPY.\n",
      "    Please either add an explicit dependency on ECOS or switch to our new\n",
      "    default solver, Clarabel, by either not specifying a solver argument\n",
      "    or specifying ``solver=cp.CLARABEL``.\n",
      "    \n",
      "  warnings.warn(ECOS_DEP_DEPRECATION_MSG, FutureWarning)\n"
     ]
    }
   ],
   "source": [
    "Nx_i = study_df_i[\"subjects\"].to_numpy().astype(np.float64)\n",
    "M1x_i = np.sum(study_df_i[\"cases\"].to_numpy().astype(np.float64))\n",
    "A0_i = M1x_i*Nx_i[1:]/(Nx_i.sum())\n",
    "L_i = study_df_i[\"logOR\"][1:].to_numpy()\n",
    "L_i_p = L_i.copy()\n",
    "L_i_p[0] = -0.062\n",
    "x_i = study_df_i[\"dose\"][1:].to_numpy()\n",
    "x_i = x_i - 129.8\n",
    "v_i = study_df_i[\"std_error\"][1:].to_numpy()\n",
    "v_ip = v_i.copy()\n",
    "# v_ip[0] = \n",
    "\n",
    "it_fit_ex = IF(L_i_p,A0_i,Nx_i,M1x_i)\n",
    "A_i, B_i, a0_i, b0_i = it_fit_ex.convexProgram()\n",
    "\n",
    "C = covariance_matrix(A_i,B_i,a0_i,b0_i,v_ip**2)\n",
    "inv_C_i = np.linalg.inv(C)"
   ]
  },
  {
   "cell_type": "code",
   "execution_count": 27,
   "metadata": {},
   "outputs": [
    {
     "data": {
      "text/plain": [
       "array([213.99462598, 372.59450971, 352.59471619, 201.36317414])"
      ]
     },
     "execution_count": 27,
     "metadata": {},
     "output_type": "execute_result"
    }
   ],
   "source": [
    "A_i"
   ]
  },
  {
   "cell_type": "code",
   "execution_count": 28,
   "metadata": {},
   "outputs": [
    {
     "data": {
      "text/plain": [
       "107.7863073121539"
      ]
     },
     "execution_count": 28,
     "metadata": {},
     "output_type": "execute_result"
    }
   ],
   "source": [
    "a0_i"
   ]
  },
  {
   "cell_type": "code",
   "execution_count": 29,
   "metadata": {},
   "outputs": [
    {
     "data": {
      "text/plain": [
       "array([[0.00102853, 0.00087018, 0.00108647, 0.00090527],\n",
       "       [0.00087018, 0.00142716, 0.00138118, 0.00115083],\n",
       "       [0.00108647, 0.00090527, 0.00225385, 0.00143687],\n",
       "       [0.00138118, 0.00115083, 0.00143687, 0.00184292]])"
      ]
     },
     "execution_count": 29,
     "metadata": {},
     "output_type": "execute_result"
    }
   ],
   "source": [
    "C"
   ]
  },
  {
   "cell_type": "code",
   "execution_count": 30,
   "metadata": {},
   "outputs": [],
   "source": [
    "# Itoga corrected estimates\n",
    "vb_star = 1/(np.dot(x_i,np.dot(inv_C_i,x_i)))\n",
    "b_star = vb_star*(np.dot(x_i,np.dot(inv_C_i,L_i)))"
   ]
  },
  {
   "cell_type": "code",
   "execution_count": 31,
   "metadata": {},
   "outputs": [
    {
     "data": {
      "text/plain": [
       "0.018745169004179014"
      ]
     },
     "execution_count": 31,
     "metadata": {},
     "output_type": "execute_result"
    }
   ],
   "source": [
    "b_star"
   ]
  },
  {
   "cell_type": "code",
   "execution_count": 32,
   "metadata": {},
   "outputs": [],
   "source": [
    "# Itoga unadjusted estimates\n",
    "vb = 1/(np.dot(x_i,np.dot(np.linalg.inv(np.diag(v_ip)**2),x_i)))\n",
    "b = vb*(np.dot(x_i,np.dot(np.linalg.inv(np.diag(v_ip)**2),L_i)))"
   ]
  },
  {
   "cell_type": "code",
   "execution_count": 33,
   "metadata": {},
   "outputs": [
    {
     "data": {
      "text/plain": [
       "0.0077151064467757356"
      ]
     },
     "execution_count": 33,
     "metadata": {},
     "output_type": "execute_result"
    }
   ],
   "source": [
    "b"
   ]
  },
  {
   "cell_type": "markdown",
   "metadata": {},
   "source": [
    "There is a jump of size of order of magnitude. Why is the jump so big maybe? How do we know the difference induced by our method returns the results that are \"most correct?\" "
   ]
  },
  {
   "cell_type": "markdown",
   "metadata": {},
   "source": [
    "Repeat Itoga w/out negative term"
   ]
  },
  {
   "cell_type": "code",
   "execution_count": 33,
   "metadata": {},
   "outputs": [],
   "source": [
    "Nx_i = study_df_i[\"subjects\"].to_numpy().astype(np.float64)[1:]\n",
    "M1x_i = np.sum(study_df_i[\"cases\"].to_numpy().astype(np.float64)[1:])\n",
    "A0_i = M1x_i*Nx_i[1:]/(Nx_i.sum())\n",
    "L_i = study_df_i[\"logOR\"][2:].to_numpy()\n",
    "x_i = study_df_i[\"dose\"][2:].to_numpy()\n",
    "v_i = study_df_i[\"std_error\"][2:].to_numpy()\n",
    "\n",
    "it_fit_ex = IF(L_i,A0_i,Nx_i,M1x_i)\n",
    "A_i, B_i, a0_i, b0_i = it_fit_ex.convexProgram()\n",
    "\n",
    "C = covariance_matrix(A_i,B_i,a0_i,b0_i,v_i**2)\n",
    "inv_C_i = np.linalg.inv(C)"
   ]
  },
  {
   "cell_type": "code",
   "execution_count": 34,
   "metadata": {},
   "outputs": [
    {
     "data": {
      "text/plain": [
       "array([322.48570552, 305.22983423, 174.39182048])"
      ]
     },
     "execution_count": 34,
     "metadata": {},
     "output_type": "execute_result"
    }
   ],
   "source": [
    "A_i"
   ]
  },
  {
   "cell_type": "code",
   "execution_count": 35,
   "metadata": {},
   "outputs": [
    {
     "data": {
      "text/plain": [
       "array([[0.00142716, 0.00110126, 0.00087457],\n",
       "       [0.00110126, 0.00225385, 0.00108721],\n",
       "       [0.00087457, 0.00108721, 0.00184292]])"
      ]
     },
     "execution_count": 35,
     "metadata": {},
     "output_type": "execute_result"
    }
   ],
   "source": [
    "C"
   ]
  },
  {
   "cell_type": "code",
   "execution_count": 36,
   "metadata": {},
   "outputs": [],
   "source": [
    "C_nn = C\n",
    "inv_C_nn = np.linalg.inv(C_nn)"
   ]
  },
  {
   "cell_type": "code",
   "execution_count": 37,
   "metadata": {},
   "outputs": [
    {
     "data": {
      "text/plain": [
       "0.0008633607306968095"
      ]
     },
     "execution_count": 37,
     "metadata": {},
     "output_type": "execute_result"
    }
   ],
   "source": [
    "vb_star = 1/(np.dot(x_i,np.dot(inv_C_nn,x_i)))\n",
    "b_star = vb_star*(np.dot(x_i,np.dot(inv_C_nn,L_i)))\n",
    "b_star"
   ]
  },
  {
   "cell_type": "code",
   "execution_count": 38,
   "metadata": {},
   "outputs": [
    {
     "data": {
      "text/plain": [
       "0.000859255738818118"
      ]
     },
     "execution_count": 38,
     "metadata": {},
     "output_type": "execute_result"
    }
   ],
   "source": [
    "vb = 1/(np.dot(x_i,np.dot(np.linalg.inv(np.diag(v_i**2)),x_i)))\n",
    "b = vb*(np.dot(x_i,np.dot(np.linalg.inv(np.diag(v_i**2)),L_i)))\n",
    "b"
   ]
  },
  {
   "cell_type": "markdown",
   "metadata": {},
   "source": [
    "Ok, so now the estimates are almost exactly the same. I really think the reason behind the jump here is the fact that we have that negative in the first non-reference exposure level. But why does that make such a big difference? I'm not entirely sure."
   ]
  },
  {
   "cell_type": "markdown",
   "metadata": {},
   "source": [
    "#### Itoga simulation"
   ]
  },
  {
   "cell_type": "code",
   "execution_count": 121,
   "metadata": {},
   "outputs": [
    {
     "name": "stdout",
     "output_type": "stream",
     "text": [
      "Optimization terminated successfully.\n",
      "         Current function value: 0.146112\n",
      "         Iterations 8\n",
      "                           Logit Regression Results                           \n",
      "==============================================================================\n",
      "Dep. Variable:               outcomes   No. Observations:                40000\n",
      "Model:                          Logit   Df Residuals:                    39995\n",
      "Method:                           MLE   Df Model:                            4\n",
      "Date:                Thu, 23 May 2024   Pseudo R-squ.:                0.002329\n",
      "Time:                        13:39:07   Log-Likelihood:                -5844.5\n",
      "converged:                       True   LL-Null:                       -5858.1\n",
      "Covariance Type:            nonrobust   LLR p-value:                 1.740e-05\n",
      "==================================================================================\n",
      "                     coef    std err          z      P>|z|      [0.025      0.975]\n",
      "----------------------------------------------------------------------------------\n",
      "categories_3.0     0.0853      0.088      0.970      0.332      -0.087       0.258\n",
      "categories_4.0     0.1749      0.084      2.070      0.038       0.009       0.341\n",
      "categories_5.0     0.3418      0.079      4.343      0.000       0.188       0.496\n",
      "categories_6.0     0.6223      0.192      3.243      0.001       0.246       0.998\n",
      "ones              -3.5435      0.062    -56.760      0.000      -3.666      -3.421\n",
      "==================================================================================\n"
     ]
    }
   ],
   "source": [
    "import pandas as pd\n",
    "import statsmodels.api as sm\n",
    "\n",
    "# Performing the Logit regression to recover the log odds ratios\n",
    "cats_df = pd.DataFrame(cats_out_df,columns=[\"outcomes\",\"categories\"])\n",
    "cats_df = pd.get_dummies(cats_df, columns=[\"categories\"], dtype=np.float32)\n",
    "cats_df[\"ones\"] = np.ones(len(cats_df))\n",
    "to_reg = cats_df.loc[:, [x for x in cats_df.columns if x not in (\"outcomes\", \"categories_2.0\")]]\n",
    "\n",
    "results = sm.Logit(endog=cats_df[\"outcomes\"], exog=to_reg).fit()\n",
    "print(results.summary())"
   ]
  },
  {
   "cell_type": "markdown",
   "metadata": {},
   "source": [
    "Sanity check on logit, if our estimate is actually closer than unadjusted estimate"
   ]
  },
  {
   "cell_type": "code",
   "execution_count": 150,
   "metadata": {},
   "outputs": [
    {
     "name": "stdout",
     "output_type": "stream",
     "text": [
      "Optimization terminated successfully.\n",
      "         Current function value: 0.146110\n",
      "         Iterations 8\n",
      "                           Logit Regression Results                           \n",
      "==============================================================================\n",
      "Dep. Variable:                      y   No. Observations:                40000\n",
      "Model:                          Logit   Df Residuals:                    39998\n",
      "Method:                           MLE   Df Model:                            1\n",
      "Date:                Thu, 23 May 2024   Pseudo R-squ.:                0.002343\n",
      "Time:                        15:48:56   Log-Likelihood:                -5844.4\n",
      "converged:                       True   LL-Null:                       -5858.1\n",
      "Covariance Type:            nonrobust   LLR p-value:                 1.611e-07\n",
      "==============================================================================\n",
      "                 coef    std err          z      P>|z|      [0.025      0.975]\n",
      "------------------------------------------------------------------------------\n",
      "const         -3.6303      0.060    -60.823      0.000      -3.747      -3.513\n",
      "x1             0.0255      0.005      5.222      0.000       0.016       0.035\n",
      "==============================================================================\n"
     ]
    }
   ],
   "source": [
    "import statsmodels.formula.api as smf\n",
    "import statsmodels.api as sm\n",
    "\n",
    "x = sm.add_constant(df[:,1])\n",
    "results = sm.Logit(endog=df[:,0], exog=x).fit()\n",
    "print(results.summary())"
   ]
  },
  {
   "cell_type": "code",
   "execution_count": 57,
   "metadata": {},
   "outputs": [
    {
     "data": {
      "text/html": [
       "<div>\n",
       "<style scoped>\n",
       "    .dataframe tbody tr th:only-of-type {\n",
       "        vertical-align: middle;\n",
       "    }\n",
       "\n",
       "    .dataframe tbody tr th {\n",
       "        vertical-align: top;\n",
       "    }\n",
       "\n",
       "    .dataframe thead th {\n",
       "        text-align: right;\n",
       "    }\n",
       "</style>\n",
       "<table border=\"1\" class=\"dataframe\">\n",
       "  <thead>\n",
       "    <tr style=\"text-align: right;\">\n",
       "      <th></th>\n",
       "      <th>Author</th>\n",
       "      <th>dose</th>\n",
       "      <th>cases</th>\n",
       "      <th>controls</th>\n",
       "      <th>subjects</th>\n",
       "      <th>logOR</th>\n",
       "      <th>low</th>\n",
       "      <th>high</th>\n",
       "      <th>std_error</th>\n",
       "    </tr>\n",
       "  </thead>\n",
       "  <tbody>\n",
       "    <tr>\n",
       "      <th>5</th>\n",
       "      <td>Itoga</td>\n",
       "      <td>129.8</td>\n",
       "      <td>249.666667</td>\n",
       "      <td>2738.333333</td>\n",
       "      <td>2988.0</td>\n",
       "      <td>0.000</td>\n",
       "      <td>0.0000</td>\n",
       "      <td>0.000</td>\n",
       "      <td>0.000000</td>\n",
       "    </tr>\n",
       "    <tr>\n",
       "      <th>6</th>\n",
       "      <td>Itoga</td>\n",
       "      <td>134.6</td>\n",
       "      <td>249.666667</td>\n",
       "      <td>6048.333333</td>\n",
       "      <td>6298.0</td>\n",
       "      <td>-0.062</td>\n",
       "      <td>-0.1500</td>\n",
       "      <td>-0.023</td>\n",
       "      <td>0.032071</td>\n",
       "    </tr>\n",
       "    <tr>\n",
       "      <th>7</th>\n",
       "      <td>Itoga</td>\n",
       "      <td>139.0</td>\n",
       "      <td>249.666667</td>\n",
       "      <td>9341.333333</td>\n",
       "      <td>9591.0</td>\n",
       "      <td>0.077</td>\n",
       "      <td>0.0004</td>\n",
       "      <td>0.150</td>\n",
       "      <td>0.037778</td>\n",
       "    </tr>\n",
       "    <tr>\n",
       "      <th>8</th>\n",
       "      <td>Itoga</td>\n",
       "      <td>143.7</td>\n",
       "      <td>249.666667</td>\n",
       "      <td>8543.333333</td>\n",
       "      <td>8793.0</td>\n",
       "      <td>0.110</td>\n",
       "      <td>0.0220</td>\n",
       "      <td>0.210</td>\n",
       "      <td>0.047475</td>\n",
       "    </tr>\n",
       "    <tr>\n",
       "      <th>9</th>\n",
       "      <td>Itoga</td>\n",
       "      <td>149.5</td>\n",
       "      <td>249.666667</td>\n",
       "      <td>4401.333333</td>\n",
       "      <td>4651.0</td>\n",
       "      <td>0.190</td>\n",
       "      <td>0.1100</td>\n",
       "      <td>0.280</td>\n",
       "      <td>0.042929</td>\n",
       "    </tr>\n",
       "  </tbody>\n",
       "</table>\n",
       "</div>"
      ],
      "text/plain": [
       "  Author   dose       cases     controls  subjects  logOR     low   high  \\\n",
       "5  Itoga  129.8  249.666667  2738.333333    2988.0  0.000  0.0000  0.000   \n",
       "6  Itoga  134.6  249.666667  6048.333333    6298.0 -0.062 -0.1500 -0.023   \n",
       "7  Itoga  139.0  249.666667  9341.333333    9591.0  0.077  0.0004  0.150   \n",
       "8  Itoga  143.7  249.666667  8543.333333    8793.0  0.110  0.0220  0.210   \n",
       "9  Itoga  149.5  249.666667  4401.333333    4651.0  0.190  0.1100  0.280   \n",
       "\n",
       "   std_error  \n",
       "5   0.000000  \n",
       "6   0.032071  \n",
       "7   0.037778  \n",
       "8   0.047475  \n",
       "9   0.042929  "
      ]
     },
     "execution_count": 57,
     "metadata": {},
     "output_type": "execute_result"
    }
   ],
   "source": [
    "study_df_i"
   ]
  },
  {
   "cell_type": "code",
   "execution_count": 60,
   "metadata": {},
   "outputs": [],
   "source": [
    "study_df_i[\"rounded_cases\"] = np.round(study_df_i[\"cases\"].to_numpy())\n",
    "study_df_i[\"rounded_controls\"] = np.round(study_df_i[\"controls\"].to_numpy())"
   ]
  },
  {
   "cell_type": "code",
   "execution_count": 86,
   "metadata": {},
   "outputs": [
    {
     "data": {
      "text/html": [
       "<div>\n",
       "<style scoped>\n",
       "    .dataframe tbody tr th:only-of-type {\n",
       "        vertical-align: middle;\n",
       "    }\n",
       "\n",
       "    .dataframe tbody tr th {\n",
       "        vertical-align: top;\n",
       "    }\n",
       "\n",
       "    .dataframe thead th {\n",
       "        text-align: right;\n",
       "    }\n",
       "</style>\n",
       "<table border=\"1\" class=\"dataframe\">\n",
       "  <thead>\n",
       "    <tr style=\"text-align: right;\">\n",
       "      <th></th>\n",
       "      <th>Author</th>\n",
       "      <th>dose</th>\n",
       "      <th>cases</th>\n",
       "      <th>controls</th>\n",
       "      <th>subjects</th>\n",
       "      <th>logOR</th>\n",
       "      <th>low</th>\n",
       "      <th>high</th>\n",
       "      <th>std_error</th>\n",
       "      <th>rounded_cases</th>\n",
       "      <th>rounded_controls</th>\n",
       "    </tr>\n",
       "  </thead>\n",
       "  <tbody>\n",
       "    <tr>\n",
       "      <th>5</th>\n",
       "      <td>Itoga</td>\n",
       "      <td>0.0</td>\n",
       "      <td>249.666667</td>\n",
       "      <td>2738.333333</td>\n",
       "      <td>2988.0</td>\n",
       "      <td>0.000</td>\n",
       "      <td>0.0000</td>\n",
       "      <td>0.000</td>\n",
       "      <td>0.000000</td>\n",
       "      <td>250.0</td>\n",
       "      <td>2738.0</td>\n",
       "    </tr>\n",
       "    <tr>\n",
       "      <th>6</th>\n",
       "      <td>Itoga</td>\n",
       "      <td>4.8</td>\n",
       "      <td>249.666667</td>\n",
       "      <td>6048.333333</td>\n",
       "      <td>6298.0</td>\n",
       "      <td>-0.062</td>\n",
       "      <td>-0.1500</td>\n",
       "      <td>-0.023</td>\n",
       "      <td>0.032071</td>\n",
       "      <td>250.0</td>\n",
       "      <td>6048.0</td>\n",
       "    </tr>\n",
       "    <tr>\n",
       "      <th>7</th>\n",
       "      <td>Itoga</td>\n",
       "      <td>9.2</td>\n",
       "      <td>249.666667</td>\n",
       "      <td>9341.333333</td>\n",
       "      <td>9591.0</td>\n",
       "      <td>0.077</td>\n",
       "      <td>0.0004</td>\n",
       "      <td>0.150</td>\n",
       "      <td>0.037778</td>\n",
       "      <td>250.0</td>\n",
       "      <td>9341.0</td>\n",
       "    </tr>\n",
       "    <tr>\n",
       "      <th>8</th>\n",
       "      <td>Itoga</td>\n",
       "      <td>13.9</td>\n",
       "      <td>249.666667</td>\n",
       "      <td>8543.333333</td>\n",
       "      <td>8793.0</td>\n",
       "      <td>0.110</td>\n",
       "      <td>0.0220</td>\n",
       "      <td>0.210</td>\n",
       "      <td>0.047475</td>\n",
       "      <td>250.0</td>\n",
       "      <td>8543.0</td>\n",
       "    </tr>\n",
       "    <tr>\n",
       "      <th>9</th>\n",
       "      <td>Itoga</td>\n",
       "      <td>19.7</td>\n",
       "      <td>249.666667</td>\n",
       "      <td>4401.333333</td>\n",
       "      <td>4651.0</td>\n",
       "      <td>0.190</td>\n",
       "      <td>0.1100</td>\n",
       "      <td>0.280</td>\n",
       "      <td>0.042929</td>\n",
       "      <td>250.0</td>\n",
       "      <td>4401.0</td>\n",
       "    </tr>\n",
       "  </tbody>\n",
       "</table>\n",
       "</div>"
      ],
      "text/plain": [
       "  Author  dose       cases     controls  subjects  logOR     low   high  \\\n",
       "5  Itoga   0.0  249.666667  2738.333333    2988.0  0.000  0.0000  0.000   \n",
       "6  Itoga   4.8  249.666667  6048.333333    6298.0 -0.062 -0.1500 -0.023   \n",
       "7  Itoga   9.2  249.666667  9341.333333    9591.0  0.077  0.0004  0.150   \n",
       "8  Itoga  13.9  249.666667  8543.333333    8793.0  0.110  0.0220  0.210   \n",
       "9  Itoga  19.7  249.666667  4401.333333    4651.0  0.190  0.1100  0.280   \n",
       "\n",
       "   std_error  rounded_cases  rounded_controls  \n",
       "5   0.000000          250.0            2738.0  \n",
       "6   0.032071          250.0            6048.0  \n",
       "7   0.037778          250.0            9341.0  \n",
       "8   0.047475          250.0            8543.0  \n",
       "9   0.042929          250.0            4401.0  "
      ]
     },
     "execution_count": 86,
     "metadata": {},
     "output_type": "execute_result"
    }
   ],
   "source": [
    "study_df_i[\"dose\"] -= study_df_i[\"dose\"].to_numpy()[0]\n",
    "study_df_i"
   ]
  },
  {
   "cell_type": "code",
   "execution_count": 87,
   "metadata": {},
   "outputs": [],
   "source": [
    "df_ref_list = []\n",
    "for i in range(1,len(study_df_i)):\n",
    "    df_ref_cases = np.array([[study_df_i[\"dose\"].to_numpy()[i] for _ in range(int(study_df_i[\"rounded_cases\"].to_numpy()[i]))],\n",
    "                    [1 for _ in range(int(study_df_i[\"rounded_cases\"].to_numpy()[i]))]]).T\n",
    "    df_ref_controls = np.array([[study_df_i[\"dose\"].to_numpy()[i] for _ in range(int(study_df_i[\"rounded_controls\"].to_numpy()[i]))],\n",
    "                    [0 for _ in range(int(study_df_i[\"rounded_controls\"].to_numpy()[i]))]]).T\n",
    "    df_ref_list.append(np.vstack((df_ref_cases,df_ref_controls)))\n"
   ]
  },
  {
   "cell_type": "code",
   "execution_count": 88,
   "metadata": {},
   "outputs": [],
   "source": [
    "df_ref = np.vstack(df_ref_list)"
   ]
  },
  {
   "cell_type": "code",
   "execution_count": 89,
   "metadata": {},
   "outputs": [
    {
     "data": {
      "text/html": [
       "<div>\n",
       "<style scoped>\n",
       "    .dataframe tbody tr th:only-of-type {\n",
       "        vertical-align: middle;\n",
       "    }\n",
       "\n",
       "    .dataframe tbody tr th {\n",
       "        vertical-align: top;\n",
       "    }\n",
       "\n",
       "    .dataframe thead th {\n",
       "        text-align: right;\n",
       "    }\n",
       "</style>\n",
       "<table border=\"1\" class=\"dataframe\">\n",
       "  <thead>\n",
       "    <tr style=\"text-align: right;\">\n",
       "      <th></th>\n",
       "      <th>dose</th>\n",
       "      <th>outcome</th>\n",
       "    </tr>\n",
       "  </thead>\n",
       "  <tbody>\n",
       "    <tr>\n",
       "      <th>0</th>\n",
       "      <td>4.8</td>\n",
       "      <td>1.0</td>\n",
       "    </tr>\n",
       "    <tr>\n",
       "      <th>1</th>\n",
       "      <td>4.8</td>\n",
       "      <td>1.0</td>\n",
       "    </tr>\n",
       "    <tr>\n",
       "      <th>2</th>\n",
       "      <td>4.8</td>\n",
       "      <td>1.0</td>\n",
       "    </tr>\n",
       "    <tr>\n",
       "      <th>3</th>\n",
       "      <td>4.8</td>\n",
       "      <td>1.0</td>\n",
       "    </tr>\n",
       "    <tr>\n",
       "      <th>4</th>\n",
       "      <td>4.8</td>\n",
       "      <td>1.0</td>\n",
       "    </tr>\n",
       "  </tbody>\n",
       "</table>\n",
       "</div>"
      ],
      "text/plain": [
       "   dose  outcome\n",
       "0   4.8      1.0\n",
       "1   4.8      1.0\n",
       "2   4.8      1.0\n",
       "3   4.8      1.0\n",
       "4   4.8      1.0"
      ]
     },
     "execution_count": 89,
     "metadata": {},
     "output_type": "execute_result"
    }
   ],
   "source": [
    "df_ref = pd.DataFrame(df_ref, columns=[\"dose\",\"outcome\"])\n",
    "df_ref.head()"
   ]
  },
  {
   "cell_type": "code",
   "execution_count": 91,
   "metadata": {},
   "outputs": [
    {
     "name": "stdout",
     "output_type": "stream",
     "text": [
      "Optimization terminated successfully.\n",
      "         Current function value: 0.148448\n",
      "         Iterations 7\n",
      "                           Logit Regression Results                           \n",
      "==============================================================================\n",
      "Dep. Variable:                outcome   No. Observations:                29333\n",
      "Model:                          Logit   Df Residuals:                    29331\n",
      "Method:                           MLE   Df Model:                            1\n",
      "Date:                Thu, 23 May 2024   Pseudo R-squ.:                0.001614\n",
      "Time:                        13:33:25   Log-Likelihood:                -4354.4\n",
      "converged:                       True   LL-Null:                       -4361.5\n",
      "Covariance Type:            nonrobust   LLR p-value:                 0.0001752\n",
      "==============================================================================\n",
      "                 coef    std err          z      P>|z|      [0.025      0.975]\n",
      "------------------------------------------------------------------------------\n",
      "const         -3.6289      0.084    -43.278      0.000      -3.793      -3.465\n",
      "dose           0.0246      0.007      3.767      0.000       0.012       0.037\n",
      "==============================================================================\n"
     ]
    }
   ],
   "source": [
    "# Step 4: Build the logistic regression model without an intercept\n",
    "X = df_ref['dose']\n",
    "y = df_ref['outcome']\n",
    "# Add a constant column to X if needed (here we will not add it to exclude the intercept)\n",
    "X = sm.add_constant(X)\n",
    "logit_model = sm.Logit(y, X).fit()\n",
    "# Step 5: Evaluate the model\n",
    "print(logit_model.summary())\n",
    "# # Optional: Make predictions\n",
    "# predictions = logit_model.predict(X)\n",
    "# predicted_classes = (predictions > 0.5).astype(int)\n",
    "# # Optional: Print model coefficients\n",
    "# print(f'Coefficient (slope) for dose: {logit_model.params[\"dose\"]}')"
   ]
  },
  {
   "cell_type": "code",
   "execution_count": 93,
   "metadata": {},
   "outputs": [
    {
     "name": "stderr",
     "output_type": "stream",
     "text": [
      "/var/folders/p0/hl6rzzgd2v5802nvrkllqms40000gp/T/ipykernel_8866/3760040021.py:1: FutureWarning: Series.__getitem__ treating keys as positions is deprecated. In a future version, integer keys will always be treated as labels (consistent with DataFrame behavior). To access a value by position, use `ser.iloc[pos]`\n",
      "  np.exp(logit_model.params[1])\n"
     ]
    },
    {
     "data": {
      "text/plain": [
       "1.0248559494152192"
      ]
     },
     "execution_count": 93,
     "metadata": {},
     "output_type": "execute_result"
    }
   ],
   "source": [
    "np.exp(logit_model.params[1])"
   ]
  },
  {
   "cell_type": "code",
   "execution_count": 92,
   "metadata": {},
   "outputs": [
    {
     "name": "stderr",
     "output_type": "stream",
     "text": [
      "/var/folders/p0/hl6rzzgd2v5802nvrkllqms40000gp/T/ipykernel_8866/2289857680.py:1: FutureWarning: Series.__getitem__ treating keys as positions is deprecated. In a future version, integer keys will always be treated as labels (consistent with DataFrame behavior). To access a value by position, use `ser.iloc[pos]`\n",
      "  logit_model.params[1]\n"
     ]
    },
    {
     "data": {
      "text/plain": [
       "0.024552065558216256"
      ]
     },
     "execution_count": 92,
     "metadata": {},
     "output_type": "execute_result"
    }
   ],
   "source": [
    "logit_model.params[1]"
   ]
  },
  {
   "cell_type": "code",
   "execution_count": null,
   "metadata": {},
   "outputs": [],
   "source": []
  }
 ],
 "metadata": {
  "kernelspec": {
   "display_name": "Python 3.8.2 64-bit",
   "language": "python",
   "name": "python3"
  },
  "language_info": {
   "codemirror_mode": {
    "name": "ipython",
    "version": 3
   },
   "file_extension": ".py",
   "mimetype": "text/x-python",
   "name": "python",
   "nbconvert_exporter": "python",
   "pygments_lexer": "ipython3",
   "version": "3.12.3"
  },
  "vscode": {
   "interpreter": {
    "hash": "aee8b7b246df8f9039afb4144a1f6fd8d2ca17a180786b69acc140d282b71a49"
   }
  }
 },
 "nbformat": 4,
 "nbformat_minor": 2
}
