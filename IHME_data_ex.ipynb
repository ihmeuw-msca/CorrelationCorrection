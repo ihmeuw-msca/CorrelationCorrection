{
 "cells": [
  {
   "cell_type": "code",
   "execution_count": 2,
   "metadata": {},
   "outputs": [],
   "source": [
    "import numpy as np\n",
    "import pandas as pd"
   ]
  },
  {
   "cell_type": "code",
   "execution_count": 4,
   "metadata": {},
   "outputs": [],
   "source": [
    "study_df = pd.read_excel(\"/Users/verano13/Downloads/887667.xlsx\")"
   ]
  },
  {
   "cell_type": "code",
   "execution_count": 6,
   "metadata": {},
   "outputs": [
    {
     "data": {
      "text/plain": [
       "Index(['underlying_nid', 'nid', 'field_citation_value', 'location_name',\n",
       "       'location_id', 'sex', 'year_start', 'year_end', 'age_start', 'age_end',\n",
       "       'measure', 'mean', 'lower', 'upper', 'bundle_id', 'seq', 'origin_seq',\n",
       "       'origin_id', 'is_outlier', 'year_id', 'age_group_id', 'val', 'variance',\n",
       "       'gbd_component', 'sub_component', 'me_id', 'cause_id', 'rei_id',\n",
       "       'note_year', 'release', 'age_type', 'underlying_field_citation_value'],\n",
       "      dtype='object')"
      ]
     },
     "execution_count": 6,
     "metadata": {},
     "output_type": "execute_result"
    }
   ],
   "source": [
    "study_df.columns"
   ]
  },
  {
   "cell_type": "code",
   "execution_count": null,
   "metadata": {},
   "outputs": [],
   "source": []
  }
 ],
 "metadata": {
  "kernelspec": {
   "display_name": "correlationCorrection",
   "language": "python",
   "name": "python3"
  },
  "language_info": {
   "codemirror_mode": {
    "name": "ipython",
    "version": 3
   },
   "file_extension": ".py",
   "mimetype": "text/x-python",
   "name": "python",
   "nbconvert_exporter": "python",
   "pygments_lexer": "ipython3",
   "version": "3.12.3"
  }
 },
 "nbformat": 4,
 "nbformat_minor": 2
}
