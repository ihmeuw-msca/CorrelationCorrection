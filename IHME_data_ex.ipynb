{
 "cells": [
  {
   "cell_type": "code",
   "execution_count": 107,
   "metadata": {},
   "outputs": [
    {
     "name": "stderr",
     "output_type": "stream",
     "text": [
      "Matplotlib is building the font cache; this may take a moment.\n"
     ]
    }
   ],
   "source": [
    "import numpy as np\n",
    "import pandas as pd\n",
    "import matplotlib.pyplot as plt\n",
    "\n",
    "from src.IterativeFitting import IterativeFitting as IF\n",
    "from src.CorrFuncs import covariance_matrix"
   ]
  },
  {
   "cell_type": "code",
   "execution_count": 53,
   "metadata": {},
   "outputs": [],
   "source": [
    "study_df = pd.read_excel(\"SBPvPAD_data.xlsx\")"
   ]
  },
  {
   "cell_type": "code",
   "execution_count": 54,
   "metadata": {},
   "outputs": [
    {
     "data": {
      "text/html": [
       "<div>\n",
       "<style scoped>\n",
       "    .dataframe tbody tr th:only-of-type {\n",
       "        vertical-align: middle;\n",
       "    }\n",
       "\n",
       "    .dataframe tbody tr th {\n",
       "        vertical-align: top;\n",
       "    }\n",
       "\n",
       "    .dataframe thead th {\n",
       "        text-align: right;\n",
       "    }\n",
       "</style>\n",
       "<table border=\"1\" class=\"dataframe\">\n",
       "  <thead>\n",
       "    <tr style=\"text-align: right;\">\n",
       "      <th></th>\n",
       "      <th>Author</th>\n",
       "      <th>dose</th>\n",
       "      <th>cases</th>\n",
       "      <th>controls</th>\n",
       "      <th>subjects</th>\n",
       "      <th>logOR</th>\n",
       "      <th>low</th>\n",
       "      <th>high</th>\n",
       "      <th>std_error</th>\n",
       "    </tr>\n",
       "  </thead>\n",
       "  <tbody>\n",
       "    <tr>\n",
       "      <th>0</th>\n",
       "      <td>Stoekenbroek</td>\n",
       "      <td>114.0</td>\n",
       "      <td>21.000000</td>\n",
       "      <td>5428.500000</td>\n",
       "      <td>5449.5</td>\n",
       "      <td>1.000</td>\n",
       "      <td>1.0000</td>\n",
       "      <td>1.000</td>\n",
       "      <td>0.000000</td>\n",
       "    </tr>\n",
       "    <tr>\n",
       "      <th>1</th>\n",
       "      <td>Stoekenbroek</td>\n",
       "      <td>128.0</td>\n",
       "      <td>39.000000</td>\n",
       "      <td>5410.500000</td>\n",
       "      <td>5449.5</td>\n",
       "      <td>0.410</td>\n",
       "      <td>0.2200</td>\n",
       "      <td>0.590</td>\n",
       "      <td>0.093434</td>\n",
       "    </tr>\n",
       "    <tr>\n",
       "      <th>2</th>\n",
       "      <td>Stoekenbroek</td>\n",
       "      <td>139.0</td>\n",
       "      <td>51.000000</td>\n",
       "      <td>5398.500000</td>\n",
       "      <td>5449.5</td>\n",
       "      <td>0.440</td>\n",
       "      <td>0.2700</td>\n",
       "      <td>0.620</td>\n",
       "      <td>0.088384</td>\n",
       "    </tr>\n",
       "    <tr>\n",
       "      <th>3</th>\n",
       "      <td>Stoekenbroek</td>\n",
       "      <td>159.0</td>\n",
       "      <td>116.000000</td>\n",
       "      <td>5333.500000</td>\n",
       "      <td>5449.5</td>\n",
       "      <td>1.080</td>\n",
       "      <td>0.9900</td>\n",
       "      <td>1.170</td>\n",
       "      <td>0.045455</td>\n",
       "    </tr>\n",
       "    <tr>\n",
       "      <th>4</th>\n",
       "      <td>Itoga</td>\n",
       "      <td>123.9</td>\n",
       "      <td>249.666667</td>\n",
       "      <td>786.333333</td>\n",
       "      <td>1036.0</td>\n",
       "      <td>0.230</td>\n",
       "      <td>0.1600</td>\n",
       "      <td>0.310</td>\n",
       "      <td>0.037879</td>\n",
       "    </tr>\n",
       "    <tr>\n",
       "      <th>5</th>\n",
       "      <td>Itoga</td>\n",
       "      <td>129.8</td>\n",
       "      <td>249.666667</td>\n",
       "      <td>2738.333333</td>\n",
       "      <td>2988.0</td>\n",
       "      <td>1.000</td>\n",
       "      <td>1.0000</td>\n",
       "      <td>1.000</td>\n",
       "      <td>0.000000</td>\n",
       "    </tr>\n",
       "    <tr>\n",
       "      <th>6</th>\n",
       "      <td>Itoga</td>\n",
       "      <td>134.6</td>\n",
       "      <td>249.666667</td>\n",
       "      <td>6048.333333</td>\n",
       "      <td>6298.0</td>\n",
       "      <td>-0.062</td>\n",
       "      <td>-0.1500</td>\n",
       "      <td>-0.023</td>\n",
       "      <td>0.032071</td>\n",
       "    </tr>\n",
       "    <tr>\n",
       "      <th>7</th>\n",
       "      <td>Itoga</td>\n",
       "      <td>139.0</td>\n",
       "      <td>249.666667</td>\n",
       "      <td>9341.333333</td>\n",
       "      <td>9591.0</td>\n",
       "      <td>0.077</td>\n",
       "      <td>0.0004</td>\n",
       "      <td>0.150</td>\n",
       "      <td>0.037778</td>\n",
       "    </tr>\n",
       "    <tr>\n",
       "      <th>8</th>\n",
       "      <td>Itoga</td>\n",
       "      <td>143.7</td>\n",
       "      <td>249.666667</td>\n",
       "      <td>8543.333333</td>\n",
       "      <td>8793.0</td>\n",
       "      <td>0.110</td>\n",
       "      <td>0.0220</td>\n",
       "      <td>0.210</td>\n",
       "      <td>0.047475</td>\n",
       "    </tr>\n",
       "    <tr>\n",
       "      <th>9</th>\n",
       "      <td>Itoga</td>\n",
       "      <td>149.5</td>\n",
       "      <td>249.666667</td>\n",
       "      <td>4401.333333</td>\n",
       "      <td>4651.0</td>\n",
       "      <td>0.190</td>\n",
       "      <td>0.1100</td>\n",
       "      <td>0.280</td>\n",
       "      <td>0.042929</td>\n",
       "    </tr>\n",
       "  </tbody>\n",
       "</table>\n",
       "</div>"
      ],
      "text/plain": [
       "         Author   dose       cases     controls  subjects  logOR     low  \\\n",
       "0  Stoekenbroek  114.0   21.000000  5428.500000    5449.5  1.000  1.0000   \n",
       "1  Stoekenbroek  128.0   39.000000  5410.500000    5449.5  0.410  0.2200   \n",
       "2  Stoekenbroek  139.0   51.000000  5398.500000    5449.5  0.440  0.2700   \n",
       "3  Stoekenbroek  159.0  116.000000  5333.500000    5449.5  1.080  0.9900   \n",
       "4         Itoga  123.9  249.666667   786.333333    1036.0  0.230  0.1600   \n",
       "5         Itoga  129.8  249.666667  2738.333333    2988.0  1.000  1.0000   \n",
       "6         Itoga  134.6  249.666667  6048.333333    6298.0 -0.062 -0.1500   \n",
       "7         Itoga  139.0  249.666667  9341.333333    9591.0  0.077  0.0004   \n",
       "8         Itoga  143.7  249.666667  8543.333333    8793.0  0.110  0.0220   \n",
       "9         Itoga  149.5  249.666667  4401.333333    4651.0  0.190  0.1100   \n",
       "\n",
       "    high  std_error  \n",
       "0  1.000   0.000000  \n",
       "1  0.590   0.093434  \n",
       "2  0.620   0.088384  \n",
       "3  1.170   0.045455  \n",
       "4  0.310   0.037879  \n",
       "5  1.000   0.000000  \n",
       "6 -0.023   0.032071  \n",
       "7  0.150   0.037778  \n",
       "8  0.210   0.047475  \n",
       "9  0.280   0.042929  "
      ]
     },
     "execution_count": 54,
     "metadata": {},
     "output_type": "execute_result"
    }
   ],
   "source": [
    "study_df"
   ]
  },
  {
   "cell_type": "code",
   "execution_count": 55,
   "metadata": {},
   "outputs": [
    {
     "data": {
      "text/plain": [
       "0    1.000\n",
       "1    0.410\n",
       "2    0.440\n",
       "3    1.080\n",
       "4    0.230\n",
       "5    1.000\n",
       "6   -0.062\n",
       "7    0.077\n",
       "8    0.110\n",
       "9    0.190\n",
       "Name: logOR, dtype: float64"
      ]
     },
     "execution_count": 55,
     "metadata": {},
     "output_type": "execute_result"
    }
   ],
   "source": [
    "study_df[\"logOR\"]"
   ]
  },
  {
   "cell_type": "code",
   "execution_count": 56,
   "metadata": {},
   "outputs": [
    {
     "data": {
      "text/html": [
       "<div>\n",
       "<style scoped>\n",
       "    .dataframe tbody tr th:only-of-type {\n",
       "        vertical-align: middle;\n",
       "    }\n",
       "\n",
       "    .dataframe tbody tr th {\n",
       "        vertical-align: top;\n",
       "    }\n",
       "\n",
       "    .dataframe thead th {\n",
       "        text-align: right;\n",
       "    }\n",
       "</style>\n",
       "<table border=\"1\" class=\"dataframe\">\n",
       "  <thead>\n",
       "    <tr style=\"text-align: right;\">\n",
       "      <th></th>\n",
       "      <th>Author</th>\n",
       "      <th>dose</th>\n",
       "      <th>cases</th>\n",
       "      <th>controls</th>\n",
       "      <th>subjects</th>\n",
       "      <th>logOR</th>\n",
       "      <th>low</th>\n",
       "      <th>high</th>\n",
       "      <th>std_error</th>\n",
       "    </tr>\n",
       "  </thead>\n",
       "  <tbody>\n",
       "    <tr>\n",
       "      <th>0</th>\n",
       "      <td>Stoekenbroek</td>\n",
       "      <td>114.0</td>\n",
       "      <td>21.000000</td>\n",
       "      <td>5428.500000</td>\n",
       "      <td>5449.5</td>\n",
       "      <td>0.000</td>\n",
       "      <td>0.0000</td>\n",
       "      <td>0.000</td>\n",
       "      <td>0.000000</td>\n",
       "    </tr>\n",
       "    <tr>\n",
       "      <th>1</th>\n",
       "      <td>Stoekenbroek</td>\n",
       "      <td>128.0</td>\n",
       "      <td>39.000000</td>\n",
       "      <td>5410.500000</td>\n",
       "      <td>5449.5</td>\n",
       "      <td>0.410</td>\n",
       "      <td>0.2200</td>\n",
       "      <td>0.590</td>\n",
       "      <td>0.093434</td>\n",
       "    </tr>\n",
       "    <tr>\n",
       "      <th>2</th>\n",
       "      <td>Stoekenbroek</td>\n",
       "      <td>139.0</td>\n",
       "      <td>51.000000</td>\n",
       "      <td>5398.500000</td>\n",
       "      <td>5449.5</td>\n",
       "      <td>0.440</td>\n",
       "      <td>0.2700</td>\n",
       "      <td>0.620</td>\n",
       "      <td>0.088384</td>\n",
       "    </tr>\n",
       "    <tr>\n",
       "      <th>3</th>\n",
       "      <td>Stoekenbroek</td>\n",
       "      <td>159.0</td>\n",
       "      <td>116.000000</td>\n",
       "      <td>5333.500000</td>\n",
       "      <td>5449.5</td>\n",
       "      <td>1.080</td>\n",
       "      <td>0.9900</td>\n",
       "      <td>1.170</td>\n",
       "      <td>0.045455</td>\n",
       "    </tr>\n",
       "    <tr>\n",
       "      <th>4</th>\n",
       "      <td>Itoga</td>\n",
       "      <td>123.9</td>\n",
       "      <td>249.666667</td>\n",
       "      <td>786.333333</td>\n",
       "      <td>1036.0</td>\n",
       "      <td>0.230</td>\n",
       "      <td>0.1600</td>\n",
       "      <td>0.310</td>\n",
       "      <td>0.037879</td>\n",
       "    </tr>\n",
       "    <tr>\n",
       "      <th>5</th>\n",
       "      <td>Itoga</td>\n",
       "      <td>129.8</td>\n",
       "      <td>249.666667</td>\n",
       "      <td>2738.333333</td>\n",
       "      <td>2988.0</td>\n",
       "      <td>0.000</td>\n",
       "      <td>0.0000</td>\n",
       "      <td>0.000</td>\n",
       "      <td>0.000000</td>\n",
       "    </tr>\n",
       "    <tr>\n",
       "      <th>6</th>\n",
       "      <td>Itoga</td>\n",
       "      <td>134.6</td>\n",
       "      <td>249.666667</td>\n",
       "      <td>6048.333333</td>\n",
       "      <td>6298.0</td>\n",
       "      <td>-0.062</td>\n",
       "      <td>-0.1500</td>\n",
       "      <td>-0.023</td>\n",
       "      <td>0.032071</td>\n",
       "    </tr>\n",
       "    <tr>\n",
       "      <th>7</th>\n",
       "      <td>Itoga</td>\n",
       "      <td>139.0</td>\n",
       "      <td>249.666667</td>\n",
       "      <td>9341.333333</td>\n",
       "      <td>9591.0</td>\n",
       "      <td>0.077</td>\n",
       "      <td>0.0004</td>\n",
       "      <td>0.150</td>\n",
       "      <td>0.037778</td>\n",
       "    </tr>\n",
       "    <tr>\n",
       "      <th>8</th>\n",
       "      <td>Itoga</td>\n",
       "      <td>143.7</td>\n",
       "      <td>249.666667</td>\n",
       "      <td>8543.333333</td>\n",
       "      <td>8793.0</td>\n",
       "      <td>0.110</td>\n",
       "      <td>0.0220</td>\n",
       "      <td>0.210</td>\n",
       "      <td>0.047475</td>\n",
       "    </tr>\n",
       "    <tr>\n",
       "      <th>9</th>\n",
       "      <td>Itoga</td>\n",
       "      <td>149.5</td>\n",
       "      <td>249.666667</td>\n",
       "      <td>4401.333333</td>\n",
       "      <td>4651.0</td>\n",
       "      <td>0.190</td>\n",
       "      <td>0.1100</td>\n",
       "      <td>0.280</td>\n",
       "      <td>0.042929</td>\n",
       "    </tr>\n",
       "  </tbody>\n",
       "</table>\n",
       "</div>"
      ],
      "text/plain": [
       "         Author   dose       cases     controls  subjects  logOR     low  \\\n",
       "0  Stoekenbroek  114.0   21.000000  5428.500000    5449.5  0.000  0.0000   \n",
       "1  Stoekenbroek  128.0   39.000000  5410.500000    5449.5  0.410  0.2200   \n",
       "2  Stoekenbroek  139.0   51.000000  5398.500000    5449.5  0.440  0.2700   \n",
       "3  Stoekenbroek  159.0  116.000000  5333.500000    5449.5  1.080  0.9900   \n",
       "4         Itoga  123.9  249.666667   786.333333    1036.0  0.230  0.1600   \n",
       "5         Itoga  129.8  249.666667  2738.333333    2988.0  0.000  0.0000   \n",
       "6         Itoga  134.6  249.666667  6048.333333    6298.0 -0.062 -0.1500   \n",
       "7         Itoga  139.0  249.666667  9341.333333    9591.0  0.077  0.0004   \n",
       "8         Itoga  143.7  249.666667  8543.333333    8793.0  0.110  0.0220   \n",
       "9         Itoga  149.5  249.666667  4401.333333    4651.0  0.190  0.1100   \n",
       "\n",
       "    high  std_error  \n",
       "0  0.000   0.000000  \n",
       "1  0.590   0.093434  \n",
       "2  0.620   0.088384  \n",
       "3  1.170   0.045455  \n",
       "4  0.310   0.037879  \n",
       "5  0.000   0.000000  \n",
       "6 -0.023   0.032071  \n",
       "7  0.150   0.037778  \n",
       "8  0.210   0.047475  \n",
       "9  0.280   0.042929  "
      ]
     },
     "execution_count": 56,
     "metadata": {},
     "output_type": "execute_result"
    }
   ],
   "source": [
    "study_df.iloc[0,5:8] = np.log(study_df.iloc[0,5:8].to_numpy().astype(np.float64))\n",
    "study_df.iloc[5,5:8] = np.log(study_df.iloc[5,5:8].to_numpy().astype(np.float64))\n",
    "study_df"
   ]
  },
  {
   "cell_type": "code",
   "execution_count": 59,
   "metadata": {},
   "outputs": [],
   "source": [
    "study_df_s = study_df.loc[study_df[\"Author\"] == \"Stoekenbroek\"]\n",
    "study_df_i = study_df.loc[study_df[\"Author\"] == \"Itoga\"]\n",
    "study_df_i = study_df_i.iloc[1:,:]"
   ]
  },
  {
   "cell_type": "code",
   "execution_count": 65,
   "metadata": {},
   "outputs": [],
   "source": [
    "def roll_func(study_df_j,col):\n",
    "    col_s = study_df_j[col].to_numpy()\n",
    "    col_s_shift = np.roll(col_s,-1)\n",
    "    col_s_run = col_s_shift - col_s\n",
    "    col_s_run = col_s_run[:-1]\n",
    "    return col_s_run"
   ]
  },
  {
   "cell_type": "code",
   "execution_count": 116,
   "metadata": {},
   "outputs": [],
   "source": [
    "dose_s_run = roll_func(study_df_j=study_df_s, col=\"dose\")\n",
    "OR_s_rise = roll_func(study_df_j=study_df_s, col=\"logOR\")\n",
    "low_s_rise = roll_func(study_df_s,\"low\")\n",
    "high_s_rise = roll_func(study_df_s,\"high\")"
   ]
  },
  {
   "cell_type": "code",
   "execution_count": 117,
   "metadata": {},
   "outputs": [],
   "source": [
    "log_slopes_s = OR_s_rise / dose_s_run\n",
    "low_slopes_s = low_s_rise / dose_s_run\n",
    "high_slopes_s = high_s_rise / dose_s_run"
   ]
  },
  {
   "cell_type": "code",
   "execution_count": 81,
   "metadata": {},
   "outputs": [],
   "source": [
    "Sigma_s = np.diag(study_df_s[\"std_error\"].to_numpy()[1:])**2\n",
    "inv_Sigma_s = np.linalg.inv(Sigma_s)\n",
    "beta_s = np.linalg.inv(np.ones((3,1)).T@inv_Sigma_s@np.ones((3,1)))@np.ones((3,1)).T@inv_Sigma_s@log_slopes_s"
   ]
  },
  {
   "cell_type": "code",
   "execution_count": 118,
   "metadata": {},
   "outputs": [],
   "source": [
    "low_beta_s = np.linalg.inv(np.ones((3,1)).T@inv_Sigma_s@np.ones((3,1)))@np.ones((3,1)).T@inv_Sigma_s@low_slopes_s\n",
    "high_beta_s = np.linalg.inv(np.ones((3,1)).T@inv_Sigma_s@np.ones((3,1)))@np.ones((3,1)).T@inv_Sigma_s@high_slopes_s"
   ]
  },
  {
   "cell_type": "code",
   "execution_count": 91,
   "metadata": {},
   "outputs": [],
   "source": [
    "Nx_s = study_df_s[\"subjects\"].to_numpy().astype(np.float64)\n",
    "Lx_s = study_df_s[\"logOR\"].to_numpy().astype(np.float64)[1:]\n",
    "M1x_s = np.sum(study_df_s[\"cases\"].to_numpy().astype(np.float64))\n",
    "A0_s = M1x_s*Nx_s[1:]/(Nx_s.sum())"
   ]
  },
  {
   "cell_type": "code",
   "execution_count": 93,
   "metadata": {},
   "outputs": [],
   "source": [
    "it_fit_ex = IF(Lx_s,A0_s,Nx_s,M1x_s)"
   ]
  },
  {
   "cell_type": "code",
   "execution_count": 94,
   "metadata": {},
   "outputs": [
    {
     "name": "stderr",
     "output_type": "stream",
     "text": [
      "/opt/anaconda3/envs/correlationCorrection/lib/python3.12/site-packages/cvxpy/reductions/solvers/solving_chain.py:354: FutureWarning: \n",
      "    You specified your problem should be solved by ECOS. Starting in\n",
      "    CXVPY 1.6.0, ECOS will no longer be installed by default with CVXPY.\n",
      "    Please either add an explicit dependency on ECOS or switch to our new\n",
      "    default solver, Clarabel, by either not specifying a solver argument\n",
      "    or specifying ``solver=cp.CLARABEL``.\n",
      "    \n",
      "  warnings.warn(ECOS_DEP_DEPRECATION_MSG, FutureWarning)\n"
     ]
    }
   ],
   "source": [
    "A_s, B_s, a0_s, b0_s = it_fit_ex.convexProgram()"
   ]
  },
  {
   "cell_type": "code",
   "execution_count": 121,
   "metadata": {},
   "outputs": [],
   "source": [
    "low_s = study_df_s[\"low\"].to_numpy().astype(np.float64)[1:]\n",
    "high_s = study_df_s[\"high\"].to_numpy().astype(np.float64)[1:]"
   ]
  },
  {
   "cell_type": "code",
   "execution_count": 123,
   "metadata": {},
   "outputs": [
    {
     "name": "stderr",
     "output_type": "stream",
     "text": [
      "/opt/anaconda3/envs/correlationCorrection/lib/python3.12/site-packages/cvxpy/reductions/solvers/solving_chain.py:354: FutureWarning: \n",
      "    You specified your problem should be solved by ECOS. Starting in\n",
      "    CXVPY 1.6.0, ECOS will no longer be installed by default with CVXPY.\n",
      "    Please either add an explicit dependency on ECOS or switch to our new\n",
      "    default solver, Clarabel, by either not specifying a solver argument\n",
      "    or specifying ``solver=cp.CLARABEL``.\n",
      "    \n",
      "  warnings.warn(ECOS_DEP_DEPRECATION_MSG, FutureWarning)\n"
     ]
    }
   ],
   "source": [
    "it_fit_ex = IF(low_s,A0_s,Nx_s,M1x_s)\n",
    "A_l_s, B_l_s, a0_l_s, b0_l_s = it_fit_ex.convexProgram()\n",
    "\n",
    "it_fit_ex = IF(high_s,A0_s,Nx_s,M1x_s)\n",
    "A_h_s, B_h_s, a0_h_s, b0_h_s = it_fit_ex.convexProgram()"
   ]
  },
  {
   "cell_type": "code",
   "execution_count": 124,
   "metadata": {},
   "outputs": [],
   "source": [
    "C_s = covariance_matrix(A_s,B_s,a0_s,b0_s,study_df_s[\"std_error\"].to_numpy()[1:]**2)\n",
    "inv_C_s = np.linalg.inv(C_s)\n",
    "\n",
    "low_C_s = covariance_matrix(A_l_s, B_l_s, a0_l_s, b0_l_s,study_df_s[\"std_error\"].to_numpy()[1:]**2)\n",
    "low_inv_C_s = np.linalg.inv(low_C_s)\n",
    "\n",
    "high_C_s = covariance_matrix(A_h_s, B_h_s, a0_h_s, b0_h_s,study_df_s[\"std_error\"].to_numpy()[1:]**2)\n",
    "high_inv_C_s = np.linalg.inv(high_C_s)"
   ]
  },
  {
   "cell_type": "code",
   "execution_count": 125,
   "metadata": {},
   "outputs": [],
   "source": [
    "beta_s_GL = np.linalg.inv(np.ones((3,1)).T@inv_C_s@np.ones((3,1)))@np.ones((3,1)).T@inv_C_s@log_slopes_s\n",
    "low_beta_s_GL = np.linalg.inv(np.ones((3,1)).T@low_inv_C_s@np.ones((3,1)))@np.ones((3,1)).T@low_inv_C_s@log_slopes_s\n",
    "high_beta_s_GL = np.linalg.inv(np.ones((3,1)).T@high_inv_C_s@np.ones((3,1)))@np.ones((3,1)).T@high_inv_C_s@log_slopes_s"
   ]
  },
  {
   "cell_type": "code",
   "execution_count": 100,
   "metadata": {},
   "outputs": [
    {
     "data": {
      "text/plain": [
       "array([0.03524428])"
      ]
     },
     "execution_count": 100,
     "metadata": {},
     "output_type": "execute_result"
    }
   ],
   "source": [
    "beta_s_GL"
   ]
  },
  {
   "cell_type": "code",
   "execution_count": 101,
   "metadata": {},
   "outputs": [],
   "source": [
    "def slope_fn(beta,x):\n",
    "    return beta*x"
   ]
  },
  {
   "cell_type": "code",
   "execution_count": 105,
   "metadata": {},
   "outputs": [],
   "source": [
    "x = np.linspace(115,165)"
   ]
  },
  {
   "cell_type": "code",
   "execution_count": 130,
   "metadata": {},
   "outputs": [
    {
     "data": {
      "text/plain": [
       "<matplotlib.legend.Legend at 0x304967bf0>"
      ]
     },
     "execution_count": 130,
     "metadata": {},
     "output_type": "execute_result"
    },
    {
     "data": {
      "image/png": "[encoded data removed]",
      "text/plain": [
       "<Figure size 640x480 with 1 Axes>"
      ]
     },
     "metadata": {},
     "output_type": "display_data"
    }
   ],
   "source": [
    "plt.plot(x,slope_fn(beta_s,x),label=\"No weights\",c=\"olive\")\n",
    "plt.fill_between(x,slope_fn(low_beta_s,x),slope_fn(high_beta_s,x),alpha=0.3,color=\"olive\")\n",
    "plt.plot(x,slope_fn(beta_s_GL,x),label=\"Weights\",c=\"cornflowerblue\")\n",
    "plt.fill_between(x,slope_fn(low_beta_s_GL,x),slope_fn(high_beta_s_GL,x),alpha=0.3,color=\"cornflowerblue\")\n",
    "plt.ylabel(\"log relative risk\")\n",
    "plt.xlabel(\"Systolic blood pressure\")\n",
    "plt.legend()"
   ]
  },
  {
   "cell_type": "code",
   "execution_count": null,
   "metadata": {},
   "outputs": [],
   "source": []
  }
 ],
 "metadata": {
  "kernelspec": {
   "display_name": "correlationCorrection",
   "language": "python",
   "name": "python3"
  },
  "language_info": {
   "codemirror_mode": {
    "name": "ipython",
    "version": 3
   },
   "file_extension": ".py",
   "mimetype": "text/x-python",
   "name": "python",
   "nbconvert_exporter": "python",
   "pygments_lexer": "ipython3",
   "version": "3.12.3"
  }
 },
 "nbformat": 4,
 "nbformat_minor": 2
}
