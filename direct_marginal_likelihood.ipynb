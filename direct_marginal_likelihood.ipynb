{
 "cells": [
  {
   "cell_type": "code",
   "execution_count": 1,
   "metadata": {},
   "outputs": [],
   "source": [
    "import numpy as np\n",
    "import pandas as pd\n",
    "import matplotlib.pyplot as plt\n",
    "import statsmodels.api as sm\n",
    "from tqdm.auto import tqdm\n",
    "from scipy.special import logit,expit\n",
    "\n",
    "from src.IterativeFitting import IterativeFitting as IF\n",
    "from src.HamMethods import ham_vanilla, ham_solved\n",
    "from src.CorrFuncs import covariance_matrix, trend_est\n",
    "\n",
    "import jax.numpy as jnp\n",
    "import jax \n",
    "jax.config.update('jax_enable_x64',True)"
   ]
  },
  {
   "cell_type": "code",
   "execution_count": 2,
   "metadata": {},
   "outputs": [
    {
     "name": "stdout",
     "output_type": "stream",
     "text": [
      "Optimization terminated successfully.\n",
      "         Current function value: 0.646961\n",
      "         Iterations 5\n"
     ]
    }
   ],
   "source": [
    "# Setting seed\n",
    "np.random.seed(23)\n",
    "\n",
    "# Initializing simulation slope and intercept parameters\n",
    "beta0 = -0.1\n",
    "beta1 = 0.02\n",
    "beta_age = 0.05\n",
    "beta_income = -0.05\n",
    "beta_sex = 1.0\n",
    "\n",
    "# Number of samples\n",
    "n = 40000\n",
    "\n",
    "# Constructing covariate vectors for additional covariates to adjust\n",
    "age_vector = np.random.uniform(low=0,high=1,size=n)\n",
    "income_vector = np.random.uniform(low=0,high=1,size=n)\n",
    "# sex_vector = np.random.binomial(n=1,p=0.6,size=n)\n",
    "\n",
    "# Assigning exposure levels and getting relevant x's\n",
    "exposure_levels = np.array([0.,1.,2.,3.])\n",
    "xs = np.random.choice(exposure_levels,size = n)\n",
    "sex_vector = np.random.binomial(n = 1,p = 0.1 + xs/4,size =n )\n",
    "\n",
    "\n",
    "# Function to generate probabilities of being a case v non-case\n",
    "other_covs = beta0 + (beta_age*age_vector) + (income_vector*beta_income) + (sex_vector*beta_sex) \n",
    "p = lambda x: (np.exp(beta1*x + other_covs))/(1 + np.exp(beta1*x + other_covs))\n",
    "\n",
    "# Actually calculating probabilities on exposures as defined\n",
    "px = p(xs)\n",
    "\n",
    "# Actually assigning to case or not\n",
    "outcomes = np.array([np.random.binomial(n=1,p=p,size=1)[0] for p in px])\n",
    "\n",
    "# Constructing and sorting dataframe of outcomes and exposure\n",
    "df = np.stack([outcomes,xs],axis=1)\n",
    "# df = df[np.argsort(df[:, 1])]\n",
    "\n",
    "# Getting xs corresponding to each exposure interval and corresponding case information\n",
    "categories = [df[np.where(df[:,1] == i)[0]] for i in exposure_levels]\n",
    "N = np.array([df.shape[0] for df in categories])\n",
    "cases = np.array([np.sum(df[:,0]) for df in categories])\n",
    "non_cases = N - cases\n",
    "a_0, A = cases[0], cases[1:]\n",
    "b_0, B = non_cases[0], non_cases[1:]\n",
    "M = np.sum(cases)\n",
    "\n",
    "# Getting crude estimates to compare\n",
    "crude = lambda x,y: (x/y) / (a_0/b_0)\n",
    "crudeors = crude(A,B)\n",
    "\n",
    "# Constructing dummy variables with respect to exposure level\n",
    "x = exposure_levels[1:]\n",
    "\n",
    "to_adjust_df = pd.DataFrame({\n",
    "    'age':age_vector,\n",
    "    'income':income_vector,\n",
    "    'sex':sex_vector,\n",
    "    'exposure':xs.astype(int)\n",
    "})\n",
    "to_adjust_df['intercept']=1\n",
    "\n",
    "to_adjust_df = pd.concat([to_adjust_df,pd.get_dummies(to_adjust_df['exposure'],prefix='exposure').astype(int).iloc[:,1:]],axis=1).drop('exposure',axis=1)\n",
    "\n",
    "results = sm.Logit(endog=df[:,0], exog=to_adjust_df).fit()\n",
    "true_C = results.cov_params().to_numpy()[4:,4:]\n",
    "true_C_inv = np.linalg.inv(true_C)\n",
    "\n",
    "# Get log-ORs and corresponding variances\n",
    "L = results.params.to_numpy()[4:]\n",
    "v = (results.bse.to_numpy()[4:])**2"
   ]
  },
  {
   "cell_type": "code",
   "execution_count": 4,
   "metadata": {},
   "outputs": [],
   "source": [
    "# Running GL\n",
    "it_fit_ex = IF(L,A,N,M)\n",
    "Ap, Bp, a0p, b0p = it_fit_ex.convexProgram()\n",
    "\n",
    "gl_C = covariance_matrix(Ap,Bp,a0p,b0p,v)\n",
    "inv_gl_C = np.linalg.inv(gl_C)"
   ]
  },
  {
   "cell_type": "code",
   "execution_count": 5,
   "metadata": {},
   "outputs": [
    {
     "data": {
      "text/plain": [
       "<matplotlib.collections.PathCollection at 0x7fdb07e70460>"
      ]
     },
     "execution_count": 5,
     "metadata": {},
     "output_type": "execute_result"
    },
    {
     "data": {
      "image/png": "[encoded data removed]",
      "text/plain": [
       "<Figure size 432x288 with 1 Axes>"
      ]
     },
     "metadata": {
      "needs_background": "light"
     },
     "output_type": "display_data"
    }
   ],
   "source": [
    "plt.scatter(x,L)"
   ]
  },
  {
   "cell_type": "code",
   "execution_count": 68,
   "metadata": {},
   "outputs": [],
   "source": [
    "import jax\n",
    "def marginal_like(gamma2):\n",
    "    n_groups = 3\n",
    "    I =jnp.eye(n_groups)\n",
    "    oneoneT = jnp.ones((n_groups,n_groups))\n",
    "    D = jnp.diag(v)\n",
    "    Ca = D - gamma2*I + gamma2*oneoneT\n",
    "    sign,logabsdet = jnp.linalg.slogdet(Ca)\n",
    "    invC = jnp.linalg.inv(Ca)\n",
    "    beta = x.T@invC@L/(x.T@invC@x)\n",
    "    res = L-x*beta\n",
    "    res = 0*x\n",
    "    correction =  (1/2)*jnp.log(x.T@invC@x)\n",
    "\n",
    "    return jnp.array([0.5 * (res).T@invC@(res) + 0.5 * logabsdet + correction,sign])"
   ]
  },
  {
   "cell_type": "code",
   "execution_count": 70,
   "metadata": {},
   "outputs": [
    {
     "data": {
      "image/png": "[encoded data removed]",
      "text/plain": [
       "<Figure size 432x288 with 1 Axes>"
      ]
     },
     "metadata": {
      "needs_background": "light"
     },
     "output_type": "display_data"
    }
   ],
   "source": [
    "gamma2_vals = jnp.logspace(-6,-1,100)\n",
    "j_mar = jax.jit(jax.vmap(marginal_like))\n",
    "vals = j_mar(gamma2_vals)\n",
    "plt.plot(gamma2_vals[vals[:,1]>0],vals[:,0][vals[:,1]>0])\n",
    "plt.xscale('log')"
   ]
  },
  {
   "cell_type": "code",
   "execution_count": 71,
   "metadata": {},
   "outputs": [],
   "source": [
    "gamma2_opt = gamma2_vals[jnp.argmin(vals[:,0][vals[:,1]>0])]"
   ]
  },
  {
   "cell_type": "code",
   "execution_count": 72,
   "metadata": {},
   "outputs": [
    {
     "data": {
      "text/plain": [
       "Array(0.00095455, dtype=float64)"
      ]
     },
     "execution_count": 72,
     "metadata": {},
     "output_type": "execute_result"
    }
   ],
   "source": [
    "gamma2_opt"
   ]
  },
  {
   "cell_type": "code",
   "execution_count": 73,
   "metadata": {},
   "outputs": [],
   "source": [
    "n_groups = 3\n",
    "I =jnp.eye(n_groups)\n",
    "oneoneT = jnp.ones((n_groups,n_groups))\n",
    "D = jnp.diag(v)\n",
    "Cml = D - gamma2_opt*I + gamma2_opt*oneoneT"
   ]
  },
  {
   "cell_type": "code",
   "execution_count": 74,
   "metadata": {},
   "outputs": [],
   "source": [
    "#(D-true_C)/true_C"
   ]
  },
  {
   "cell_type": "code",
   "execution_count": 75,
   "metadata": {},
   "outputs": [
    {
     "data": {
      "text/plain": [
       "Array([[0.00087373, 0.00095455, 0.00095455],\n",
       "       [0.00095455, 0.00099766, 0.00095455],\n",
       "       [0.00095455, 0.00095455, 0.00123755]], dtype=float64)"
      ]
     },
     "execution_count": 75,
     "metadata": {},
     "output_type": "execute_result"
    }
   ],
   "source": [
    "Cml"
   ]
  },
  {
   "cell_type": "code",
   "execution_count": 76,
   "metadata": {},
   "outputs": [
    {
     "data": {
      "text/plain": [
       "Array([[0.    , 1.001 , 0.855 ],\n",
       "       [1.001 , 0.    , 0.5028],\n",
       "       [0.855 , 0.5028, 0.    ]], dtype=float64)"
      ]
     },
     "execution_count": 76,
     "metadata": {},
     "output_type": "execute_result"
    }
   ],
   "source": [
    "np.around((Cml - true_C)/true_C,4)"
   ]
  },
  {
   "cell_type": "code",
   "execution_count": 54,
   "metadata": {},
   "outputs": [
    {
     "data": {
      "text/plain": [
       "array([[ 0.    , -0.016 ,  0.0135],\n",
       "       [-0.016 ,  0.    , -0.1173],\n",
       "       [ 0.0135, -0.1173,  0.    ]])"
      ]
     },
     "execution_count": 54,
     "metadata": {},
     "output_type": "execute_result"
    }
   ],
   "source": [
    "np.around((gl_C - true_C)/true_C,4)"
   ]
  },
  {
   "cell_type": "code",
   "execution_count": 63,
   "metadata": {},
   "outputs": [
    {
     "data": {
      "text/plain": [
       "Array(-0.0066732, dtype=float64)"
      ]
     },
     "execution_count": 63,
     "metadata": {},
     "output_type": "execute_result"
    }
   ],
   "source": [
    "x.T@jnp.linalg.inv(gl_C)@L/(x.T@jnp.linalg.inv(gl_C)@x)"
   ]
  },
  {
   "cell_type": "code",
   "execution_count": 64,
   "metadata": {},
   "outputs": [
    {
     "data": {
      "text/plain": [
       "Array(-0.00453136, dtype=float64)"
      ]
     },
     "execution_count": 64,
     "metadata": {},
     "output_type": "execute_result"
    }
   ],
   "source": [
    "x.T@jnp.linalg.inv(D)@L/(x.T@jnp.linalg.inv(D)@x)"
   ]
  },
  {
   "cell_type": "code",
   "execution_count": 62,
   "metadata": {},
   "outputs": [
    {
     "data": {
      "text/plain": [
       "Array(-0.00748569, dtype=float64)"
      ]
     },
     "execution_count": 62,
     "metadata": {},
     "output_type": "execute_result"
    }
   ],
   "source": [
    "x.T@jnp.linalg.inv(Cml)@L/(x.T@jnp.linalg.inv(Cml)@x)"
   ]
  }
 ],
 "metadata": {
  "kernelspec": {
   "display_name": "base",
   "language": "python",
   "name": "python3"
  },
  "language_info": {
   "codemirror_mode": {
    "name": "ipython",
    "version": 3
   },
   "file_extension": ".py",
   "mimetype": "text/x-python",
   "name": "python",
   "nbconvert_exporter": "python",
   "pygments_lexer": "ipython3",
   "version": "3.9.12"
  }
 },
 "nbformat": 4,
 "nbformat_minor": 2
}
