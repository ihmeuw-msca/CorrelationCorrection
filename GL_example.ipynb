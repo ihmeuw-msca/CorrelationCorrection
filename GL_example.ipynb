{
 "cells": [
  {
   "cell_type": "code",
   "execution_count": 3,
   "metadata": {},
   "outputs": [],
   "source": [
    "import scipy\n",
    "import numpy as np\n",
    "import cvxpy as cp\n",
    "import matplotlib.pyplot as plt\n",
    "import seaborn as sns\n",
    "\n",
    "from src.IterativeFitting import IterativeFitting as IF\n",
    "from src.CorrFuncs import covariance_matrix, trend_est"
   ]
  },
  {
   "cell_type": "markdown",
   "metadata": {},
   "source": [
    "#### Example in GL Paper"
   ]
  },
  {
   "cell_type": "code",
   "execution_count": 2,
   "metadata": {},
   "outputs": [],
   "source": [
    "x = np.array([2,6,11])\n",
    "Nx = np.array([337,167,186,212])\n",
    "M1x = 451\n",
    "Lx = np.array([np.log(0.80),np.log(1.16),np.log(1.57)])\n",
    "vx = np.array([0.0542,0.0563,0.0563])\n",
    "A0 = M1x*Nx[1:]/(Nx.sum())"
   ]
  },
  {
   "cell_type": "code",
   "execution_count": 3,
   "metadata": {},
   "outputs": [],
   "source": [
    "it_fit_ex = IF(Lx,A0,Nx,M1x)"
   ]
  },
  {
   "cell_type": "code",
   "execution_count": 4,
   "metadata": {},
   "outputs": [],
   "source": [
    "A, B, a0, b0 = it_fit_ex.convexProgram()"
   ]
  },
  {
   "cell_type": "code",
   "execution_count": 5,
   "metadata": {},
   "outputs": [
    {
     "data": {
      "text/plain": [
       "array([ 70.33038633,  95.48567119, 124.67758726])"
      ]
     },
     "execution_count": 5,
     "metadata": {},
     "output_type": "execute_result"
    }
   ],
   "source": [
    "A"
   ]
  },
  {
   "cell_type": "code",
   "execution_count": 6,
   "metadata": {},
   "outputs": [
    {
     "data": {
      "text/plain": [
       "160.50635522335585"
      ]
     },
     "execution_count": 6,
     "metadata": {},
     "output_type": "execute_result"
    }
   ],
   "source": [
    "a0"
   ]
  },
  {
   "cell_type": "markdown",
   "metadata": {},
   "source": [
    "Create Covariance Matrix"
   ]
  },
  {
   "cell_type": "code",
   "execution_count": 7,
   "metadata": {},
   "outputs": [],
   "source": [
    "C1 = covariance_matrix(A,B,a0,b0,vx)"
   ]
  },
  {
   "cell_type": "code",
   "execution_count": 8,
   "metadata": {},
   "outputs": [
    {
     "data": {
      "text/plain": [
       "array([[0.0542    , 0.01882672, 0.01943165],\n",
       "       [0.01882672, 0.0563    , 0.02068641],\n",
       "       [0.01943165, 0.02068641, 0.0563    ]])"
      ]
     },
     "execution_count": 8,
     "metadata": {},
     "output_type": "execute_result"
    }
   ],
   "source": [
    "C1"
   ]
  },
  {
   "cell_type": "code",
   "execution_count": 36,
   "metadata": {},
   "outputs": [
    {
     "data": {
      "text/plain": [
       "array([[0.01882672, 0.0563    ],\n",
       "       [0.01943165, 0.02068641]])"
      ]
     },
     "execution_count": 36,
     "metadata": {},
     "output_type": "execute_result"
    }
   ],
   "source": [
    "sub_C1"
   ]
  },
  {
   "cell_type": "code",
   "execution_count": 40,
   "metadata": {},
   "outputs": [
    {
     "data": {
      "text/plain": [
       "array([[1., 1.],\n",
       "       [1., 1.]])"
      ]
     },
     "execution_count": 40,
     "metadata": {},
     "output_type": "execute_result"
    }
   ],
   "source": [
    "sub_mask"
   ]
  },
  {
   "cell_type": "code",
   "execution_count": 61,
   "metadata": {},
   "outputs": [
    {
     "data": {
      "image/png": "[encoded data removed]",
      "text/plain": [
       "<Figure size 576x432 with 2 Axes>"
      ]
     },
     "metadata": {},
     "output_type": "display_data"
    }
   ],
   "source": [
    "# Use seaborn's heatmap function which has an option to mask parts of the matrix\n",
    "# sub_C1 = C1[1:, :-1]\n",
    "# sub_mask = np.triu(np.ones_like(sub_C1, dtype=bool))\n",
    "# sub_mask = np.zeros_like(sub_C1)\n",
    "mask = np.triu(np.ones_like(C1, dtype=bool))  # Mask for the upper triangle\n",
    "plt.figure(figsize=(8, 6))\n",
    "sns.set(font_scale=1.6)\n",
    "sns.heatmap(C1, annot=True, mask=mask, cmap='Blues', cbar=True, square=True,  fmt=\".4f\",\n",
    "            xticklabels=[f'Lvl{i+1}' for i in range(3)], \n",
    "            yticklabels=[f'Lvl{i+1}' for i in range(3)], vmin=.01,vmax=0.03)\n",
    "# plt.title('Upper Triangle of Covariance Matrix--Convex GL')\n",
    "plt.savefig(\"images/Convex_GL_covar.png\")\n",
    "plt.show()"
   ]
  },
  {
   "cell_type": "code",
   "execution_count": 31,
   "metadata": {},
   "outputs": [
    {
     "data": {
      "text/plain": [
       "array([[ True,  True,  True],\n",
       "       [False,  True,  True],\n",
       "       [False, False,  True]])"
      ]
     },
     "execution_count": 31,
     "metadata": {},
     "output_type": "execute_result"
    }
   ],
   "source": [
    "mask"
   ]
  },
  {
   "cell_type": "code",
   "execution_count": 6,
   "metadata": {},
   "outputs": [],
   "source": [
    "A_GL = it_fit_ex.GL()"
   ]
  },
  {
   "cell_type": "code",
   "execution_count": 7,
   "metadata": {},
   "outputs": [
    {
     "data": {
      "text/plain": [
       "(array([ 70.20458464,  95.46963796, 124.85560373]),\n",
       " 160.47017367350816,\n",
       " array([96.79541536, 90.53036204, 87.14439627]),\n",
       " 176.52982632649184,\n",
       " 2)"
      ]
     },
     "execution_count": 7,
     "metadata": {},
     "output_type": "execute_result"
    }
   ],
   "source": [
    "A_GL"
   ]
  },
  {
   "cell_type": "code",
   "execution_count": 8,
   "metadata": {},
   "outputs": [
    {
     "data": {
      "text/plain": [
       "451.0"
      ]
     },
     "execution_count": 8,
     "metadata": {},
     "output_type": "execute_result"
    }
   ],
   "source": [
    "np.sum(A_GL[0]) + A_GL[1]"
   ]
  },
  {
   "cell_type": "code",
   "execution_count": 25,
   "metadata": {},
   "outputs": [],
   "source": [
    "A_GLN = it_fit_ex.GL_linesearch()"
   ]
  },
  {
   "cell_type": "code",
   "execution_count": 26,
   "metadata": {},
   "outputs": [
    {
     "data": {
      "text/plain": [
       "(array([ 70.33753879,  95.44494158, 124.66704769]),\n",
       " 160.55047193677308,\n",
       " array([96.66246121, 90.55505842, 87.33295231]),\n",
       " 176.44952806322692,\n",
       " 2)"
      ]
     },
     "execution_count": 26,
     "metadata": {},
     "output_type": "execute_result"
    }
   ],
   "source": [
    "A_GLN"
   ]
  },
  {
   "cell_type": "code",
   "execution_count": 27,
   "metadata": {},
   "outputs": [
    {
     "data": {
      "text/plain": [
       "(0.045430215893878516, 0.0004268215544488761)"
      ]
     },
     "execution_count": 27,
     "metadata": {},
     "output_type": "execute_result"
    }
   ],
   "source": [
    "trend_est(A,B,a0,b0,vx,x,Lx,unadj=False)"
   ]
  },
  {
   "cell_type": "markdown",
   "metadata": {},
   "source": [
    "#### Example from alochol data in $\\verb+dosresmeta+$"
   ]
  },
  {
   "cell_type": "code",
   "execution_count": 80,
   "metadata": {},
   "outputs": [],
   "source": [
    "x = np.array([9.06,27.,45.,64.8])\n",
    "Nx = np.array([414,261,228,44,34])\n",
    "A0 = np.array([61,69,22,19])\n",
    "M1x = np.sum(A0) + 126\n",
    "Lx = np.array([-0.2231435,-0.0001,0.5306283,0.8754687])\n",
    "vx = np.array([0.2233380,0.2337519,0.3765137,0.4440046])\n",
    "vx *= vx"
   ]
  },
  {
   "cell_type": "code",
   "execution_count": 81,
   "metadata": {},
   "outputs": [],
   "source": [
    "alcohol_data = IF(Lx,A0,Nx,M1x)"
   ]
  },
  {
   "cell_type": "code",
   "execution_count": 82,
   "metadata": {},
   "outputs": [],
   "source": [
    "result_alc = alcohol_data.convexProgram()"
   ]
  },
  {
   "cell_type": "code",
   "execution_count": 83,
   "metadata": {},
   "outputs": [
    {
     "data": {
      "text/plain": [
       "(array([67.12135054, 68.86105977, 18.64972113, 17.32195872]),\n",
       " array([193.87864946, 159.13894023,  25.35027887,  16.67804128]),\n",
       " 125.04590983884529,\n",
       " 288.9540901611547)"
      ]
     },
     "execution_count": 83,
     "metadata": {},
     "output_type": "execute_result"
    }
   ],
   "source": [
    "result_alc"
   ]
  },
  {
   "cell_type": "code",
   "execution_count": null,
   "metadata": {},
   "outputs": [],
   "source": []
  },
  {
   "cell_type": "markdown",
   "metadata": {},
   "source": [
    "#### RR example where everything works"
   ]
  },
  {
   "cell_type": "code",
   "execution_count": 46,
   "metadata": {},
   "outputs": [],
   "source": [
    "x = np.array([1.8286, 9.1992, 22.8571, 35.6667, 58.4257])\n",
    "A = np.array([38., 43., 32., 16., 27.])\n",
    "a0 = 28\n",
    "M1 = np.sum(A) + a0\n",
    "B = np.array([22185.73, 43030.54, 53088.96, 45348.09, 19790.79, 19919.85])\n",
    "L = np.array([-0.41673, -0.39555, -0.48842, -0.27903, 0.20232])\n",
    "v = np.array([0.2510976, 0.2456013, 0.2633819, 0.3208115, 0.2861643])\n",
    "v *= v"
   ]
  },
  {
   "cell_type": "code",
   "execution_count": 47,
   "metadata": {},
   "outputs": [],
   "source": [
    "RR_ex = IF(L,A,B,M1)"
   ]
  },
  {
   "cell_type": "code",
   "execution_count": 48,
   "metadata": {},
   "outputs": [],
   "source": [
    "A_GLRR, a0_GLRR, B_GLRR, b0_GLRR, iter_GLRR = RR_ex.GL(OR=False)"
   ]
  },
  {
   "cell_type": "code",
   "execution_count": 49,
   "metadata": {},
   "outputs": [
    {
     "data": {
      "text/plain": [
       "array([33.88106778, 42.96697564, 33.41520852, 17.88177706, 29.21975009])"
      ]
     },
     "execution_count": 49,
     "metadata": {},
     "output_type": "execute_result"
    }
   ],
   "source": [
    "A_GLRR"
   ]
  },
  {
   "cell_type": "code",
   "execution_count": 50,
   "metadata": {},
   "outputs": [],
   "source": [
    "b_GLRR, se_GLRR = trend_est(A_GLRR,B_GLRR,a0_GLRR,b0_GLRR,v,x,L,unadj=False)"
   ]
  },
  {
   "cell_type": "code",
   "execution_count": 51,
   "metadata": {},
   "outputs": [
    {
     "name": "stdout",
     "output_type": "stream",
     "text": [
      "0.007131624060147025 1.5176081960353128e-05\n"
     ]
    }
   ],
   "source": [
    "print(b_GLRR, se_GLRR)"
   ]
  },
  {
   "cell_type": "code",
   "execution_count": 52,
   "metadata": {},
   "outputs": [],
   "source": [
    "A_cvxRR, B_cvxRR, a0_cvxRR, b0_cvxRR = RR_ex.convexProgram(OR=False)"
   ]
  },
  {
   "cell_type": "code",
   "execution_count": 53,
   "metadata": {},
   "outputs": [
    {
     "data": {
      "text/plain": [
       "26.59728749176199"
      ]
     },
     "execution_count": 53,
     "metadata": {},
     "output_type": "execute_result"
    }
   ],
   "source": [
    "a0_cvxRR"
   ]
  },
  {
   "cell_type": "code",
   "execution_count": 54,
   "metadata": {},
   "outputs": [
    {
     "data": {
      "text/plain": [
       "array([34.00610242, 42.85317043, 33.35834454, 17.94921829, 29.23587682])"
      ]
     },
     "execution_count": 54,
     "metadata": {},
     "output_type": "execute_result"
    }
   ],
   "source": [
    "A_cvxRR"
   ]
  },
  {
   "cell_type": "code",
   "execution_count": 55,
   "metadata": {},
   "outputs": [],
   "source": [
    "b_cvxRR, se_cvxRR = trend_est(A_cvxRR,B_cvxRR,a0_cvxRR,b0_cvxRR,v,x,L,unadj=False)"
   ]
  },
  {
   "cell_type": "code",
   "execution_count": 56,
   "metadata": {},
   "outputs": [
    {
     "data": {
      "text/plain": [
       "0.007137599341147913"
      ]
     },
     "execution_count": 56,
     "metadata": {},
     "output_type": "execute_result"
    }
   ],
   "source": [
    "b_cvxRR"
   ]
  },
  {
   "cell_type": "code",
   "execution_count": 57,
   "metadata": {},
   "outputs": [
    {
     "data": {
      "text/plain": [
       "(0.007137599341147913,\n",
       " 1.5165650431946001e-05,\n",
       " -0.002945971690368591,\n",
       " 1.5864902051567542e-05)"
      ]
     },
     "execution_count": 57,
     "metadata": {},
     "output_type": "execute_result"
    }
   ],
   "source": [
    "trend_est(A_cvxRR,B_cvxRR,a0_cvxRR,b0_cvxRR,v,x,L,unadj=True)"
   ]
  },
  {
   "cell_type": "code",
   "execution_count": 58,
   "metadata": {},
   "outputs": [],
   "source": [
    "C2 = covariance_matrix(A_cvxRR,B_cvxRR,a0_cvxRR,b0_cvxRR,v)"
   ]
  },
  {
   "cell_type": "code",
   "execution_count": 63,
   "metadata": {},
   "outputs": [
    {
     "data": {
      "image/png": "[encoded data removed]",
      "text/plain": [
       "<Figure size 576x432 with 2 Axes>"
      ]
     },
     "metadata": {},
     "output_type": "display_data"
    }
   ],
   "source": [
    "mask = np.triu(np.ones_like(C2, dtype=bool))  # Mask for the upper triangle\n",
    "plt.figure(figsize=(8, 6))\n",
    "sns.set(font_scale=1.6)\n",
    "sns.heatmap(C2, annot=True, mask=mask, cmap='Blues', cbar=True, square=True,  fmt=\".4f\",\n",
    "            xticklabels=[f'Lvl{i+1}' for i in range(5)], \n",
    "            yticklabels=[f'Lvl{i+1}' for i in range(5)], vmin=.03,vmax=0.045)\n",
    "# plt.title('Upper Triangle of Covariance Matrix--Convex GL')\n",
    "plt.savefig(\"images/Convex_GL_covarRR.png\")\n",
    "plt.show()"
   ]
  },
  {
   "cell_type": "markdown",
   "metadata": {},
   "source": [
    "Our convex formulation matches EXACTLY with what is in $\\verb+dosresmeta+$."
   ]
  },
  {
   "cell_type": "markdown",
   "metadata": {},
   "source": [
    "#### OR Example that doesn't work on $\\verb+dosresmeta+$ but works for our method"
   ]
  },
  {
   "cell_type": "code",
   "execution_count": 3,
   "metadata": {},
   "outputs": [],
   "source": [
    "x = np.array([2,6,11])\n",
    "Nx = np.array([337,167,186,212])\n",
    "M1x = 451\n",
    "Lx = np.array([np.log(0.80),np.log(1.16),np.log(1.57)])\n",
    "vx = np.array([0.0542,0.0563,0.0563])\n",
    "A0 = Nx[1:] - 1."
   ]
  },
  {
   "cell_type": "code",
   "execution_count": 4,
   "metadata": {},
   "outputs": [
    {
     "name": "stderr",
     "output_type": "stream",
     "text": [
      "/Users/Johnson/Documents/Sasha_Research/CvxFitting/src/IterativeFitting.py:172: RuntimeWarning: invalid value encountered in log\n",
      "  e = L + np.log(a0) + np.log(B) - np.log(A) - np.log(b0)\n"
     ]
    },
    {
     "ename": "ValueError",
     "evalue": "array must not contain infs or NaNs",
     "output_type": "error",
     "traceback": [
      "\u001b[0;31m---------------------------------------------------------------------------\u001b[0m",
      "\u001b[0;31mValueError\u001b[0m                                Traceback (most recent call last)",
      "\u001b[0;32m<ipython-input-4-8f943be46992>\u001b[0m in \u001b[0;36m<module>\u001b[0;34m\u001b[0m\n\u001b[1;32m      1\u001b[0m \u001b[0malcohol_data_2\u001b[0m \u001b[0;34m=\u001b[0m \u001b[0mIF\u001b[0m\u001b[0;34m(\u001b[0m\u001b[0mLx\u001b[0m\u001b[0;34m,\u001b[0m\u001b[0mA0\u001b[0m\u001b[0;34m,\u001b[0m\u001b[0mNx\u001b[0m\u001b[0;34m,\u001b[0m\u001b[0mM1x\u001b[0m\u001b[0;34m)\u001b[0m\u001b[0;34m\u001b[0m\u001b[0;34m\u001b[0m\u001b[0m\n\u001b[0;32m----> 2\u001b[0;31m \u001b[0malcohol_data_2\u001b[0m\u001b[0;34m.\u001b[0m\u001b[0mGL\u001b[0m\u001b[0;34m(\u001b[0m\u001b[0;34m)\u001b[0m\u001b[0;34m\u001b[0m\u001b[0;34m\u001b[0m\u001b[0m\n\u001b[0m",
      "\u001b[0;32m~/Documents/Sasha_Research/CvxFitting/src/IterativeFitting.py\u001b[0m in \u001b[0;36mGL\u001b[0;34m(self, OR)\u001b[0m\n\u001b[1;32m    173\u001b[0m             \u001b[0mH\u001b[0m \u001b[0;34m=\u001b[0m \u001b[0mnp\u001b[0m\u001b[0;34m.\u001b[0m\u001b[0mones\u001b[0m\u001b[0;34m(\u001b[0m\u001b[0;34m(\u001b[0m\u001b[0mself\u001b[0m\u001b[0;34m.\u001b[0m\u001b[0mn\u001b[0m\u001b[0;34m,\u001b[0m\u001b[0mself\u001b[0m\u001b[0;34m.\u001b[0m\u001b[0mn\u001b[0m\u001b[0;34m)\u001b[0m\u001b[0;34m)\u001b[0m\u001b[0;34m*\u001b[0m\u001b[0mc0\u001b[0m\u001b[0;34m\u001b[0m\u001b[0;34m\u001b[0m\u001b[0m\n\u001b[1;32m    174\u001b[0m             \u001b[0mH\u001b[0m \u001b[0;34m+=\u001b[0m \u001b[0mnp\u001b[0m\u001b[0;34m.\u001b[0m\u001b[0mdiag\u001b[0m\u001b[0;34m(\u001b[0m\u001b[0mc\u001b[0m\u001b[0;34m)\u001b[0m\u001b[0;34m\u001b[0m\u001b[0;34m\u001b[0m\u001b[0m\n\u001b[0;32m--> 175\u001b[0;31m             \u001b[0mA\u001b[0m \u001b[0;34m+=\u001b[0m \u001b[0mscipy\u001b[0m\u001b[0;34m.\u001b[0m\u001b[0mlinalg\u001b[0m\u001b[0;34m.\u001b[0m\u001b[0msolve\u001b[0m\u001b[0;34m(\u001b[0m\u001b[0mH\u001b[0m\u001b[0;34m,\u001b[0m\u001b[0me\u001b[0m\u001b[0;34m,\u001b[0m\u001b[0massume_a\u001b[0m\u001b[0;34m=\u001b[0m\u001b[0;34m\"pos\"\u001b[0m\u001b[0;34m)\u001b[0m\u001b[0;34m\u001b[0m\u001b[0;34m\u001b[0m\u001b[0m\n\u001b[0m\u001b[1;32m    176\u001b[0m             \u001b[0mi\u001b[0m \u001b[0;34m+=\u001b[0m \u001b[0;36m1\u001b[0m\u001b[0;34m\u001b[0m\u001b[0;34m\u001b[0m\u001b[0m\n\u001b[1;32m    177\u001b[0m             \u001b[0mdiff\u001b[0m \u001b[0;34m=\u001b[0m \u001b[0mnp\u001b[0m\u001b[0;34m.\u001b[0m\u001b[0mlinalg\u001b[0m\u001b[0;34m.\u001b[0m\u001b[0mnorm\u001b[0m\u001b[0;34m(\u001b[0m\u001b[0mA1\u001b[0m \u001b[0;34m-\u001b[0m \u001b[0mA\u001b[0m\u001b[0;34m)\u001b[0m\u001b[0;34m\u001b[0m\u001b[0;34m\u001b[0m\u001b[0m\n",
      "\u001b[0;32m~/Library/Python/3.8/lib/python/site-packages/scipy/linalg/_basic.py\u001b[0m in \u001b[0;36msolve\u001b[0;34m(a, b, sym_pos, lower, overwrite_a, overwrite_b, check_finite, assume_a, transposed)\u001b[0m\n\u001b[1;32m    139\u001b[0m \u001b[0;34m\u001b[0m\u001b[0m\n\u001b[1;32m    140\u001b[0m     \u001b[0ma1\u001b[0m \u001b[0;34m=\u001b[0m \u001b[0matleast_2d\u001b[0m\u001b[0;34m(\u001b[0m\u001b[0m_asarray_validated\u001b[0m\u001b[0;34m(\u001b[0m\u001b[0ma\u001b[0m\u001b[0;34m,\u001b[0m \u001b[0mcheck_finite\u001b[0m\u001b[0;34m=\u001b[0m\u001b[0mcheck_finite\u001b[0m\u001b[0;34m)\u001b[0m\u001b[0;34m)\u001b[0m\u001b[0;34m\u001b[0m\u001b[0;34m\u001b[0m\u001b[0m\n\u001b[0;32m--> 141\u001b[0;31m     \u001b[0mb1\u001b[0m \u001b[0;34m=\u001b[0m \u001b[0matleast_1d\u001b[0m\u001b[0;34m(\u001b[0m\u001b[0m_asarray_validated\u001b[0m\u001b[0;34m(\u001b[0m\u001b[0mb\u001b[0m\u001b[0;34m,\u001b[0m \u001b[0mcheck_finite\u001b[0m\u001b[0;34m=\u001b[0m\u001b[0mcheck_finite\u001b[0m\u001b[0;34m)\u001b[0m\u001b[0;34m)\u001b[0m\u001b[0;34m\u001b[0m\u001b[0;34m\u001b[0m\u001b[0m\n\u001b[0m\u001b[1;32m    142\u001b[0m     \u001b[0mn\u001b[0m \u001b[0;34m=\u001b[0m \u001b[0ma1\u001b[0m\u001b[0;34m.\u001b[0m\u001b[0mshape\u001b[0m\u001b[0;34m[\u001b[0m\u001b[0;36m0\u001b[0m\u001b[0;34m]\u001b[0m\u001b[0;34m\u001b[0m\u001b[0;34m\u001b[0m\u001b[0m\n\u001b[1;32m    143\u001b[0m \u001b[0;34m\u001b[0m\u001b[0m\n",
      "\u001b[0;32m~/Library/Python/3.8/lib/python/site-packages/scipy/_lib/_util.py\u001b[0m in \u001b[0;36m_asarray_validated\u001b[0;34m(a, check_finite, sparse_ok, objects_ok, mask_ok, as_inexact)\u001b[0m\n\u001b[1;32m    285\u001b[0m             \u001b[0;32mraise\u001b[0m \u001b[0mValueError\u001b[0m\u001b[0;34m(\u001b[0m\u001b[0;34m'masked arrays are not supported'\u001b[0m\u001b[0;34m)\u001b[0m\u001b[0;34m\u001b[0m\u001b[0;34m\u001b[0m\u001b[0m\n\u001b[1;32m    286\u001b[0m     \u001b[0mtoarray\u001b[0m \u001b[0;34m=\u001b[0m \u001b[0mnp\u001b[0m\u001b[0;34m.\u001b[0m\u001b[0masarray_chkfinite\u001b[0m \u001b[0;32mif\u001b[0m \u001b[0mcheck_finite\u001b[0m \u001b[0;32melse\u001b[0m \u001b[0mnp\u001b[0m\u001b[0;34m.\u001b[0m\u001b[0masarray\u001b[0m\u001b[0;34m\u001b[0m\u001b[0;34m\u001b[0m\u001b[0m\n\u001b[0;32m--> 287\u001b[0;31m     \u001b[0ma\u001b[0m \u001b[0;34m=\u001b[0m \u001b[0mtoarray\u001b[0m\u001b[0;34m(\u001b[0m\u001b[0ma\u001b[0m\u001b[0;34m)\u001b[0m\u001b[0;34m\u001b[0m\u001b[0;34m\u001b[0m\u001b[0m\n\u001b[0m\u001b[1;32m    288\u001b[0m     \u001b[0;32mif\u001b[0m \u001b[0;32mnot\u001b[0m \u001b[0mobjects_ok\u001b[0m\u001b[0;34m:\u001b[0m\u001b[0;34m\u001b[0m\u001b[0;34m\u001b[0m\u001b[0m\n\u001b[1;32m    289\u001b[0m         \u001b[0;32mif\u001b[0m \u001b[0ma\u001b[0m\u001b[0;34m.\u001b[0m\u001b[0mdtype\u001b[0m \u001b[0;32mis\u001b[0m \u001b[0mnp\u001b[0m\u001b[0;34m.\u001b[0m\u001b[0mdtype\u001b[0m\u001b[0;34m(\u001b[0m\u001b[0;34m'O'\u001b[0m\u001b[0;34m)\u001b[0m\u001b[0;34m:\u001b[0m\u001b[0;34m\u001b[0m\u001b[0;34m\u001b[0m\u001b[0m\n",
      "\u001b[0;32m~/Library/Python/3.8/lib/python/site-packages/numpy/lib/function_base.py\u001b[0m in \u001b[0;36masarray_chkfinite\u001b[0;34m(a, dtype, order)\u001b[0m\n\u001b[1;32m    601\u001b[0m     \u001b[0ma\u001b[0m \u001b[0;34m=\u001b[0m \u001b[0masarray\u001b[0m\u001b[0;34m(\u001b[0m\u001b[0ma\u001b[0m\u001b[0;34m,\u001b[0m \u001b[0mdtype\u001b[0m\u001b[0;34m=\u001b[0m\u001b[0mdtype\u001b[0m\u001b[0;34m,\u001b[0m \u001b[0morder\u001b[0m\u001b[0;34m=\u001b[0m\u001b[0morder\u001b[0m\u001b[0;34m)\u001b[0m\u001b[0;34m\u001b[0m\u001b[0;34m\u001b[0m\u001b[0m\n\u001b[1;32m    602\u001b[0m     \u001b[0;32mif\u001b[0m \u001b[0ma\u001b[0m\u001b[0;34m.\u001b[0m\u001b[0mdtype\u001b[0m\u001b[0;34m.\u001b[0m\u001b[0mchar\u001b[0m \u001b[0;32min\u001b[0m \u001b[0mtypecodes\u001b[0m\u001b[0;34m[\u001b[0m\u001b[0;34m'AllFloat'\u001b[0m\u001b[0;34m]\u001b[0m \u001b[0;32mand\u001b[0m \u001b[0;32mnot\u001b[0m \u001b[0mnp\u001b[0m\u001b[0;34m.\u001b[0m\u001b[0misfinite\u001b[0m\u001b[0;34m(\u001b[0m\u001b[0ma\u001b[0m\u001b[0;34m)\u001b[0m\u001b[0;34m.\u001b[0m\u001b[0mall\u001b[0m\u001b[0;34m(\u001b[0m\u001b[0;34m)\u001b[0m\u001b[0;34m:\u001b[0m\u001b[0;34m\u001b[0m\u001b[0;34m\u001b[0m\u001b[0m\n\u001b[0;32m--> 603\u001b[0;31m         raise ValueError(\n\u001b[0m\u001b[1;32m    604\u001b[0m             \"array must not contain infs or NaNs\")\n\u001b[1;32m    605\u001b[0m     \u001b[0;32mreturn\u001b[0m \u001b[0ma\u001b[0m\u001b[0;34m\u001b[0m\u001b[0;34m\u001b[0m\u001b[0m\n",
      "\u001b[0;31mValueError\u001b[0m: array must not contain infs or NaNs"
     ]
    }
   ],
   "source": [
    "alcohol_data_2 = IF(Lx,A0,Nx,M1x)\n",
    "alcohol_data_2.GL()"
   ]
  },
  {
   "cell_type": "code",
   "execution_count": 6,
   "metadata": {},
   "outputs": [
    {
     "data": {
      "text/plain": [
       "(array([101.12206468, 128.33876093]),\n",
       " array([65.87793532, 57.66123907]),\n",
       " 221.5391743924633,\n",
       " 115.46082560753669)"
      ]
     },
     "execution_count": 6,
     "metadata": {},
     "output_type": "execute_result"
    }
   ],
   "source": [
    "alcohol_data_2.convexProgram()"
   ]
  },
  {
   "cell_type": "markdown",
   "metadata": {},
   "source": [
    "As we can see here, our method is working when their method doesn't work. Notice we don't have to give any initial guess. As such, we do not need to know any crude observed totals for the cases initially."
   ]
  },
  {
   "cell_type": "markdown",
   "metadata": {},
   "source": [
    "#### Grid values where it works vs when it doesn't work"
   ]
  },
  {
   "cell_type": "code",
   "execution_count": 17,
   "metadata": {},
   "outputs": [],
   "source": [
    "x = np.array([2,6])\n",
    "Nx = np.array([337,167,186,212])\n",
    "M1x = 451\n",
    "Lx = np.array([np.log(0.80),np.log(1.16),np.log(1.57)])\n",
    "A0 = np.array([74,90,122])"
   ]
  },
  {
   "cell_type": "code",
   "execution_count": 46,
   "metadata": {},
   "outputs": [
    {
     "name": "stderr",
     "output_type": "stream",
     "text": [
      "/Users/Johnson/Documents/Sasha_Research/CvxFitting/src/IterativeFitting.py:163: RuntimeWarning: divide by zero encountered in double_scalars\n",
      "  c0 = 1/a0 + 1/b0\n",
      "/Users/Johnson/Documents/Sasha_Research/CvxFitting/src/IterativeFitting.py:172: RuntimeWarning: divide by zero encountered in log\n",
      "  e = L + np.log(a0) + np.log(B) - np.log(A) - np.log(b0)\n",
      "/Users/Johnson/Documents/Sasha_Research/CvxFitting/src/IterativeFitting.py:172: RuntimeWarning: invalid value encountered in log\n",
      "  e = L + np.log(a0) + np.log(B) - np.log(A) - np.log(b0)\n"
     ]
    }
   ],
   "source": [
    "x,y = np.meshgrid(np.arange(1,Nx[1],1),np.arange(1,Nx[2],1))\n",
    "A0_vals = np.vstack([x.flatten(),y.flatten()]).T*1.\n",
    "z = np.array([122 for _ in range(A0_vals.shape[0])])\n",
    "z = np.array([z]).T\n",
    "A0_vals = np.hstack((A0_vals,z))\n",
    "failed_A0=[]\n",
    "succeeded_A0 = []\n",
    "for i in range(len(A0_vals)):\n",
    "    alcohol_data_2 = IF(Lx,A0_vals[i],Nx,M1x)\n",
    "    try:\n",
    "        alcohol_data_2.GL()\n",
    "        succeeded_A0+=[A0_vals[i]]\n",
    "    except:\n",
    "        failed_A0+=[A0_vals[i]]"
   ]
  },
  {
   "cell_type": "code",
   "execution_count": 50,
   "metadata": {},
   "outputs": [
    {
     "data": {
      "text/plain": [
       "<matplotlib.legend.Legend at 0x7fee811a5b80>"
      ]
     },
     "execution_count": 50,
     "metadata": {},
     "output_type": "execute_result"
    },
    {
     "data": {
      "image/png": "[encoded data removed]",
      "text/plain": [
       "<Figure size 432x288 with 1 Axes>"
      ]
     },
     "metadata": {
      "needs_background": "light"
     },
     "output_type": "display_data"
    }
   ],
   "source": [
    "failed_A0 = np.array(failed_A0)\n",
    "succeeded_A0=np.array(succeeded_A0)\n",
    "plt.scatter(failed_A0[:,0],failed_A0[:,1],label=\"Failed\")\n",
    "plt.scatter(succeeded_A0[:,0],succeeded_A0[:,1],c='red',label=\"Succeeded\")\n",
    "plt.scatter(A0[0],A0[1],c='black',label=\"Initial\")\n",
    "plt.scatter(alcohol_data_2.convexProgram()[0][0],alcohol_data_2.convexProgram()[0][1],c='olive',label=\"Ours\")\n",
    "plt.xlabel(\"x-dimension of A\")\n",
    "plt.ylabel(\"y-dimension of A\")\n",
    "plt.legend(loc=\"upper left\")"
   ]
  },
  {
   "cell_type": "markdown",
   "metadata": {},
   "source": [
    "#### Grid Search on N vector"
   ]
  },
  {
   "cell_type": "code",
   "execution_count": 341,
   "metadata": {},
   "outputs": [],
   "source": [
    "x = np.array([9.06,27.,45.,64.8])\n",
    "# Nx = np.array([414,261,228,44,34])\n",
    "A = np.array([126,61,69,22,19])\n",
    "Nx = A + 2.\n",
    "# A = Nx - 5.\n",
    "# A0 = A[1:]\n",
    "# A0 = np.array([61,69,22,19]) + 0.\n",
    "M1x = np.sum(A)\n",
    "A0 = M1x*Nx[1:]/(Nx.sum())\n",
    "# A0 = A[1:] + 0.\n",
    "# Lx = np.array([-0.2231435,-0.0001,0.5306283,0.8754687])\n",
    "Lx = np.array([-200,-250,-300,-700])\n",
    "vx = np.array([0.2233380,0.2337519,0.3765137,0.4440046])"
   ]
  },
  {
   "cell_type": "code",
   "execution_count": 342,
   "metadata": {},
   "outputs": [
    {
     "data": {
      "text/plain": [
       "array([60.94788274, 68.68729642, 23.21824104, 20.31596091])"
      ]
     },
     "execution_count": 342,
     "metadata": {},
     "output_type": "execute_result"
    }
   ],
   "source": [
    "A0"
   ]
  },
  {
   "cell_type": "code",
   "execution_count": 343,
   "metadata": {},
   "outputs": [
    {
     "data": {
      "text/plain": [
       "(array([   1.77769239, -109.86512984,  -74.9522335 , -330.28627809]),\n",
       " 810.3259490428073,\n",
       " array([ 61.22230761, 180.86512984,  98.9522335 , 351.28627809]),\n",
       " -682.3259490428073,\n",
       " 2)"
      ]
     },
     "execution_count": 343,
     "metadata": {},
     "output_type": "execute_result"
    }
   ],
   "source": [
    "IF(Lx,A0,Nx,M1x).GL()"
   ]
  },
  {
   "cell_type": "code",
   "execution_count": 344,
   "metadata": {},
   "outputs": [
    {
     "data": {
      "text/plain": [
       "(array([62.9999995 , 70.99999944, 23.99999981, 10.99999988]),\n",
       " array([5.00201146e-07, 5.64836782e-07, 1.86621818e-07, 1.00000001e+01]),\n",
       " 128.00000136865125,\n",
       " -1.368651254551878e-06)"
      ]
     },
     "execution_count": 344,
     "metadata": {},
     "output_type": "execute_result"
    }
   ],
   "source": [
    "IF(Lx,A0,Nx,M1x).convexProgram()"
   ]
  },
  {
   "cell_type": "code",
   "execution_count": null,
   "metadata": {},
   "outputs": [],
   "source": []
  },
  {
   "cell_type": "markdown",
   "metadata": {},
   "source": [
    "#### Covariance matrix for broken case"
   ]
  },
  {
   "cell_type": "code",
   "execution_count": 8,
   "metadata": {},
   "outputs": [],
   "source": [
    "x = np.array([9.06,27.,45.,64.8])\n",
    "Nx = np.array([414,261,228,44,34])\n",
    "# Nx[0] = 127\n",
    "A0 = np.array([61,69,22,19])\n",
    "# Nx[1:] = A0 + 1\n",
    "M1x = np.sum(A0) + 126\n",
    "Lx = np.array([-0.2231435,-0.0001,0.5306283,0.8754687])\n",
    "vx = np.array([0.2233380,0.2337519,0.3765137,0.4440046])\n",
    "vx *= vx\n",
    "# vx = np.array([0.001,0.01,0.2,0.9])"
   ]
  },
  {
   "cell_type": "code",
   "execution_count": 9,
   "metadata": {},
   "outputs": [],
   "source": [
    "alcohol_data = IF(Lx,A0,Nx,M1x)\n",
    "A_alc, B_alc, a0_alc, b0_alc = alcohol_data.convexProgram()"
   ]
  },
  {
   "cell_type": "code",
   "execution_count": 10,
   "metadata": {},
   "outputs": [
    {
     "data": {
      "image/png": "[encoded data removed]",
      "text/plain": [
       "<Figure size 576x432 with 2 Axes>"
      ]
     },
     "metadata": {},
     "output_type": "display_data"
    }
   ],
   "source": [
    "C4 = covariance_matrix(A_alc,B_alc,a0_alc,b0_alc,vx)\n",
    "mask = np.triu(np.ones_like(C4, dtype=bool))  # Mask for the upper triangle\n",
    "\n",
    "plt.figure(figsize=(8, 6))\n",
    "sns.set(font_scale=1.6)\n",
    "sns.heatmap(C4, annot=True, fmt=\".4f\", mask=mask, cmap='Blues', cbar=True, square=True, \n",
    "            xticklabels=[f'Lvl{i+1}' for i in range(4)], \n",
    "            yticklabels=[f'Lvl{i+1}' for i in range(4)], vmin=.01,vmax=0.02)\n",
    "# plt.title('Upper Triangle of Covariance Matrix--Solved Hamling')\n",
    "plt.savefig(\"images/GL_break_work.png\")\n",
    "plt.show()"
   ]
  },
  {
   "cell_type": "code",
   "execution_count": null,
   "metadata": {},
   "outputs": [],
   "source": []
  }
 ],
 "metadata": {
  "kernelspec": {
   "display_name": "Python 3.8.2 64-bit",
   "language": "python",
   "name": "python3"
  },
  "language_info": {
   "codemirror_mode": {
    "name": "ipython",
    "version": 3
   },
   "file_extension": ".py",
   "mimetype": "text/x-python",
   "name": "python",
   "nbconvert_exporter": "python",
   "pygments_lexer": "ipython3",
   "version": "3.12.3"
  },
  "orig_nbformat": 4,
  "vscode": {
   "interpreter": {
    "hash": "aee8b7b246df8f9039afb4144a1f6fd8d2ca17a180786b69acc140d282b71a49"
   }
  }
 },
 "nbformat": 4,
 "nbformat_minor": 2
}
