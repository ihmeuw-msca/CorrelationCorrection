{
 "cells": [
  {
   "cell_type": "code",
   "execution_count": 19,
   "metadata": {},
   "outputs": [],
   "source": [
    "import scipy\n",
    "import numpy as np\n",
    "import cvxpy as cp\n",
    "import matplotlib.pyplot as plt\n",
    "\n",
    "from src.IterativeFitting import IterativeFitting as IF\n",
    "from src.CorrFuncs import covariance_matrix, trend_est"
   ]
  },
  {
   "cell_type": "markdown",
   "metadata": {},
   "source": [
    "Example in GL Paper"
   ]
  },
  {
   "cell_type": "code",
   "execution_count": 20,
   "metadata": {},
   "outputs": [],
   "source": [
    "x = np.array([2,6,11])\n",
    "Nx = np.array([337,167,186,212])\n",
    "M1x = 451\n",
    "Lx = np.array([np.log(0.80),np.log(1.16),np.log(1.57)])\n",
    "vx = np.array([0.0542,0.0563,0.0563])\n",
    "A0 = M1x*Nx[1:]/(Nx.sum())"
   ]
  },
  {
   "cell_type": "code",
   "execution_count": 21,
   "metadata": {},
   "outputs": [],
   "source": [
    "it_fit_ex = IF(Lx,A0,Nx,M1x)"
   ]
  },
  {
   "cell_type": "code",
   "execution_count": 31,
   "metadata": {},
   "outputs": [],
   "source": [
    "A, B, a0, b0 = it_fit_ex.convexProgram()"
   ]
  },
  {
   "cell_type": "code",
   "execution_count": 23,
   "metadata": {},
   "outputs": [
    {
     "name": "stdout",
     "output_type": "stream",
     "text": [
      "This is our value for A: [ 70.33038633  95.48567119 124.67758726]\n"
     ]
    }
   ],
   "source": [
    "print(\"This is our value for A: \" + str(A[0]))"
   ]
  },
  {
   "cell_type": "code",
   "execution_count": 24,
   "metadata": {},
   "outputs": [
    {
     "name": "stdout",
     "output_type": "stream",
     "text": [
      "This is our value for b_0: 176.49364477664415\n"
     ]
    }
   ],
   "source": [
    "b0 = A[-1]\n",
    "print(\"This is our value for b_0: \" + str(b0))"
   ]
  },
  {
   "cell_type": "code",
   "execution_count": 25,
   "metadata": {},
   "outputs": [
    {
     "data": {
      "text/plain": [
       "176.49364477664415"
      ]
     },
     "execution_count": 25,
     "metadata": {},
     "output_type": "execute_result"
    }
   ],
   "source": [
    "Nx[0] - M1x + np.sum(A[0])"
   ]
  },
  {
   "cell_type": "code",
   "execution_count": 26,
   "metadata": {},
   "outputs": [
    {
     "data": {
      "text/plain": [
       "0.9094171941798783"
      ]
     },
     "execution_count": 26,
     "metadata": {},
     "output_type": "execute_result"
    }
   ],
   "source": [
    "A[2]/A[3]"
   ]
  },
  {
   "cell_type": "code",
   "execution_count": 27,
   "metadata": {},
   "outputs": [
    {
     "name": "stdout",
     "output_type": "stream",
     "text": [
      "[[0.03582153 0.01186944 0.01186944]\n",
      " [0.01186944 0.03337481 0.01186944]\n",
      " [0.01186944 0.01186944 0.03073736]] [-0.22314355  0.14842001  0.45107562]\n"
     ]
    }
   ],
   "source": [
    "A_GL = it_fit_ex.GL()"
   ]
  },
  {
   "cell_type": "code",
   "execution_count": 28,
   "metadata": {},
   "outputs": [
    {
     "data": {
      "text/plain": [
       "(array([ 70.20458464,  95.46963796, 124.85560373]),\n",
       " 160.47017367350816,\n",
       " array([96.79541536, 90.53036204, 87.14439627]),\n",
       " 176.52982632649184,\n",
       " 2)"
      ]
     },
     "execution_count": 28,
     "metadata": {},
     "output_type": "execute_result"
    }
   ],
   "source": [
    "A_GL"
   ]
  },
  {
   "cell_type": "code",
   "execution_count": 29,
   "metadata": {},
   "outputs": [],
   "source": [
    "A_GLN = it_fit_ex.GL_linesearch()"
   ]
  },
  {
   "cell_type": "code",
   "execution_count": 30,
   "metadata": {},
   "outputs": [
    {
     "data": {
      "text/plain": [
       "(array([ 70.33753879,  95.44494158, 124.66704769]),\n",
       " 160.55047193677308,\n",
       " array([96.66246121, 90.55505842, 87.33295231]),\n",
       " 176.44952806322692,\n",
       " 2)"
      ]
     },
     "execution_count": 30,
     "metadata": {},
     "output_type": "execute_result"
    }
   ],
   "source": [
    "A_GLN"
   ]
  },
  {
   "cell_type": "code",
   "execution_count": 32,
   "metadata": {},
   "outputs": [
    {
     "data": {
      "text/plain": [
       "(0.045430215893878516, 0.0004268215544488761)"
      ]
     },
     "execution_count": 32,
     "metadata": {},
     "output_type": "execute_result"
    }
   ],
   "source": [
    "trend_est(A,B,a0,b0,vx,x,Lx,unadj=False)"
   ]
  },
  {
   "cell_type": "markdown",
   "metadata": {},
   "source": [
    "Example from alochol data in $\\verb+dosresmeta+$"
   ]
  },
  {
   "cell_type": "code",
   "execution_count": 14,
   "metadata": {},
   "outputs": [],
   "source": [
    "x = np.array([9.06,27.,45.,64.8])\n",
    "Nx = np.array([414,261,228,44,34])\n",
    "A0 = np.array([61,69,22,19])\n",
    "M1x = np.sum(A0) + 126\n",
    "Lx = np.array([-0.2231435,-0.0001,0.5306283,0.8754687])\n",
    "vx = np.array([0.2233380,0.2337519,0.3765137,0.4440046])"
   ]
  },
  {
   "cell_type": "code",
   "execution_count": 15,
   "metadata": {},
   "outputs": [],
   "source": [
    "alcohol_data = IF(Lx,A0,Nx,M1x)"
   ]
  },
  {
   "cell_type": "code",
   "execution_count": 16,
   "metadata": {},
   "outputs": [],
   "source": [
    "result_alc = alcohol_data.convexProgram()"
   ]
  },
  {
   "cell_type": "code",
   "execution_count": 17,
   "metadata": {},
   "outputs": [
    {
     "data": {
      "text/plain": [
       "(array([67.12135054, 68.86105977, 18.64972113, 17.32195872]),\n",
       " array([193.87864946, 159.13894023,  25.35027887,  16.67804128]),\n",
       " 125.04590983884529,\n",
       " 288.9540901611547)"
      ]
     },
     "execution_count": 17,
     "metadata": {},
     "output_type": "execute_result"
    }
   ],
   "source": [
    "result_alc"
   ]
  },
  {
   "cell_type": "code",
   "execution_count": null,
   "metadata": {},
   "outputs": [],
   "source": []
  }
 ],
 "metadata": {
  "kernelspec": {
   "display_name": "Python 3.8.2 64-bit",
   "language": "python",
   "name": "python3"
  },
  "language_info": {
   "codemirror_mode": {
    "name": "ipython",
    "version": 3
   },
   "file_extension": ".py",
   "mimetype": "text/x-python",
   "name": "python",
   "nbconvert_exporter": "python",
   "pygments_lexer": "ipython3",
   "version": "3.8.2"
  },
  "orig_nbformat": 4,
  "vscode": {
   "interpreter": {
    "hash": "aee8b7b246df8f9039afb4144a1f6fd8d2ca17a180786b69acc140d282b71a49"
   }
  }
 },
 "nbformat": 4,
 "nbformat_minor": 2
}
