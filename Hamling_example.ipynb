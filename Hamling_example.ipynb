{
 "cells": [
  {
   "cell_type": "code",
   "execution_count": 1,
   "metadata": {},
   "outputs": [],
   "source": [
    "import scipy\n",
    "import numpy as np\n",
    "import cvxpy as cp\n",
    "import matplotlib.pyplot as plt\n",
    "\n",
    "from src.IterativeFitting import IterativeFitting as IF\n",
    "from src.CorrFuncs import covariance_matrix, trend_est"
   ]
  },
  {
   "cell_type": "markdown",
   "metadata": {},
   "source": [
    "In the Smith example, $p$ and $z$ are calculated from the initial frequencies of cases and controls. So maybe just use the crude estimates for $p$ and $z$."
   ]
  },
  {
   "cell_type": "markdown",
   "metadata": {},
   "source": [
    "Do we construct estimates for vx and for Lx everytime? I don't think so if we look at step 3. It seems like we input them from the information you give the algorithm and information that we get from study reports."
   ]
  },
  {
   "cell_type": "code",
   "execution_count": 2,
   "metadata": {},
   "outputs": [],
   "source": [
    "x = np.array([2,6,11])\n",
    "Nx = np.array([337,167,186,212])\n",
    "M1x = 451\n",
    "Lx = np.array([np.log(0.80),np.log(1.16),np.log(1.57)])\n",
    "vx = np.array([0.0542,0.0563,0.0563])\n",
    "a0 = 165\n",
    "A0x = np.array([74,90,122])\n",
    "b0 = 172\n",
    "B0x = np.array([93,96,90])\n",
    "B0x_sum = np.sum(B0x) + b0\n",
    "# vx = 1/a0 + 1/b0 + 1/A0x + 1/B0x"
   ]
  },
  {
   "cell_type": "code",
   "execution_count": 3,
   "metadata": {},
   "outputs": [
    {
     "data": {
      "text/plain": [
       "array([0.0542, 0.0563, 0.0563])"
      ]
     },
     "execution_count": 3,
     "metadata": {},
     "output_type": "execute_result"
    }
   ],
   "source": [
    "vx"
   ]
  },
  {
   "cell_type": "markdown",
   "metadata": {},
   "source": [
    "Defining initial parameters of $p$ and $z$."
   ]
  },
  {
   "cell_type": "code",
   "execution_count": 4,
   "metadata": {},
   "outputs": [],
   "source": [
    "p0 = b0 / B0x_sum\n",
    "z0 = B0x_sum / M1x"
   ]
  },
  {
   "cell_type": "code",
   "execution_count": 5,
   "metadata": {},
   "outputs": [
    {
     "data": {
      "text/plain": [
       "0.38137472283813745"
      ]
     },
     "execution_count": 5,
     "metadata": {},
     "output_type": "execute_result"
    }
   ],
   "source": [
    "p0"
   ]
  },
  {
   "cell_type": "code",
   "execution_count": 6,
   "metadata": {},
   "outputs": [
    {
     "data": {
      "text/plain": [
       "1.0"
      ]
     },
     "execution_count": 6,
     "metadata": {},
     "output_type": "execute_result"
    }
   ],
   "source": [
    "z0"
   ]
  },
  {
   "cell_type": "markdown",
   "metadata": {},
   "source": [
    "Defining a function that allows us to construct confidence intervals"
   ]
  },
  {
   "cell_type": "markdown",
   "metadata": {},
   "source": [
    "Get sum of squared differences and then check to see how microsoft solver works... Also look at R code probably, it will be easier. This is just an optimization problem for the following function. We need to find b0 and a0 that optimize the function. Maybe cvxpy?"
   ]
  },
  {
   "cell_type": "markdown",
   "metadata": {},
   "source": [
    "According to the R code, we want to use scipy minimize. a0 and b0 will be the parameters we optimize over. Then the function should be longer but contain something like sum_sq_diff. "
   ]
  },
  {
   "cell_type": "code",
   "execution_count": null,
   "metadata": {},
   "outputs": [],
   "source": [
    "f_LogLik <- function (C_Val)  {\n",
    "        A0 = C_Val[1]\n",
    "        B0 = C_Val[2]\n",
    "        \n",
    "        if (CCPR == 1 | CCPR == 3) {         # case-control or X-Sectional (diseases+exposures)\n",
    "          Vextra = RR_Val$Var - 1/A0 - 1/B0  \n",
    "          Est_A  <- (1 + (A0*RR_Val$RR)/B0)/Vextra  # estimate of Ai\n",
    "          Est_B  <- (1 + B0/(RR_Val$RR*A0))/Vextra  # estimate of Bi\n",
    "        } else if(mode2 == 0) {  # prospective, diseases\n",
    "          Vextra = RR_Val$Var + 1/A0 + 1/B0   \n",
    "          Est_A  <- (1 + (A0*RR_Val$RR)/B0)/Vextra  # estimate of Ai\n",
    "          Est_B  <- (1 + B0/(RR_Val$RR*A0))/Vextra  # estimate of Bi\n",
    "        } else     {              #   ! prospective, exposures\n",
    "          Vextra = RR_Val$Var - 1/A0 + 1/B0   \n",
    "          Est_A  <- (1 - (A0*RR_Val$RR)/B0)/Vextra  # estimate of Ai\n",
    "          Est_B  <- (-1 + B0/(RR_Val$RR*A0))/Vextra  # estimate of Bi\n",
    "        }\n",
    "        SumA = A0 + sum(Est_A)\n",
    "        SumB = B0 + sum(Est_B)\n",
    "        \n",
    "        P1 = B0/SumB   # new estimate of (P-P')/P\n",
    "        F1 = (P-P1)/P\n",
    "        Z1 = SumB/SumA # estimate of (Z-Z')/Z\n",
    "        F2 = (Z-Z1)/Z\n",
    "        RR_Vextra <<- Vextra\n",
    "        RR_A <<- Est_A\n",
    "        RR_B <<- Est_B\n",
    "        return(F1*F1 + F2*F2)\n",
    "      }"
   ]
  },
  {
   "cell_type": "code",
   "execution_count": 7,
   "metadata": {},
   "outputs": [],
   "source": [
    "def f_LogLik(C_Val):\n",
    "    a0x = C_Val[0]\n",
    "    b0x = C_Val[1]\n",
    "    # global vx, Lx\n",
    "\n",
    "    Vextra = vx - 1/a0x - 1/b0x\n",
    "    Est_A = (1 + (a0x/b0x)*np.exp(Lx))/(Vextra)\n",
    "    Est_B = (1 + b0x/(a0x*np.exp(Lx)))/(Vextra)\n",
    "    \n",
    "    SumA = a0x + np.sum(Est_A)\n",
    "    SumB = b0x + np.sum(Est_B)\n",
    "\n",
    "    p1 = b0x / SumB\n",
    "    F1 = ((p0-p1)/p0)**2\n",
    "    z1 = SumB/SumA\n",
    "    F2 = ((z0-z1)/z0)**2\n",
    "    \n",
    "    # vx = 1/a0x + 1/b0x + 1/Est_A + 1/Est_B\n",
    "    # # print(np.log(Est_B))\n",
    "    # Lx = np.log(Est_A) + np.log(b0x) - np.log(a0x) - np.log(Est_B)\n",
    "\n",
    "    return F1 + F2"
   ]
  },
  {
   "cell_type": "code",
   "execution_count": 8,
   "metadata": {},
   "outputs": [],
   "source": [
    "a0_b0_res = scipy.optimize.minimize(f_LogLik,[a0,b0])"
   ]
  },
  {
   "cell_type": "code",
   "execution_count": 9,
   "metadata": {},
   "outputs": [
    {
     "data": {
      "text/plain": [
       "      fun: 3.7254864679456837e-10\n",
       " hess_inv: array([[6144.89733454, 3909.97483207],\n",
       "       [3909.97483207, 6591.94908009]])\n",
       "      jac: array([-1.37371661e-07, -2.31259192e-07])\n",
       "  message: 'Optimization terminated successfully.'\n",
       "     nfev: 78\n",
       "      nit: 15\n",
       "     njev: 26\n",
       "   status: 0\n",
       "  success: True\n",
       "        x: array([ 96.26992359, 103.79444345])"
      ]
     },
     "execution_count": 9,
     "metadata": {},
     "output_type": "execute_result"
    }
   ],
   "source": [
    "a0_b0_res"
   ]
  },
  {
   "cell_type": "code",
   "execution_count": 10,
   "metadata": {},
   "outputs": [],
   "source": [
    "a0, b0 = a0_b0_res.x[0], a0_b0_res.x[1]"
   ]
  },
  {
   "cell_type": "code",
   "execution_count": 11,
   "metadata": {},
   "outputs": [
    {
     "data": {
      "text/plain": [
       "96.26992358923333"
      ]
     },
     "execution_count": 11,
     "metadata": {},
     "output_type": "execute_result"
    }
   ],
   "source": [
    "a0"
   ]
  },
  {
   "cell_type": "code",
   "execution_count": 12,
   "metadata": {},
   "outputs": [
    {
     "data": {
      "text/plain": [
       "103.79444345026278"
      ]
     },
     "execution_count": 12,
     "metadata": {},
     "output_type": "execute_result"
    }
   ],
   "source": [
    "b0"
   ]
  },
  {
   "cell_type": "code",
   "execution_count": 13,
   "metadata": {},
   "outputs": [
    {
     "data": {
      "text/plain": [
       "0.927505561849897"
      ]
     },
     "execution_count": 13,
     "metadata": {},
     "output_type": "execute_result"
    }
   ],
   "source": [
    "a0/b0"
   ]
  },
  {
   "cell_type": "code",
   "execution_count": 17,
   "metadata": {},
   "outputs": [],
   "source": [
    "Vextra = vx - 1/a0 - 1/b0\n",
    "A = (1 + (a0/b0)*np.exp(Lx))/(Vextra)\n",
    "B = (1 + b0/(a0*np.exp(Lx)))/(Vextra)"
   ]
  },
  {
   "cell_type": "code",
   "execution_count": 18,
   "metadata": {},
   "outputs": [
    {
     "data": {
      "text/plain": [
       "array([50.96842138, 57.22200793, 67.70428642])"
      ]
     },
     "execution_count": 18,
     "metadata": {},
     "output_type": "execute_result"
    }
   ],
   "source": [
    "A"
   ]
  },
  {
   "cell_type": "code",
   "execution_count": 19,
   "metadata": {},
   "outputs": [
    {
     "data": {
      "text/plain": [
       "array([68.69018295, 53.1849287 , 46.49432962])"
      ]
     },
     "execution_count": 19,
     "metadata": {},
     "output_type": "execute_result"
    }
   ],
   "source": [
    "B"
   ]
  },
  {
   "cell_type": "code",
   "execution_count": 17,
   "metadata": {},
   "outputs": [
    {
     "data": {
      "text/plain": [
       "array([0.03638643, 0.03848643, 0.03848643])"
      ]
     },
     "execution_count": 17,
     "metadata": {},
     "output_type": "execute_result"
    }
   ],
   "source": [
    "vx - 1/a0 - 1/b0"
   ]
  },
  {
   "cell_type": "code",
   "execution_count": 18,
   "metadata": {},
   "outputs": [
    {
     "data": {
      "text/plain": [
       "array([-0.22314355,  0.14842001,  0.45107562])"
      ]
     },
     "execution_count": 18,
     "metadata": {},
     "output_type": "execute_result"
    }
   ],
   "source": [
    "Lx"
   ]
  },
  {
   "cell_type": "code",
   "execution_count": 21,
   "metadata": {},
   "outputs": [],
   "source": [
    "s = np.sqrt(1/A + 1/B + 1/a0 + 1/b0)\n",
    "r = ((1/np.outer(s,s))*(1/a0 + 1/b0))[np.triu_indices(3,k=1)]\n",
    "c = r*np.sqrt((np.outer(vx,vx))[np.triu_indices(3,k=1)])\n",
    "C1 = np.diag(vx)\n",
    "triu_indices = np.triu_indices(3,k=1)\n",
    "tril_indices = np.tril_indices(3,k=-1)\n",
    "C2 = C1.copy()\n",
    "C2[triu_indices] = c\n",
    "C = C2.copy()\n",
    "C[tril_indices] = c"
   ]
  },
  {
   "cell_type": "code",
   "execution_count": 22,
   "metadata": {},
   "outputs": [
    {
     "data": {
      "text/plain": [
       "array([[0.0542    , 0.02002189, 0.02002189],\n",
       "       [0.02002189, 0.0563    , 0.02002189],\n",
       "       [0.02002189, 0.02002189, 0.0563    ]])"
      ]
     },
     "execution_count": 22,
     "metadata": {},
     "output_type": "execute_result"
    }
   ],
   "source": [
    "C"
   ]
  },
  {
   "cell_type": "code",
   "execution_count": 23,
   "metadata": {},
   "outputs": [],
   "source": [
    "Cinv = np.linalg.inv(C)\n",
    "vb_star = 1/(np.dot(x,np.dot(Cinv,x)))\n",
    "b_star = vb_star*(np.dot(x,np.dot(Cinv,Lx)))"
   ]
  },
  {
   "cell_type": "code",
   "execution_count": 24,
   "metadata": {},
   "outputs": [
    {
     "data": {
      "text/plain": [
       "0.04588480137880012"
      ]
     },
     "execution_count": 24,
     "metadata": {},
     "output_type": "execute_result"
    }
   ],
   "source": [
    "b_star"
   ]
  },
  {
   "cell_type": "code",
   "execution_count": 25,
   "metadata": {},
   "outputs": [
    {
     "data": {
      "text/plain": [
       "0.000420818983411542"
      ]
     },
     "execution_count": 25,
     "metadata": {},
     "output_type": "execute_result"
    }
   ],
   "source": [
    "vb_star"
   ]
  },
  {
   "cell_type": "code",
   "execution_count": null,
   "metadata": {},
   "outputs": [],
   "source": []
  }
 ],
 "metadata": {
  "kernelspec": {
   "display_name": "Python 3.8.2 64-bit",
   "language": "python",
   "name": "python3"
  },
  "language_info": {
   "codemirror_mode": {
    "name": "ipython",
    "version": 3
   },
   "file_extension": ".py",
   "mimetype": "text/x-python",
   "name": "python",
   "nbconvert_exporter": "python",
   "pygments_lexer": "ipython3",
   "version": "3.8.2"
  },
  "orig_nbformat": 4,
  "vscode": {
   "interpreter": {
    "hash": "aee8b7b246df8f9039afb4144a1f6fd8d2ca17a180786b69acc140d282b71a49"
   }
  }
 },
 "nbformat": 4,
 "nbformat_minor": 2
}
