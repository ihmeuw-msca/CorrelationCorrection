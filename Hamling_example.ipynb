{
 "cells": [
  {
   "cell_type": "code",
   "execution_count": 1,
   "metadata": {},
   "outputs": [],
   "source": [
    "import scipy\n",
    "import numpy as np\n",
    "import cvxpy as cp\n",
    "import matplotlib.pyplot as plt\n",
    "\n",
    "from src.IterativeFitting import IterativeFitting as IF\n",
    "from src.CorrFuncs import covariance_matrix, trend_est"
   ]
  },
  {
   "cell_type": "markdown",
   "metadata": {},
   "source": [
    "In the Smith example, $p$ and $z$ are calculated from the initial frequencies of cases and controls. So maybe just use the crude estimates for $p$ and $z$."
   ]
  },
  {
   "cell_type": "code",
   "execution_count": 18,
   "metadata": {},
   "outputs": [],
   "source": [
    "x = np.array([2,6,11])\n",
    "Nx = np.array([337,167,186,212])\n",
    "M1x = 451\n",
    "Lx = np.array([np.log(0.80),np.log(1.16),np.log(1.57)])\n",
    "vx = np.array([0.0542,0.0563,0.0563])\n",
    "a0 = 165\n",
    "A0x = np.array([74,90,122])\n",
    "b0 = 172\n",
    "B0x = np.array([93,96,90])\n",
    "B0x_sum = np.sum(B0x) + b0"
   ]
  },
  {
   "cell_type": "markdown",
   "metadata": {},
   "source": [
    "Defining initial parameters of $p$ and $z$."
   ]
  },
  {
   "cell_type": "code",
   "execution_count": 3,
   "metadata": {},
   "outputs": [],
   "source": [
    "p0 = b0 / B0x_sum\n",
    "z0 = B0x_sum / M1x"
   ]
  },
  {
   "cell_type": "markdown",
   "metadata": {},
   "source": [
    "Defining a function that allows us to construct confidence intervals"
   ]
  },
  {
   "cell_type": "code",
   "execution_count": 4,
   "metadata": {},
   "outputs": [],
   "source": [
    "# lambda V: \n",
    "def CI(L,v):\n",
    "    CI = []\n",
    "    for l in range(len(L)):\n",
    "        CI.append((L[l] - 1.96*v[l], L[l] + 1.96*v[l]))\n",
    "    return CI\n",
    "ci = CI(Lx,vx)"
   ]
  },
  {
   "cell_type": "code",
   "execution_count": 5,
   "metadata": {},
   "outputs": [],
   "source": [
    "A0n = (1 + (a0/b0)*Lx)/(vx - 1/a0 - 1/b0)\n",
    "B0n = (1 + b0/(a0*Lx))/(vx - 1/a0 - 1/b0)"
   ]
  },
  {
   "cell_type": "code",
   "execution_count": 6,
   "metadata": {},
   "outputs": [],
   "source": [
    "p1 = b0/np.sum(B0n)\n",
    "z1 = np.sum(B0n)/np.sum(A0n)"
   ]
  },
  {
   "cell_type": "code",
   "execution_count": 7,
   "metadata": {},
   "outputs": [
    {
     "data": {
      "text/plain": [
       "1.0214460589578545"
      ]
     },
     "execution_count": 7,
     "metadata": {},
     "output_type": "execute_result"
    }
   ],
   "source": [
    "p1"
   ]
  },
  {
   "cell_type": "code",
   "execution_count": 8,
   "metadata": {},
   "outputs": [
    {
     "data": {
      "text/plain": [
       "2.2001991001983843"
      ]
     },
     "execution_count": 8,
     "metadata": {},
     "output_type": "execute_result"
    }
   ],
   "source": [
    "z1"
   ]
  },
  {
   "cell_type": "markdown",
   "metadata": {},
   "source": [
    "Get sum of squared differences and then check to see how microsoft solver works... Also look at R code probably, it will be easier. This is just an optimization problem for the following function. We need to find b0 and a0 that optimize the function. Maybe cvxpy?"
   ]
  },
  {
   "cell_type": "code",
   "execution_count": 9,
   "metadata": {},
   "outputs": [],
   "source": [
    "def sum_sq_diff(pp,zp):\n",
    "    return ((p0 - pp)/p0)**2 + ((z0 - zp)/z0)**2"
   ]
  },
  {
   "cell_type": "code",
   "execution_count": 10,
   "metadata": {},
   "outputs": [
    {
     "data": {
      "text/plain": [
       "4.257258005449162"
      ]
     },
     "execution_count": 10,
     "metadata": {},
     "output_type": "execute_result"
    }
   ],
   "source": [
    "sum_sq_diff(p1,z1)"
   ]
  },
  {
   "cell_type": "markdown",
   "metadata": {},
   "source": [
    "According to the R code, we want to use scipy minimize. a0 and b0 will be the parameters we optimize over. Then the function should be longer but contain something like sum_sq_diff. "
   ]
  },
  {
   "cell_type": "code",
   "execution_count": null,
   "metadata": {},
   "outputs": [],
   "source": [
    "f_LogLik <- function (C_Val)  {\n",
    "        A0 = C_Val[1]\n",
    "        B0 = C_Val[2]\n",
    "        \n",
    "        if (CCPR == 1 | CCPR == 3) {         # case-control or X-Sectional (diseases+exposures)\n",
    "          Vextra = RR_Val$Var - 1/A0 - 1/B0  \n",
    "          Est_A  <- (1 + (A0*RR_Val$RR)/B0)/Vextra  # estimate of Ai\n",
    "          Est_B  <- (1 + B0/(RR_Val$RR*A0))/Vextra  # estimate of Bi\n",
    "        } else if(mode2 == 0) {  # prospective, diseases\n",
    "          Vextra = RR_Val$Var + 1/A0 + 1/B0   \n",
    "          Est_A  <- (1 + (A0*RR_Val$RR)/B0)/Vextra  # estimate of Ai\n",
    "          Est_B  <- (1 + B0/(RR_Val$RR*A0))/Vextra  # estimate of Bi\n",
    "        } else     {              #   ! prospective, exposures\n",
    "          Vextra = RR_Val$Var - 1/A0 + 1/B0   \n",
    "          Est_A  <- (1 - (A0*RR_Val$RR)/B0)/Vextra  # estimate of Ai\n",
    "          Est_B  <- (-1 + B0/(RR_Val$RR*A0))/Vextra  # estimate of Bi\n",
    "        }\n",
    "        SumA = A0 + sum(Est_A)\n",
    "        SumB = B0 + sum(Est_B)\n",
    "        \n",
    "        P1 = B0/SumB   # new estimate of (P-P')/P\n",
    "        F1 = (P-P1)/P\n",
    "        Z1 = SumB/SumA # estimate of (Z-Z')/Z\n",
    "        F2 = (Z-Z1)/Z\n",
    "        RR_Vextra <<- Vextra\n",
    "        RR_A <<- Est_A\n",
    "        RR_B <<- Est_B\n",
    "        return(F1*F1 + F2*F2)\n",
    "      }"
   ]
  },
  {
   "cell_type": "code",
   "execution_count": 20,
   "metadata": {},
   "outputs": [
    {
     "ename": "SyntaxError",
     "evalue": "name 'vx' is used prior to global declaration (<ipython-input-20-39b05b3ff9a4>, line 16)",
     "output_type": "error",
     "traceback": [
      "\u001b[0;36m  File \u001b[0;32m\"<ipython-input-20-39b05b3ff9a4>\"\u001b[0;36m, line \u001b[0;32m16\u001b[0m\n\u001b[0;31m    global vx, Lx\u001b[0m\n\u001b[0m    ^\u001b[0m\n\u001b[0;31mSyntaxError\u001b[0m\u001b[0;31m:\u001b[0m name 'vx' is used prior to global declaration\n"
     ]
    }
   ],
   "source": [
    "def f_LogLik(C_Val):\n",
    "    a0x = C_Val[0]\n",
    "    b0x = C_Val[1]\n",
    "\n",
    "    Vextra = vx - 1/a0x - 1/b0x\n",
    "    Est_A = (1 + (a0x/b0x)*Lx)/(Vextra)\n",
    "    Est_B = (1 + b0x/(a0x*Lx))/(Vextra)\n",
    "    \n",
    "    SumA = a0x + np.sum(Est_A)\n",
    "    SumB = b0x + np.sum(Est_B)\n",
    "\n",
    "    p1 = b0x / SumB\n",
    "    F1 = ((p0-p1)/p0)**2\n",
    "    z1 = SumB/SumA\n",
    "    F2 = ((z0-z1)/z0)**2\n",
    "    global vx, Lx\n",
    "    vx = 1/a0x - 1/b0x + 1/Est_A - 1/Est_B\n",
    "    Lx = np.log(Est_A) + np.log(b0x) - np.log(a0) - np.log(Est_B)\n",
    "\n",
    "    return F1 + F2"
   ]
  },
  {
   "cell_type": "code",
   "execution_count": 12,
   "metadata": {},
   "outputs": [],
   "source": [
    "a0_b0_res = scipy.optimize.minimize(f_LogLik,[a0,b0])"
   ]
  },
  {
   "cell_type": "code",
   "execution_count": 16,
   "metadata": {},
   "outputs": [
    {
     "data": {
      "text/plain": [
       "      fun: 3.005213586181914e-08\n",
       " hess_inv: array([[12224.87166062,  5138.89323202],\n",
       "       [ 5138.89323202,  7652.06628875]])\n",
       "      jac: array([ 2.47194269e-06, -2.27475125e-06])\n",
       "  message: 'Optimization terminated successfully.'\n",
       "     nfev: 96\n",
       "      nit: 25\n",
       "     njev: 32\n",
       "   status: 0\n",
       "  success: True\n",
       "        x: array([145.37128157,  91.45251652])"
      ]
     },
     "execution_count": 16,
     "metadata": {},
     "output_type": "execute_result"
    }
   ],
   "source": [
    "a0_b0_res"
   ]
  },
  {
   "cell_type": "code",
   "execution_count": 13,
   "metadata": {},
   "outputs": [],
   "source": [
    "a0, b0 = a0_b0_res.x[0], a0_b0_res.x[1]"
   ]
  },
  {
   "cell_type": "code",
   "execution_count": 14,
   "metadata": {},
   "outputs": [
    {
     "data": {
      "text/plain": [
       "145.3712815719246"
      ]
     },
     "execution_count": 14,
     "metadata": {},
     "output_type": "execute_result"
    }
   ],
   "source": [
    "a0"
   ]
  },
  {
   "cell_type": "code",
   "execution_count": 15,
   "metadata": {},
   "outputs": [
    {
     "data": {
      "text/plain": [
       "91.45251651760577"
      ]
     },
     "execution_count": 15,
     "metadata": {},
     "output_type": "execute_result"
    }
   ],
   "source": [
    "b0"
   ]
  },
  {
   "cell_type": "code",
   "execution_count": 39,
   "metadata": {},
   "outputs": [],
   "source": [
    "Vextra = vx - 1/a0 - 1/b0\n",
    "A = (1 + (a0/b0)*Lx)/(Vextra)\n",
    "B = (1 + b0/(a0*Lx))/(Vextra)"
   ]
  },
  {
   "cell_type": "code",
   "execution_count": 40,
   "metadata": {},
   "outputs": [
    {
     "data": {
      "text/plain": [
       "array([17.73449828, 32.11329056, 44.61369632])"
      ]
     },
     "execution_count": 40,
     "metadata": {},
     "output_type": "execute_result"
    }
   ],
   "source": [
    "A"
   ]
  },
  {
   "cell_type": "code",
   "execution_count": 41,
   "metadata": {},
   "outputs": [
    {
     "data": {
      "text/plain": [
       "array([-49.99788201, 136.11607203,  62.22084346])"
      ]
     },
     "execution_count": 41,
     "metadata": {},
     "output_type": "execute_result"
    }
   ],
   "source": [
    "B"
   ]
  },
  {
   "cell_type": "code",
   "execution_count": null,
   "metadata": {},
   "outputs": [],
   "source": []
  }
 ],
 "metadata": {
  "kernelspec": {
   "display_name": "Python 3.8.2 64-bit",
   "language": "python",
   "name": "python3"
  },
  "language_info": {
   "codemirror_mode": {
    "name": "ipython",
    "version": 3
   },
   "file_extension": ".py",
   "mimetype": "text/x-python",
   "name": "python",
   "nbconvert_exporter": "python",
   "pygments_lexer": "ipython3",
   "version": "3.8.2"
  },
  "orig_nbformat": 4,
  "vscode": {
   "interpreter": {
    "hash": "aee8b7b246df8f9039afb4144a1f6fd8d2ca17a180786b69acc140d282b71a49"
   }
  }
 },
 "nbformat": 4,
 "nbformat_minor": 2
}
