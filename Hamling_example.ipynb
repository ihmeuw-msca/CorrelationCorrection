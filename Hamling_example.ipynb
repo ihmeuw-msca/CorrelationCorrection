{
 "cells": [
  {
   "cell_type": "code",
   "execution_count": 1,
   "metadata": {},
   "outputs": [],
   "source": [
    "import scipy\n",
    "import numpy as np\n",
    "import cvxpy as cp\n",
    "import matplotlib.pyplot as plt\n",
    "\n",
    "from src.IterativeFitting import IterativeFitting as IF\n",
    "from src.CorrFuncs import covariance_matrix, trend_est"
   ]
  },
  {
   "cell_type": "markdown",
   "metadata": {},
   "source": [
    "In the Smith example, $p$ and $z$ are calculated from the initial frequencies of cases and controls. So maybe just use the crude estimates for $p$ and $z$."
   ]
  },
  {
   "cell_type": "markdown",
   "metadata": {},
   "source": [
    "Do we construct estimates for vx and for Lx everytime? I don't think so if we look at step 3. It seems like we input them from the information you give the algorithm and information that we get from study reports."
   ]
  },
  {
   "cell_type": "code",
   "execution_count": 2,
   "metadata": {},
   "outputs": [],
   "source": [
    "x = np.array([2,6,11])\n",
    "Nx = np.array([337,167,186,212])\n",
    "M1x = 451\n",
    "Lx = np.array([np.log(0.80),np.log(1.16),np.log(1.57)])\n",
    "# vx = np.array([0.0542,0.0563,0.0563])\n",
    "# vx = np.array([0.03,0.06,0.09]) # Case that breaks!!!!!!!!\n",
    "vx = np.array([.09,.01,.001])\n",
    "# a0 = 165\n",
    "a0 = 10\n",
    "A0x = np.array([74,90,122])\n",
    "# b0 = 172\n",
    "b0 = 10\n",
    "B0x = np.array([93,96,90])\n",
    "B0x_sum = np.sum(B0x) + b0\n",
    "# vx = 1/a0 + 1/b0 + 1/A0x + 1/B0x"
   ]
  },
  {
   "cell_type": "markdown",
   "metadata": {},
   "source": [
    "Defining initial parameters of $p$ and $z$."
   ]
  },
  {
   "cell_type": "code",
   "execution_count": 3,
   "metadata": {},
   "outputs": [],
   "source": [
    "p0 = b0 / B0x_sum\n",
    "z0 = B0x_sum / M1x"
   ]
  },
  {
   "cell_type": "code",
   "execution_count": 4,
   "metadata": {},
   "outputs": [],
   "source": [
    "p0 = 0.38\n",
    "z0 = 1.0"
   ]
  },
  {
   "cell_type": "code",
   "execution_count": 5,
   "metadata": {},
   "outputs": [
    {
     "data": {
      "text/plain": [
       "0.38"
      ]
     },
     "execution_count": 5,
     "metadata": {},
     "output_type": "execute_result"
    }
   ],
   "source": [
    "p0"
   ]
  },
  {
   "cell_type": "code",
   "execution_count": 6,
   "metadata": {},
   "outputs": [
    {
     "data": {
      "text/plain": [
       "1.0"
      ]
     },
     "execution_count": 6,
     "metadata": {},
     "output_type": "execute_result"
    }
   ],
   "source": [
    "z0"
   ]
  },
  {
   "cell_type": "markdown",
   "metadata": {},
   "source": [
    "Defining a function that allows us to construct confidence intervals"
   ]
  },
  {
   "cell_type": "markdown",
   "metadata": {},
   "source": [
    "Get sum of squared differences and then check to see how microsoft solver works... Also look at R code probably, it will be easier. This is just an optimization problem for the following function. We need to find b0 and a0 that optimize the function. Maybe cvxpy?"
   ]
  },
  {
   "cell_type": "markdown",
   "metadata": {},
   "source": [
    "According to the R code, we want to use scipy minimize. a0 and b0 will be the parameters we optimize over. Then the function should be longer but contain something like sum_sq_diff. "
   ]
  },
  {
   "cell_type": "code",
   "execution_count": 7,
   "metadata": {},
   "outputs": [],
   "source": [
    "def f_LogLik(C_Val):\n",
    "    a0x = C_Val[0]\n",
    "    b0x = C_Val[1]\n",
    "\n",
    "    Vextra = vx - 1/a0x - 1/b0x\n",
    "    Est_A = (1 + (a0x/b0x)*np.exp(Lx))/(Vextra)\n",
    "    Est_B = (1 + b0x/(a0x*np.exp(Lx)))/(Vextra)\n",
    "    \n",
    "    SumA = a0x + np.sum(Est_A)\n",
    "    SumB = b0x + np.sum(Est_B)\n",
    "\n",
    "    p1 = b0x / SumB\n",
    "    F1 = ((p0-p1)/p0)**2\n",
    "    z1 = SumB/SumA\n",
    "    F2 = ((z0-z1)/z0)**2\n",
    "\n",
    "    return F1 + F2"
   ]
  },
  {
   "cell_type": "code",
   "execution_count": 8,
   "metadata": {},
   "outputs": [],
   "source": [
    "a0_b0_res = scipy.optimize.minimize(f_LogLik,[a0,b0])"
   ]
  },
  {
   "cell_type": "code",
   "execution_count": 9,
   "metadata": {},
   "outputs": [
    {
     "data": {
      "text/plain": [
       "      fun: 1.073028475844847e-14\n",
       " hess_inv: array([[1013.87830293, -153.0751213 ],\n",
       "       [-153.0751213 ,   29.84287803]])\n",
       "      jac: array([-7.91182781e-09, -5.49970476e-08])\n",
       "  message: 'Optimization terminated successfully.'\n",
       "     nfev: 78\n",
       "      nit: 14\n",
       "     njev: 26\n",
       "   status: 0\n",
       "  success: True\n",
       "        x: array([45.67998079, 21.02355672])"
      ]
     },
     "execution_count": 9,
     "metadata": {},
     "output_type": "execute_result"
    }
   ],
   "source": [
    "a0_b0_res"
   ]
  },
  {
   "cell_type": "code",
   "execution_count": 10,
   "metadata": {},
   "outputs": [],
   "source": [
    "a0, b0 = a0_b0_res.x[0], a0_b0_res.x[1]"
   ]
  },
  {
   "cell_type": "code",
   "execution_count": 11,
   "metadata": {},
   "outputs": [
    {
     "data": {
      "text/plain": [
       "45.67998079327342"
      ]
     },
     "execution_count": 11,
     "metadata": {},
     "output_type": "execute_result"
    }
   ],
   "source": [
    "a0"
   ]
  },
  {
   "cell_type": "code",
   "execution_count": 12,
   "metadata": {},
   "outputs": [
    {
     "data": {
      "text/plain": [
       "21.023556721478023"
      ]
     },
     "execution_count": 12,
     "metadata": {},
     "output_type": "execute_result"
    }
   ],
   "source": [
    "b0"
   ]
  },
  {
   "cell_type": "code",
   "execution_count": 13,
   "metadata": {},
   "outputs": [
    {
     "data": {
      "text/plain": [
       "2.1727998453566126"
      ]
     },
     "execution_count": 13,
     "metadata": {},
     "output_type": "execute_result"
    }
   ],
   "source": [
    "a0/b0"
   ]
  },
  {
   "cell_type": "code",
   "execution_count": 14,
   "metadata": {},
   "outputs": [],
   "source": [
    "Vextra = vx - 1/a0 - 1/b0\n",
    "A = (1 + (a0/b0)*np.exp(Lx))/(Vextra)\n",
    "B = (1 + b0/(a0*np.exp(Lx)))/(Vextra)"
   ]
  },
  {
   "cell_type": "code",
   "execution_count": 15,
   "metadata": {},
   "outputs": [
    {
     "data": {
      "text/plain": [
       "array([133.2938563 , -59.20986252, -64.43881725])"
      ]
     },
     "execution_count": 15,
     "metadata": {},
     "output_type": "execute_result"
    }
   ],
   "source": [
    "A"
   ]
  },
  {
   "cell_type": "code",
   "execution_count": 16,
   "metadata": {},
   "outputs": [
    {
     "data": {
      "text/plain": [
       "array([ 76.68323465, -23.49180254, -18.88983595])"
      ]
     },
     "execution_count": 16,
     "metadata": {},
     "output_type": "execute_result"
    }
   ],
   "source": [
    "B"
   ]
  },
  {
   "cell_type": "code",
   "execution_count": 17,
   "metadata": {},
   "outputs": [
    {
     "data": {
      "text/plain": [
       "array([ 0.02054288, -0.05945712, -0.06845712])"
      ]
     },
     "execution_count": 17,
     "metadata": {},
     "output_type": "execute_result"
    }
   ],
   "source": [
    "vx - 1/a0 - 1/b0"
   ]
  },
  {
   "cell_type": "code",
   "execution_count": 18,
   "metadata": {},
   "outputs": [
    {
     "data": {
      "text/plain": [
       "array([-0.22314355,  0.14842001,  0.45107562])"
      ]
     },
     "execution_count": 18,
     "metadata": {},
     "output_type": "execute_result"
    }
   ],
   "source": [
    "Lx"
   ]
  },
  {
   "cell_type": "code",
   "execution_count": 19,
   "metadata": {},
   "outputs": [],
   "source": [
    "s = np.sqrt(1/A + 1/B + 1/a0 + 1/b0)\n",
    "r = ((1/np.outer(s,s))*(1/a0 + 1/b0))[np.triu_indices(3,k=1)]\n",
    "c = r*np.sqrt((np.outer(vx,vx))[np.triu_indices(3,k=1)])\n",
    "C1 = np.diag(vx)\n",
    "triu_indices = np.triu_indices(3,k=1)\n",
    "tril_indices = np.tril_indices(3,k=-1)\n",
    "C2 = C1.copy()\n",
    "C2[triu_indices] = c\n",
    "C = C2.copy()\n",
    "C[tril_indices] = c"
   ]
  },
  {
   "cell_type": "code",
   "execution_count": 20,
   "metadata": {},
   "outputs": [
    {
     "data": {
      "text/plain": [
       "array([[0.09      , 0.06945712, 0.06945712],\n",
       "       [0.06945712, 0.01      , 0.06945712],\n",
       "       [0.06945712, 0.06945712, 0.001     ]])"
      ]
     },
     "execution_count": 20,
     "metadata": {},
     "output_type": "execute_result"
    }
   ],
   "source": [
    "C"
   ]
  },
  {
   "cell_type": "code",
   "execution_count": 21,
   "metadata": {},
   "outputs": [],
   "source": [
    "Cinv = np.linalg.inv(C)\n",
    "vb_star = 1/(np.dot(x,np.dot(Cinv,x)))\n",
    "b_star = vb_star*(np.dot(x,np.dot(Cinv,Lx)))"
   ]
  },
  {
   "cell_type": "code",
   "execution_count": 22,
   "metadata": {},
   "outputs": [
    {
     "data": {
      "text/plain": [
       "0.07018390139021692"
      ]
     },
     "execution_count": 22,
     "metadata": {},
     "output_type": "execute_result"
    }
   ],
   "source": [
    "b_star"
   ]
  },
  {
   "cell_type": "code",
   "execution_count": 23,
   "metadata": {},
   "outputs": [
    {
     "data": {
      "text/plain": [
       "-0.0003299683936761447"
      ]
     },
     "execution_count": 23,
     "metadata": {},
     "output_type": "execute_result"
    }
   ],
   "source": [
    "vb_star"
   ]
  },
  {
   "cell_type": "code",
   "execution_count": null,
   "metadata": {},
   "outputs": [],
   "source": []
  }
 ],
 "metadata": {
  "kernelspec": {
   "display_name": "Python 3.8.2 64-bit",
   "language": "python",
   "name": "python3"
  },
  "language_info": {
   "codemirror_mode": {
    "name": "ipython",
    "version": 3
   },
   "file_extension": ".py",
   "mimetype": "text/x-python",
   "name": "python",
   "nbconvert_exporter": "python",
   "pygments_lexer": "ipython3",
   "version": "3.8.2"
  },
  "orig_nbformat": 4,
  "vscode": {
   "interpreter": {
    "hash": "aee8b7b246df8f9039afb4144a1f6fd8d2ca17a180786b69acc140d282b71a49"
   }
  }
 },
 "nbformat": 4,
 "nbformat_minor": 2
}
