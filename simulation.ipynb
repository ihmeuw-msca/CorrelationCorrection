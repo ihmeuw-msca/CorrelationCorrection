{
 "cells": [
  {
   "cell_type": "code",
   "execution_count": 1,
   "metadata": {},
   "outputs": [],
   "source": [
    "import numpy as np\n",
    "import matplotlib.pyplot as plt\n",
    "import pandas as pd"
   ]
  },
  {
   "cell_type": "code",
   "execution_count": 194,
   "metadata": {},
   "outputs": [],
   "source": [
    "def simulate_beta(x_vals,n_samps,n_samps_control,beta_true):\n",
    "    n_x = len(x_vals)\n",
    "    means = beta_true*x_vals\n",
    "    samples = np.random.normal(size = (n_samps,n_x))+means\n",
    "\n",
    "    control = np.random.normal(size = n_samps_control)\n",
    "\n",
    "    estimates = np.mean(samples,axis=0) - np.mean(control)\n",
    "\n",
    "    cov = np.diag(np.ones(n_x) * 1/n_samps)\n",
    "    corr_part = np.ones(n_x)/n_samps_control\n",
    "    cov = cov + np.outer(corr_part,corr_part)\n",
    "    beta = (x_vals.T@np.linalg.inv(cov)@estimates)/(x_vals.T@np.linalg.inv(cov)@x_vals)\n",
    "    beta_bad = (x_vals.T@estimates)/(x_vals.T@x_vals)\n",
    "    return beta,beta_bad"
   ]
  },
  {
   "cell_type": "code",
   "execution_count": 207,
   "metadata": {},
   "outputs": [],
   "source": [
    "x_vals = np.array([1.,2,3])\n",
    "n_samps_control = 2\n",
    "n_samps = 20\n",
    "beta_true = 1\n",
    "\n",
    "results = np.array([simulate_beta(x_vals,n_samps=n_samps,n_samps_control=n_samps_control,beta_true=beta_true) for i in range(5000)])"
   ]
  },
  {
   "cell_type": "code",
   "execution_count": 215,
   "metadata": {},
   "outputs": [
    {
     "data": {
      "image/png": "[encoded data removed]",
      "text/plain": [
       "<Figure size 432x288 with 1 Axes>"
      ]
     },
     "metadata": {
      "needs_background": "light"
     },
     "output_type": "display_data"
    },
    {
     "name": "stdout",
     "output_type": "stream",
     "text": [
      "[0.02303572 0.09310279]\n",
      "[0.99737229 0.99046044]\n"
     ]
    }
   ],
   "source": [
    "plt.hist(results[:,0],50,alpha = 0.5,density=True)\n",
    "plt.hist(results[:,1],50,alpha = 0.5,density=True)\n",
    "plt.show()\n",
    "print(np.var(results,axis=0))\n",
    "print(np.mean(results,axis=0))"
   ]
  },
  {
   "cell_type": "code",
   "execution_count": 293,
   "metadata": {},
   "outputs": [],
   "source": [
    "seed_val = 0"
   ]
  },
  {
   "cell_type": "code",
   "execution_count": 299,
   "metadata": {},
   "outputs": [
    {
     "name": "stdout",
     "output_type": "stream",
     "text": [
      "-4.442750104851635\n"
     ]
    },
    {
     "data": {
      "image/png": "[encoded data removed]",
      "text/plain": [
       "<Figure size 432x288 with 1 Axes>"
      ]
     },
     "metadata": {
      "needs_background": "light"
     },
     "output_type": "display_data"
    }
   ],
   "source": [
    "x_vals = np.linspace(0.2,3,4)\n",
    "n_samps_control = 4\n",
    "n_samps = 5\n",
    "beta_true = 1\n",
    "np.random.seed(0)\n",
    "n_x = len(x_vals)\n",
    "means = beta_true*x_vals\n",
    "sigma = 10\n",
    "\n",
    "samples = sigma*np.random.normal(size = (n_samps,n_x))+means\n",
    "control = sigma*np.random.normal(size = n_samps_control)\n",
    "\n",
    "estimates = np.mean(samples,axis=0) - np.mean(control)\n",
    "\n",
    "cov = np.diag(np.ones(n_x) * 1/n_samps)\n",
    "corr_part = np.ones(n_x)/n_samps_control\n",
    "cov = cov + np.outer(corr_part,corr_part)\n",
    "beta = (x_vals.T@np.linalg.inv(cov)@estimates)/(x_vals.T@np.linalg.inv(cov)@x_vals)\n",
    "beta_bad = (x_vals.T@estimates)/(x_vals.T@x_vals)\n",
    "plt.scatter(x_vals,estimates)\n",
    "x_vals = np.hstack([0,x_vals])\n",
    "\n",
    "plt.plot(x_vals,beta*x_vals,label = 'WLS')\n",
    "plt.plot(x_vals,beta_bad*x_vals,label = \"OLS\")\n",
    "plt.scatter(0,0,c = 'black')\n",
    "plt.legend()\n",
    "print(np.mean(np.mean(control)))"
   ]
  },
  {
   "cell_type": "code",
   "execution_count": 297,
   "metadata": {},
   "outputs": [
    {
     "data": {
      "text/plain": [
       "3.6921083164119652"
      ]
     },
     "execution_count": 297,
     "metadata": {},
     "output_type": "execute_result"
    }
   ],
   "source": [
    "beta"
   ]
  },
  {
   "cell_type": "code",
   "execution_count": 298,
   "metadata": {},
   "outputs": [
    {
     "data": {
      "text/plain": [
       "5.112016410942742"
      ]
     },
     "execution_count": 298,
     "metadata": {},
     "output_type": "execute_result"
    }
   ],
   "source": [
    "beta_bad"
   ]
  }
 ],
 "metadata": {
  "kernelspec": {
   "display_name": "base",
   "language": "python",
   "name": "python3"
  },
  "language_info": {
   "codemirror_mode": {
    "name": "ipython",
    "version": 3
   },
   "file_extension": ".py",
   "mimetype": "text/x-python",
   "name": "python",
   "nbconvert_exporter": "python",
   "pygments_lexer": "ipython3",
   "version": "3.9.12"
  }
 },
 "nbformat": 4,
 "nbformat_minor": 2
}
