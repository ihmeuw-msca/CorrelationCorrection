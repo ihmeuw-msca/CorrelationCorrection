{
 "cells": [
  {
   "cell_type": "code",
   "execution_count": 1,
   "metadata": {},
   "outputs": [],
   "source": [
    "import numpy as np\n",
    "import matplotlib.pyplot as plt\n",
    "import pandas as pd"
   ]
  },
  {
   "cell_type": "code",
   "execution_count": 312,
   "metadata": {},
   "outputs": [],
   "source": [
    "def simulate_beta(x_vals,n_samps,n_samps_control,beta_true):\n",
    "    n_x = len(x_vals)\n",
    "    means = beta_true*x_vals\n",
    "    samples = np.random.normal(size = (n_samps,n_x))+means\n",
    "\n",
    "    control = np.random.normal(size = n_samps_control)\n",
    "\n",
    "    estimates = np.mean(samples,axis=0) - np.mean(control)\n",
    "\n",
    "    cov = np.diag(np.ones(n_x) * 1/n_samps)\n",
    "    corr_part = np.ones(n_x)/n_samps_control\n",
    "    cov = cov + np.outer(corr_part,corr_part)\n",
    "    beta = (x_vals.T@np.linalg.inv(cov)@estimates)/(x_vals.T@np.linalg.inv(cov)@x_vals)\n",
    "    beta_bad = (x_vals.T@estimates)/(x_vals.T@x_vals)\n",
    "    return beta,beta_bad"
   ]
  },
  {
   "cell_type": "code",
   "execution_count": 315,
   "metadata": {},
   "outputs": [],
   "source": [
    "x_vals = np.linspace(0.2,3,4)\n",
    "n_samps_control = 2\n",
    "n_samps = 10\n",
    "beta_true = 1\n",
    "\n",
    "results = np.array([simulate_beta(x_vals,n_samps=n_samps,n_samps_control=n_samps_control,beta_true=beta_true) for i in range(5000)])"
   ]
  },
  {
   "cell_type": "code",
   "execution_count": 316,
   "metadata": {},
   "outputs": [
    {
     "data": {
      "image/png": "[encoded data removed]",
      "text/plain": [
       "<Figure size 432x288 with 1 Axes>"
      ]
     },
     "metadata": {
      "needs_background": "light"
     },
     "output_type": "display_data"
    },
    {
     "name": "stdout",
     "output_type": "stream",
     "text": [
      "[0.02108345 0.10205605]\n",
      "[0.99961644 1.00172956]\n"
     ]
    }
   ],
   "source": [
    "plt.hist(results[:,0],50,alpha = 0.5,density=True)\n",
    "plt.hist(results[:,1],50,alpha = 0.5,density=True)\n",
    "plt.show()\n",
    "print(np.var(results,axis=0))\n",
    "print(np.mean(results,axis=0))"
   ]
  },
  {
   "cell_type": "code",
   "execution_count": 293,
   "metadata": {},
   "outputs": [],
   "source": [
    "seed_val = 0"
   ]
  },
  {
   "cell_type": "code",
   "execution_count": 317,
   "metadata": {},
   "outputs": [
    {
     "name": "stdout",
     "output_type": "stream",
     "text": [
      "0.5354218644513319\n"
     ]
    },
    {
     "data": {
      "image/png": "[encoded data removed]",
      "text/plain": [
       "<Figure size 432x288 with 1 Axes>"
      ]
     },
     "metadata": {
      "needs_background": "light"
     },
     "output_type": "display_data"
    }
   ],
   "source": [
    "x_vals = np.linspace(0.2,3,4)\n",
    "n_samps_control = 4\n",
    "n_samps = 5\n",
    "beta_true = 1\n",
    "np.random.seed(31)\n",
    "n_x = len(x_vals)\n",
    "means = beta_true*x_vals\n",
    "sigma = 1\n",
    "\n",
    "samples = sigma*np.random.normal(size = (n_samps,n_x))+means\n",
    "control = sigma*np.random.normal(size = n_samps_control)\n",
    "\n",
    "estimates = np.mean(samples,axis=0) - np.mean(control)\n",
    "\n",
    "cov = np.diag(np.ones(n_x) * 1/n_samps)\n",
    "corr_part = np.ones(n_x)/n_samps_control\n",
    "cov = cov + np.outer(corr_part,corr_part)\n",
    "beta = (x_vals.T@np.linalg.inv(cov)@estimates)/(x_vals.T@np.linalg.inv(cov)@x_vals)\n",
    "beta_bad = (x_vals.T@estimates)/(x_vals.T@x_vals)\n",
    "plt.scatter(x_vals,estimates)\n",
    "x_vals = np.hstack([0,x_vals])\n",
    "\n",
    "plt.plot(x_vals,beta*x_vals,label = 'WLS')\n",
    "plt.plot(x_vals,beta_bad*x_vals,label = \"OLS\")\n",
    "plt.scatter(0,0,c = 'black')\n",
    "plt.legend()\n",
    "print(np.mean(np.mean(control)))"
   ]
  },
  {
   "cell_type": "code",
   "execution_count": 318,
   "metadata": {},
   "outputs": [
    {
     "data": {
      "text/plain": [
       "0.8812228052161757"
      ]
     },
     "execution_count": 318,
     "metadata": {},
     "output_type": "execute_result"
    }
   ],
   "source": [
    "beta"
   ]
  },
  {
   "cell_type": "code",
   "execution_count": 319,
   "metadata": {},
   "outputs": [
    {
     "data": {
      "text/plain": [
       "0.7236863402769736"
      ]
     },
     "execution_count": 319,
     "metadata": {},
     "output_type": "execute_result"
    }
   ],
   "source": [
    "beta_bad"
   ]
  },
  {
   "cell_type": "code",
   "execution_count": null,
   "metadata": {},
   "outputs": [],
   "source": []
  }
 ],
 "metadata": {
  "kernelspec": {
   "display_name": "base",
   "language": "python",
   "name": "python3"
  },
  "language_info": {
   "codemirror_mode": {
    "name": "ipython",
    "version": 3
   },
   "file_extension": ".py",
   "mimetype": "text/x-python",
   "name": "python",
   "nbconvert_exporter": "python",
   "pygments_lexer": "ipython3",
   "version": "3.9.12"
  }
 },
 "nbformat": 4,
 "nbformat_minor": 2
}
