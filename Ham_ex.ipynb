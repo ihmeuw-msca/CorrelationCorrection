{
 "cells": [
  {
   "cell_type": "code",
   "execution_count": 2,
   "metadata": {},
   "outputs": [],
   "source": [
    "import scipy\n",
    "import numpy as np\n",
    "import cvxpy as cp\n",
    "import matplotlib.pyplot as plt\n",
    "import seaborn as sns\n",
    "\n",
    "from src.HamMethods import ham_vanilla, ham_solved\n",
    "from src.CorrFuncs import trend_est, covariance_matrix"
   ]
  },
  {
   "cell_type": "markdown",
   "metadata": {},
   "source": [
    "Initialize data"
   ]
  },
  {
   "cell_type": "code",
   "execution_count": 3,
   "metadata": {},
   "outputs": [],
   "source": [
    "x = np.array([2,6,11])\n",
    "Nx = np.array([337,167,186,212])\n",
    "M1x = 451\n",
    "Lx = np.array([np.log(0.80),np.log(1.16),np.log(1.57)])\n",
    "vx = np.array([0.0542,0.0563,0.0563])\n",
    "A0 = M1x*Nx[1:]/(Nx.sum())"
   ]
  },
  {
   "cell_type": "code",
   "execution_count": 4,
   "metadata": {},
   "outputs": [],
   "source": [
    "a0 = 165\n",
    "b0 = 172\n",
    "B = np.array([93,96,90])\n",
    "# Construct true p and z values to pass in to hamling\n",
    "B0sum = np.sum(B) + b0\n",
    "\n",
    "p0 = b0 / B0sum\n",
    "z0 = B0sum / M1x\n",
    "\n",
    "# Create initialization vector\n",
    "x_feas = np.array([10/np.min(vx),10/np.min(vx)])"
   ]
  },
  {
   "cell_type": "markdown",
   "metadata": {},
   "source": [
    "#### OR Example where everything works"
   ]
  },
  {
   "cell_type": "code",
   "execution_count": 5,
   "metadata": {},
   "outputs": [
    {
     "name": "stdout",
     "output_type": "stream",
     "text": [
      "Optimization results:       fun: 3.7254864679456837e-10\n",
      " hess_inv: array([[6144.89733454, 3909.97483207],\n",
      "       [3909.97483207, 6591.94908009]])\n",
      "      jac: array([-1.37371661e-07, -2.31259192e-07])\n",
      "  message: 'Optimization terminated successfully.'\n",
      "     nfev: 78\n",
      "      nit: 15\n",
      "     njev: 26\n",
      "   status: 0\n",
      "  success: True\n",
      "        x: array([ 96.26992359, 103.79444345])\n"
     ]
    },
    {
     "data": {
      "text/plain": [
       "array([50.96842138, 57.22200793, 67.70428642])"
      ]
     },
     "execution_count": 5,
     "metadata": {},
     "output_type": "execute_result"
    }
   ],
   "source": [
    "A_fith, B_fith, a0_fith, b0_fith = ham_vanilla(p0,z0,Lx,vx,np.array([a0,b0]))\n",
    "A_fith"
   ]
  },
  {
   "cell_type": "code",
   "execution_count": 6,
   "metadata": {},
   "outputs": [
    {
     "data": {
      "text/plain": [
       "96.26992358923333"
      ]
     },
     "execution_count": 6,
     "metadata": {},
     "output_type": "execute_result"
    }
   ],
   "source": [
    "a0_fith"
   ]
  },
  {
   "cell_type": "code",
   "execution_count": 7,
   "metadata": {},
   "outputs": [],
   "source": [
    "b_hamh, v_hamh = trend_est(A_fith,B_fith,a0_fith,b0_fith,vx,x,Lx)"
   ]
  },
  {
   "cell_type": "code",
   "execution_count": 8,
   "metadata": {},
   "outputs": [
    {
     "data": {
      "text/plain": [
       "0.04588480137880012"
      ]
     },
     "execution_count": 8,
     "metadata": {},
     "output_type": "execute_result"
    }
   ],
   "source": [
    "b_hamh"
   ]
  },
  {
   "cell_type": "code",
   "execution_count": 9,
   "metadata": {},
   "outputs": [
    {
     "data": {
      "text/plain": [
       "0.000420818983411542"
      ]
     },
     "execution_count": 9,
     "metadata": {},
     "output_type": "execute_result"
    }
   ],
   "source": [
    "v_hamh"
   ]
  },
  {
   "cell_type": "code",
   "execution_count": 10,
   "metadata": {},
   "outputs": [
    {
     "name": "stdout",
     "output_type": "stream",
     "text": [
      "Optimization results:       fun: 1.521453447336725e-08\n",
      " hess_inv: array([[5979.44407566, 3830.26456064],\n",
      "       [3830.26456064, 5717.03589146]])\n",
      "      jac: array([-2.60259339e-06,  2.39270754e-06])\n",
      "  message: 'Optimization terminated successfully.'\n",
      "     nfev: 90\n",
      "      nit: 20\n",
      "     njev: 30\n",
      "   status: 0\n",
      "  success: True\n",
      "        x: array([ 96.2653051 , 103.80232282])\n"
     ]
    },
    {
     "data": {
      "text/plain": [
       "array([50.9653846 , 57.21796661, 67.69887927])"
      ]
     },
     "execution_count": 10,
     "metadata": {},
     "output_type": "execute_result"
    }
   ],
   "source": [
    "A_fits, B_fits, a0_fits, b0_fits = ham_vanilla(p0,z0,Lx,vx,x_feas)\n",
    "A_fits"
   ]
  },
  {
   "cell_type": "code",
   "execution_count": 11,
   "metadata": {},
   "outputs": [
    {
     "data": {
      "text/plain": [
       "96.26530509583982"
      ]
     },
     "execution_count": 11,
     "metadata": {},
     "output_type": "execute_result"
    }
   ],
   "source": [
    "a0_fits"
   ]
  },
  {
   "cell_type": "code",
   "execution_count": 12,
   "metadata": {},
   "outputs": [],
   "source": [
    "b_hams, v_hams = trend_est(A_fits,B_fits,a0_fits,b0_fits,vx,x,Lx)"
   ]
  },
  {
   "cell_type": "code",
   "execution_count": 13,
   "metadata": {},
   "outputs": [
    {
     "data": {
      "text/plain": [
       "0.045884642101636106"
      ]
     },
     "execution_count": 13,
     "metadata": {},
     "output_type": "execute_result"
    }
   ],
   "source": [
    "b_hams"
   ]
  },
  {
   "cell_type": "code",
   "execution_count": 14,
   "metadata": {},
   "outputs": [
    {
     "data": {
      "text/plain": [
       "0.0004208192341737844"
      ]
     },
     "execution_count": 14,
     "metadata": {},
     "output_type": "execute_result"
    }
   ],
   "source": [
    "v_hams"
   ]
  },
  {
   "cell_type": "markdown",
   "metadata": {},
   "source": [
    "Create Covariance Matrix Plot"
   ]
  },
  {
   "cell_type": "code",
   "execution_count": 15,
   "metadata": {},
   "outputs": [],
   "source": [
    "C1 = covariance_matrix(A_fits,B_fits,a0_fits,b0_fits,vx)"
   ]
  },
  {
   "cell_type": "code",
   "execution_count": 16,
   "metadata": {},
   "outputs": [
    {
     "data": {
      "text/plain": [
       "array([[0.0542    , 0.02002165, 0.02002165],\n",
       "       [0.02002165, 0.0563    , 0.02002165],\n",
       "       [0.02002165, 0.02002165, 0.0563    ]])"
      ]
     },
     "execution_count": 16,
     "metadata": {},
     "output_type": "execute_result"
    }
   ],
   "source": [
    "C1"
   ]
  },
  {
   "cell_type": "code",
   "execution_count": 21,
   "metadata": {},
   "outputs": [
    {
     "data": {
      "image/png": "[encoded data removed]",
      "text/plain": [
       "<Figure size 576x432 with 2 Axes>"
      ]
     },
     "metadata": {},
     "output_type": "display_data"
    }
   ],
   "source": [
    "# Use seaborn's heatmap function which has an option to mask parts of the matrix\n",
    "mask = np.triu(np.ones_like(C1, dtype=bool))  # Mask for the upper triangle\n",
    "\n",
    "plt.figure(figsize=(8, 6))\n",
    "sns.set(font_scale=1.6)\n",
    "sns.heatmap(C1, annot=True, fmt=\".4f\", mask=mask, cmap='Blues', cbar=True, square=True, \n",
    "            xticklabels=[f'Lvl{i+1}' for i in range(3)], \n",
    "            yticklabels=[f'Lvl{i+1}' for i in range(3)],vmin=0.01,vmax=0.03)\n",
    "# plt.title('Upper Triangle of Covariance Matrix--Solved Hamling')\n",
    "plt.savefig(\"images/ham_solved_covar.png\")\n",
    "plt.show()"
   ]
  },
  {
   "cell_type": "markdown",
   "metadata": {},
   "source": [
    "#### Another OR example where everything works (but it's hidden as RR)"
   ]
  },
  {
   "cell_type": "code",
   "execution_count": 9,
   "metadata": {},
   "outputs": [],
   "source": [
    "x = np.array([9.06,27.,45.,64.8])\n",
    "Nx = np.array([414,261,228,44,34])\n",
    "A0 = np.array([61,69,22,19])\n",
    "B = Nx[1:] - A0\n",
    "a0 = 126\n",
    "b0 = Nx[0] - a0\n",
    "M1x = np.sum(A0) + a0\n",
    "Lx = np.array([-0.2231435,-0.0001,0.5306283,0.8754687])\n",
    "vx = np.array([0.2233380,0.2337519,0.3765137,0.4440046])\n",
    "vx = vx**2\n",
    "# Lx = np.log((A0*b0)/(a0*B))\n",
    "# vx = 1/a0 - 1/b0 + 1/A0 - 1/B"
   ]
  },
  {
   "cell_type": "code",
   "execution_count": 10,
   "metadata": {},
   "outputs": [],
   "source": [
    "A_fith, B_fith, a0_fith, b0_fith = ham_vanilla(b0,B,M1x,Lx,vx,a0)"
   ]
  },
  {
   "cell_type": "code",
   "execution_count": 11,
   "metadata": {},
   "outputs": [
    {
     "data": {
      "text/plain": [
       "array([42.86671822, 39.59811018, 14.0486192 , 11.37901951])"
      ]
     },
     "execution_count": 11,
     "metadata": {},
     "output_type": "execute_result"
    }
   ],
   "source": [
    "A_fith"
   ]
  },
  {
   "cell_type": "code",
   "execution_count": 12,
   "metadata": {},
   "outputs": [
    {
     "data": {
      "text/plain": [
       "array([124.55384629,  92.05445382,  19.20930333,  11.02098809])"
      ]
     },
     "execution_count": 12,
     "metadata": {},
     "output_type": "execute_result"
    }
   ],
   "source": [
    "B_fith"
   ]
  },
  {
   "cell_type": "code",
   "execution_count": 13,
   "metadata": {},
   "outputs": [
    {
     "data": {
      "text/plain": [
       "77.21190403475387"
      ]
     },
     "execution_count": 13,
     "metadata": {},
     "output_type": "execute_result"
    }
   ],
   "source": [
    "a0_fith"
   ]
  },
  {
   "cell_type": "code",
   "execution_count": 14,
   "metadata": {},
   "outputs": [
    {
     "data": {
      "text/plain": [
       "array([[0.04987986, 0.01852308, 0.01852308, 0.01852308],\n",
       "       [0.01852308, 0.05463995, 0.01852308, 0.01852308],\n",
       "       [0.01852308, 0.01852308, 0.14176257, 0.01852308],\n",
       "       [0.01852308, 0.01852308, 0.01852308, 0.19714008]])"
      ]
     },
     "execution_count": 14,
     "metadata": {},
     "output_type": "execute_result"
    }
   ],
   "source": [
    "covariance_matrix(A_fith,B_fith,a0_fith,b0_fith,vx)"
   ]
  },
  {
   "cell_type": "code",
   "execution_count": 15,
   "metadata": {},
   "outputs": [],
   "source": [
    "A_fits, B_fits, a0_fits, b0_fits = ham_solved(b0,B,M1x,Lx,vx,a0)"
   ]
  },
  {
   "cell_type": "code",
   "execution_count": 16,
   "metadata": {},
   "outputs": [
    {
     "data": {
      "text/plain": [
       "array([[0.04987986, 0.01852028, 0.01852028, 0.01852028],\n",
       "       [0.01852028, 0.05463995, 0.01852028, 0.01852028],\n",
       "       [0.01852028, 0.01852028, 0.14176257, 0.01852028],\n",
       "       [0.01852028, 0.01852028, 0.01852028, 0.19714008]])"
      ]
     },
     "execution_count": 16,
     "metadata": {},
     "output_type": "execute_result"
    }
   ],
   "source": [
    "covariance_matrix(A_fits,B_fits,a0_fits,b0_fits,vx)"
   ]
  },
  {
   "cell_type": "code",
   "execution_count": 17,
   "metadata": {},
   "outputs": [
    {
     "data": {
      "text/plain": [
       "array([42.86323567, 39.59541784, 14.04849145, 11.37902797])"
      ]
     },
     "execution_count": 17,
     "metadata": {},
     "output_type": "execute_result"
    }
   ],
   "source": [
    "A_fits"
   ]
  },
  {
   "cell_type": "code",
   "execution_count": 21,
   "metadata": {},
   "outputs": [
    {
     "data": {
      "text/plain": [
       "77.2243631435358"
      ]
     },
     "execution_count": 21,
     "metadata": {},
     "output_type": "execute_result"
    }
   ],
   "source": [
    "a0_fits"
   ]
  },
  {
   "cell_type": "code",
   "execution_count": 22,
   "metadata": {},
   "outputs": [
    {
     "data": {
      "text/plain": [
       "array([124.53969108,  92.04521175,  19.20850611,  11.02063911])"
      ]
     },
     "execution_count": 22,
     "metadata": {},
     "output_type": "execute_result"
    }
   ],
   "source": [
    "B_fits"
   ]
  },
  {
   "cell_type": "markdown",
   "metadata": {},
   "source": [
    "#### RR example where everything works"
   ]
  },
  {
   "cell_type": "code",
   "execution_count": 22,
   "metadata": {},
   "outputs": [],
   "source": [
    "x = np.array([1.8286, 9.1992, 22.8571, 35.6667, 58.4257])\n",
    "A = np.array([38, 43, 32, 16, 27])\n",
    "a0 = 28\n",
    "M1 = np.sum(A) + a0\n",
    "B = np.array([43030.54, 53088.96, 45348.09, 19790.79, 19919.85])\n",
    "b0 = 22185.73\n",
    "L = np.array([-0.41673, -0.39555, -0.48842, -0.27903, 0.20232])\n",
    "v = np.array([0.2510976, 0.2456013, 0.2633819, 0.3208115, 0.2861643])\n",
    "v *= v\n",
    "\n",
    "# Construct true p and z values to pass in to hamling\n",
    "B0sum = np.sum(B) + b0\n",
    "\n",
    "p0 = b0 / B0sum\n",
    "z0 = B0sum / M1x\n",
    "\n",
    "# Create initialization vector\n",
    "x_feas = np.array([10/np.min(vx),10/np.min(vx)])"
   ]
  },
  {
   "cell_type": "code",
   "execution_count": 23,
   "metadata": {},
   "outputs": [
    {
     "name": "stdout",
     "output_type": "stream",
     "text": [
      "Optimization results:       fun: 1.4827367857513542e-09\n",
      " hess_inv: array([[8.20981989e+01, 3.11104175e+04],\n",
      "       [3.11104175e+04, 5.18726994e+07]])\n",
      "      jac: array([1.30487015e-06, 6.73438334e-09])\n",
      "  message: 'Optimization terminated successfully.'\n",
      "     nfev: 135\n",
      "      nit: 15\n",
      "     njev: 45\n",
      "   status: 0\n",
      "  success: True\n",
      "        x: array([  26.40870677, 8832.44755667])\n"
     ]
    }
   ],
   "source": [
    "A_fith, B_fith, a0_fith, b0_fith = ham_vanilla(p0,z0,L,v,x_feas,OR=False)"
   ]
  },
  {
   "cell_type": "code",
   "execution_count": 24,
   "metadata": {},
   "outputs": [
    {
     "data": {
      "text/plain": [
       "array([39.45258379, 44.22344379, 31.57058291, 15.31049443, 22.57383232])"
      ]
     },
     "execution_count": 24,
     "metadata": {},
     "output_type": "execute_result"
    }
   ],
   "source": [
    "A_fith"
   ]
  },
  {
   "cell_type": "code",
   "execution_count": 25,
   "metadata": {},
   "outputs": [
    {
     "data": {
      "text/plain": [
       "array([20016.72042125, 21967.04676155, 17208.16828436,  6768.68554113,\n",
       "        6166.98324066])"
      ]
     },
     "execution_count": 25,
     "metadata": {},
     "output_type": "execute_result"
    }
   ],
   "source": [
    "B_fith"
   ]
  },
  {
   "cell_type": "code",
   "execution_count": 26,
   "metadata": {},
   "outputs": [],
   "source": [
    "b_hRR, se_hRR = trend_est(A_fith,B_fith,a0_fith,b0_fith,v,x,L,unadj=False)"
   ]
  },
  {
   "cell_type": "code",
   "execution_count": 27,
   "metadata": {},
   "outputs": [
    {
     "data": {
      "text/plain": [
       "0.006331334880098499"
      ]
     },
     "execution_count": 27,
     "metadata": {},
     "output_type": "execute_result"
    }
   ],
   "source": [
    "b_hRR"
   ]
  },
  {
   "cell_type": "code",
   "execution_count": 28,
   "metadata": {},
   "outputs": [
    {
     "data": {
      "text/plain": [
       "1.5436877755961196e-05"
      ]
     },
     "execution_count": 28,
     "metadata": {},
     "output_type": "execute_result"
    }
   ],
   "source": [
    "se_hRR"
   ]
  },
  {
   "cell_type": "code",
   "execution_count": 29,
   "metadata": {},
   "outputs": [],
   "source": [
    "C2 = covariance_matrix(A_fith,B_fith,a0_fith,b0_fith,v)"
   ]
  },
  {
   "cell_type": "code",
   "execution_count": 32,
   "metadata": {},
   "outputs": [
    {
     "data": {
      "image/png": "[encoded data removed]",
      "text/plain": [
       "<Figure size 576x432 with 2 Axes>"
      ]
     },
     "metadata": {},
     "output_type": "display_data"
    }
   ],
   "source": [
    "# Use seaborn's heatmap function which has an option to mask parts of the matrix\n",
    "mask = np.triu(np.ones_like(C2, dtype=bool))  # Mask for the upper triangle\n",
    "\n",
    "plt.figure(figsize=(8, 6))\n",
    "sns.set(font_scale=1.6)\n",
    "sns.heatmap(C2, annot=True, fmt=\".4f\", mask=mask, cmap='Blues', cbar=True, square=True, \n",
    "            xticklabels=[f'Lvl{i+1}' for i in range(5)], \n",
    "            yticklabels=[f'Lvl{i+1}' for i in range(5)], vmin=.03,vmax=0.045)\n",
    "# plt.title('Upper Triangle of Covariance Matrix--Solved Hamling')\n",
    "plt.savefig(\"images/ham_solved_covarRR.png\")\n",
    "plt.show()"
   ]
  },
  {
   "cell_type": "markdown",
   "metadata": {},
   "source": [
    "This matches! In other words, our vanilla Hamling copy matches what $\\verb+dosresmeta+$ gives."
   ]
  },
  {
   "cell_type": "markdown",
   "metadata": {},
   "source": [
    "Next, we make sure our method also gives the same result"
   ]
  },
  {
   "cell_type": "code",
   "execution_count": 11,
   "metadata": {},
   "outputs": [],
   "source": [
    "A_fits, B_fits, a0_fits, b0_fits = ham_solved(b0,B,M1,L,v,a0,OR=False)"
   ]
  },
  {
   "cell_type": "code",
   "execution_count": 12,
   "metadata": {},
   "outputs": [
    {
     "data": {
      "text/plain": [
       "array([39.51239758, 44.2934568 , 31.61369796, 15.33310551, 22.62742335])"
      ]
     },
     "execution_count": 12,
     "metadata": {},
     "output_type": "execute_result"
    }
   ],
   "source": [
    "A_fits"
   ]
  },
  {
   "cell_type": "code",
   "execution_count": 13,
   "metadata": {},
   "outputs": [
    {
     "data": {
      "text/plain": [
       "26.449454769982697"
      ]
     },
     "execution_count": 13,
     "metadata": {},
     "output_type": "execute_result"
    }
   ],
   "source": [
    "a0_fits"
   ]
  },
  {
   "cell_type": "code",
   "execution_count": 14,
   "metadata": {},
   "outputs": [
    {
     "data": {
      "text/plain": [
       "(0.006333423042905303,\n",
       " 1.543672379583075e-05,\n",
       " -0.002945971690368591,\n",
       " 1.5864902051567542e-05)"
      ]
     },
     "execution_count": 14,
     "metadata": {},
     "output_type": "execute_result"
    }
   ],
   "source": [
    "trend_est(A_fits,B_fits,a0_fits,b0_fits,v,x,L,unadj=True)"
   ]
  },
  {
   "cell_type": "markdown",
   "metadata": {},
   "source": [
    "#### Example where normal Hamling breaks but our method works"
   ]
  },
  {
   "cell_type": "code",
   "execution_count": 41,
   "metadata": {},
   "outputs": [],
   "source": [
    "x = np.array([9.06,27.,45.,64.8])\n",
    "Nx = np.array([414,261,228,44,34])\n",
    "A0 = np.array([61,69,22,19])\n",
    "B = Nx[1:] - A0\n",
    "a0 = 126\n",
    "b0 = Nx[0] - a0\n",
    "M1x = np.sum(A0) + a0\n",
    "Lx = np.array([-0.2231435,-0.0001,0.5306283,0.8754687])\n",
    "vx = np.array([0.001,0.01,0.2,0.9])\n",
    "# vx = np.array([0.01,0.01,0.1,0.1])\n",
    "# vx = np.array([0.000001,0.1,0.1,0.9])\n",
    "# vx = np.array([100,100,100,100])\n",
    "# vx = vx**2\n",
    "# vx = np.array([0.2233380,0.2337519,0.3765137,0.4440046])\n",
    "# vx = vx**2\n",
    "\n",
    "# Construct true p and z values to pass in to hamling\n",
    "B0sum = np.sum(B) + b0\n",
    "\n",
    "p0 = b0 / B0sum\n",
    "z0 = B0sum / M1x\n",
    "\n",
    "# Create initialization vector\n",
    "x_feas = np.array([10/np.min(vx),10/np.min(vx)])"
   ]
  },
  {
   "cell_type": "code",
   "execution_count": 42,
   "metadata": {},
   "outputs": [],
   "source": [
    "vx_list = []\n",
    "vx_init = np.array([0.000001,0.1,0.1,0.9])\n",
    "for i in range(7):\n",
    "    vx_new = vx_init.copy()\n",
    "    vx_new[0] = vx_init[0]*(10**i)\n",
    "    vx_list.append(vx_new)"
   ]
  },
  {
   "cell_type": "code",
   "execution_count": 43,
   "metadata": {},
   "outputs": [
    {
     "name": "stdout",
     "output_type": "stream",
     "text": [
      "Optimization results:       fun: 6.72807681720106e-08\n",
      " hess_inv: array([[ 1670.78204649, -3982.61163709],\n",
      "       [-3982.61163709, 59710.44399183]])\n",
      "      jac: array([-5.07445371e-06,  6.71118844e-07])\n",
      "  message: 'Optimization terminated successfully.'\n",
      "     nfev: 96\n",
      "      nit: 22\n",
      "     njev: 32\n",
      "   status: 0\n",
      "  success: True\n",
      "        x: array([189.67115115, 491.85038897])\n"
     ]
    }
   ],
   "source": [
    "A_b, B_b, a0_b, b0_b = ham_vanilla(p0,z0,Lx,vx,np.array([a0,b0]))"
   ]
  },
  {
   "cell_type": "code",
   "execution_count": 50,
   "metadata": {},
   "outputs": [
    {
     "data": {
      "image/png": "[encoded data removed]",
      "text/plain": [
       "<Figure size 576x432 with 2 Axes>"
      ]
     },
     "metadata": {},
     "output_type": "display_data"
    }
   ],
   "source": [
    "C3 = covariance_matrix(A_b, B_b, a0_b, b0_b, vx)\n",
    "# Use seaborn's heatmap function which has an option to mask parts of the matrix\n",
    "mask = np.triu(np.ones_like(C3, dtype=bool))  # Mask for the upper triangle\n",
    "\n",
    "plt.figure(figsize=(8, 6))\n",
    "sns.set(font_scale=1.6)\n",
    "sns.heatmap(C3, annot=True, fmt=\".4f\", mask=mask, cmap='Blues', cbar=True, square=True, \n",
    "            xticklabels=[f'Lvl{i+1}' for i in range(4)], \n",
    "            yticklabels=[f'Lvl{i+1}' for i in range(4)], vmin=.0003,vmax=0.008)\n",
    "# plt.title('Upper Triangle of Covariance Matrix--Solved Hamling')\n",
    "plt.savefig(\"images/ham_vanilla_break.png\")\n",
    "plt.show()"
   ]
  },
  {
   "cell_type": "code",
   "execution_count": 40,
   "metadata": {},
   "outputs": [
    {
     "data": {
      "text/plain": [
       "array([[1.e-06, 2.e-07, 2.e-07, 2.e-07],\n",
       "       [2.e-07, 1.e-01, 2.e-07, 2.e-07],\n",
       "       [2.e-07, 2.e-07, 1.e-01, 2.e-07],\n",
       "       [2.e-07, 2.e-07, 2.e-07, 9.e-01]])"
      ]
     },
     "execution_count": 40,
     "metadata": {},
     "output_type": "execute_result"
    }
   ],
   "source": [
    "C4"
   ]
  },
  {
   "cell_type": "code",
   "execution_count": 51,
   "metadata": {},
   "outputs": [
    {
     "name": "stdout",
     "output_type": "stream",
     "text": [
      "Optimization results:       fun: 4.3011797686853364e-05\n",
      " hess_inv: array([[ 2245565.28534571,  3927086.28930181],\n",
      "       [ 3927086.28930181, 23336516.70550401]])\n",
      "      jac: array([-4.30528780e-06, -6.85573013e-07])\n",
      "  message: 'Optimization terminated successfully.'\n",
      "     nfev: 168\n",
      "      nit: 37\n",
      "     njev: 56\n",
      "   status: 0\n",
      "  success: True\n",
      "        x: array([2792.75746824, 5722.78172882])\n"
     ]
    },
    {
     "data": {
      "image/png": "[encoded data removed]",
      "text/plain": [
       "<Figure size 576x432 with 2 Axes>"
      ]
     },
     "metadata": {},
     "output_type": "display_data"
    }
   ],
   "source": [
    "A_g, B_g, a0_g, b0_g = ham_vanilla(p0,z0,Lx,vx,x_feas)\n",
    "C4 = covariance_matrix(A_g, B_g, a0_g, b0_g, vx)\n",
    "# Use seaborn's heatmap function which has an option to mask parts of the matrix\n",
    "mask = np.triu(np.ones_like(C4, dtype=bool))  # Mask for the upper triangle\n",
    "\n",
    "plt.figure(figsize=(8, 6))\n",
    "sns.set(font_scale=1.6)\n",
    "sns.heatmap(C4, annot=True, fmt=\".4f\", mask=mask, cmap='Blues', cbar=True, square=True, \n",
    "            xticklabels=[f'Lvl{i+1}' for i in range(4)], \n",
    "            yticklabels=[f'Lvl{i+1}' for i in range(4)],vmin=.0003,vmax=0.008)\n",
    "# plt.title('Upper Triangle of Covariance Matrix--Solved Hamling')\n",
    "plt.savefig(\"images/ham_solved_break.png\")\n",
    "plt.show()"
   ]
  },
  {
   "cell_type": "code",
   "execution_count": 75,
   "metadata": {},
   "outputs": [
    {
     "name": "stdout",
     "output_type": "stream",
     "text": [
      "Optimization results:       fun: 3.031881003759493e-09\n",
      " hess_inv: array([[  43.71462723,  -19.77825048],\n",
      "       [ -19.77825048, 1925.82378907]])\n",
      "      jac: array([-7.94924310e-06,  1.21243772e-06])\n",
      "  message: 'Optimization terminated successfully.'\n",
      "     nfev: 93\n",
      "      nit: 24\n",
      "     njev: 31\n",
      "   status: 0\n",
      "  success: True\n",
      "        x: array([21.73864359, 71.40526681])\n",
      "Optimization results:       fun: 1.4526831274039545e-10\n",
      " hess_inv: array([[  43.87959403,  -23.39784078],\n",
      "       [ -23.39784078, 1847.31715361]])\n",
      "      jac: array([-1.50469104e-06,  2.98117310e-07])\n",
      "  message: 'Optimization terminated successfully.'\n",
      "     nfev: 90\n",
      "      nit: 24\n",
      "     njev: 30\n",
      "   status: 0\n",
      "  success: True\n",
      "        x: array([21.7381979 , 71.40273869])\n",
      "Optimization results:       fun: 9.135871276560789e-11\n",
      " hess_inv: array([[  43.68798618,  -22.46609393],\n",
      "       [ -22.46609393, 1887.32976919]])\n",
      "      jac: array([-2.01090961e-06,  2.52773968e-08])\n",
      "  message: 'Optimization terminated successfully.'\n",
      "     nfev: 99\n",
      "      nit: 26\n",
      "     njev: 33\n",
      "   status: 0\n",
      "  success: True\n",
      "        x: array([21.73062219, 71.39578514])\n",
      "Optimization results:       fun: 77.85871831723553\n",
      " hess_inv: array([[ 1.52329047e+08, -3.79822285e+03],\n",
      "       [-3.79822285e+03,  6.48253306e-01]])\n",
      "      jac: array([6.67572021e-06, 4.64344025e-02])\n",
      "  message: 'Desired error not necessarily achieved due to precision loss.'\n",
      "     nfev: 327\n",
      "      nit: 59\n",
      "     njev: 105\n",
      "   status: 2\n",
      "  success: False\n",
      "        x: array([80059.01357537,   278.83380009])\n",
      "Optimization results:       fun: 1.6150567782774914e-07\n",
      " hess_inv: array([[ 28901.66752352,  49912.00707069],\n",
      "       [ 49912.00707069, 240241.87770239]])\n",
      "      jac: array([-3.81800661e-06,  8.77343012e-07])\n",
      "  message: 'Optimization terminated successfully.'\n",
      "     nfev: 114\n",
      "      nit: 34\n",
      "     njev: 38\n",
      "   status: 0\n",
      "  success: True\n",
      "        x: array([283.27429824, 591.44302787])\n",
      "Optimization results:       fun: 8.508543954833756e-10\n",
      " hess_inv: array([[ 1431.77848829,  2789.2631933 ],\n",
      "       [ 2789.2631933 , 10609.27761084]])\n",
      "      jac: array([9.98129583e-07, 3.99313557e-08])\n",
      "  message: 'Optimization terminated successfully.'\n",
      "     nfev: 96\n",
      "      nit: 24\n",
      "     njev: 32\n",
      "   status: 0\n",
      "  success: True\n",
      "        x: array([ 44.09919501, 108.06051483])\n",
      "Optimization results:       fun: 2.4433582829865272e-09\n",
      " hess_inv: array([[ 539.01571589,  834.60321006],\n",
      "       [ 834.60321006, 4128.32257858]])\n",
      "      jac: array([-1.78641491e-07, -9.55858708e-07])\n",
      "  message: 'Optimization terminated successfully.'\n",
      "     nfev: 135\n",
      "      nit: 30\n",
      "     njev: 45\n",
      "   status: 0\n",
      "  success: True\n",
      "        x: array([31.74447645, 85.49015492])\n"
     ]
    }
   ],
   "source": [
    "neg_list = []\n",
    "pos_list = []\n",
    "for i in range(7):\n",
    "    A1 = ham_vanilla(p0,z0,Lx,vx_list[i],np.array([a0,b0]))[0][0]\n",
    "    if A1 < 0:\n",
    "        neg_list.append((A1,i))\n",
    "    else:\n",
    "        pos_list.append((A1,i))"
   ]
  },
  {
   "cell_type": "code",
   "execution_count": 76,
   "metadata": {},
   "outputs": [
    {
     "data": {
      "text/plain": [
       "[(-20.72428273704139, 0),\n",
       " (-20.726954972019747, 1),\n",
       " (-20.75104508203735, 2),\n",
       " (-88768.5530824421, 3)]"
      ]
     },
     "execution_count": 76,
     "metadata": {},
     "output_type": "execute_result"
    }
   ],
   "source": [
    "neg_list"
   ]
  },
  {
   "cell_type": "code",
   "execution_count": 77,
   "metadata": {},
   "outputs": [
    {
     "data": {
      "text/plain": [
       "[(289.4209158532763, 4), (19.487030555825207, 5), (1.3556197015320552, 6)]"
      ]
     },
     "execution_count": 77,
     "metadata": {},
     "output_type": "execute_result"
    }
   ],
   "source": [
    "pos_list"
   ]
  },
  {
   "cell_type": "code",
   "execution_count": 78,
   "metadata": {},
   "outputs": [
    {
     "data": {
      "text/plain": [
       "array([0.01, 0.1 , 0.1 , 0.9 ])"
      ]
     },
     "execution_count": 78,
     "metadata": {},
     "output_type": "execute_result"
    }
   ],
   "source": [
    "vx_list[4]"
   ]
  },
  {
   "cell_type": "code",
   "execution_count": 79,
   "metadata": {},
   "outputs": [
    {
     "data": {
      "text/plain": [
       "[array([1.e-06, 1.e-01, 1.e-01, 9.e-01]),\n",
       " array([1.e-05, 1.e-01, 1.e-01, 9.e-01]),\n",
       " array([1.e-04, 1.e-01, 1.e-01, 9.e-01]),\n",
       " array([0.001, 0.1  , 0.1  , 0.9  ])]"
      ]
     },
     "execution_count": 79,
     "metadata": {},
     "output_type": "execute_result"
    }
   ],
   "source": [
    "vx_list[0:4]"
   ]
  },
  {
   "cell_type": "code",
   "execution_count": null,
   "metadata": {},
   "outputs": [],
   "source": []
  }
 ],
 "metadata": {
  "kernelspec": {
   "display_name": "Python 3.8.2 64-bit",
   "language": "python",
   "name": "python3"
  },
  "language_info": {
   "codemirror_mode": {
    "name": "ipython",
    "version": 3
   },
   "file_extension": ".py",
   "mimetype": "text/x-python",
   "name": "python",
   "nbconvert_exporter": "python",
   "pygments_lexer": "ipython3",
   "version": "3.8.2"
  },
  "orig_nbformat": 4,
  "vscode": {
   "interpreter": {
    "hash": "aee8b7b246df8f9039afb4144a1f6fd8d2ca17a180786b69acc140d282b71a49"
   }
  }
 },
 "nbformat": 4,
 "nbformat_minor": 2
}
