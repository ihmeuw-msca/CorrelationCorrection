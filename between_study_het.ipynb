{
 "cells": [
  {
   "cell_type": "code",
   "execution_count": 2,
   "metadata": {},
   "outputs": [],
   "source": [
    "import jax\n",
    "jax.config.update('jax_enable_x64',True)\n",
    "import jax.numpy as jnp\n",
    "import pandas as pd\n",
    "from jax.random import PRNGKey as pkey\n",
    "from jax.scipy.special import expit\n",
    "from jaxopt import LBFGS\n",
    "import statsmodels.api as sm\n"
   ]
  },
  {
   "cell_type": "code",
   "execution_count": 168,
   "metadata": {},
   "outputs": [
    {
     "name": "stdout",
     "output_type": "stream",
     "text": [
      "Optimization terminated successfully.\n",
      "         Current function value: 0.427477\n",
      "         Iterations 7\n"
     ]
    }
   ],
   "source": [
    "beta_true = 1.\n",
    "num_covs = 1\n",
    "num_subjects_per_group = 2000\n",
    "num_groups = 4\n",
    "total_subjects = num_subjects_per_group*num_groups\n",
    "num_exposures = num_groups -1 \n",
    "intercept_val = 0.2\n",
    "confounding_constant = 0.2\n",
    "assignment = jnp.vstack([jnp.arange(num_groups)]*num_subjects_per_group).T.flatten().reshape(-1,1)\n",
    "covs = jnp.hstack([jax.random.normal(pkey(12),(total_subjects,num_covs))]) + confounding_constant*assignment\n",
    "beta_covs = jax.random.normal(pkey(13),(num_covs,))\n",
    "full_beta = jnp.hstack([beta_true,intercept_val,beta_covs])\n",
    "\n",
    "\n",
    "#This is just for simulating\n",
    "X_sim = jnp.hstack([assignment,jnp.ones((total_subjects,1)),covs])\n",
    "Y_obs = jax.random.binomial(pkey(1),1,expit(X_sim@full_beta))\n",
    "\n",
    "dummies = pd.get_dummies(pd.Series(assignment[:,0]),prefix='treat',drop_first=True).astype('float64')\n",
    "X_reg = jnp.hstack([jnp.ones((total_subjects,1)),covs,dummies.values])\n",
    "\n",
    "df_reg = pd.DataFrame(X_reg,columns = ['intercept']+['covariate']+list(dummies.columns))\n",
    "\n",
    "dummies = pd.get_dummies(pd.Series(assignment[:,0]),prefix='treat',drop_first=True).astype('float64')\n",
    "X_reg = jnp.hstack([jnp.ones((total_subjects,1)),covs,dummies.values])\n",
    "\n",
    "df_reg = pd.DataFrame(X_reg,columns = ['intercept']+['covariate']+list(dummies.columns))\n",
    "\n",
    "model = sm.Logit(Y_obs, df_reg)\n",
    "results = model.fit()\n",
    "results.summary()\n",
    "\n",
    "L = results.params[-num_exposures:].values\n",
    "V = jnp.diag(results.cov_params().values[-num_exposures:,-num_exposures:])"
   ]
  },
  {
   "cell_type": "code",
   "execution_count": 207,
   "metadata": {},
   "outputs": [],
   "source": [
    "beta_true = 0.5\n",
    "gamma_true = 0.1\n",
    "num_studies = 10\n",
    "num_covs = 1\n",
    "num_subjects_per_group = 5000\n",
    "num_groups = 4\n",
    "total_subjects = num_subjects_per_group*num_groups\n",
    "num_exposures = num_groups -1 \n",
    "intercept_val = 0.1\n",
    "confounding_constant = 0.25\n",
    "\n",
    "def simulate_study(key):\n",
    "    keys = jax.random.split(key,10)\n",
    "\n",
    "    assignment = jnp.vstack([jnp.arange(num_groups)]*num_subjects_per_group).T.flatten().reshape(-1,1)\n",
    "    covs = jnp.hstack([jax.random.normal(keys[0],(total_subjects,num_covs))]) + confounding_constant*assignment\n",
    "    beta_covs = jax.random.normal(keys[2],(num_covs,))\n",
    "\n",
    "    beta_perturb = jnp.sqrt(gamma_true)*jax.random.normal(keys[8])\n",
    "\n",
    "    beta_study = beta_true+beta_perturb\n",
    "    full_beta = jnp.hstack([beta_study,intercept_val,beta_covs])\n",
    "\n",
    "    #This is just for simulating\n",
    "    X_sim = jnp.hstack([assignment,jnp.ones((total_subjects,1)),covs])\n",
    "    Y_obs = jax.random.binomial(keys[5],1,expit(X_sim@full_beta))\n",
    "\n",
    "    dummies = pd.get_dummies(pd.Series(assignment[:,0]),prefix='treat',drop_first=True).astype('float64')\n",
    "    X_reg = jnp.hstack([jnp.ones((total_subjects,1)),covs,dummies.values])\n",
    "\n",
    "    df_reg = pd.DataFrame(X_reg,columns = ['intercept']+['covariate']+list(dummies.columns))\n",
    "\n",
    "    dummies = pd.get_dummies(pd.Series(assignment[:,0]),prefix='treat',drop_first=True).astype('float64')\n",
    "    X_reg = jnp.hstack([jnp.ones((total_subjects,1)),covs,dummies.values])\n",
    "\n",
    "    df_reg = pd.DataFrame(X_reg,columns = ['intercept']+['covariate']+list(dummies.columns))\n",
    "\n",
    "    model = sm.Logit(Y_obs, df_reg)\n",
    "    results = model.fit()\n",
    "    results.summary()\n",
    "\n",
    "    summary_df = pd.DataFrame({\n",
    "        'assign':assignment[:,0],\n",
    "        'is_case':Y_obs\n",
    "    })\n",
    "    total_non_cases = len(summary_df[summary_df['is_case']==0])\n",
    "    reference_non_cases = len(summary_df[(summary_df['assign']==0)&(summary_df['is_case']==0)])\n",
    "    p = reference_non_cases/total_non_cases\n",
    "    total_cases = summary_df['is_case'].sum()\n",
    "    z = total_non_cases/total_cases\n",
    "\n",
    "    L = results.params[-num_exposures:].values\n",
    "    V = jnp.diag(results.cov_params().values[-num_exposures:,-num_exposures:])\n",
    "    return L,V,results,p,z"
   ]
  },
  {
   "cell_type": "code",
   "execution_count": 208,
   "metadata": {},
   "outputs": [
    {
     "name": "stdout",
     "output_type": "stream",
     "text": [
      "Optimization terminated successfully.\n",
      "         Current function value: 0.569550\n",
      "         Iterations 6\n",
      "Optimization terminated successfully.\n",
      "         Current function value: 0.411539\n",
      "         Iterations 7\n",
      "Optimization terminated successfully.\n",
      "         Current function value: 0.402681\n",
      "         Iterations 7\n",
      "Optimization terminated successfully.\n",
      "         Current function value: 0.557483\n",
      "         Iterations 6\n",
      "Optimization terminated successfully.\n",
      "         Current function value: 0.429709\n",
      "         Iterations 7\n",
      "Optimization terminated successfully.\n",
      "         Current function value: 0.373873\n",
      "         Iterations 7\n",
      "Optimization terminated successfully.\n",
      "         Current function value: 0.607949\n",
      "         Iterations 5\n",
      "Optimization terminated successfully.\n",
      "         Current function value: 0.615964\n",
      "         Iterations 5\n",
      "Optimization terminated successfully.\n",
      "         Current function value: 0.655390\n",
      "         Iterations 5\n",
      "Optimization terminated successfully.\n",
      "         Current function value: 0.502004\n",
      "         Iterations 6\n"
     ]
    }
   ],
   "source": [
    "simulation_results = [\n",
    "    simulate_study(pkey(10*i)) for i in range(num_studies)\n",
    "]"
   ]
  },
  {
   "cell_type": "code",
   "execution_count": 209,
   "metadata": {},
   "outputs": [],
   "source": [
    "L_vals = [res[0] for res in simulation_results]\n",
    "V_vals = [res[1] for res in simulation_results]\n",
    "reg_vals = [res[2] for res in simulation_results]\n",
    "p_vals = [res[3] for res in simulation_results]\n",
    "z_vals = [res[4] for res in simulation_results]\n",
    "\n",
    "cov_mats = [result.cov_params().values[-num_exposures:,-num_exposures:] for result in reg_vals]\n",
    "z = jnp.arange(1.,1+num_exposures)\n",
    "x = jnp.arange(1.,1+num_exposures)\n",
    "fake_cov_mats = [jnp.diag(jnp.diag(C)) for C in cov_mats]\n",
    "\n",
    "Zmat = jnp.outer(z,z)"
   ]
  },
  {
   "cell_type": "code",
   "execution_count": 210,
   "metadata": {},
   "outputs": [],
   "source": [
    "def margin_like(gamma):\n",
    "    vmats = jnp.array([Zmat*gamma + C for C in cov_mats])\n",
    "    LNV = jnp.sum(jnp.array([jnp.linalg.slogdet(V)[1] for V in vmats]))\n",
    "    beta = (\n",
    "        (1/jnp.sum(jnp.array([x.T@jnp.linalg.inv(V)@x for V in vmats]))) * \n",
    "        (1/jnp.sum(jnp.array([x.T@jnp.linalg.inv(V)@L for V,L in zip(vmats,L_vals)])))\n",
    "    )\n",
    "    res_term = jnp.sum(jnp.array([(x*beta - L).T@jnp.linalg.inv(V)@(x*beta-L) for V,L in zip(vmats,L_vals)]))\n",
    "    return LNV+res_term\n",
    "\n",
    "def margin_like_fake(gamma):\n",
    "    vmats = jnp.array([Zmat*gamma + C for C in fake_cov_mats])\n",
    "    LNV = jnp.sum(jnp.array([jnp.linalg.slogdet(V)[1] for V in vmats]))\n",
    "    beta = (\n",
    "        (1/jnp.sum(jnp.array([x.T@jnp.linalg.inv(V)@x for V in vmats]))) * \n",
    "        (jnp.sum(jnp.array([x.T@jnp.linalg.inv(V)@L for V,L in zip(vmats,L_vals)])))\n",
    "    )\n",
    "    res_term = jnp.sum(jnp.array([(x*beta - L).T@jnp.linalg.inv(V)@(x*beta-L) for V,L in zip(vmats,L_vals)]))\n",
    "    return LNV+res_term"
   ]
  },
  {
   "cell_type": "code",
   "execution_count": 211,
   "metadata": {},
   "outputs": [],
   "source": [
    "gamma_grid = jnp.logspace(-2,1.2,100)\n",
    "loss_vals_cov = jax.jit(jax.vmap(margin_like))(gamma_grid)\n",
    "loss_vals_diag = jax.jit(jax.vmap(margin_like_fake))(gamma_grid)"
   ]
  },
  {
   "cell_type": "code",
   "execution_count": 212,
   "metadata": {},
   "outputs": [
    {
     "data": {
      "image/png": "[encoded data removed]",
      "text/plain": [
       "<Figure size 640x480 with 1 Axes>"
      ]
     },
     "metadata": {},
     "output_type": "display_data"
    }
   ],
   "source": [
    "plt.plot(gamma_grid,loss_vals_cov)\n",
    "plt.plot(gamma_grid,loss_vals_diag)\n",
    "plt.xscale('log')"
   ]
  },
  {
   "cell_type": "code",
   "execution_count": 213,
   "metadata": {},
   "outputs": [
    {
     "data": {
      "text/plain": [
       "Array(0.08036196, dtype=float64)"
      ]
     },
     "execution_count": 213,
     "metadata": {},
     "output_type": "execute_result"
    }
   ],
   "source": [
    "gamma_grid[jnp.argmin(loss_vals_diag)]"
   ]
  },
  {
   "cell_type": "code",
   "execution_count": 214,
   "metadata": {},
   "outputs": [
    {
     "data": {
      "text/plain": [
       "Array(0.28480359, dtype=float64)"
      ]
     },
     "execution_count": 214,
     "metadata": {},
     "output_type": "execute_result"
    }
   ],
   "source": [
    "gamma_grid[jnp.argmin(loss_vals_cov)]"
   ]
  },
  {
   "cell_type": "code",
   "execution_count": 142,
   "metadata": {},
   "outputs": [
    {
     "ename": "ValueError",
     "evalue": "x and y must have same first dimension, but have shapes (100,) and (40,)",
     "output_type": "error",
     "traceback": [
      "\u001b[0;31m---------------------------------------------------------------------------\u001b[0m",
      "\u001b[0;31mValueError\u001b[0m                                Traceback (most recent call last)",
      "Cell \u001b[0;32mIn[142], line 2\u001b[0m\n\u001b[1;32m      1\u001b[0m \u001b[38;5;28;01mimport\u001b[39;00m \u001b[38;5;21;01mmatplotlib\u001b[39;00m\u001b[38;5;21;01m.\u001b[39;00m\u001b[38;5;21;01mpyplot\u001b[39;00m \u001b[38;5;28;01mas\u001b[39;00m \u001b[38;5;21;01mplt\u001b[39;00m\n\u001b[0;32m----> 2\u001b[0m plt\u001b[38;5;241m.\u001b[39mplot(gamma_grid,loss_vals)\n\u001b[1;32m      3\u001b[0m plt\u001b[38;5;241m.\u001b[39mxscale(\u001b[38;5;124m'\u001b[39m\u001b[38;5;124mlog\u001b[39m\u001b[38;5;124m'\u001b[39m)\n",
      "File \u001b[0;32m~/miniconda3/envs/sindy/lib/python3.12/site-packages/matplotlib/pyplot.py:3708\u001b[0m, in \u001b[0;36mplot\u001b[0;34m(scalex, scaley, data, *args, **kwargs)\u001b[0m\n\u001b[1;32m   3700\u001b[0m \u001b[38;5;129m@_copy_docstring_and_deprecators\u001b[39m(Axes\u001b[38;5;241m.\u001b[39mplot)\n\u001b[1;32m   3701\u001b[0m \u001b[38;5;28;01mdef\u001b[39;00m \u001b[38;5;21mplot\u001b[39m(\n\u001b[1;32m   3702\u001b[0m     \u001b[38;5;241m*\u001b[39margs: \u001b[38;5;28mfloat\u001b[39m \u001b[38;5;241m|\u001b[39m ArrayLike \u001b[38;5;241m|\u001b[39m \u001b[38;5;28mstr\u001b[39m,\n\u001b[0;32m   (...)\u001b[0m\n\u001b[1;32m   3706\u001b[0m     \u001b[38;5;241m*\u001b[39m\u001b[38;5;241m*\u001b[39mkwargs,\n\u001b[1;32m   3707\u001b[0m ) \u001b[38;5;241m-\u001b[39m\u001b[38;5;241m>\u001b[39m \u001b[38;5;28mlist\u001b[39m[Line2D]:\n\u001b[0;32m-> 3708\u001b[0m     \u001b[38;5;28;01mreturn\u001b[39;00m gca()\u001b[38;5;241m.\u001b[39mplot(\n\u001b[1;32m   3709\u001b[0m         \u001b[38;5;241m*\u001b[39margs,\n\u001b[1;32m   3710\u001b[0m         scalex\u001b[38;5;241m=\u001b[39mscalex,\n\u001b[1;32m   3711\u001b[0m         scaley\u001b[38;5;241m=\u001b[39mscaley,\n\u001b[1;32m   3712\u001b[0m         \u001b[38;5;241m*\u001b[39m\u001b[38;5;241m*\u001b[39m({\u001b[38;5;124m\"\u001b[39m\u001b[38;5;124mdata\u001b[39m\u001b[38;5;124m\"\u001b[39m: data} \u001b[38;5;28;01mif\u001b[39;00m data \u001b[38;5;129;01mis\u001b[39;00m \u001b[38;5;129;01mnot\u001b[39;00m \u001b[38;5;28;01mNone\u001b[39;00m \u001b[38;5;28;01melse\u001b[39;00m {}),\n\u001b[1;32m   3713\u001b[0m         \u001b[38;5;241m*\u001b[39m\u001b[38;5;241m*\u001b[39mkwargs,\n\u001b[1;32m   3714\u001b[0m     )\n",
      "File \u001b[0;32m~/miniconda3/envs/sindy/lib/python3.12/site-packages/matplotlib/axes/_axes.py:1779\u001b[0m, in \u001b[0;36mAxes.plot\u001b[0;34m(self, scalex, scaley, data, *args, **kwargs)\u001b[0m\n\u001b[1;32m   1536\u001b[0m \u001b[38;5;250m\u001b[39m\u001b[38;5;124;03m\"\"\"\u001b[39;00m\n\u001b[1;32m   1537\u001b[0m \u001b[38;5;124;03mPlot y versus x as lines and/or markers.\u001b[39;00m\n\u001b[1;32m   1538\u001b[0m \n\u001b[0;32m   (...)\u001b[0m\n\u001b[1;32m   1776\u001b[0m \u001b[38;5;124;03m(``'green'``) or hex strings (``'#008000'``).\u001b[39;00m\n\u001b[1;32m   1777\u001b[0m \u001b[38;5;124;03m\"\"\"\u001b[39;00m\n\u001b[1;32m   1778\u001b[0m kwargs \u001b[38;5;241m=\u001b[39m cbook\u001b[38;5;241m.\u001b[39mnormalize_kwargs(kwargs, mlines\u001b[38;5;241m.\u001b[39mLine2D)\n\u001b[0;32m-> 1779\u001b[0m lines \u001b[38;5;241m=\u001b[39m [\u001b[38;5;241m*\u001b[39m\u001b[38;5;28mself\u001b[39m\u001b[38;5;241m.\u001b[39m_get_lines(\u001b[38;5;28mself\u001b[39m, \u001b[38;5;241m*\u001b[39margs, data\u001b[38;5;241m=\u001b[39mdata, \u001b[38;5;241m*\u001b[39m\u001b[38;5;241m*\u001b[39mkwargs)]\n\u001b[1;32m   1780\u001b[0m \u001b[38;5;28;01mfor\u001b[39;00m line \u001b[38;5;129;01min\u001b[39;00m lines:\n\u001b[1;32m   1781\u001b[0m     \u001b[38;5;28mself\u001b[39m\u001b[38;5;241m.\u001b[39madd_line(line)\n",
      "File \u001b[0;32m~/miniconda3/envs/sindy/lib/python3.12/site-packages/matplotlib/axes/_base.py:296\u001b[0m, in \u001b[0;36m_process_plot_var_args.__call__\u001b[0;34m(self, axes, data, *args, **kwargs)\u001b[0m\n\u001b[1;32m    294\u001b[0m     this \u001b[38;5;241m+\u001b[39m\u001b[38;5;241m=\u001b[39m args[\u001b[38;5;241m0\u001b[39m],\n\u001b[1;32m    295\u001b[0m     args \u001b[38;5;241m=\u001b[39m args[\u001b[38;5;241m1\u001b[39m:]\n\u001b[0;32m--> 296\u001b[0m \u001b[38;5;28;01myield from\u001b[39;00m \u001b[38;5;28mself\u001b[39m\u001b[38;5;241m.\u001b[39m_plot_args(\n\u001b[1;32m    297\u001b[0m     axes, this, kwargs, ambiguous_fmt_datakey\u001b[38;5;241m=\u001b[39mambiguous_fmt_datakey)\n",
      "File \u001b[0;32m~/miniconda3/envs/sindy/lib/python3.12/site-packages/matplotlib/axes/_base.py:486\u001b[0m, in \u001b[0;36m_process_plot_var_args._plot_args\u001b[0;34m(self, axes, tup, kwargs, return_kwargs, ambiguous_fmt_datakey)\u001b[0m\n\u001b[1;32m    483\u001b[0m     axes\u001b[38;5;241m.\u001b[39myaxis\u001b[38;5;241m.\u001b[39mupdate_units(y)\n\u001b[1;32m    485\u001b[0m \u001b[38;5;28;01mif\u001b[39;00m x\u001b[38;5;241m.\u001b[39mshape[\u001b[38;5;241m0\u001b[39m] \u001b[38;5;241m!=\u001b[39m y\u001b[38;5;241m.\u001b[39mshape[\u001b[38;5;241m0\u001b[39m]:\n\u001b[0;32m--> 486\u001b[0m     \u001b[38;5;28;01mraise\u001b[39;00m \u001b[38;5;167;01mValueError\u001b[39;00m(\u001b[38;5;124mf\u001b[39m\u001b[38;5;124m\"\u001b[39m\u001b[38;5;124mx and y must have same first dimension, but \u001b[39m\u001b[38;5;124m\"\u001b[39m\n\u001b[1;32m    487\u001b[0m                      \u001b[38;5;124mf\u001b[39m\u001b[38;5;124m\"\u001b[39m\u001b[38;5;124mhave shapes \u001b[39m\u001b[38;5;132;01m{\u001b[39;00mx\u001b[38;5;241m.\u001b[39mshape\u001b[38;5;132;01m}\u001b[39;00m\u001b[38;5;124m and \u001b[39m\u001b[38;5;132;01m{\u001b[39;00my\u001b[38;5;241m.\u001b[39mshape\u001b[38;5;132;01m}\u001b[39;00m\u001b[38;5;124m\"\u001b[39m)\n\u001b[1;32m    488\u001b[0m \u001b[38;5;28;01mif\u001b[39;00m x\u001b[38;5;241m.\u001b[39mndim \u001b[38;5;241m>\u001b[39m \u001b[38;5;241m2\u001b[39m \u001b[38;5;129;01mor\u001b[39;00m y\u001b[38;5;241m.\u001b[39mndim \u001b[38;5;241m>\u001b[39m \u001b[38;5;241m2\u001b[39m:\n\u001b[1;32m    489\u001b[0m     \u001b[38;5;28;01mraise\u001b[39;00m \u001b[38;5;167;01mValueError\u001b[39;00m(\u001b[38;5;124mf\u001b[39m\u001b[38;5;124m\"\u001b[39m\u001b[38;5;124mx and y can be no greater than 2D, but have \u001b[39m\u001b[38;5;124m\"\u001b[39m\n\u001b[1;32m    490\u001b[0m                      \u001b[38;5;124mf\u001b[39m\u001b[38;5;124m\"\u001b[39m\u001b[38;5;124mshapes \u001b[39m\u001b[38;5;132;01m{\u001b[39;00mx\u001b[38;5;241m.\u001b[39mshape\u001b[38;5;132;01m}\u001b[39;00m\u001b[38;5;124m and \u001b[39m\u001b[38;5;132;01m{\u001b[39;00my\u001b[38;5;241m.\u001b[39mshape\u001b[38;5;132;01m}\u001b[39;00m\u001b[38;5;124m\"\u001b[39m)\n",
      "\u001b[0;31mValueError\u001b[0m: x and y must have same first dimension, but have shapes (100,) and (40,)"
     ]
    },
    {
     "data": {
      "image/png": "[encoded data removed]",
      "text/plain": [
       "<Figure size 640x480 with 1 Axes>"
      ]
     },
     "metadata": {},
     "output_type": "display_data"
    }
   ],
   "source": [
    "import matplotlib.pyplot as plt\n",
    "plt.plot(gamma_grid,loss_vals)\n",
    "plt.xscale('log')"
   ]
  },
  {
   "cell_type": "code",
   "execution_count": 108,
   "metadata": {},
   "outputs": [
    {
     "data": {
      "text/plain": [
       "Array(1.35935639, dtype=float64)"
      ]
     },
     "execution_count": 108,
     "metadata": {},
     "output_type": "execute_result"
    }
   ],
   "source": [
    "gamma_grid[jnp.argmin(loss_vals)]"
   ]
  },
  {
   "cell_type": "code",
   "execution_count": 107,
   "metadata": {},
   "outputs": [
    {
     "data": {
      "text/plain": [
       "[<matplotlib.lines.Line2D at 0x729454b2d820>]"
      ]
     },
     "execution_count": 107,
     "metadata": {},
     "output_type": "execute_result"
    },
    {
     "data": {
      "image/png": "[encoded data removed]",
      "text/plain": [
       "<Figure size 640x480 with 1 Axes>"
      ]
     },
     "metadata": {},
     "output_type": "display_data"
    }
   ],
   "source": [
    "plt.plot(gamma_grid,loss_vals)"
   ]
  },
  {
   "cell_type": "code",
   "execution_count": 66,
   "metadata": {},
   "outputs": [
    {
     "ename": "ModuleNotFoundError",
     "evalue": "No module named 'cvxpy'",
     "output_type": "error",
     "traceback": [
      "\u001b[0;31m---------------------------------------------------------------------------\u001b[0m",
      "\u001b[0;31mModuleNotFoundError\u001b[0m                       Traceback (most recent call last)",
      "Cell \u001b[0;32mIn[66], line 2\u001b[0m\n\u001b[1;32m      1\u001b[0m \u001b[38;5;28;01mfrom\u001b[39;00m \u001b[38;5;21;01mcorrelation_correction\u001b[39;00m\u001b[38;5;21;01m.\u001b[39;00m\u001b[38;5;21;01mHamMethods\u001b[39;00m \u001b[38;5;28;01mimport\u001b[39;00m ham_vanilla\n\u001b[0;32m----> 2\u001b[0m \u001b[38;5;28;01mfrom\u001b[39;00m \u001b[38;5;21;01mcorrelation_correction\u001b[39;00m\u001b[38;5;21;01m.\u001b[39;00m\u001b[38;5;21;01mCorrFuncs\u001b[39;00m \u001b[38;5;28;01mimport\u001b[39;00m covariance_matrix\n\u001b[1;32m      3\u001b[0m x_init \u001b[38;5;241m=\u001b[39m (\u001b[38;5;241m10\u001b[39m\u001b[38;5;241m/\u001b[39mjnp\u001b[38;5;241m.\u001b[39mmin(V))\u001b[38;5;241m*\u001b[39mjnp\u001b[38;5;241m.\u001b[39mones(\u001b[38;5;28mlen\u001b[39m(V))\n\u001b[1;32m      4\u001b[0m L \u001b[38;5;241m=\u001b[39m L_vals[\u001b[38;5;241m0\u001b[39m]\n",
      "File \u001b[0;32m~/CorrelationCorrection/correlation_correction/CorrFuncs.py:2\u001b[0m\n\u001b[1;32m      1\u001b[0m \u001b[38;5;28;01mimport\u001b[39;00m \u001b[38;5;21;01mnumpy\u001b[39;00m \u001b[38;5;28;01mas\u001b[39;00m \u001b[38;5;21;01mnp\u001b[39;00m\n\u001b[0;32m----> 2\u001b[0m \u001b[38;5;28;01mfrom\u001b[39;00m \u001b[38;5;21;01m.\u001b[39;00m\u001b[38;5;21;01mGLMethods\u001b[39;00m \u001b[38;5;28;01mimport\u001b[39;00m \u001b[38;5;241m*\u001b[39m\n\u001b[1;32m      3\u001b[0m \u001b[38;5;28;01mfrom\u001b[39;00m \u001b[38;5;21;01m.\u001b[39;00m\u001b[38;5;21;01mHamMethods\u001b[39;00m \u001b[38;5;28;01mimport\u001b[39;00m \u001b[38;5;241m*\u001b[39m\n\u001b[1;32m      5\u001b[0m \u001b[38;5;28;01mdef\u001b[39;00m \u001b[38;5;21mcovariance_matrix\u001b[39m(L,A0,N,M1,p0,z0,x_feas,v,method,OR\u001b[38;5;241m=\u001b[39m\u001b[38;5;28;01mTrue\u001b[39;00m):\n\u001b[1;32m      6\u001b[0m     \u001b[38;5;66;03m# TODO: Split up covariance matrix for GL and Hamling methods\u001b[39;00m\n",
      "File \u001b[0;32m~/CorrelationCorrection/correlation_correction/GLMethods.py:1\u001b[0m\n\u001b[0;32m----> 1\u001b[0m \u001b[38;5;28;01mimport\u001b[39;00m \u001b[38;5;21;01mcvxpy\u001b[39;00m \u001b[38;5;28;01mas\u001b[39;00m \u001b[38;5;21;01mcp\u001b[39;00m\n\u001b[1;32m      2\u001b[0m \u001b[38;5;28;01mimport\u001b[39;00m \u001b[38;5;21;01mnumpy\u001b[39;00m \u001b[38;5;28;01mas\u001b[39;00m \u001b[38;5;21;01mnp\u001b[39;00m\n\u001b[1;32m      3\u001b[0m \u001b[38;5;28;01mimport\u001b[39;00m \u001b[38;5;21;01mscipy\u001b[39;00m\n",
      "\u001b[0;31mModuleNotFoundError\u001b[0m: No module named 'cvxpy'"
     ]
    }
   ],
   "source": [
    "from correlation_correction.HamMethods import ham_vanilla\n",
    "from correlation_correction.CorrFuncs import covariance_matrix\n",
    "x_init = (10/jnp.min(V))*jnp.ones(len(V))\n",
    "L = L_vals[0]\n",
    "V = V_vals[0]\n",
    "p = p_vals[0]\n",
    "z = z_vals[0]\n",
    "ham_vanilla(L,p,z,V,x_init)\n",
    "covariance_matrix(L,A0,N,M1,p0,z0,x_feas,v,method,OR=True)"
   ]
  },
  {
   "cell_type": "code",
   "execution_count": 67,
   "metadata": {},
   "outputs": [
    {
     "data": {
      "text/plain": [
       "(Array([586.16742571, 670.37852585, 715.05225617], dtype=float64),\n",
       " Array([250.76181119, 154.69778404,  89.39235272], dtype=float64),\n",
       " 520.7271745092539,\n",
       " 389.0684876714495)"
      ]
     },
     "execution_count": 67,
     "metadata": {},
     "output_type": "execute_result"
    }
   ],
   "source": [
    "ham_vanilla(L,p,z,V,x_init)"
   ]
  },
  {
   "cell_type": "code",
   "execution_count": 59,
   "metadata": {},
   "outputs": [
    {
     "data": {
      "text/plain": [
       "array([0.55763107, 1.17489823, 1.78784963])"
      ]
     },
     "execution_count": 59,
     "metadata": {},
     "output_type": "execute_result"
    }
   ],
   "source": [
    "simulation_results[0][0]"
   ]
  },
  {
   "cell_type": "code",
   "execution_count": 27,
   "metadata": {},
   "outputs": [],
   "source": [
    "df_reg['y']= Y_obs"
   ]
  },
  {
   "cell_type": "code",
   "execution_count": 32,
   "metadata": {},
   "outputs": [
    {
     "data": {
      "text/html": [
       "<div>\n",
       "<style scoped>\n",
       "    .dataframe tbody tr th:only-of-type {\n",
       "        vertical-align: middle;\n",
       "    }\n",
       "\n",
       "    .dataframe tbody tr th {\n",
       "        vertical-align: top;\n",
       "    }\n",
       "\n",
       "    .dataframe thead th {\n",
       "        text-align: right;\n",
       "    }\n",
       "</style>\n",
       "<table border=\"1\" class=\"dataframe\">\n",
       "  <thead>\n",
       "    <tr style=\"text-align: right;\">\n",
       "      <th></th>\n",
       "      <th>assign</th>\n",
       "      <th>is_case</th>\n",
       "    </tr>\n",
       "  </thead>\n",
       "  <tbody>\n",
       "    <tr>\n",
       "      <th>0</th>\n",
       "      <td>0</td>\n",
       "      <td>0.0</td>\n",
       "    </tr>\n",
       "    <tr>\n",
       "      <th>1</th>\n",
       "      <td>0</td>\n",
       "      <td>1.0</td>\n",
       "    </tr>\n",
       "    <tr>\n",
       "      <th>2</th>\n",
       "      <td>0</td>\n",
       "      <td>1.0</td>\n",
       "    </tr>\n",
       "    <tr>\n",
       "      <th>3</th>\n",
       "      <td>0</td>\n",
       "      <td>1.0</td>\n",
       "    </tr>\n",
       "    <tr>\n",
       "      <th>4</th>\n",
       "      <td>0</td>\n",
       "      <td>0.0</td>\n",
       "    </tr>\n",
       "    <tr>\n",
       "      <th>...</th>\n",
       "      <td>...</td>\n",
       "      <td>...</td>\n",
       "    </tr>\n",
       "    <tr>\n",
       "      <th>2995</th>\n",
       "      <td>2</td>\n",
       "      <td>1.0</td>\n",
       "    </tr>\n",
       "    <tr>\n",
       "      <th>2996</th>\n",
       "      <td>2</td>\n",
       "      <td>1.0</td>\n",
       "    </tr>\n",
       "    <tr>\n",
       "      <th>2997</th>\n",
       "      <td>2</td>\n",
       "      <td>1.0</td>\n",
       "    </tr>\n",
       "    <tr>\n",
       "      <th>2998</th>\n",
       "      <td>2</td>\n",
       "      <td>1.0</td>\n",
       "    </tr>\n",
       "    <tr>\n",
       "      <th>2999</th>\n",
       "      <td>2</td>\n",
       "      <td>1.0</td>\n",
       "    </tr>\n",
       "  </tbody>\n",
       "</table>\n",
       "<p>3000 rows × 2 columns</p>\n",
       "</div>"
      ],
      "text/plain": [
       "      assign  is_case\n",
       "0          0      0.0\n",
       "1          0      1.0\n",
       "2          0      1.0\n",
       "3          0      1.0\n",
       "4          0      0.0\n",
       "...      ...      ...\n",
       "2995       2      1.0\n",
       "2996       2      1.0\n",
       "2997       2      1.0\n",
       "2998       2      1.0\n",
       "2999       2      1.0\n",
       "\n",
       "[3000 rows x 2 columns]"
      ]
     },
     "execution_count": 32,
     "metadata": {},
     "output_type": "execute_result"
    }
   ],
   "source": [
    "summary_df = pd.DataFrame({\n",
    "    'assign':assignment[:,0],\n",
    "    'is_case':Y_obs\n",
    "})\n",
    "summary_df"
   ]
  }
 ],
 "metadata": {
  "kernelspec": {
   "display_name": "sindy",
   "language": "python",
   "name": "python3"
  },
  "language_info": {
   "codemirror_mode": {
    "name": "ipython",
    "version": 3
   },
   "file_extension": ".py",
   "mimetype": "text/x-python",
   "name": "python",
   "nbconvert_exporter": "python",
   "pygments_lexer": "ipython3",
   "version": "3.12.4"
  }
 },
 "nbformat": 4,
 "nbformat_minor": 2
}
