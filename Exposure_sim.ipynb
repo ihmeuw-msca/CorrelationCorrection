{
 "cells": [
  {
   "cell_type": "code",
   "execution_count": 1,
   "metadata": {},
   "outputs": [],
   "source": [
    "import numpy as np\n",
    "import pandas as pd\n",
    "import matplotlib.pyplot as plt\n",
    "import statsmodels.api as sm\n",
    "from tqdm.auto import tqdm\n",
    "from scipy.special import logit,expit\n",
    "\n",
    "from src.IterativeFitting import IterativeFitting as IF\n",
    "from src.CorrFuncs import covariance_matrix, trend_est"
   ]
  },
  {
   "cell_type": "code",
   "execution_count": 464,
   "metadata": {},
   "outputs": [
    {
     "name": "stdout",
     "output_type": "stream",
     "text": [
      "Optimization terminated successfully.\n",
      "         Current function value: 0.645992\n",
      "         Iterations 5\n"
     ]
    }
   ],
   "source": [
    "# Setting seed\n",
    "golden_seed = 6\n",
    "seed = 8\n",
    "np.random.seed(seed)\n",
    "\n",
    "# Initializing simulation slope and intercept parameters\n",
    "beta0 = -0.1\n",
    "beta1 = 0.02\n",
    "beta_age = 0.05\n",
    "beta_income = -0.05\n",
    "beta_sex = 1.0\n",
    "\n",
    "# Number of samples\n",
    "n = 40000\n",
    "\n",
    "# Constructing covariate vectors for additional covariates to adjust\n",
    "age_vector = np.random.uniform(low=0,high=1,size=n)\n",
    "income_vector = np.random.uniform(low=0,high=1,size=n)\n",
    "# sex_vector = np.random.binomial(n=1,p=0.6,size=n)\n",
    "\n",
    "# Assigning exposure levels and getting relevant x's\n",
    "exposure_levels = np.array([0.,1.,2.,3.])\n",
    "xs = np.random.choice(exposure_levels,size = n)\n",
    "sex_vector = np.random.binomial(n = 1,p = 0.1 + xs/4,size =n )\n",
    "\n",
    "\n",
    "# Function to generate probabilities of being a case v non-case\n",
    "other_covs = beta0 + (beta_age*age_vector) + (income_vector*beta_income) + (sex_vector*beta_sex) \n",
    "p = lambda x: (np.exp(beta1*x + other_covs))/(1 + np.exp(beta1*x + other_covs))\n",
    "\n",
    "# Actually calculating probabilities on exposures as defined\n",
    "px = p(xs)\n",
    "\n",
    "# Actually assigning to case or not\n",
    "outcomes = np.array([np.random.binomial(n=1,p=p,size=1)[0] for p in px])\n",
    "\n",
    "# Constructing and sorting dataframe of outcomes and exposure\n",
    "df = np.stack([outcomes,xs],axis=1)\n",
    "# df = df[np.argsort(df[:, 1])]\n",
    "\n",
    "# Getting xs corresponding to each exposure interval and corresponding case information\n",
    "categories = [df[np.where(df[:,1] == i)[0]] for i in exposure_levels]\n",
    "N = np.array([df.shape[0] for df in categories])\n",
    "cases = np.array([np.sum(df[:,0]) for df in categories])\n",
    "non_cases = N - cases\n",
    "a_0, A = cases[0], cases[1:]\n",
    "b_0, B = non_cases[0], non_cases[1:]\n",
    "M = np.sum(cases)\n",
    "\n",
    "# Getting crude estimates to compare\n",
    "crude = lambda x,y: (x/y) / (a_0/b_0)\n",
    "crudeors = crude(A,B)\n",
    "\n",
    "# Constructing dummy variables with respect to exposure level\n",
    "x = exposure_levels[1:]\n",
    "\n",
    "to_adjust_df = pd.DataFrame({\n",
    "    'age':age_vector,\n",
    "    'income':income_vector,\n",
    "    'sex':sex_vector,\n",
    "    'exposure':xs.astype(int)\n",
    "})\n",
    "to_adjust_df['intercept']=1\n",
    "\n",
    "to_adjust_df = pd.concat([to_adjust_df,pd.get_dummies(to_adjust_df['exposure'],prefix='exposure').astype(int).iloc[:,1:]],axis=1).drop('exposure',axis=1)\n",
    "\n",
    "results = sm.Logit(endog=df[:,0], exog=to_adjust_df).fit()\n",
    "true_C = results.cov_params().to_numpy()[4:,4:]\n",
    "true_C_inv = np.linalg.inv(true_C)\n",
    "\n",
    "# Get log-ORs and corresponding variances\n",
    "L = results.params.to_numpy()[4:]\n",
    "v = (results.bse.to_numpy()[4:])**2"
   ]
  },
  {
   "cell_type": "code",
   "execution_count": 465,
   "metadata": {},
   "outputs": [
    {
     "data": {
      "text/plain": [
       "array([0.99795593, 1.0243074 , 1.04804608])"
      ]
     },
     "execution_count": 465,
     "metadata": {},
     "output_type": "execute_result"
    }
   ],
   "source": [
    "np.exp(L)"
   ]
  },
  {
   "cell_type": "code",
   "execution_count": 466,
   "metadata": {},
   "outputs": [
    {
     "data": {
      "text/plain": [
       "array([1.2551063 , 1.64324092, 2.17078667])"
      ]
     },
     "execution_count": 466,
     "metadata": {},
     "output_type": "execute_result"
    }
   ],
   "source": [
    "crudeors"
   ]
  },
  {
   "cell_type": "code",
   "execution_count": 467,
   "metadata": {},
   "outputs": [],
   "source": [
    "# Running GL\n",
    "it_fit_ex = IF(L,A,N,M)\n",
    "Ap, Bp, a0p, b0p = it_fit_ex.convexProgram()\n",
    "\n",
    "C = covariance_matrix(Ap,Bp,a0p,b0p,v)\n",
    "inv_C = np.linalg.inv(C)"
   ]
  },
  {
   "cell_type": "code",
   "execution_count": 468,
   "metadata": {},
   "outputs": [
    {
     "data": {
      "text/plain": [
       "0.016390360054777876"
      ]
     },
     "execution_count": 468,
     "metadata": {},
     "output_type": "execute_result"
    }
   ],
   "source": [
    "# Recovering slope estimate for corrected correlation\n",
    "vb_star = 1 / (x.T@inv_C@x)\n",
    "b_star = vb_star*(x.T@inv_C@L)\n",
    "b_star"
   ]
  },
  {
   "cell_type": "code",
   "execution_count": 469,
   "metadata": {},
   "outputs": [
    {
     "data": {
      "text/plain": [
       "0.01281627465337195"
      ]
     },
     "execution_count": 469,
     "metadata": {},
     "output_type": "execute_result"
    }
   ],
   "source": [
    "# Recovering standard slope estimate\n",
    "vb = 1/(np.dot(x,np.dot(np.linalg.inv(np.diag(v)),x)))\n",
    "b = vb*(np.dot(x,np.dot(np.linalg.inv(np.diag(v)),L)))\n",
    "b"
   ]
  },
  {
   "cell_type": "code",
   "execution_count": 470,
   "metadata": {},
   "outputs": [
    {
     "data": {
      "text/plain": [
       "0.024585115874140674"
      ]
     },
     "execution_count": 470,
     "metadata": {},
     "output_type": "execute_result"
    }
   ],
   "source": [
    "rootWols = np.diag(1/np.sqrt(v))\n",
    "X_intercept_ols = np.vstack([np.ones(len(x)),x]).T\n",
    "intercept_ols_slope = np.linalg.lstsq(rootWols@X_intercept_ols,rootWols@L,rcond = 1e-15)[0][1]\n",
    "intercept_ols_slope"
   ]
  },
  {
   "cell_type": "code",
   "execution_count": 471,
   "metadata": {},
   "outputs": [
    {
     "data": {
      "text/plain": [
       "0.01633161515485301"
      ]
     },
     "execution_count": 471,
     "metadata": {},
     "output_type": "execute_result"
    }
   ],
   "source": [
    "# Getting Oracle estimates\n",
    "vb_oracle = 1/(np.dot(x,np.dot(true_C_inv,x)))\n",
    "b_oracle = vb_oracle*(np.dot(x,np.dot(true_C_inv,L)))\n",
    "b_oracle"
   ]
  },
  {
   "cell_type": "code",
   "execution_count": 472,
   "metadata": {},
   "outputs": [
    {
     "data": {
      "text/plain": [
       "0.016216320901233153"
      ]
     },
     "execution_count": 472,
     "metadata": {},
     "output_type": "execute_result"
    }
   ],
   "source": [
    "# Getting estimates from covariance matrix generated from raw counts\n",
    "C_raw = covariance_matrix(A,B,a_0,b_0,v)\n",
    "inv_C_raw = np.linalg.inv(C_raw)\n",
    "\n",
    "vb_r = 1/(x.T@inv_C_raw@x)\n",
    "b_r = vb_r*(x.T@inv_C_raw@L)\n",
    "b_r"
   ]
  },
  {
   "cell_type": "code",
   "execution_count": 473,
   "metadata": {},
   "outputs": [
    {
     "data": {
      "text/plain": [
       "<matplotlib.legend.Legend at 0x30dc48650>"
      ]
     },
     "execution_count": 473,
     "metadata": {},
     "output_type": "execute_result"
    }
   ],
   "source": [
    "x_valsp = np.hstack([0,x])\n",
    "plt.scatter(x,L,alpha=0.5,c=\"rebeccapurple\",s=100)\n",
    "plt.scatter(0,0,s=50,c=\"forestgreen\")\n",
    "plt.plot(x_valsp,b_star*x_valsp,label = 'GL',linestyle = 'dashed')\n",
    "plt.plot(x_valsp,b_oracle*x_valsp,label = 'Oracle_Cov', alpha = 0.5,lw = 5)\n",
    "plt.plot(x_valsp,beta1*x_valsp,label = 'Truth',c=\"cornflowerblue\",linestyle=\"dashdot\")\n",
    "plt.plot(x_valsp,b_r*x_valsp,label=\"Crude\",c=\"maroon\",lw = 5,alpha = 0.5)\n",
    "plt.plot(x_valsp,intercept_ols_slope*x_valsp,label=\"Intercept\",c=\"lightsteelblue\")\n",
    "plt.plot(x_valsp,b*x_valsp,label = \"OLS\")\n",
    "plt.legend()"
   ]
  },
  {
   "cell_type": "code",
   "execution_count": 3,
   "metadata": {},
   "outputs": [],
   "source": []
  },
  {
   "cell_type": "code",
   "execution_count": 27,
   "metadata": {},
   "outputs": [
    {
     "data": {
      "application/vnd.jupyter.widget-view+json": {
       "model_id": "34ba55d57f1e43a1a085f4db69a41979",
       "version_major": 2,
       "version_minor": 0
      },
      "text/plain": [
       "  0%|          | 0/1000 [00:00<?, ?it/s]"
      ]
     },
     "metadata": {},
     "output_type": "display_data"
    }
   ],
   "source": [
    "GL_pe_list = []\n",
    "GL_v_list = []\n",
    "oracle_pe_list = []\n",
    "oracle_v_list = []\n",
    "OLS_pe_list = []\n",
    "OLS_v_list = []\n",
    "crude_pe_list = []\n",
    "crude_v_list = []\n",
    "\n",
    "crude_cov = []\n",
    "gl_cov = []\n",
    "oracle_cov = []\n",
    "\n",
    "# Setting seed\n",
    "golden_seed = 6\n",
    "seed = 8\n",
    "np.random.seed(seed)\n",
    "\n",
    "# Initializing simulation slope and intercept parameters\n",
    "beta0 = -0.1\n",
    "beta1 = 0.02\n",
    "beta_age = 1.\n",
    "beta_income = -0.05\n",
    "beta_sex = 5.0\n",
    "\n",
    "# Number of samples\n",
    "n = 10000\n",
    "\n",
    "# Simulation number\n",
    "sim_no = 1000\n",
    "\n",
    "for i in tqdm(range(sim_no)):\n",
    "    # Constructing covariate vectors for additional covariates to adjust\n",
    "    age_vector = np.random.uniform(low=0,high=1,size=n)\n",
    "    income_vector = np.random.uniform(low=0,high=1,size=n)\n",
    "    # sex_vector = np.random.binomial(n=1,p=0.6,size=n)\n",
    "\n",
    "    # Assigning exposure levels and getting relevant x's\n",
    "    exposure_levels = np.array([0.,1.,2.,3.])\n",
    "    xs = np.random.choice(exposure_levels,size = n,p = np.array([0.04,0.32,0.32,0.32]))\n",
    "    sex_vector = np.random.binomial(n = 1,p = 0.1 + xs/4,size =n )\n",
    "\n",
    "\n",
    "    # Function to generate probabilities of being a case v non-case\n",
    "    other_covs = beta0 + (beta_age*age_vector) + (income_vector*beta_income) + (sex_vector*beta_sex) \n",
    "    #p = lambda x: (np.exp(beta1*x + other_covs))/(1 + np.exp(beta1*x + other_covs))\n",
    "    px = (expit(beta1*xs+other_covs))\n",
    "\n",
    "    # Actually calculating probabilities on exposures as defined\n",
    "    #px = p(xs)\n",
    "\n",
    "    # Actually assigning to case or not\n",
    "    outcomes = np.array([np.random.binomial(n=1,p=p,size=1)[0] for p in px])\n",
    "\n",
    "    # Constructing and sorting dataframe of outcomes and exposure\n",
    "    df = np.stack([outcomes,xs],axis=1)\n",
    "    # df = df[np.argsort(df[:, 1])]\n",
    "\n",
    "    # Getting xs corresponding to each exposure interval and corresponding case information\n",
    "    categories = [df[np.where(df[:,1] == i)[0]] for i in exposure_levels]\n",
    "    N = np.array([df.shape[0] for df in categories])\n",
    "    cases = np.array([np.sum(df[:,0]) for df in categories])\n",
    "    non_cases = N - cases\n",
    "    a_0, A = cases[0], cases[1:]\n",
    "    b_0, B = non_cases[0], non_cases[1:]\n",
    "    M = np.sum(cases)\n",
    "\n",
    "    # Getting crude estimates to compare\n",
    "    crude = lambda x,y: (x/y) / (a_0/b_0)\n",
    "    crudeors = crude(A,B)\n",
    "\n",
    "    # Constructing dummy variables with respect to exposure level\n",
    "    x = exposure_levels[1:]\n",
    "\n",
    "    to_adjust_df = pd.DataFrame({\n",
    "        'age':age_vector,\n",
    "        'income':income_vector,\n",
    "        'sex':sex_vector,\n",
    "        'exposure':xs.astype(int)\n",
    "    })\n",
    "    to_adjust_df['intercept']=1\n",
    "\n",
    "    to_adjust_df = pd.concat([to_adjust_df,pd.get_dummies(to_adjust_df['exposure'],prefix='exposure').astype(int).iloc[:,1:]],axis=1).drop('exposure',axis=1)\n",
    "\n",
    "    results = sm.Logit(endog=outcomes, exog=to_adjust_df).fit(disp=0)\n",
    "    num_exposures = len(exposure_levels)-1\n",
    "    true_C = results.cov_params().to_numpy()[-num_exposures:,-num_exposures:]\n",
    "    true_C_inv = np.linalg.inv(true_C)\n",
    "\n",
    "    # Get log-ORs and corresponding variances\n",
    "    L = results.params.to_numpy()[-num_exposures:]\n",
    "    v = (results.bse.to_numpy()[-num_exposures:])**2\n",
    "\n",
    "    # Running GL\n",
    "    it_fit_ex = IF(L,A,N,M)\n",
    "    Ap, Bp, a0p, b0p = it_fit_ex.convexProgram()\n",
    "\n",
    "    C = covariance_matrix(Ap,Bp,a0p,b0p,v)\n",
    "    inv_C = np.linalg.inv(C)\n",
    "    gl_cov.append(C)\n",
    "    \n",
    "    \n",
    "\n",
    "    # Recovering slope estimate for corrected correlation\n",
    "    vb_star = 1 / (x.T@inv_C@x)\n",
    "    b_star = vb_star*(x.T@inv_C@L)\n",
    "    GL_pe_list.append(b_star)\n",
    "    GL_v_list.append(vb_star)\n",
    "\n",
    "    # Recovering OLS estimates\n",
    "    vb = 1/(x.T@(np.diag(1/v))@x)\n",
    "    b = vb*(x.T@np.diag(1/v)@L)\n",
    "\n",
    "    # vb = 1/(np.dot(x,np.dot(np.linalg.inv(np.diag(v)),x)))\n",
    "    # b = vb*(np.dot(x,np.dot(np.linalg.inv(np.diag(v)),L)))\n",
    "    OLS_pe_list.append(b)\n",
    "    OLS_v_list.append(vb)\n",
    "\n",
    "    # Getting Oracle estimates\n",
    "    vb_oracle = 1/(x.T@true_C_inv@x)\n",
    "    oracle_cov.append(true_C)\n",
    "\n",
    "    #vb_oracle = 1/(np.dot(x,np.dot(true_C_inv,x)))\n",
    "    b_oracle = vb_oracle*(x.T@true_C_inv@L)\n",
    "    # b_oracle = vb_oracle*(np.dot(x,np.dot(true_C_inv,L)))\n",
    "    oracle_pe_list.append(b_oracle)\n",
    "    oracle_v_list.append(vb_oracle)\n",
    "\n",
    "    # Getting estimates from covariance matrix generated from raw counts\n",
    "    C_raw = covariance_matrix(A,B,a_0,b_0,v)\n",
    "    inv_C_raw = np.linalg.inv(C_raw)\n",
    "    crude_cov.append(C_raw)\n",
    "\n",
    "    vb_r = 1/(x.T@inv_C_raw@x)\n",
    "    b_r = vb_r*(x.T@inv_C_raw@L)\n",
    "    crude_pe_list.append(b_r)\n",
    "    crude_v_list.append(vb_r)"
   ]
  },
  {
   "cell_type": "code",
   "execution_count": 34,
   "metadata": {},
   "outputs": [
    {
     "data": {
      "text/html": [
       "<table class=\"simpletable\">\n",
       "<caption>Logit Regression Results</caption>\n",
       "<tr>\n",
       "  <th>Dep. Variable:</th>           <td>y</td>        <th>  No. Observations:  </th>  <td> 10000</td> \n",
       "</tr>\n",
       "<tr>\n",
       "  <th>Model:</th>                 <td>Logit</td>      <th>  Df Residuals:      </th>  <td>  9993</td> \n",
       "</tr>\n",
       "<tr>\n",
       "  <th>Method:</th>                 <td>MLE</td>       <th>  Df Model:          </th>  <td>     6</td> \n",
       "</tr>\n",
       "<tr>\n",
       "  <th>Date:</th>            <td>Thu, 13 Jun 2024</td> <th>  Pseudo R-squ.:     </th>  <td>0.3536</td> \n",
       "</tr>\n",
       "<tr>\n",
       "  <th>Time:</th>                <td>18:59:41</td>     <th>  Log-Likelihood:    </th> <td> -2902.2</td>\n",
       "</tr>\n",
       "<tr>\n",
       "  <th>converged:</th>             <td>True</td>       <th>  LL-Null:           </th> <td> -4490.0</td>\n",
       "</tr>\n",
       "<tr>\n",
       "  <th>Covariance Type:</th>     <td>nonrobust</td>    <th>  LLR p-value:       </th>  <td> 0.000</td> \n",
       "</tr>\n",
       "</table>\n",
       "<table class=\"simpletable\">\n",
       "<tr>\n",
       "       <td></td>         <th>coef</th>     <th>std err</th>      <th>z</th>      <th>P>|z|</th>  <th>[0.025</th>    <th>0.975]</th>  \n",
       "</tr>\n",
       "<tr>\n",
       "  <th>age</th>        <td>    0.9747</td> <td>    0.110</td> <td>    8.890</td> <td> 0.000</td> <td>    0.760</td> <td>    1.190</td>\n",
       "</tr>\n",
       "<tr>\n",
       "  <th>income</th>     <td>    0.0089</td> <td>    0.110</td> <td>    0.081</td> <td> 0.936</td> <td>   -0.207</td> <td>    0.225</td>\n",
       "</tr>\n",
       "<tr>\n",
       "  <th>sex</th>        <td>    5.0942</td> <td>    0.210</td> <td>   24.223</td> <td> 0.000</td> <td>    4.682</td> <td>    5.506</td>\n",
       "</tr>\n",
       "<tr>\n",
       "  <th>intercept</th>  <td>   -0.0524</td> <td>    0.130</td> <td>   -0.402</td> <td> 0.688</td> <td>   -0.308</td> <td>    0.203</td>\n",
       "</tr>\n",
       "<tr>\n",
       "  <th>exposure_1</th> <td>    0.0076</td> <td>    0.115</td> <td>    0.066</td> <td> 0.948</td> <td>   -0.218</td> <td>    0.233</td>\n",
       "</tr>\n",
       "<tr>\n",
       "  <th>exposure_2</th> <td>   -0.0067</td> <td>    0.120</td> <td>   -0.056</td> <td> 0.955</td> <td>   -0.242</td> <td>    0.229</td>\n",
       "</tr>\n",
       "<tr>\n",
       "  <th>exposure_3</th> <td>   -0.0154</td> <td>    0.141</td> <td>   -0.109</td> <td> 0.913</td> <td>   -0.291</td> <td>    0.260</td>\n",
       "</tr>\n",
       "</table>"
      ],
      "text/latex": [
       "\\begin{center}\n",
       "\\begin{tabular}{lclc}\n",
       "\\toprule\n",
       "\\textbf{Dep. Variable:}   &        y         & \\textbf{  No. Observations:  } &    10000    \\\\\n",
       "\\textbf{Model:}           &      Logit       & \\textbf{  Df Residuals:      } &     9993    \\\\\n",
       "\\textbf{Method:}          &       MLE        & \\textbf{  Df Model:          } &        6    \\\\\n",
       "\\textbf{Date:}            & Thu, 13 Jun 2024 & \\textbf{  Pseudo R-squ.:     } &   0.3536    \\\\\n",
       "\\textbf{Time:}            &     18:59:41     & \\textbf{  Log-Likelihood:    } &   -2902.2   \\\\\n",
       "\\textbf{converged:}       &       True       & \\textbf{  LL-Null:           } &   -4490.0   \\\\\n",
       "\\textbf{Covariance Type:} &    nonrobust     & \\textbf{  LLR p-value:       } &    0.000    \\\\\n",
       "\\bottomrule\n",
       "\\end{tabular}\n",
       "\\begin{tabular}{lcccccc}\n",
       "                     & \\textbf{coef} & \\textbf{std err} & \\textbf{z} & \\textbf{P$> |$z$|$} & \\textbf{[0.025} & \\textbf{0.975]}  \\\\\n",
       "\\midrule\n",
       "\\textbf{age}         &       0.9747  &        0.110     &     8.890  &         0.000        &        0.760    &        1.190     \\\\\n",
       "\\textbf{income}      &       0.0089  &        0.110     &     0.081  &         0.936        &       -0.207    &        0.225     \\\\\n",
       "\\textbf{sex}         &       5.0942  &        0.210     &    24.223  &         0.000        &        4.682    &        5.506     \\\\\n",
       "\\textbf{intercept}   &      -0.0524  &        0.130     &    -0.402  &         0.688        &       -0.308    &        0.203     \\\\\n",
       "\\textbf{exposure\\_1} &       0.0076  &        0.115     &     0.066  &         0.948        &       -0.218    &        0.233     \\\\\n",
       "\\textbf{exposure\\_2} &      -0.0067  &        0.120     &    -0.056  &         0.955        &       -0.242    &        0.229     \\\\\n",
       "\\textbf{exposure\\_3} &      -0.0154  &        0.141     &    -0.109  &         0.913        &       -0.291    &        0.260     \\\\\n",
       "\\bottomrule\n",
       "\\end{tabular}\n",
       "%\\caption{Logit Regression Results}\n",
       "\\end{center}"
      ],
      "text/plain": [
       "<class 'statsmodels.iolib.summary.Summary'>\n",
       "\"\"\"\n",
       "                           Logit Regression Results                           \n",
       "==============================================================================\n",
       "Dep. Variable:                      y   No. Observations:                10000\n",
       "Model:                          Logit   Df Residuals:                     9993\n",
       "Method:                           MLE   Df Model:                            6\n",
       "Date:                Thu, 13 Jun 2024   Pseudo R-squ.:                  0.3536\n",
       "Time:                        18:59:41   Log-Likelihood:                -2902.2\n",
       "converged:                       True   LL-Null:                       -4490.0\n",
       "Covariance Type:            nonrobust   LLR p-value:                     0.000\n",
       "==============================================================================\n",
       "                 coef    std err          z      P>|z|      [0.025      0.975]\n",
       "------------------------------------------------------------------------------\n",
       "age            0.9747      0.110      8.890      0.000       0.760       1.190\n",
       "income         0.0089      0.110      0.081      0.936      -0.207       0.225\n",
       "sex            5.0942      0.210     24.223      0.000       4.682       5.506\n",
       "intercept     -0.0524      0.130     -0.402      0.688      -0.308       0.203\n",
       "exposure_1     0.0076      0.115      0.066      0.948      -0.218       0.233\n",
       "exposure_2    -0.0067      0.120     -0.056      0.955      -0.242       0.229\n",
       "exposure_3    -0.0154      0.141     -0.109      0.913      -0.291       0.260\n",
       "==============================================================================\n",
       "\"\"\""
      ]
     },
     "execution_count": 34,
     "metadata": {},
     "output_type": "execute_result"
    }
   ],
   "source": [
    "results.summary()"
   ]
  },
  {
   "cell_type": "code",
   "execution_count": 18,
   "metadata": {},
   "outputs": [
    {
     "data": {
      "text/html": [
       "<div>\n",
       "<style scoped>\n",
       "    .dataframe tbody tr th:only-of-type {\n",
       "        vertical-align: middle;\n",
       "    }\n",
       "\n",
       "    .dataframe tbody tr th {\n",
       "        vertical-align: top;\n",
       "    }\n",
       "\n",
       "    .dataframe thead th {\n",
       "        text-align: right;\n",
       "    }\n",
       "</style>\n",
       "<table border=\"1\" class=\"dataframe\">\n",
       "  <thead>\n",
       "    <tr style=\"text-align: right;\">\n",
       "      <th></th>\n",
       "      <th>OLS</th>\n",
       "      <th>GL</th>\n",
       "      <th>Oracle</th>\n",
       "      <th>Crude</th>\n",
       "    </tr>\n",
       "  </thead>\n",
       "  <tbody>\n",
       "    <tr>\n",
       "      <th>0</th>\n",
       "      <td>0.001255</td>\n",
       "      <td>0.001058</td>\n",
       "      <td>0.001528</td>\n",
       "      <td>0.001417</td>\n",
       "    </tr>\n",
       "    <tr>\n",
       "      <th>1</th>\n",
       "      <td>0.001300</td>\n",
       "      <td>0.000951</td>\n",
       "      <td>0.001513</td>\n",
       "      <td>0.001374</td>\n",
       "    </tr>\n",
       "    <tr>\n",
       "      <th>2</th>\n",
       "      <td>0.001232</td>\n",
       "      <td>0.000972</td>\n",
       "      <td>0.001470</td>\n",
       "      <td>0.001347</td>\n",
       "    </tr>\n",
       "    <tr>\n",
       "      <th>3</th>\n",
       "      <td>0.001305</td>\n",
       "      <td>0.001114</td>\n",
       "      <td>0.001572</td>\n",
       "      <td>0.001461</td>\n",
       "    </tr>\n",
       "    <tr>\n",
       "      <th>4</th>\n",
       "      <td>0.001191</td>\n",
       "      <td>0.001119</td>\n",
       "      <td>0.001497</td>\n",
       "      <td>0.001398</td>\n",
       "    </tr>\n",
       "    <tr>\n",
       "      <th>...</th>\n",
       "      <td>...</td>\n",
       "      <td>...</td>\n",
       "      <td>...</td>\n",
       "      <td>...</td>\n",
       "    </tr>\n",
       "    <tr>\n",
       "      <th>995</th>\n",
       "      <td>0.001317</td>\n",
       "      <td>0.001023</td>\n",
       "      <td>0.001572</td>\n",
       "      <td>0.001435</td>\n",
       "    </tr>\n",
       "    <tr>\n",
       "      <th>996</th>\n",
       "      <td>0.001310</td>\n",
       "      <td>0.001066</td>\n",
       "      <td>0.001556</td>\n",
       "      <td>0.001440</td>\n",
       "    </tr>\n",
       "    <tr>\n",
       "      <th>997</th>\n",
       "      <td>0.001183</td>\n",
       "      <td>0.001027</td>\n",
       "      <td>0.001475</td>\n",
       "      <td>0.001364</td>\n",
       "    </tr>\n",
       "    <tr>\n",
       "      <th>998</th>\n",
       "      <td>0.001276</td>\n",
       "      <td>0.001039</td>\n",
       "      <td>0.001552</td>\n",
       "      <td>0.001437</td>\n",
       "    </tr>\n",
       "    <tr>\n",
       "      <th>999</th>\n",
       "      <td>0.001239</td>\n",
       "      <td>0.001026</td>\n",
       "      <td>0.001533</td>\n",
       "      <td>0.001409</td>\n",
       "    </tr>\n",
       "  </tbody>\n",
       "</table>\n",
       "<p>1000 rows × 4 columns</p>\n",
       "</div>"
      ],
      "text/plain": [
       "          OLS        GL    Oracle     Crude\n",
       "0    0.001255  0.001058  0.001528  0.001417\n",
       "1    0.001300  0.000951  0.001513  0.001374\n",
       "2    0.001232  0.000972  0.001470  0.001347\n",
       "3    0.001305  0.001114  0.001572  0.001461\n",
       "4    0.001191  0.001119  0.001497  0.001398\n",
       "..        ...       ...       ...       ...\n",
       "995  0.001317  0.001023  0.001572  0.001435\n",
       "996  0.001310  0.001066  0.001556  0.001440\n",
       "997  0.001183  0.001027  0.001475  0.001364\n",
       "998  0.001276  0.001039  0.001552  0.001437\n",
       "999  0.001239  0.001026  0.001533  0.001409\n",
       "\n",
       "[1000 rows x 4 columns]"
      ]
     },
     "execution_count": 18,
     "metadata": {},
     "output_type": "execute_result"
    }
   ],
   "source": [
    "variance_estimates = pd.DataFrame({\"OLS\": OLS_v_list,\n",
    "'GL':GL_v_list,\n",
    "\"Oracle\":oracle_v_list,\n",
    "\"Crude\":crude_v_list}\n",
    ")\n",
    "variance_estimates\n"
   ]
  },
  {
   "cell_type": "code",
   "execution_count": 33,
   "metadata": {},
   "outputs": [
    {
     "data": {
      "text/plain": [
       "GL        0.002161\n",
       "Oracle    0.001715\n",
       "OLS       0.003012\n",
       "Crude     0.001738\n",
       "dtype: float64"
      ]
     },
     "execution_count": 33,
     "metadata": {},
     "output_type": "execute_result"
    }
   ],
   "source": [
    "((point_estimates-beta1)*(point_estimates-beta1)).mean()"
   ]
  },
  {
   "cell_type": "code",
   "execution_count": 19,
   "metadata": {},
   "outputs": [],
   "source": [
    "point_estimates = pd.DataFrame(\n",
    "    {\n",
    "        'GL':GL_pe_list,\n",
    "        \"Oracle\":oracle_pe_list,\n",
    "        \"OLS\":OLS_pe_list,\n",
    "        \"Crude\":crude_pe_list,\n",
    "    }\n",
    ")\n",
    "\n",
    "#point_estimates['truth']=beta1"
   ]
  },
  {
   "cell_type": "code",
   "execution_count": 20,
   "metadata": {},
   "outputs": [
    {
     "data": {
      "text/plain": [
       "1.1797253568909316"
      ]
     },
     "execution_count": 20,
     "metadata": {},
     "output_type": "execute_result"
    }
   ],
   "source": [
    "std_estimate = point_estimates.std(axis=0)\n",
    "std_estimate['OLS']/std_estimate['GL']"
   ]
  },
  {
   "cell_type": "code",
   "execution_count": 21,
   "metadata": {},
   "outputs": [
    {
     "data": {
      "text/plain": [
       "GL        0.046487\n",
       "Oracle    0.041427\n",
       "OLS       0.054842\n",
       "Crude     0.041705\n",
       "dtype: float64"
      ]
     },
     "execution_count": 21,
     "metadata": {},
     "output_type": "execute_result"
    }
   ],
   "source": [
    "std_estimate"
   ]
  },
  {
   "cell_type": "code",
   "execution_count": 22,
   "metadata": {},
   "outputs": [
    {
     "data": {
      "text/plain": [
       "Crude     1.112596\n",
       "GL        1.447118\n",
       "OLS       1.536448\n",
       "Oracle    1.060044\n",
       "dtype: float64"
      ]
     },
     "execution_count": 22,
     "metadata": {},
     "output_type": "execute_result"
    }
   ],
   "source": [
    "((point_estimates - beta1)/np.sqrt(variance_estimates)).std()"
   ]
  },
  {
   "cell_type": "code",
   "execution_count": 10,
   "metadata": {},
   "outputs": [
    {
     "data": {
      "text/plain": [
       "GL        0.021648\n",
       "Oracle    0.019904\n",
       "OLS       0.017934\n",
       "Crude     0.019277\n",
       "dtype: float64"
      ]
     },
     "execution_count": 10,
     "metadata": {},
     "output_type": "execute_result"
    }
   ],
   "source": [
    "point_estimates.mean(axis=0) + 2 * point_estimates.sem(axis=0)"
   ]
  },
  {
   "cell_type": "code",
   "execution_count": 11,
   "metadata": {},
   "outputs": [
    {
     "data": {
      "text/plain": [
       "GL        0.018229\n",
       "Oracle    0.016509\n",
       "OLS       0.011894\n",
       "Crude     0.015865\n",
       "dtype: float64"
      ]
     },
     "execution_count": 11,
     "metadata": {},
     "output_type": "execute_result"
    }
   ],
   "source": [
    "point_estimates.mean(axis=0) - 2 * point_estimates.sem(axis=0)"
   ]
  },
  {
   "cell_type": "code",
   "execution_count": null,
   "metadata": {},
   "outputs": [
    {
     "data": {
      "text/plain": [
       "GL        0.020165\n",
       "Oracle    0.020184\n",
       "OLS       0.020200\n",
       "Crude     0.020156\n",
       "truth     0.020000\n",
       "dtype: float64"
      ]
     },
     "execution_count": 419,
     "metadata": {},
     "output_type": "execute_result"
    }
   ],
   "source": [
    "point_estimates.mean(axis=0)\n"
   ]
  },
  {
   "cell_type": "code",
   "execution_count": null,
   "metadata": {},
   "outputs": [],
   "source": [
    "GL_pe_list = []\n",
    "GL_v_list = []\n",
    "oracle_pe_list = []\n",
    "oracle_v_list = []\n",
    "OLS_pe_list = []\n",
    "OLS_v_list = []\n",
    "crude_pe_list = []\n",
    "crude_v_list = []\n"
   ]
  },
  {
   "cell_type": "code",
   "execution_count": null,
   "metadata": {},
   "outputs": [],
   "source": [
    "b_star = np.mean(GL_pe_list)\n",
    "b = np.mean(OLS_pe_list)\n",
    "b_oracle = np.mean(oracle_pe_list)\n",
    "b_r = np.mean(crude_pe_list)"
   ]
  },
  {
   "cell_type": "code",
   "execution_count": null,
   "metadata": {},
   "outputs": [],
   "source": [
    "vb_star = np.mean(GL_v_list)\n",
    "vb = np.mean(OLS_v_list)\n",
    "vb_oracle = np.mean(oracle_v_list)\n",
    "vb_r = np.mean(crude_v_list)"
   ]
  },
  {
   "cell_type": "code",
   "execution_count": null,
   "metadata": {},
   "outputs": [
    {
     "data": {
      "text/plain": [
       "<matplotlib.legend.Legend at 0x30c9f0500>"
      ]
     },
     "execution_count": 462,
     "metadata": {},
     "output_type": "execute_result"
    },
    {
     "data": {
      "image/png": "[encoded data removed]",
      "text/plain": [
       "<Figure size 640x480 with 1 Axes>"
      ]
     },
     "metadata": {},
     "output_type": "display_data"
    }
   ],
   "source": [
    "nbins = 25\n",
    "plt.hist(GL_pe_list,bins=nbins, alpha=0.5, label=\"GL\")\n",
    "plt.hist(OLS_pe_list,bins=nbins, alpha=0.5, label=\"OLS\")\n",
    "plt.hist(oracle_pe_list,bins=nbins, alpha=0.5, label=\"oracle\")\n",
    "plt.hist(crude_pe_list,bins=nbins,alpha=0.5, label=\"crude\")\n",
    "plt.legend()"
   ]
  },
  {
   "cell_type": "code",
   "execution_count": null,
   "metadata": {},
   "outputs": [
    {
     "data": {
      "text/plain": [
       "0.0001243123590894898"
      ]
     },
     "execution_count": 395,
     "metadata": {},
     "output_type": "execute_result"
    }
   ],
   "source": [
    "np.var(GL_pe_list)"
   ]
  },
  {
   "cell_type": "code",
   "execution_count": null,
   "metadata": {},
   "outputs": [
    {
     "data": {
      "text/plain": [
       "0.00012427179561154875"
      ]
     },
     "execution_count": 398,
     "metadata": {},
     "output_type": "execute_result"
    }
   ],
   "source": [
    "np.var(OLS_pe_list)"
   ]
  },
  {
   "cell_type": "code",
   "execution_count": 35,
   "metadata": {},
   "outputs": [
    {
     "data": {
      "text/plain": [
       "0.0010261992125900105"
      ]
     },
     "execution_count": 35,
     "metadata": {},
     "output_type": "execute_result"
    }
   ],
   "source": [
    "vb_star"
   ]
  },
  {
   "cell_type": "code",
   "execution_count": 36,
   "metadata": {},
   "outputs": [
    {
     "data": {
      "text/plain": [
       "0.001238800550365713"
      ]
     },
     "execution_count": 36,
     "metadata": {},
     "output_type": "execute_result"
    }
   ],
   "source": [
    "vb"
   ]
  },
  {
   "cell_type": "code",
   "execution_count": 37,
   "metadata": {},
   "outputs": [
    {
     "data": {
      "text/plain": [
       "0.001533356845294936"
      ]
     },
     "execution_count": 37,
     "metadata": {},
     "output_type": "execute_result"
    }
   ],
   "source": [
    "vb_oracle"
   ]
  },
  {
   "cell_type": "code",
   "execution_count": 38,
   "metadata": {},
   "outputs": [
    {
     "data": {
      "text/plain": [
       "0.0014090176552138517"
      ]
     },
     "execution_count": 38,
     "metadata": {},
     "output_type": "execute_result"
    }
   ],
   "source": [
    "vb_r"
   ]
  },
  {
   "cell_type": "code",
   "execution_count": 39,
   "metadata": {},
   "outputs": [
    {
     "data": {
      "text/plain": [
       "array([[0.01320376, 0.01160751, 0.01219727],\n",
       "       [0.01160751, 0.01444179, 0.01241576],\n",
       "       [0.01219727, 0.01241576, 0.019801  ]])"
      ]
     },
     "execution_count": 39,
     "metadata": {},
     "output_type": "execute_result"
    }
   ],
   "source": [
    "crude_cov[-1]"
   ]
  },
  {
   "cell_type": "code",
   "execution_count": 40,
   "metadata": {},
   "outputs": [
    {
     "data": {
      "text/plain": [
       "array([[0.01320376, 0.01225246, 0.01432128],\n",
       "       [0.01225246, 0.01444179, 0.01499722],\n",
       "       [0.01432128, 0.01499722, 0.019801  ]])"
      ]
     },
     "execution_count": 40,
     "metadata": {},
     "output_type": "execute_result"
    }
   ],
   "source": [
    "gl_cov[-1]"
   ]
  },
  {
   "cell_type": "code",
   "execution_count": 41,
   "metadata": {},
   "outputs": [
    {
     "data": {
      "text/plain": [
       "array([[0.01320376, 0.01113691, 0.01116454],\n",
       "       [0.01113691, 0.01444179, 0.01123023],\n",
       "       [0.01116454, 0.01123023, 0.019801  ]])"
      ]
     },
     "execution_count": 41,
     "metadata": {},
     "output_type": "execute_result"
    }
   ],
   "source": [
    "oracle_cov[-1]"
   ]
  },
  {
   "cell_type": "code",
   "execution_count": 42,
   "metadata": {},
   "outputs": [
    {
     "data": {
      "text/plain": [
       "0.013867715241838649"
      ]
     },
     "execution_count": 42,
     "metadata": {},
     "output_type": "execute_result"
    }
   ],
   "source": [
    "np.mean(crude_cov)"
   ]
  },
  {
   "cell_type": "code",
   "execution_count": 49,
   "metadata": {},
   "outputs": [
    {
     "data": {
      "text/plain": [
       "array([[0.01378708, 0.01219672, 0.01274732],\n",
       "       [0.01219672, 0.01503073, 0.01295279],\n",
       "       [0.01274732, 0.01295279, 0.02019798]])"
      ]
     },
     "execution_count": 49,
     "metadata": {},
     "output_type": "execute_result"
    }
   ],
   "source": [
    "np.mean(crude_cov,axis=0)"
   ]
  },
  {
   "cell_type": "code",
   "execution_count": 50,
   "metadata": {},
   "outputs": [
    {
     "data": {
      "text/plain": [
       "array([[0.01378708, 0.01277598, 0.01479449],\n",
       "       [0.01277598, 0.01503073, 0.01543366],\n",
       "       [0.01479449, 0.01543366, 0.02019798]])"
      ]
     },
     "execution_count": 50,
     "metadata": {},
     "output_type": "execute_result"
    }
   ],
   "source": [
    "np.mean(gl_cov,axis=0)"
   ]
  },
  {
   "cell_type": "code",
   "execution_count": 51,
   "metadata": {},
   "outputs": [
    {
     "data": {
      "text/plain": [
       "array([[0.01378708, 0.01177801, 0.01180128],\n",
       "       [0.01177801, 0.01503073, 0.01186986],\n",
       "       [0.01180128, 0.01186986, 0.02019798]])"
      ]
     },
     "execution_count": 51,
     "metadata": {},
     "output_type": "execute_result"
    }
   ],
   "source": [
    "np.mean(oracle_cov,axis=0)"
   ]
  },
  {
   "cell_type": "code",
   "execution_count": null,
   "metadata": {},
   "outputs": [],
   "source": []
  }
 ],
 "metadata": {
  "kernelspec": {
   "display_name": "correlationCorrection",
   "language": "python",
   "name": "python3"
  },
  "language_info": {
   "codemirror_mode": {
    "name": "ipython",
    "version": 3
   },
   "file_extension": ".py",
   "mimetype": "text/x-python",
   "name": "python",
   "nbconvert_exporter": "python",
   "pygments_lexer": "ipython3",
   "version": "3.12.3"
  }
 },
 "nbformat": 4,
 "nbformat_minor": 2
}
