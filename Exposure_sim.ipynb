{
 "cells": [
  {
   "cell_type": "code",
   "execution_count": 1,
   "metadata": {},
   "outputs": [],
   "source": [
    "import numpy as np\n",
    "import pandas as pd\n",
    "import matplotlib.pyplot as plt\n",
    "import statsmodels.api as sm\n",
    "from tqdm.auto import tqdm\n",
    "from scipy.special import logit,expit\n",
    "\n",
    "from src.IterativeFitting import IterativeFitting as IF\n",
    "from src.HamMethods import ham_vanilla, ham_solved\n",
    "from src.CorrFuncs import covariance_matrix, trend_est"
   ]
  },
  {
   "cell_type": "code",
   "execution_count": 464,
   "metadata": {},
   "outputs": [
    {
     "name": "stdout",
     "output_type": "stream",
     "text": [
      "Optimization terminated successfully.\n",
      "         Current function value: 0.645992\n",
      "         Iterations 5\n"
     ]
    }
   ],
   "source": [
    "# Setting seed\n",
    "golden_seed = 6\n",
    "seed = 8\n",
    "np.random.seed(seed)\n",
    "\n",
    "# Initializing simulation slope and intercept parameters\n",
    "beta0 = -0.1\n",
    "beta1 = 0.02\n",
    "beta_age = 0.05\n",
    "beta_income = -0.05\n",
    "beta_sex = 1.0\n",
    "\n",
    "# Number of samples\n",
    "n = 40000\n",
    "\n",
    "# Constructing covariate vectors for additional covariates to adjust\n",
    "age_vector = np.random.uniform(low=0,high=1,size=n)\n",
    "income_vector = np.random.uniform(low=0,high=1,size=n)\n",
    "# sex_vector = np.random.binomial(n=1,p=0.6,size=n)\n",
    "\n",
    "# Assigning exposure levels and getting relevant x's\n",
    "exposure_levels = np.array([0.,1.,2.,3.])\n",
    "xs = np.random.choice(exposure_levels,size = n)\n",
    "sex_vector = np.random.binomial(n = 1,p = 0.1 + xs/4,size =n )\n",
    "\n",
    "\n",
    "# Function to generate probabilities of being a case v non-case\n",
    "other_covs = beta0 + (beta_age*age_vector) + (income_vector*beta_income) + (sex_vector*beta_sex) \n",
    "p = lambda x: (np.exp(beta1*x + other_covs))/(1 + np.exp(beta1*x + other_covs))\n",
    "\n",
    "# Actually calculating probabilities on exposures as defined\n",
    "px = p(xs)\n",
    "\n",
    "# Actually assigning to case or not\n",
    "outcomes = np.array([np.random.binomial(n=1,p=p,size=1)[0] for p in px])\n",
    "\n",
    "# Constructing and sorting dataframe of outcomes and exposure\n",
    "df = np.stack([outcomes,xs],axis=1)\n",
    "# df = df[np.argsort(df[:, 1])]\n",
    "\n",
    "# Getting xs corresponding to each exposure interval and corresponding case information\n",
    "categories = [df[np.where(df[:,1] == i)[0]] for i in exposure_levels]\n",
    "N = np.array([df.shape[0] for df in categories])\n",
    "cases = np.array([np.sum(df[:,0]) for df in categories])\n",
    "non_cases = N - cases\n",
    "a_0, A = cases[0], cases[1:]\n",
    "b_0, B = non_cases[0], non_cases[1:]\n",
    "M = np.sum(cases)\n",
    "\n",
    "# Getting crude estimates to compare\n",
    "crude = lambda x,y: (x/y) / (a_0/b_0)\n",
    "crudeors = crude(A,B)\n",
    "\n",
    "# Constructing dummy variables with respect to exposure level\n",
    "x = exposure_levels[1:]\n",
    "\n",
    "to_adjust_df = pd.DataFrame({\n",
    "    'age':age_vector,\n",
    "    'income':income_vector,\n",
    "    'sex':sex_vector,\n",
    "    'exposure':xs.astype(int)\n",
    "})\n",
    "to_adjust_df['intercept']=1\n",
    "\n",
    "to_adjust_df = pd.concat([to_adjust_df,pd.get_dummies(to_adjust_df['exposure'],prefix='exposure').astype(int).iloc[:,1:]],axis=1).drop('exposure',axis=1)\n",
    "\n",
    "results = sm.Logit(endog=df[:,0], exog=to_adjust_df).fit()\n",
    "true_C = results.cov_params().to_numpy()[4:,4:]\n",
    "true_C_inv = np.linalg.inv(true_C)\n",
    "\n",
    "# Get log-ORs and corresponding variances\n",
    "L = results.params.to_numpy()[4:]\n",
    "v = (results.bse.to_numpy()[4:])**2"
   ]
  },
  {
   "cell_type": "code",
   "execution_count": 465,
   "metadata": {},
   "outputs": [
    {
     "data": {
      "text/plain": [
       "array([0.99795593, 1.0243074 , 1.04804608])"
      ]
     },
     "execution_count": 465,
     "metadata": {},
     "output_type": "execute_result"
    }
   ],
   "source": [
    "np.exp(L)"
   ]
  },
  {
   "cell_type": "code",
   "execution_count": 466,
   "metadata": {},
   "outputs": [
    {
     "data": {
      "text/plain": [
       "array([1.2551063 , 1.64324092, 2.17078667])"
      ]
     },
     "execution_count": 466,
     "metadata": {},
     "output_type": "execute_result"
    }
   ],
   "source": [
    "crudeors"
   ]
  },
  {
   "cell_type": "code",
   "execution_count": 467,
   "metadata": {},
   "outputs": [],
   "source": [
    "# Running GL\n",
    "it_fit_ex = IF(L,A,N,M)\n",
    "Ap, Bp, a0p, b0p = it_fit_ex.convexProgram()\n",
    "\n",
    "C = covariance_matrix(Ap,Bp,a0p,b0p,v)\n",
    "inv_C = np.linalg.inv(C)"
   ]
  },
  {
   "cell_type": "code",
   "execution_count": 468,
   "metadata": {},
   "outputs": [
    {
     "data": {
      "text/plain": [
       "0.016390360054777876"
      ]
     },
     "execution_count": 468,
     "metadata": {},
     "output_type": "execute_result"
    }
   ],
   "source": [
    "# Recovering slope estimate for corrected correlation\n",
    "vb_star = 1 / (x.T@inv_C@x)\n",
    "b_star = vb_star*(x.T@inv_C@L)\n",
    "b_star"
   ]
  },
  {
   "cell_type": "code",
   "execution_count": 469,
   "metadata": {},
   "outputs": [
    {
     "data": {
      "text/plain": [
       "0.01281627465337195"
      ]
     },
     "execution_count": 469,
     "metadata": {},
     "output_type": "execute_result"
    }
   ],
   "source": [
    "# Recovering standard slope estimate\n",
    "vb = 1/(np.dot(x,np.dot(np.linalg.inv(np.diag(v)),x)))\n",
    "b = vb*(np.dot(x,np.dot(np.linalg.inv(np.diag(v)),L)))\n",
    "b"
   ]
  },
  {
   "cell_type": "code",
   "execution_count": 470,
   "metadata": {},
   "outputs": [
    {
     "data": {
      "text/plain": [
       "0.024585115874140674"
      ]
     },
     "execution_count": 470,
     "metadata": {},
     "output_type": "execute_result"
    }
   ],
   "source": [
    "rootWols = np.diag(1/np.sqrt(v))\n",
    "X_intercept_ols = np.vstack([np.ones(len(x)),x]).T\n",
    "intercept_ols_slope = np.linalg.lstsq(rootWols@X_intercept_ols,rootWols@L,rcond = 1e-15)[0][1]\n",
    "intercept_ols_slope"
   ]
  },
  {
   "cell_type": "code",
   "execution_count": 471,
   "metadata": {},
   "outputs": [
    {
     "data": {
      "text/plain": [
       "0.01633161515485301"
      ]
     },
     "execution_count": 471,
     "metadata": {},
     "output_type": "execute_result"
    }
   ],
   "source": [
    "# Getting Oracle estimates\n",
    "vb_oracle = 1/(np.dot(x,np.dot(true_C_inv,x)))\n",
    "b_oracle = vb_oracle*(np.dot(x,np.dot(true_C_inv,L)))\n",
    "b_oracle"
   ]
  },
  {
   "cell_type": "code",
   "execution_count": 472,
   "metadata": {},
   "outputs": [
    {
     "data": {
      "text/plain": [
       "0.016216320901233153"
      ]
     },
     "execution_count": 472,
     "metadata": {},
     "output_type": "execute_result"
    }
   ],
   "source": [
    "# Getting estimates from covariance matrix generated from raw counts\n",
    "C_raw = covariance_matrix(A,B,a_0,b_0,v)\n",
    "inv_C_raw = np.linalg.inv(C_raw)\n",
    "\n",
    "vb_r = 1/(x.T@inv_C_raw@x)\n",
    "b_r = vb_r*(x.T@inv_C_raw@L)\n",
    "b_r"
   ]
  },
  {
   "cell_type": "code",
   "execution_count": 473,
   "metadata": {},
   "outputs": [
    {
     "data": {
      "text/plain": [
       "<matplotlib.legend.Legend at 0x30dc48650>"
      ]
     },
     "execution_count": 473,
     "metadata": {},
     "output_type": "execute_result"
    }
   ],
   "source": [
    "x_valsp = np.hstack([0,x])\n",
    "plt.scatter(x,L,alpha=0.5,c=\"rebeccapurple\",s=100)\n",
    "plt.scatter(0,0,s=50,c=\"forestgreen\")\n",
    "plt.plot(x_valsp,b_star*x_valsp,label = 'GL',linestyle = 'dashed')\n",
    "plt.plot(x_valsp,b_oracle*x_valsp,label = 'Oracle_Cov', alpha = 0.5,lw = 5)\n",
    "plt.plot(x_valsp,beta1*x_valsp,label = 'Truth',c=\"cornflowerblue\",linestyle=\"dashdot\")\n",
    "plt.plot(x_valsp,b_r*x_valsp,label=\"Crude\",c=\"maroon\",lw = 5,alpha = 0.5)\n",
    "plt.plot(x_valsp,intercept_ols_slope*x_valsp,label=\"Intercept\",c=\"lightsteelblue\")\n",
    "plt.plot(x_valsp,b*x_valsp,label = \"OLS\")\n",
    "plt.legend()"
   ]
  },
  {
   "cell_type": "code",
   "execution_count": 3,
   "metadata": {},
   "outputs": [],
   "source": []
  },
  {
   "cell_type": "code",
   "execution_count": 31,
   "metadata": {},
   "outputs": [
    {
     "data": {
      "application/vnd.jupyter.widget-view+json": {
       "model_id": "403eb40b432d4518a8e91153ea746c2d",
       "version_major": 2,
       "version_minor": 0
      },
      "text/plain": [
       "  0%|          | 0/500 [00:00<?, ?it/s]"
      ]
     },
     "metadata": {},
     "output_type": "display_data"
    }
   ],
   "source": [
    "GL_pe_list = []\n",
    "GL_v_list = []\n",
    "oracle_pe_list = []\n",
    "oracle_v_list = []\n",
    "OLS_pe_list = []\n",
    "OLS_v_list = []\n",
    "crude_pe_list = []\n",
    "crude_v_list = []\n",
    "hamling_pe_list = []\n",
    "hamling_v_list = []\n",
    "\n",
    "crude_cov = []\n",
    "gl_cov = []\n",
    "ham_cov = []\n",
    "oracle_cov = []\n",
    "\n",
    "# Setting seed\n",
    "golden_seed = 6\n",
    "seed = 8\n",
    "np.random.seed(seed)\n",
    "\n",
    "# Initializing simulation slope and intercept parameters\n",
    "beta0 = -0.1\n",
    "beta1 = 0.02\n",
    "beta_age = 1.\n",
    "beta_income = -0.05\n",
    "beta_sex = 5.0\n",
    "\n",
    "# Number of samples\n",
    "n = 10000\n",
    "\n",
    "# Simulation number\n",
    "sim_no = 500\n",
    "\n",
    "for i in tqdm(range(sim_no)):\n",
    "    # Constructing covariate vectors for additional covariates to adjust\n",
    "    age_vector = np.random.uniform(low=0,high=1,size=n)\n",
    "    income_vector = np.random.uniform(low=0,high=1,size=n)\n",
    "    # sex_vector = np.random.binomial(n=1,p=0.6,size=n)\n",
    "\n",
    "    # Assigning exposure levels and getting relevant x's\n",
    "    exposure_levels = np.array([0.,1.,2.,3.])\n",
    "    xs = np.random.choice(exposure_levels,size = n,p = np.array([0.04,0.32,0.32,0.32]))\n",
    "    sex_vector = np.random.binomial(n = 1,p = 0.1 + xs/4,size =n )\n",
    "\n",
    "\n",
    "    # Function to generate probabilities of being a case v non-case\n",
    "    other_covs = beta0 + (beta_age*age_vector) + (income_vector*beta_income) + (sex_vector*beta_sex) \n",
    "    #p = lambda x: (np.exp(beta1*x + other_covs))/(1 + np.exp(beta1*x + other_covs))\n",
    "    px = (expit(beta1*xs+other_covs))\n",
    "\n",
    "    # Actually calculating probabilities on exposures as defined\n",
    "    #px = p(xs)\n",
    "\n",
    "    # Actually assigning to case or not\n",
    "    outcomes = np.array([np.random.binomial(n=1,p=p,size=1)[0] for p in px])\n",
    "\n",
    "    # Constructing and sorting dataframe of outcomes and exposure\n",
    "    df = np.stack([outcomes,xs],axis=1)\n",
    "    # df = df[np.argsort(df[:, 1])]\n",
    "\n",
    "    # Getting xs corresponding to each exposure interval and corresponding case information\n",
    "    categories = [df[np.where(df[:,1] == i)[0]] for i in exposure_levels]\n",
    "    N = np.array([df.shape[0] for df in categories])\n",
    "    cases = np.array([np.sum(df[:,0]) for df in categories])\n",
    "    non_cases = N - cases\n",
    "    a_0, A = cases[0], cases[1:]\n",
    "    b_0, B = non_cases[0], non_cases[1:]\n",
    "    M = np.sum(cases)\n",
    "\n",
    "    # Getting crude estimates to compare\n",
    "    crude = lambda x,y: (x/y) / (a_0/b_0)\n",
    "    crudeors = crude(A,B)\n",
    "\n",
    "    # Constructing dummy variables with respect to exposure level\n",
    "    x = exposure_levels[1:]\n",
    "\n",
    "    to_adjust_df = pd.DataFrame({\n",
    "        'age':age_vector,\n",
    "        'income':income_vector,\n",
    "        'sex':sex_vector,\n",
    "        'exposure':xs.astype(int)\n",
    "    })\n",
    "    to_adjust_df['intercept']=1\n",
    "\n",
    "    to_adjust_df = pd.concat([to_adjust_df,pd.get_dummies(to_adjust_df['exposure'],prefix='exposure').astype(int).iloc[:,1:]],axis=1).drop('exposure',axis=1)\n",
    "\n",
    "    results = sm.Logit(endog=outcomes, exog=to_adjust_df).fit(disp=0)\n",
    "    num_exposures = len(exposure_levels)-1\n",
    "    true_C = results.cov_params().to_numpy()[-num_exposures:,-num_exposures:]\n",
    "    true_C_inv = np.linalg.inv(true_C)\n",
    "\n",
    "    # Get log-ORs and corresponding variances\n",
    "    L = results.params.to_numpy()[-num_exposures:]\n",
    "    v = (results.bse.to_numpy()[-num_exposures:])**2\n",
    "\n",
    "    # Running GL\n",
    "    it_fit_ex = IF(L,A,N,M)\n",
    "    Ap, Bp, a0p, b0p = it_fit_ex.convexProgram()\n",
    "\n",
    "    C = covariance_matrix(Ap,Bp,a0p,b0p,v)\n",
    "    inv_C = np.linalg.inv(C)\n",
    "    gl_cov.append(C)\n",
    "    \n",
    "    # Running Hamling\n",
    "    B0sum = np.sum(B) + b_0\n",
    "\n",
    "    p0 = b_0 / B0sum\n",
    "    z0 = B0sum / M\n",
    "    x_feas = np.array([10/np.min(v),10/np.min(v)])\n",
    "    Ah, Bh, a0h, b0h = ham_vanilla(p0,z0,L,v,x_feas)\n",
    "    Ch = covariance_matrix(Ah,Bh,a0h,b0h,v)\n",
    "    inv_Ch = np.linalg.inv(Ch)\n",
    "    ham_cov.append(Ch)\n",
    "\n",
    "\n",
    "    # Recovering slope estimate for corrected correlation\n",
    "    vb_star = 1 / (x.T@inv_C@x)\n",
    "    b_star = vb_star*(x.T@inv_C@L)\n",
    "    GL_pe_list.append(b_star)\n",
    "    GL_v_list.append(vb_star)\n",
    "\n",
    "    # Recovering slope estimate for corrected correlation\n",
    "    vb_h = 1 / (x.T@inv_C@x)\n",
    "    b_h = vb_star*(x.T@inv_C@L)\n",
    "    hamling_pe_list.append(b_star)\n",
    "    hamling_v_list.append(vb_star)\n",
    "\n",
    "    # Recovering OLS estimates\n",
    "    vb = 1/(x.T@(np.diag(1/v))@x)\n",
    "    b = vb*(x.T@np.diag(1/v)@L)\n",
    "\n",
    "    # vb = 1/(np.dot(x,np.dot(np.linalg.inv(np.diag(v)),x)))\n",
    "    # b = vb*(np.dot(x,np.dot(np.linalg.inv(np.diag(v)),L)))\n",
    "    OLS_pe_list.append(b)\n",
    "    OLS_v_list.append(vb)\n",
    "\n",
    "    # Getting Oracle estimates\n",
    "    vb_oracle = 1/(x.T@true_C_inv@x)\n",
    "    oracle_cov.append(true_C)\n",
    "\n",
    "    #vb_oracle = 1/(np.dot(x,np.dot(true_C_inv,x)))\n",
    "    b_oracle = vb_oracle*(x.T@true_C_inv@L)\n",
    "    # b_oracle = vb_oracle*(np.dot(x,np.dot(true_C_inv,L)))\n",
    "    oracle_pe_list.append(b_oracle)\n",
    "    oracle_v_list.append(vb_oracle)\n",
    "\n",
    "    # Getting estimates from covariance matrix generated from raw counts\n",
    "    C_raw = covariance_matrix(A,B,a_0,b_0,v)\n",
    "    inv_C_raw = np.linalg.inv(C_raw)\n",
    "    crude_cov.append(C_raw)\n",
    "\n",
    "    vb_r = 1/(x.T@inv_C_raw@x)\n",
    "    b_r = vb_r*(x.T@inv_C_raw@L)\n",
    "    crude_pe_list.append(b_r)\n",
    "    crude_v_list.append(vb_r)"
   ]
  },
  {
   "cell_type": "code",
   "execution_count": 32,
   "metadata": {},
   "outputs": [
    {
     "data": {
      "text/html": [
       "<table class=\"simpletable\">\n",
       "<caption>Logit Regression Results</caption>\n",
       "<tr>\n",
       "  <th>Dep. Variable:</th>           <td>y</td>        <th>  No. Observations:  </th>  <td> 10000</td> \n",
       "</tr>\n",
       "<tr>\n",
       "  <th>Model:</th>                 <td>Logit</td>      <th>  Df Residuals:      </th>  <td>  9993</td> \n",
       "</tr>\n",
       "<tr>\n",
       "  <th>Method:</th>                 <td>MLE</td>       <th>  Df Model:          </th>  <td>     6</td> \n",
       "</tr>\n",
       "<tr>\n",
       "  <th>Date:</th>            <td>Fri, 14 Jun 2024</td> <th>  Pseudo R-squ.:     </th>  <td>0.3641</td> \n",
       "</tr>\n",
       "<tr>\n",
       "  <th>Time:</th>                <td>10:55:13</td>     <th>  Log-Likelihood:    </th> <td> -2931.0</td>\n",
       "</tr>\n",
       "<tr>\n",
       "  <th>converged:</th>             <td>True</td>       <th>  LL-Null:           </th> <td> -4609.2</td>\n",
       "</tr>\n",
       "<tr>\n",
       "  <th>Covariance Type:</th>     <td>nonrobust</td>    <th>  LLR p-value:       </th>  <td> 0.000</td> \n",
       "</tr>\n",
       "</table>\n",
       "<table class=\"simpletable\">\n",
       "<tr>\n",
       "       <td></td>         <th>coef</th>     <th>std err</th>      <th>z</th>      <th>P>|z|</th>  <th>[0.025</th>    <th>0.975]</th>  \n",
       "</tr>\n",
       "<tr>\n",
       "  <th>age</th>        <td>    1.0563</td> <td>    0.109</td> <td>    9.689</td> <td> 0.000</td> <td>    0.843</td> <td>    1.270</td>\n",
       "</tr>\n",
       "<tr>\n",
       "  <th>income</th>     <td>   -0.0690</td> <td>    0.110</td> <td>   -0.625</td> <td> 0.532</td> <td>   -0.285</td> <td>    0.147</td>\n",
       "</tr>\n",
       "<tr>\n",
       "  <th>sex</th>        <td>    5.0467</td> <td>    0.202</td> <td>   24.964</td> <td> 0.000</td> <td>    4.651</td> <td>    5.443</td>\n",
       "</tr>\n",
       "<tr>\n",
       "  <th>intercept</th>  <td>   -0.1116</td> <td>    0.136</td> <td>   -0.823</td> <td> 0.410</td> <td>   -0.377</td> <td>    0.154</td>\n",
       "</tr>\n",
       "<tr>\n",
       "  <th>exposure_1</th> <td>   -0.0584</td> <td>    0.119</td> <td>   -0.490</td> <td> 0.624</td> <td>   -0.292</td> <td>    0.175</td>\n",
       "</tr>\n",
       "<tr>\n",
       "  <th>exposure_2</th> <td>    0.0176</td> <td>    0.126</td> <td>    0.140</td> <td> 0.888</td> <td>   -0.229</td> <td>    0.264</td>\n",
       "</tr>\n",
       "<tr>\n",
       "  <th>exposure_3</th> <td>    0.0783</td> <td>    0.143</td> <td>    0.546</td> <td> 0.585</td> <td>   -0.203</td> <td>    0.359</td>\n",
       "</tr>\n",
       "</table>"
      ],
      "text/latex": [
       "\\begin{center}\n",
       "\\begin{tabular}{lclc}\n",
       "\\toprule\n",
       "\\textbf{Dep. Variable:}   &        y         & \\textbf{  No. Observations:  } &    10000    \\\\\n",
       "\\textbf{Model:}           &      Logit       & \\textbf{  Df Residuals:      } &     9993    \\\\\n",
       "\\textbf{Method:}          &       MLE        & \\textbf{  Df Model:          } &        6    \\\\\n",
       "\\textbf{Date:}            & Fri, 14 Jun 2024 & \\textbf{  Pseudo R-squ.:     } &   0.3641    \\\\\n",
       "\\textbf{Time:}            &     10:55:13     & \\textbf{  Log-Likelihood:    } &   -2931.0   \\\\\n",
       "\\textbf{converged:}       &       True       & \\textbf{  LL-Null:           } &   -4609.2   \\\\\n",
       "\\textbf{Covariance Type:} &    nonrobust     & \\textbf{  LLR p-value:       } &    0.000    \\\\\n",
       "\\bottomrule\n",
       "\\end{tabular}\n",
       "\\begin{tabular}{lcccccc}\n",
       "                     & \\textbf{coef} & \\textbf{std err} & \\textbf{z} & \\textbf{P$> |$z$|$} & \\textbf{[0.025} & \\textbf{0.975]}  \\\\\n",
       "\\midrule\n",
       "\\textbf{age}         &       1.0563  &        0.109     &     9.689  &         0.000        &        0.843    &        1.270     \\\\\n",
       "\\textbf{income}      &      -0.0690  &        0.110     &    -0.625  &         0.532        &       -0.285    &        0.147     \\\\\n",
       "\\textbf{sex}         &       5.0467  &        0.202     &    24.964  &         0.000        &        4.651    &        5.443     \\\\\n",
       "\\textbf{intercept}   &      -0.1116  &        0.136     &    -0.823  &         0.410        &       -0.377    &        0.154     \\\\\n",
       "\\textbf{exposure\\_1} &      -0.0584  &        0.119     &    -0.490  &         0.624        &       -0.292    &        0.175     \\\\\n",
       "\\textbf{exposure\\_2} &       0.0176  &        0.126     &     0.140  &         0.888        &       -0.229    &        0.264     \\\\\n",
       "\\textbf{exposure\\_3} &       0.0783  &        0.143     &     0.546  &         0.585        &       -0.203    &        0.359     \\\\\n",
       "\\bottomrule\n",
       "\\end{tabular}\n",
       "%\\caption{Logit Regression Results}\n",
       "\\end{center}"
      ],
      "text/plain": [
       "<class 'statsmodels.iolib.summary.Summary'>\n",
       "\"\"\"\n",
       "                           Logit Regression Results                           \n",
       "==============================================================================\n",
       "Dep. Variable:                      y   No. Observations:                10000\n",
       "Model:                          Logit   Df Residuals:                     9993\n",
       "Method:                           MLE   Df Model:                            6\n",
       "Date:                Fri, 14 Jun 2024   Pseudo R-squ.:                  0.3641\n",
       "Time:                        10:55:13   Log-Likelihood:                -2931.0\n",
       "converged:                       True   LL-Null:                       -4609.2\n",
       "Covariance Type:            nonrobust   LLR p-value:                     0.000\n",
       "==============================================================================\n",
       "                 coef    std err          z      P>|z|      [0.025      0.975]\n",
       "------------------------------------------------------------------------------\n",
       "age            1.0563      0.109      9.689      0.000       0.843       1.270\n",
       "income        -0.0690      0.110     -0.625      0.532      -0.285       0.147\n",
       "sex            5.0467      0.202     24.964      0.000       4.651       5.443\n",
       "intercept     -0.1116      0.136     -0.823      0.410      -0.377       0.154\n",
       "exposure_1    -0.0584      0.119     -0.490      0.624      -0.292       0.175\n",
       "exposure_2     0.0176      0.126      0.140      0.888      -0.229       0.264\n",
       "exposure_3     0.0783      0.143      0.546      0.585      -0.203       0.359\n",
       "==============================================================================\n",
       "\"\"\""
      ]
     },
     "execution_count": 32,
     "metadata": {},
     "output_type": "execute_result"
    }
   ],
   "source": [
    "results.summary()"
   ]
  },
  {
   "cell_type": "code",
   "execution_count": 33,
   "metadata": {},
   "outputs": [
    {
     "data": {
      "text/html": [
       "<div>\n",
       "<style scoped>\n",
       "    .dataframe tbody tr th:only-of-type {\n",
       "        vertical-align: middle;\n",
       "    }\n",
       "\n",
       "    .dataframe tbody tr th {\n",
       "        vertical-align: top;\n",
       "    }\n",
       "\n",
       "    .dataframe thead th {\n",
       "        text-align: right;\n",
       "    }\n",
       "</style>\n",
       "<table border=\"1\" class=\"dataframe\">\n",
       "  <thead>\n",
       "    <tr style=\"text-align: right;\">\n",
       "      <th></th>\n",
       "      <th>OLS</th>\n",
       "      <th>GL</th>\n",
       "      <th>Oracle</th>\n",
       "      <th>Crude</th>\n",
       "    </tr>\n",
       "  </thead>\n",
       "  <tbody>\n",
       "    <tr>\n",
       "      <th>0</th>\n",
       "      <td>0.001255</td>\n",
       "      <td>0.001058</td>\n",
       "      <td>0.001528</td>\n",
       "      <td>0.001417</td>\n",
       "    </tr>\n",
       "    <tr>\n",
       "      <th>1</th>\n",
       "      <td>0.001300</td>\n",
       "      <td>0.000951</td>\n",
       "      <td>0.001513</td>\n",
       "      <td>0.001374</td>\n",
       "    </tr>\n",
       "    <tr>\n",
       "      <th>2</th>\n",
       "      <td>0.001232</td>\n",
       "      <td>0.000972</td>\n",
       "      <td>0.001470</td>\n",
       "      <td>0.001347</td>\n",
       "    </tr>\n",
       "    <tr>\n",
       "      <th>3</th>\n",
       "      <td>0.001305</td>\n",
       "      <td>0.001114</td>\n",
       "      <td>0.001572</td>\n",
       "      <td>0.001461</td>\n",
       "    </tr>\n",
       "    <tr>\n",
       "      <th>4</th>\n",
       "      <td>0.001191</td>\n",
       "      <td>0.001119</td>\n",
       "      <td>0.001497</td>\n",
       "      <td>0.001398</td>\n",
       "    </tr>\n",
       "    <tr>\n",
       "      <th>...</th>\n",
       "      <td>...</td>\n",
       "      <td>...</td>\n",
       "      <td>...</td>\n",
       "      <td>...</td>\n",
       "    </tr>\n",
       "    <tr>\n",
       "      <th>495</th>\n",
       "      <td>0.001240</td>\n",
       "      <td>0.001027</td>\n",
       "      <td>0.001521</td>\n",
       "      <td>0.001402</td>\n",
       "    </tr>\n",
       "    <tr>\n",
       "      <th>496</th>\n",
       "      <td>0.001291</td>\n",
       "      <td>0.000997</td>\n",
       "      <td>0.001519</td>\n",
       "      <td>0.001398</td>\n",
       "    </tr>\n",
       "    <tr>\n",
       "      <th>497</th>\n",
       "      <td>0.001256</td>\n",
       "      <td>0.001036</td>\n",
       "      <td>0.001516</td>\n",
       "      <td>0.001401</td>\n",
       "    </tr>\n",
       "    <tr>\n",
       "      <th>498</th>\n",
       "      <td>0.001297</td>\n",
       "      <td>0.000957</td>\n",
       "      <td>0.001584</td>\n",
       "      <td>0.001435</td>\n",
       "    </tr>\n",
       "    <tr>\n",
       "      <th>499</th>\n",
       "      <td>0.001313</td>\n",
       "      <td>0.001006</td>\n",
       "      <td>0.001541</td>\n",
       "      <td>0.001412</td>\n",
       "    </tr>\n",
       "  </tbody>\n",
       "</table>\n",
       "<p>500 rows × 4 columns</p>\n",
       "</div>"
      ],
      "text/plain": [
       "          OLS        GL    Oracle     Crude\n",
       "0    0.001255  0.001058  0.001528  0.001417\n",
       "1    0.001300  0.000951  0.001513  0.001374\n",
       "2    0.001232  0.000972  0.001470  0.001347\n",
       "3    0.001305  0.001114  0.001572  0.001461\n",
       "4    0.001191  0.001119  0.001497  0.001398\n",
       "..        ...       ...       ...       ...\n",
       "495  0.001240  0.001027  0.001521  0.001402\n",
       "496  0.001291  0.000997  0.001519  0.001398\n",
       "497  0.001256  0.001036  0.001516  0.001401\n",
       "498  0.001297  0.000957  0.001584  0.001435\n",
       "499  0.001313  0.001006  0.001541  0.001412\n",
       "\n",
       "[500 rows x 4 columns]"
      ]
     },
     "execution_count": 33,
     "metadata": {},
     "output_type": "execute_result"
    }
   ],
   "source": [
    "variance_estimates = pd.DataFrame({\"OLS\": OLS_v_list,\n",
    "'GL':GL_v_list,\n",
    "\"Oracle\":oracle_v_list,\n",
    "\"Crude\":crude_v_list}\n",
    ")\n",
    "variance_estimates\n"
   ]
  },
  {
   "cell_type": "code",
   "execution_count": 34,
   "metadata": {},
   "outputs": [
    {
     "data": {
      "text/plain": [
       "GL        0.001282\n",
       "Oracle    0.000971\n",
       "OLS       0.001716\n",
       "Crude     0.000995\n",
       "dtype: float64"
      ]
     },
     "execution_count": 34,
     "metadata": {},
     "output_type": "execute_result"
    }
   ],
   "source": [
    "((point_estimates-beta1)*(point_estimates-beta1)).mean()"
   ]
  },
  {
   "cell_type": "code",
   "execution_count": 35,
   "metadata": {},
   "outputs": [],
   "source": [
    "point_estimates = pd.DataFrame(\n",
    "    {\n",
    "        'GL':GL_pe_list,\n",
    "        \"Oracle\":oracle_pe_list,\n",
    "        \"OLS\":OLS_pe_list,\n",
    "        \"Crude\":crude_pe_list,\n",
    "    }\n",
    ")\n",
    "\n",
    "#point_estimates['truth']=beta1"
   ]
  },
  {
   "cell_type": "code",
   "execution_count": 36,
   "metadata": {},
   "outputs": [
    {
     "data": {
      "text/plain": [
       "1.1620066778264617"
      ]
     },
     "execution_count": 36,
     "metadata": {},
     "output_type": "execute_result"
    }
   ],
   "source": [
    "std_estimate = point_estimates.std(axis=0)\n",
    "std_estimate['OLS']/std_estimate['GL']"
   ]
  },
  {
   "cell_type": "code",
   "execution_count": 37,
   "metadata": {},
   "outputs": [
    {
     "data": {
      "text/plain": [
       "GL        0.046773\n",
       "Oracle    0.040970\n",
       "OLS       0.054350\n",
       "Crude     0.041318\n",
       "dtype: float64"
      ]
     },
     "execution_count": 37,
     "metadata": {},
     "output_type": "execute_result"
    }
   ],
   "source": [
    "std_estimate"
   ]
  },
  {
   "cell_type": "code",
   "execution_count": 38,
   "metadata": {},
   "outputs": [
    {
     "data": {
      "text/plain": [
       "Crude     1.101936\n",
       "GL        1.459565\n",
       "OLS       1.518441\n",
       "Oracle    1.047107\n",
       "dtype: float64"
      ]
     },
     "execution_count": 38,
     "metadata": {},
     "output_type": "execute_result"
    }
   ],
   "source": [
    "((point_estimates - beta1)/np.sqrt(variance_estimates)).std()"
   ]
  },
  {
   "cell_type": "code",
   "execution_count": 39,
   "metadata": {},
   "outputs": [
    {
     "data": {
      "text/plain": [
       "GL        0.026219\n",
       "Oracle    0.023547\n",
       "OLS       0.021760\n",
       "Crude     0.023774\n",
       "dtype: float64"
      ]
     },
     "execution_count": 39,
     "metadata": {},
     "output_type": "execute_result"
    }
   ],
   "source": [
    "point_estimates.mean(axis=0) + 2 * point_estimates.sem(axis=0)"
   ]
  },
  {
   "cell_type": "code",
   "execution_count": 40,
   "metadata": {},
   "outputs": [
    {
     "data": {
      "text/plain": [
       "GL        0.017852\n",
       "Oracle    0.016218\n",
       "OLS       0.012038\n",
       "Crude     0.016383\n",
       "dtype: float64"
      ]
     },
     "execution_count": 40,
     "metadata": {},
     "output_type": "execute_result"
    }
   ],
   "source": [
    "point_estimates.mean(axis=0) - 2 * point_estimates.sem(axis=0)"
   ]
  },
  {
   "cell_type": "code",
   "execution_count": 41,
   "metadata": {},
   "outputs": [
    {
     "data": {
      "text/plain": [
       "GL        0.022035\n",
       "Oracle    0.019882\n",
       "OLS       0.016899\n",
       "Crude     0.020078\n",
       "dtype: float64"
      ]
     },
     "execution_count": 41,
     "metadata": {},
     "output_type": "execute_result"
    }
   ],
   "source": [
    "point_estimates.mean(axis=0)\n"
   ]
  },
  {
   "cell_type": "code",
   "execution_count": 42,
   "metadata": {},
   "outputs": [],
   "source": [
    "GL_pe_list = []\n",
    "GL_v_list = []\n",
    "oracle_pe_list = []\n",
    "oracle_v_list = []\n",
    "OLS_pe_list = []\n",
    "OLS_v_list = []\n",
    "crude_pe_list = []\n",
    "crude_v_list = []\n"
   ]
  },
  {
   "cell_type": "code",
   "execution_count": 43,
   "metadata": {},
   "outputs": [
    {
     "name": "stderr",
     "output_type": "stream",
     "text": [
      "/opt/anaconda3/envs/correlationCorrection/lib/python3.12/site-packages/numpy/core/fromnumeric.py:3504: RuntimeWarning: Mean of empty slice.\n",
      "  return _methods._mean(a, axis=axis, dtype=dtype,\n",
      "/opt/anaconda3/envs/correlationCorrection/lib/python3.12/site-packages/numpy/core/_methods.py:129: RuntimeWarning: invalid value encountered in scalar divide\n",
      "  ret = ret.dtype.type(ret / rcount)\n"
     ]
    }
   ],
   "source": [
    "b_star = np.mean(GL_pe_list)\n",
    "b = np.mean(OLS_pe_list)\n",
    "b_oracle = np.mean(oracle_pe_list)\n",
    "b_r = np.mean(crude_pe_list)"
   ]
  },
  {
   "cell_type": "code",
   "execution_count": 44,
   "metadata": {},
   "outputs": [],
   "source": [
    "vb_star = np.mean(GL_v_list)\n",
    "vb = np.mean(OLS_v_list)\n",
    "vb_oracle = np.mean(oracle_v_list)\n",
    "vb_r = np.mean(crude_v_list)"
   ]
  },
  {
   "cell_type": "code",
   "execution_count": 45,
   "metadata": {},
   "outputs": [
    {
     "data": {
      "text/plain": [
       "<matplotlib.legend.Legend at 0x16a88c9e0>"
      ]
     },
     "execution_count": 45,
     "metadata": {},
     "output_type": "execute_result"
    },
    {
     "data": {
      "image/png": "[encoded data removed]",
      "text/plain": [
       "<Figure size 640x480 with 1 Axes>"
      ]
     },
     "metadata": {},
     "output_type": "display_data"
    }
   ],
   "source": [
    "nbins = 25\n",
    "plt.hist(GL_pe_list,bins=nbins, alpha=0.5, label=\"GL\")\n",
    "plt.hist(OLS_pe_list,bins=nbins, alpha=0.5, label=\"OLS\")\n",
    "plt.hist(oracle_pe_list,bins=nbins, alpha=0.5, label=\"oracle\")\n",
    "plt.hist(crude_pe_list,bins=nbins,alpha=0.5, label=\"crude\")\n",
    "plt.legend()"
   ]
  },
  {
   "cell_type": "code",
   "execution_count": 46,
   "metadata": {},
   "outputs": [
    {
     "name": "stderr",
     "output_type": "stream",
     "text": [
      "/opt/anaconda3/envs/correlationCorrection/lib/python3.12/site-packages/numpy/core/fromnumeric.py:3787: RuntimeWarning: Degrees of freedom <= 0 for slice\n",
      "  return _methods._var(a, axis=axis, dtype=dtype, out=out, ddof=ddof,\n",
      "/opt/anaconda3/envs/correlationCorrection/lib/python3.12/site-packages/numpy/core/_methods.py:163: RuntimeWarning: invalid value encountered in divide\n",
      "  arrmean = um.true_divide(arrmean, div, out=arrmean,\n",
      "/opt/anaconda3/envs/correlationCorrection/lib/python3.12/site-packages/numpy/core/_methods.py:198: RuntimeWarning: invalid value encountered in scalar divide\n",
      "  ret = ret.dtype.type(ret / rcount)\n"
     ]
    },
    {
     "data": {
      "text/plain": [
       "nan"
      ]
     },
     "execution_count": 46,
     "metadata": {},
     "output_type": "execute_result"
    }
   ],
   "source": [
    "np.var(GL_pe_list)"
   ]
  },
  {
   "cell_type": "code",
   "execution_count": 47,
   "metadata": {},
   "outputs": [
    {
     "data": {
      "text/plain": [
       "nan"
      ]
     },
     "execution_count": 47,
     "metadata": {},
     "output_type": "execute_result"
    }
   ],
   "source": [
    "np.var(OLS_pe_list)"
   ]
  },
  {
   "cell_type": "code",
   "execution_count": 48,
   "metadata": {},
   "outputs": [
    {
     "data": {
      "text/plain": [
       "nan"
      ]
     },
     "execution_count": 48,
     "metadata": {},
     "output_type": "execute_result"
    }
   ],
   "source": [
    "vb_star"
   ]
  },
  {
   "cell_type": "code",
   "execution_count": 49,
   "metadata": {},
   "outputs": [
    {
     "data": {
      "text/plain": [
       "nan"
      ]
     },
     "execution_count": 49,
     "metadata": {},
     "output_type": "execute_result"
    }
   ],
   "source": [
    "vb"
   ]
  },
  {
   "cell_type": "code",
   "execution_count": 50,
   "metadata": {},
   "outputs": [
    {
     "data": {
      "text/plain": [
       "nan"
      ]
     },
     "execution_count": 50,
     "metadata": {},
     "output_type": "execute_result"
    }
   ],
   "source": [
    "vb_oracle"
   ]
  },
  {
   "cell_type": "code",
   "execution_count": 51,
   "metadata": {},
   "outputs": [
    {
     "data": {
      "text/plain": [
       "nan"
      ]
     },
     "execution_count": 51,
     "metadata": {},
     "output_type": "execute_result"
    }
   ],
   "source": [
    "vb_r"
   ]
  },
  {
   "cell_type": "code",
   "execution_count": 52,
   "metadata": {},
   "outputs": [
    {
     "data": {
      "text/plain": [
       "array([[0.01424189, 0.01273675, 0.01321083],\n",
       "       [0.01273675, 0.01577181, 0.01344063],\n",
       "       [0.01321083, 0.01344063, 0.02055278]])"
      ]
     },
     "execution_count": 52,
     "metadata": {},
     "output_type": "execute_result"
    }
   ],
   "source": [
    "crude_cov[-1]"
   ]
  },
  {
   "cell_type": "code",
   "execution_count": 53,
   "metadata": {},
   "outputs": [
    {
     "data": {
      "text/plain": [
       "array([[0.01424189, 0.01338567, 0.01526401],\n",
       "       [0.01338567, 0.01577181, 0.01598363],\n",
       "       [0.01526401, 0.01598363, 0.02055278]])"
      ]
     },
     "execution_count": 53,
     "metadata": {},
     "output_type": "execute_result"
    }
   ],
   "source": [
    "gl_cov[-1]"
   ]
  },
  {
   "cell_type": "code",
   "execution_count": 54,
   "metadata": {},
   "outputs": [
    {
     "data": {
      "text/plain": [
       "array([[0.01424189, 0.0122944 , 0.01232192],\n",
       "       [0.0122944 , 0.01577181, 0.0124013 ],\n",
       "       [0.01232192, 0.0124013 , 0.02055278]])"
      ]
     },
     "execution_count": 54,
     "metadata": {},
     "output_type": "execute_result"
    }
   ],
   "source": [
    "oracle_cov[-1]"
   ]
  },
  {
   "cell_type": "code",
   "execution_count": 55,
   "metadata": {},
   "outputs": [
    {
     "data": {
      "text/plain": [
       "0.013901690389195115"
      ]
     },
     "execution_count": 55,
     "metadata": {},
     "output_type": "execute_result"
    }
   ],
   "source": [
    "np.mean(crude_cov)"
   ]
  },
  {
   "cell_type": "code",
   "execution_count": 56,
   "metadata": {},
   "outputs": [
    {
     "data": {
      "text/plain": [
       "array([[0.01382011, 0.01223068, 0.01278087],\n",
       "       [0.01223068, 0.01506038, 0.01298668],\n",
       "       [0.01278087, 0.01298668, 0.02023826]])"
      ]
     },
     "execution_count": 56,
     "metadata": {},
     "output_type": "execute_result"
    }
   ],
   "source": [
    "np.mean(crude_cov,axis=0)"
   ]
  },
  {
   "cell_type": "code",
   "execution_count": 57,
   "metadata": {},
   "outputs": [
    {
     "data": {
      "text/plain": [
       "array([[0.01382011, 0.01281033, 0.01483123],\n",
       "       [0.01281033, 0.01506038, 0.01547025],\n",
       "       [0.01483123, 0.01547025, 0.02023826]])"
      ]
     },
     "execution_count": 57,
     "metadata": {},
     "output_type": "execute_result"
    }
   ],
   "source": [
    "np.mean(gl_cov,axis=0)"
   ]
  },
  {
   "cell_type": "code",
   "execution_count": 58,
   "metadata": {},
   "outputs": [
    {
     "data": {
      "text/plain": [
       "array([[0.01382011, 0.01181123, 0.01183469],\n",
       "       [0.01181123, 0.01506038, 0.01190321],\n",
       "       [0.01183469, 0.01190321, 0.02023826]])"
      ]
     },
     "execution_count": 58,
     "metadata": {},
     "output_type": "execute_result"
    }
   ],
   "source": [
    "np.mean(oracle_cov,axis=0)"
   ]
  },
  {
   "cell_type": "code",
   "execution_count": 59,
   "metadata": {},
   "outputs": [
    {
     "data": {
      "text/plain": [
       "array([[0.01382011, 0.01197598, 0.01197598],\n",
       "       [0.01197598, 0.01506038, 0.01197598],\n",
       "       [0.01197598, 0.01197598, 0.02023826]])"
      ]
     },
     "execution_count": 59,
     "metadata": {},
     "output_type": "execute_result"
    }
   ],
   "source": [
    "np.mean(ham_cov,axis=0)"
   ]
  },
  {
   "cell_type": "code",
   "execution_count": 60,
   "metadata": {},
   "outputs": [
    {
     "data": {
      "text/plain": [
       "array([[-0.   ,  0.036,  0.08 ],\n",
       "       [ 0.036,  0.   ,  0.091],\n",
       "       [ 0.08 ,  0.091,  0.   ]])"
      ]
     },
     "execution_count": 60,
     "metadata": {},
     "output_type": "execute_result"
    }
   ],
   "source": [
    "np.around(np.mean((np.array(crude_cov) - np.array(oracle_cov)) / (np.array(oracle_cov)), axis=0),3)"
   ]
  },
  {
   "cell_type": "code",
   "execution_count": 61,
   "metadata": {},
   "outputs": [
    {
     "data": {
      "text/plain": [
       "array([[-0.   ,  0.085,  0.254],\n",
       "       [ 0.085,  0.   ,  0.3  ],\n",
       "       [ 0.254,  0.3  ,  0.   ]])"
      ]
     },
     "execution_count": 61,
     "metadata": {},
     "output_type": "execute_result"
    }
   ],
   "source": [
    "np.around(np.mean((np.array(gl_cov) - np.array(oracle_cov)) / (np.array(oracle_cov)), axis=0),3)"
   ]
  },
  {
   "cell_type": "code",
   "execution_count": 65,
   "metadata": {},
   "outputs": [
    {
     "data": {
      "text/plain": [
       "array([[0.   , 0.02 , 0.021],\n",
       "       [0.02 , 0.   , 0.025],\n",
       "       [0.021, 0.025, 0.   ]])"
      ]
     },
     "execution_count": 65,
     "metadata": {},
     "output_type": "execute_result"
    }
   ],
   "source": [
    "# Not systematic over or underestimating\n",
    "np.around(np.mean(np.abs(np.array(ham_cov) - np.array(oracle_cov)) / (np.array(oracle_cov)), axis=0),3)"
   ]
  },
  {
   "cell_type": "code",
   "execution_count": 66,
   "metadata": {},
   "outputs": [
    {
     "data": {
      "text/plain": [
       "array([[0.   , 0.085, 0.254],\n",
       "       [0.085, 0.   , 0.3  ],\n",
       "       [0.254, 0.3  , 0.   ]])"
      ]
     },
     "execution_count": 66,
     "metadata": {},
     "output_type": "execute_result"
    }
   ],
   "source": [
    "np.around(np.mean(np.abs(np.array(gl_cov) - np.array(oracle_cov)) / (np.array(oracle_cov)), axis=0),3)"
   ]
  },
  {
   "cell_type": "code",
   "execution_count": 67,
   "metadata": {},
   "outputs": [
    {
     "data": {
      "text/plain": [
       "array([[0.   , 0.036, 0.08 ],\n",
       "       [0.036, 0.   , 0.091],\n",
       "       [0.08 , 0.091, 0.   ]])"
      ]
     },
     "execution_count": 67,
     "metadata": {},
     "output_type": "execute_result"
    }
   ],
   "source": [
    "np.around(np.mean(np.abs(np.array(crude_cov) - np.array(oracle_cov)) / (np.array(oracle_cov)), axis=0),3)"
   ]
  },
  {
   "cell_type": "code",
   "execution_count": null,
   "metadata": {},
   "outputs": [],
   "source": []
  }
 ],
 "metadata": {
  "kernelspec": {
   "display_name": "correlationCorrection",
   "language": "python",
   "name": "python3"
  },
  "language_info": {
   "codemirror_mode": {
    "name": "ipython",
    "version": 3
   },
   "file_extension": ".py",
   "mimetype": "text/x-python",
   "name": "python",
   "nbconvert_exporter": "python",
   "pygments_lexer": "ipython3",
   "version": "3.12.3"
  }
 },
 "nbformat": 4,
 "nbformat_minor": 2
}
