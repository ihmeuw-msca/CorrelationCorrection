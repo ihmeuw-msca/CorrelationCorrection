{
 "cells": [
  {
   "cell_type": "code",
   "execution_count": 374,
   "metadata": {},
   "outputs": [],
   "source": [
    "import numpy as np\n",
    "import pandas as pd\n",
    "import matplotlib.pyplot as plt\n",
    "import statsmodels.api as sm\n",
    "from tqdm.auto import tqdm\n",
    "\n",
    "from src.IterativeFitting import IterativeFitting as IF\n",
    "from src.CorrFuncs import covariance_matrix, trend_est"
   ]
  },
  {
   "cell_type": "code",
   "execution_count": 363,
   "metadata": {},
   "outputs": [
    {
     "name": "stdout",
     "output_type": "stream",
     "text": [
      "Optimization terminated successfully.\n",
      "         Current function value: 0.645992\n",
      "         Iterations 5\n"
     ]
    }
   ],
   "source": [
    "# Setting seed\n",
    "golden_seed = 6\n",
    "seed = 8\n",
    "np.random.seed(seed)\n",
    "\n",
    "# Initializing simulation slope and intercept parameters\n",
    "beta0 = -0.1\n",
    "beta1 = 0.02\n",
    "beta_age = 0.05\n",
    "beta_income = -0.05\n",
    "beta_sex = 1.0\n",
    "\n",
    "# Number of samples\n",
    "n = 40000\n",
    "\n",
    "# Constructing covariate vectors for additional covariates to adjust\n",
    "age_vector = np.random.uniform(low=0,high=1,size=n)\n",
    "income_vector = np.random.uniform(low=0,high=1,size=n)\n",
    "# sex_vector = np.random.binomial(n=1,p=0.6,size=n)\n",
    "\n",
    "# Assigning exposure levels and getting relevant x's\n",
    "exposure_levels = np.array([0.,1.,2.,3.])\n",
    "xs = np.random.choice(exposure_levels,size = n)\n",
    "sex_vector = np.random.binomial(n = 1,p = 0.1 + xs/4,size =n )\n",
    "\n",
    "\n",
    "# Function to generate probabilities of being a case v non-case\n",
    "other_covs = beta0 + (beta_age*age_vector) + (income_vector*beta_income) + (sex_vector*beta_sex) \n",
    "p = lambda x: (np.exp(beta1*x + other_covs))/(1 + np.exp(beta1*x + other_covs))\n",
    "\n",
    "# Actually calculating probabilities on exposures as defined\n",
    "px = p(xs)\n",
    "\n",
    "# Actually assigning to case or not\n",
    "outcomes = np.array([np.random.binomial(n=1,p=p,size=1)[0] for p in px])\n",
    "\n",
    "# Constructing and sorting dataframe of outcomes and exposure\n",
    "df = np.stack([outcomes,xs],axis=1)\n",
    "# df = df[np.argsort(df[:, 1])]\n",
    "\n",
    "# Getting xs corresponding to each exposure interval and corresponding case information\n",
    "categories = [df[np.where(df[:,1] == i)[0]] for i in exposure_levels]\n",
    "N = np.array([df.shape[0] for df in categories])\n",
    "cases = np.array([np.sum(df[:,0]) for df in categories])\n",
    "non_cases = N - cases\n",
    "a_0, A = cases[0], cases[1:]\n",
    "b_0, B = non_cases[0], non_cases[1:]\n",
    "M = np.sum(cases)\n",
    "\n",
    "# Getting crude estimates to compare\n",
    "crude = lambda x,y: (x/y) / (a_0/b_0)\n",
    "crudeors = crude(A,B)\n",
    "\n",
    "# Constructing dummy variables with respect to exposure level\n",
    "x = exposure_levels[1:]\n",
    "\n",
    "to_adjust_df = pd.DataFrame({\n",
    "    'age':age_vector,\n",
    "    'income':income_vector,\n",
    "    'sex':sex_vector,\n",
    "    'exposure':xs.astype(int)\n",
    "})\n",
    "to_adjust_df['intercept']=1\n",
    "\n",
    "to_adjust_df = pd.concat([to_adjust_df,pd.get_dummies(to_adjust_df['exposure'],prefix='exposure').astype(int).iloc[:,1:]],axis=1).drop('exposure',axis=1)\n",
    "\n",
    "results = sm.Logit(endog=df[:,0], exog=to_adjust_df).fit()\n",
    "true_C = results.cov_params().to_numpy()[4:,4:]\n",
    "true_C_inv = np.linalg.inv(true_C)\n",
    "\n",
    "# Get log-ORs and corresponding variances\n",
    "L = results.params.to_numpy()[4:]\n",
    "v = (results.bse.to_numpy()[4:])**2"
   ]
  },
  {
   "cell_type": "code",
   "execution_count": 364,
   "metadata": {},
   "outputs": [
    {
     "data": {
      "text/plain": [
       "array([0.99795593, 1.0243074 , 1.04804608])"
      ]
     },
     "execution_count": 364,
     "metadata": {},
     "output_type": "execute_result"
    }
   ],
   "source": [
    "np.exp(L)"
   ]
  },
  {
   "cell_type": "code",
   "execution_count": 365,
   "metadata": {},
   "outputs": [
    {
     "data": {
      "text/plain": [
       "array([1.2551063 , 1.64324092, 2.17078667])"
      ]
     },
     "execution_count": 365,
     "metadata": {},
     "output_type": "execute_result"
    }
   ],
   "source": [
    "crudeors"
   ]
  },
  {
   "cell_type": "code",
   "execution_count": 366,
   "metadata": {},
   "outputs": [],
   "source": [
    "# Running GL\n",
    "it_fit_ex = IF(L,A,N,M)\n",
    "Ap, Bp, a0p, b0p = it_fit_ex.convexProgram()\n",
    "\n",
    "C = covariance_matrix(Ap,Bp,a0p,b0p,v)\n",
    "inv_C = np.linalg.inv(C)"
   ]
  },
  {
   "cell_type": "code",
   "execution_count": 367,
   "metadata": {},
   "outputs": [
    {
     "data": {
      "text/plain": [
       "0.016390360054777876"
      ]
     },
     "execution_count": 367,
     "metadata": {},
     "output_type": "execute_result"
    }
   ],
   "source": [
    "# Recovering slope estimate for corrected correlation\n",
    "vb_star = 1 / (x.T@inv_C@x)\n",
    "b_star = vb_star*(x.T@inv_C@L)\n",
    "b_star"
   ]
  },
  {
   "cell_type": "code",
   "execution_count": 368,
   "metadata": {},
   "outputs": [
    {
     "data": {
      "text/plain": [
       "0.01281627465337195"
      ]
     },
     "execution_count": 368,
     "metadata": {},
     "output_type": "execute_result"
    }
   ],
   "source": [
    "# Recovering standard slope estimate\n",
    "vb = 1/(np.dot(x,np.dot(np.linalg.inv(np.diag(v)),x)))\n",
    "b = vb*(np.dot(x,np.dot(np.linalg.inv(np.diag(v)),L)))\n",
    "b"
   ]
  },
  {
   "cell_type": "code",
   "execution_count": 369,
   "metadata": {},
   "outputs": [
    {
     "data": {
      "text/plain": [
       "0.024585115874140674"
      ]
     },
     "execution_count": 369,
     "metadata": {},
     "output_type": "execute_result"
    }
   ],
   "source": [
    "rootWols = np.diag(1/np.sqrt(v))\n",
    "X_intercept_ols = np.vstack([np.ones(len(x)),x]).T\n",
    "intercept_ols_slope = np.linalg.lstsq(rootWols@X_intercept_ols,rootWols@L,rcond = 1e-15)[0][1]\n",
    "intercept_ols_slope"
   ]
  },
  {
   "cell_type": "code",
   "execution_count": 370,
   "metadata": {},
   "outputs": [
    {
     "data": {
      "text/plain": [
       "0.01633161515485301"
      ]
     },
     "execution_count": 370,
     "metadata": {},
     "output_type": "execute_result"
    }
   ],
   "source": [
    "# Getting Oracle estimates\n",
    "vb_oracle = 1/(np.dot(x,np.dot(true_C_inv,x)))\n",
    "b_oracle = vb_oracle*(np.dot(x,np.dot(true_C_inv,L)))\n",
    "b_oracle"
   ]
  },
  {
   "cell_type": "code",
   "execution_count": 371,
   "metadata": {},
   "outputs": [
    {
     "data": {
      "text/plain": [
       "0.016216320901233153"
      ]
     },
     "execution_count": 371,
     "metadata": {},
     "output_type": "execute_result"
    }
   ],
   "source": [
    "# Getting estimates from covariance matrix generated from raw counts\n",
    "C_raw = covariance_matrix(A,B,a_0,b_0,v)\n",
    "inv_C_raw = np.linalg.inv(C_raw)\n",
    "\n",
    "vb_r = 1/(x.T@inv_C_raw@x)\n",
    "b_r = vb_r*(x.T@inv_C_raw@L)\n",
    "b_r"
   ]
  },
  {
   "cell_type": "code",
   "execution_count": 372,
   "metadata": {},
   "outputs": [
    {
     "data": {
      "text/plain": [
       "<matplotlib.legend.Legend at 0x308d373b0>"
      ]
     },
     "execution_count": 372,
     "metadata": {},
     "output_type": "execute_result"
    },
    {
     "data": {
      "image/png": "[encoded data removed]",
      "text/plain": [
       "<Figure size 640x480 with 1 Axes>"
      ]
     },
     "metadata": {},
     "output_type": "display_data"
    }
   ],
   "source": [
    "x_valsp = np.hstack([0,x])\n",
    "plt.scatter(x,L,alpha=0.5,c=\"rebeccapurple\",s=100)\n",
    "plt.scatter(0,0,s=50,c=\"forestgreen\")\n",
    "plt.plot(x_valsp,b_star*x_valsp,label = 'GL',linestyle = 'dashed')\n",
    "plt.plot(x_valsp,b_oracle*x_valsp,label = 'Oracle_Cov', alpha = 0.5,lw = 5)\n",
    "plt.plot(x_valsp,beta1*x_valsp,label = 'Truth',c=\"cornflowerblue\",linestyle=\"dashdot\")\n",
    "plt.plot(x_valsp,b_r*x_valsp,label=\"Crude\",c=\"maroon\",lw = 5,alpha = 0.5)\n",
    "plt.plot(x_valsp,intercept_ols_slope*x_valsp,label=\"Intercept\",c=\"lightsteelblue\")\n",
    "plt.plot(x_valsp,b*x_valsp,label = \"OLS\")\n",
    "plt.legend()"
   ]
  },
  {
   "cell_type": "code",
   "execution_count": 399,
   "metadata": {},
   "outputs": [],
   "source": [
    "from scipy.special import logit,expit"
   ]
  },
  {
   "cell_type": "code",
   "execution_count": 454,
   "metadata": {},
   "outputs": [
    {
     "name": "stderr",
     "output_type": "stream",
     "text": [
      "100%|██████████| 10000/10000 [01:46<00:00, 94.21it/s]\n"
     ]
    }
   ],
   "source": [
    "GL_pe_list = []\n",
    "GL_v_list = []\n",
    "oracle_pe_list = []\n",
    "oracle_v_list = []\n",
    "OLS_pe_list = []\n",
    "OLS_v_list = []\n",
    "crude_pe_list = []\n",
    "crude_v_list = []\n",
    "\n",
    "# Setting seed\n",
    "golden_seed = 6\n",
    "seed = 8\n",
    "np.random.seed(seed)\n",
    "\n",
    "# Initializing simulation slope and intercept parameters\n",
    "beta0 = -0.1\n",
    "beta1 = 0.02\n",
    "beta_age = 0.05\n",
    "beta_income = -0.05\n",
    "beta_sex = 1.0\n",
    "\n",
    "# Number of samples\n",
    "n = 1000\n",
    "\n",
    "# Simulation number\n",
    "sim_no = 10000\n",
    "\n",
    "for i in tqdm(range(sim_no)):\n",
    "    # Constructing covariate vectors for additional covariates to adjust\n",
    "    age_vector = np.random.uniform(low=0,high=1,size=n)\n",
    "    income_vector = np.random.uniform(low=0,high=1,size=n)\n",
    "    # sex_vector = np.random.binomial(n=1,p=0.6,size=n)\n",
    "\n",
    "    # Assigning exposure levels and getting relevant x's\n",
    "    exposure_levels = np.array([0.,1.,2.,3.])\n",
    "    xs = np.random.choice(exposure_levels,size = n,p = np.array([0.04,0.32,0.32,0.32]))\n",
    "    sex_vector = np.random.binomial(n = 1,p = 0.1 + xs/4,size =n )\n",
    "\n",
    "\n",
    "    # Function to generate probabilities of being a case v non-case\n",
    "    other_covs = beta0 + (beta_age*age_vector) + (income_vector*beta_income) + (sex_vector*beta_sex) \n",
    "    #p = lambda x: (np.exp(beta1*x + other_covs))/(1 + np.exp(beta1*x + other_covs))\n",
    "    px = (expit(beta1*xs+other_covs))\n",
    "\n",
    "    # Actually calculating probabilities on exposures as defined\n",
    "    #px = p(xs)\n",
    "\n",
    "    # Actually assigning to case or not\n",
    "    outcomes = np.array([np.random.binomial(n=1,p=p,size=1)[0] for p in px])\n",
    "\n",
    "    # Constructing and sorting dataframe of outcomes and exposure\n",
    "    df = np.stack([outcomes,xs],axis=1)\n",
    "    # df = df[np.argsort(df[:, 1])]\n",
    "\n",
    "    # Getting xs corresponding to each exposure interval and corresponding case information\n",
    "    categories = [df[np.where(df[:,1] == i)[0]] for i in exposure_levels]\n",
    "    N = np.array([df.shape[0] for df in categories])\n",
    "    cases = np.array([np.sum(df[:,0]) for df in categories])\n",
    "    non_cases = N - cases\n",
    "    a_0, A = cases[0], cases[1:]\n",
    "    b_0, B = non_cases[0], non_cases[1:]\n",
    "    M = np.sum(cases)\n",
    "\n",
    "    # Getting crude estimates to compare\n",
    "    crude = lambda x,y: (x/y) / (a_0/b_0)\n",
    "    crudeors = crude(A,B)\n",
    "\n",
    "    # Constructing dummy variables with respect to exposure level\n",
    "    x = exposure_levels[1:]\n",
    "\n",
    "    to_adjust_df = pd.DataFrame({\n",
    "        'age':age_vector,\n",
    "        'income':income_vector,\n",
    "        'sex':sex_vector,\n",
    "        'exposure':xs.astype(int)\n",
    "    })\n",
    "    to_adjust_df['intercept']=1\n",
    "\n",
    "    to_adjust_df = pd.concat([to_adjust_df,pd.get_dummies(to_adjust_df['exposure'],prefix='exposure').astype(int).iloc[:,1:]],axis=1).drop('exposure',axis=1)\n",
    "\n",
    "    results = sm.Logit(endog=outcomes, exog=to_adjust_df).fit(disp=0)\n",
    "    num_exposures = len(exposure_levels)-1\n",
    "    true_C = results.cov_params().to_numpy()[-num_exposures:,-num_exposures:]\n",
    "    true_C_inv = np.linalg.inv(true_C)\n",
    "\n",
    "    # Get log-ORs and corresponding variances\n",
    "    L = results.params.to_numpy()[-num_exposures:]\n",
    "    v = (results.bse.to_numpy()[-num_exposures:])**2\n",
    "\n",
    "    # Running GL\n",
    "    it_fit_ex = IF(L,A,N,M)\n",
    "    Ap, Bp, a0p, b0p = it_fit_ex.convexProgram()\n",
    "\n",
    "    C = covariance_matrix(Ap,Bp,a0p,b0p,v)\n",
    "    inv_C = np.linalg.inv(C)\n",
    "\n",
    "    # Recovering slope estimate for corrected correlation\n",
    "    vb_star = 1 / (x.T@inv_C@x)\n",
    "    b_star = vb_star*(x.T@inv_C@L)\n",
    "    GL_pe_list.append(b_star)\n",
    "    GL_v_list.append(vb_star)\n",
    "\n",
    "    # Recovering OLS estimates\n",
    "    vb = 1/(x.T@(np.diag(1/v))@x)\n",
    "    b = vb*(x.T@np.diag(1/v)@L)\n",
    "\n",
    "    # vb = 1/(np.dot(x,np.dot(np.linalg.inv(np.diag(v)),x)))\n",
    "    # b = vb*(np.dot(x,np.dot(np.linalg.inv(np.diag(v)),L)))\n",
    "    OLS_pe_list.append(b)\n",
    "    OLS_v_list.append(vb)\n",
    "\n",
    "    # Getting Oracle estimates\n",
    "    vb_oracle = 1/(x.T@true_C_inv@x)\n",
    "\n",
    "    #vb_oracle = 1/(np.dot(x,np.dot(true_C_inv,x)))\n",
    "    b_oracle = vb_oracle*(x.T@true_C_inv@L)\n",
    "    # b_oracle = vb_oracle*(np.dot(x,np.dot(true_C_inv,L)))\n",
    "    oracle_pe_list.append(b_oracle)\n",
    "    oracle_v_list.append(vb_oracle)\n",
    "\n",
    "    # Getting estimates from covariance matrix generated from raw counts\n",
    "    C_raw = covariance_matrix(A,B,a_0,b_0,v)\n",
    "    inv_C_raw = np.linalg.inv(C_raw)\n",
    "\n",
    "    vb_r = 1/(x.T@inv_C_raw@x)\n",
    "    b_r = vb_r*(x.T@inv_C_raw@L)\n",
    "    crude_pe_list.append(b_r)\n",
    "    crude_v_list.append(vb_r)"
   ]
  },
  {
   "cell_type": "code",
   "execution_count": 455,
   "metadata": {},
   "outputs": [
    {
     "data": {
      "text/html": [
       "<div>\n",
       "<style scoped>\n",
       "    .dataframe tbody tr th:only-of-type {\n",
       "        vertical-align: middle;\n",
       "    }\n",
       "\n",
       "    .dataframe tbody tr th {\n",
       "        vertical-align: top;\n",
       "    }\n",
       "\n",
       "    .dataframe thead th {\n",
       "        text-align: right;\n",
       "    }\n",
       "</style>\n",
       "<table border=\"1\" class=\"dataframe\">\n",
       "  <thead>\n",
       "    <tr style=\"text-align: right;\">\n",
       "      <th></th>\n",
       "      <th>OLS</th>\n",
       "      <th>GL</th>\n",
       "      <th>Oracle</th>\n",
       "      <th>Crude</th>\n",
       "    </tr>\n",
       "  </thead>\n",
       "  <tbody>\n",
       "    <tr>\n",
       "      <th>0</th>\n",
       "      <td>0.010305</td>\n",
       "      <td>0.005679</td>\n",
       "      <td>0.007628</td>\n",
       "      <td>0.006554</td>\n",
       "    </tr>\n",
       "    <tr>\n",
       "      <th>1</th>\n",
       "      <td>0.008268</td>\n",
       "      <td>0.006382</td>\n",
       "      <td>0.007055</td>\n",
       "      <td>0.006298</td>\n",
       "    </tr>\n",
       "    <tr>\n",
       "      <th>2</th>\n",
       "      <td>0.008567</td>\n",
       "      <td>0.006027</td>\n",
       "      <td>0.007294</td>\n",
       "      <td>0.006462</td>\n",
       "    </tr>\n",
       "    <tr>\n",
       "      <th>3</th>\n",
       "      <td>0.007378</td>\n",
       "      <td>0.005819</td>\n",
       "      <td>0.007225</td>\n",
       "      <td>0.006671</td>\n",
       "    </tr>\n",
       "    <tr>\n",
       "      <th>4</th>\n",
       "      <td>0.007610</td>\n",
       "      <td>0.006203</td>\n",
       "      <td>0.007066</td>\n",
       "      <td>0.006479</td>\n",
       "    </tr>\n",
       "    <tr>\n",
       "      <th>...</th>\n",
       "      <td>...</td>\n",
       "      <td>...</td>\n",
       "      <td>...</td>\n",
       "      <td>...</td>\n",
       "    </tr>\n",
       "    <tr>\n",
       "      <th>9995</th>\n",
       "      <td>0.007906</td>\n",
       "      <td>0.005801</td>\n",
       "      <td>0.007008</td>\n",
       "      <td>0.006322</td>\n",
       "    </tr>\n",
       "    <tr>\n",
       "      <th>9996</th>\n",
       "      <td>0.010099</td>\n",
       "      <td>0.006003</td>\n",
       "      <td>0.007347</td>\n",
       "      <td>0.006488</td>\n",
       "    </tr>\n",
       "    <tr>\n",
       "      <th>9997</th>\n",
       "      <td>0.007688</td>\n",
       "      <td>0.005823</td>\n",
       "      <td>0.006497</td>\n",
       "      <td>0.006072</td>\n",
       "    </tr>\n",
       "    <tr>\n",
       "      <th>9998</th>\n",
       "      <td>0.007993</td>\n",
       "      <td>0.005788</td>\n",
       "      <td>0.007178</td>\n",
       "      <td>0.006523</td>\n",
       "    </tr>\n",
       "    <tr>\n",
       "      <th>9999</th>\n",
       "      <td>0.007549</td>\n",
       "      <td>0.006187</td>\n",
       "      <td>0.007538</td>\n",
       "      <td>0.006525</td>\n",
       "    </tr>\n",
       "  </tbody>\n",
       "</table>\n",
       "<p>10000 rows × 4 columns</p>\n",
       "</div>"
      ],
      "text/plain": [
       "           OLS        GL    Oracle     Crude\n",
       "0     0.010305  0.005679  0.007628  0.006554\n",
       "1     0.008268  0.006382  0.007055  0.006298\n",
       "2     0.008567  0.006027  0.007294  0.006462\n",
       "3     0.007378  0.005819  0.007225  0.006671\n",
       "4     0.007610  0.006203  0.007066  0.006479\n",
       "...        ...       ...       ...       ...\n",
       "9995  0.007906  0.005801  0.007008  0.006322\n",
       "9996  0.010099  0.006003  0.007347  0.006488\n",
       "9997  0.007688  0.005823  0.006497  0.006072\n",
       "9998  0.007993  0.005788  0.007178  0.006523\n",
       "9999  0.007549  0.006187  0.007538  0.006525\n",
       "\n",
       "[10000 rows x 4 columns]"
      ]
     },
     "execution_count": 455,
     "metadata": {},
     "output_type": "execute_result"
    }
   ],
   "source": [
    "variance_estimates = pd.DataFrame({\"OLS\": OLS_v_list,\n",
    "'GL':GL_v_list,\n",
    "\"Oracle\":oracle_v_list,\n",
    "\"Crude\":crude_v_list}\n",
    ")\n",
    "variance_estimates\n"
   ]
  },
  {
   "cell_type": "code",
   "execution_count": 456,
   "metadata": {},
   "outputs": [],
   "source": [
    "point_estimates = pd.DataFrame(\n",
    "    {\n",
    "        'GL':GL_pe_list,\n",
    "        \"Oracle\":oracle_pe_list,\n",
    "        \"OLS\":OLS_pe_list,\n",
    "        \"Crude\":crude_pe_list,\n",
    "    }\n",
    ")\n",
    "\n",
    "#point_estimates['truth']=beta1"
   ]
  },
  {
   "cell_type": "code",
   "execution_count": 457,
   "metadata": {},
   "outputs": [
    {
     "data": {
      "text/plain": [
       "1.7666736111294707"
      ]
     },
     "execution_count": 457,
     "metadata": {},
     "output_type": "execute_result"
    }
   ],
   "source": [
    "std_estimate = point_estimates.std(axis=0)\n",
    "std_estimate['OLS']/std_estimate['GL']"
   ]
  },
  {
   "cell_type": "code",
   "execution_count": 459,
   "metadata": {},
   "outputs": [
    {
     "data": {
      "text/plain": [
       "GL        0.085481\n",
       "Oracle    0.084864\n",
       "OLS       0.151016\n",
       "Crude     0.085286\n",
       "dtype: float64"
      ]
     },
     "execution_count": 459,
     "metadata": {},
     "output_type": "execute_result"
    }
   ],
   "source": [
    "std_estimate"
   ]
  },
  {
   "cell_type": "code",
   "execution_count": 461,
   "metadata": {},
   "outputs": [
    {
     "data": {
      "text/plain": [
       "Crude     1.131738\n",
       "GL        1.196753\n",
       "OLS       2.330115\n",
       "Oracle    0.991919\n",
       "dtype: float64"
      ]
     },
     "execution_count": 461,
     "metadata": {},
     "output_type": "execute_result"
    }
   ],
   "source": [
    "((point_estimates - beta1)/np.sqrt(variance_estimates)).var()"
   ]
  },
  {
   "cell_type": "code",
   "execution_count": 438,
   "metadata": {},
   "outputs": [
    {
     "data": {
      "text/plain": [
       "GL        0.021028\n",
       "Oracle    0.021457\n",
       "OLS       0.020303\n",
       "Crude     0.019779\n",
       "truth     0.020000\n",
       "dtype: float64"
      ]
     },
     "execution_count": 438,
     "metadata": {},
     "output_type": "execute_result"
    }
   ],
   "source": [
    "point_estimates.mean(axis=0) + 2 * point_estimates.sem(axis=0)"
   ]
  },
  {
   "cell_type": "code",
   "execution_count": 434,
   "metadata": {},
   "outputs": [
    {
     "data": {
      "text/plain": [
       "GL        0.008828\n",
       "Oracle    0.009654\n",
       "OLS       0.008620\n",
       "Crude     0.007525\n",
       "truth     0.020000\n",
       "dtype: float64"
      ]
     },
     "execution_count": 434,
     "metadata": {},
     "output_type": "execute_result"
    }
   ],
   "source": [
    "point_estimates.mean(axis=0) - 2 * point_estimates.sem(axis=0)"
   ]
  },
  {
   "cell_type": "code",
   "execution_count": 419,
   "metadata": {},
   "outputs": [
    {
     "data": {
      "text/plain": [
       "GL        0.020165\n",
       "Oracle    0.020184\n",
       "OLS       0.020200\n",
       "Crude     0.020156\n",
       "truth     0.020000\n",
       "dtype: float64"
      ]
     },
     "execution_count": 419,
     "metadata": {},
     "output_type": "execute_result"
    }
   ],
   "source": [
    "point_estimates.mean(axis=0)\n"
   ]
  },
  {
   "cell_type": "code",
   "execution_count": null,
   "metadata": {},
   "outputs": [],
   "source": [
    "GL_pe_list = []\n",
    "GL_v_list = []\n",
    "oracle_pe_list = []\n",
    "oracle_v_list = []\n",
    "OLS_pe_list = []\n",
    "OLS_v_list = []\n",
    "crude_pe_list = []\n",
    "crude_v_list = []\n"
   ]
  },
  {
   "cell_type": "code",
   "execution_count": 381,
   "metadata": {},
   "outputs": [],
   "source": [
    "b_star = np.mean(GL_pe_list)\n",
    "b = np.mean(OLS_pe_list)\n",
    "b_oracle = np.mean(oracle_pe_list)\n",
    "b_r = np.mean(crude_pe_list)"
   ]
  },
  {
   "cell_type": "code",
   "execution_count": 386,
   "metadata": {},
   "outputs": [],
   "source": [
    "vb_star = np.mean(GL_v_list)\n",
    "vb = np.mean(OLS_v_list)\n",
    "vb_oracle = np.mean(oracle_v_list)\n",
    "vb_r = np.mean(crude_v_list)"
   ]
  },
  {
   "cell_type": "code",
   "execution_count": 452,
   "metadata": {},
   "outputs": [
    {
     "data": {
      "text/plain": [
       "<matplotlib.legend.Legend at 0x30ca0cfe0>"
      ]
     },
     "execution_count": 452,
     "metadata": {},
     "output_type": "execute_result"
    },
    {
     "data": {
      "image/png": "[encoded data removed]",
      "text/plain": [
       "<Figure size 640x480 with 1 Axes>"
      ]
     },
     "metadata": {},
     "output_type": "display_data"
    }
   ],
   "source": [
    "nbins = 25\n",
    "plt.hist(GL_pe_list,bins=nbins, alpha=0.5, label=\"GL\")\n",
    "plt.hist(OLS_pe_list,bins=nbins, alpha=0.5, label=\"OLS\")\n",
    "plt.hist(oracle_pe_list,bins=nbins, alpha=0.5, label=\"oracle\")\n",
    "plt.hist(crude_pe_list,bins=nbins,alpha=0.5, label=\"crude\")\n",
    "plt.legend()"
   ]
  },
  {
   "cell_type": "code",
   "execution_count": 395,
   "metadata": {},
   "outputs": [
    {
     "data": {
      "text/plain": [
       "0.0001243123590894898"
      ]
     },
     "execution_count": 395,
     "metadata": {},
     "output_type": "execute_result"
    }
   ],
   "source": [
    "np.var(GL_pe_list)"
   ]
  },
  {
   "cell_type": "code",
   "execution_count": 398,
   "metadata": {},
   "outputs": [
    {
     "data": {
      "text/plain": [
       "0.00012427179561154875"
      ]
     },
     "execution_count": 398,
     "metadata": {},
     "output_type": "execute_result"
    }
   ],
   "source": [
    "np.var(OLS_pe_list)"
   ]
  },
  {
   "cell_type": "code",
   "execution_count": 389,
   "metadata": {},
   "outputs": [
    {
     "data": {
      "text/plain": [
       "0.0001222559323540188"
      ]
     },
     "execution_count": 389,
     "metadata": {},
     "output_type": "execute_result"
    }
   ],
   "source": [
    "vb_star"
   ]
  },
  {
   "cell_type": "code",
   "execution_count": 390,
   "metadata": {},
   "outputs": [
    {
     "data": {
      "text/plain": [
       "0.0001275213856540167"
      ]
     },
     "execution_count": 390,
     "metadata": {},
     "output_type": "execute_result"
    }
   ],
   "source": [
    "vb"
   ]
  },
  {
   "cell_type": "code",
   "execution_count": 391,
   "metadata": {},
   "outputs": [
    {
     "data": {
      "text/plain": [
       "8.069133950872295e-05"
      ]
     },
     "execution_count": 391,
     "metadata": {},
     "output_type": "execute_result"
    }
   ],
   "source": [
    "vb_oracle"
   ]
  },
  {
   "cell_type": "code",
   "execution_count": 392,
   "metadata": {},
   "outputs": [
    {
     "data": {
      "text/plain": [
       "0.00012136997231907418"
      ]
     },
     "execution_count": 392,
     "metadata": {},
     "output_type": "execute_result"
    }
   ],
   "source": [
    "vb_r"
   ]
  },
  {
   "cell_type": "code",
   "execution_count": null,
   "metadata": {},
   "outputs": [],
   "source": []
  }
 ],
 "metadata": {
  "kernelspec": {
   "display_name": "correlationCorrection",
   "language": "python",
   "name": "python3"
  },
  "language_info": {
   "codemirror_mode": {
    "name": "ipython",
    "version": 3
   },
   "file_extension": ".py",
   "mimetype": "text/x-python",
   "name": "python",
   "nbconvert_exporter": "python",
   "pygments_lexer": "ipython3",
   "version": "3.12.3"
  }
 },
 "nbformat": 4,
 "nbformat_minor": 2
}
