{
 "cells": [
  {
   "cell_type": "code",
   "execution_count": 27,
   "metadata": {},
   "outputs": [],
   "source": [
    "import numpy as np\n",
    "import pandas as pd\n",
    "import matplotlib.pyplot as plt\n",
    "import statsmodels.api as sm\n",
    "\n",
    "from src.IterativeFitting import IterativeFitting as IF\n",
    "from src.CorrFuncs import covariance_matrix, trend_est"
   ]
  },
  {
   "cell_type": "code",
   "execution_count": 28,
   "metadata": {},
   "outputs": [],
   "source": [
    "def create_covar_matrix(study_df,std_rise,Lx,dose_index=1):\n",
    "    Nx_s = study_df[\"subjects\"].to_numpy().astype(np.float64)\n",
    "    Lx_s = study_df[Lx].to_numpy().astype(np.float64)[dose_index:]\n",
    "    M1x_s = np.sum(study_df[\"cases\"].to_numpy().astype(np.float64))\n",
    "    A0_s = M1x_s*Nx_s[1:]/(Nx_s.sum())\n",
    "\n",
    "    it_fit_ex = IF(Lx_s,A0_s,Nx_s,M1x_s)\n",
    "    A_s, B_s, a0_s, b0_s = it_fit_ex.convexProgram()\n",
    "\n",
    "    C = covariance_matrix(A_s,B_s,a0_s,b0_s,std_rise**2)\n",
    "    inv_C = np.linalg.inv(C)\n",
    "\n",
    "    return C, inv_C"
   ]
  },
  {
   "cell_type": "code",
   "execution_count": 88,
   "metadata": {},
   "outputs": [],
   "source": [
    "# Reading in data\n",
    "study_df = pd.read_excel(\"SBPvPAD_data.xlsx\")\n",
    "\n",
    "# Taking care of non-log values in dataframe\n",
    "study_df.iloc[0,5:8] = np.log(study_df.iloc[0,5:8].to_numpy().astype(np.float64))\n",
    "study_df.iloc[5,5:8] = np.log(study_df.iloc[5,5:8].to_numpy().astype(np.float64))\n",
    "\n",
    "# Creating Itoga-specific dataframe\n",
    "study_df_i = study_df.loc[study_df[\"Author\"] == \"Itoga\"]\n",
    "study_df_i_bref = study_df_i.iloc[[0]]\n",
    "study_df_i_aref = study_df_i.iloc[1:]\n",
    "study_df_i = pd.concat([study_df_i_aref,study_df_i_bref],ignore_index=True)\n",
    "# study_df_i = study_df_i.iloc[1:,:]\n",
    "\n",
    "# Create exposure levels relative to reference exposure\n",
    "x_i = study_df_i[\"dose\"].to_numpy()[1:] - study_df_i[\"dose\"].to_numpy()[0]\n",
    "\n",
    "# Get log-odds and corresponding variance estimates\n",
    "L_i = study_df_i[\"logOR\"].to_numpy()[1:]\n",
    "v_i = study_df_i[\"std_error\"].to_numpy()[1:]"
   ]
  },
  {
   "cell_type": "code",
   "execution_count": 89,
   "metadata": {},
   "outputs": [
    {
     "data": {
      "text/html": [
       "<div>\n",
       "<style scoped>\n",
       "    .dataframe tbody tr th:only-of-type {\n",
       "        vertical-align: middle;\n",
       "    }\n",
       "\n",
       "    .dataframe tbody tr th {\n",
       "        vertical-align: top;\n",
       "    }\n",
       "\n",
       "    .dataframe thead th {\n",
       "        text-align: right;\n",
       "    }\n",
       "</style>\n",
       "<table border=\"1\" class=\"dataframe\">\n",
       "  <thead>\n",
       "    <tr style=\"text-align: right;\">\n",
       "      <th></th>\n",
       "      <th>Author</th>\n",
       "      <th>dose</th>\n",
       "      <th>cases</th>\n",
       "      <th>controls</th>\n",
       "      <th>subjects</th>\n",
       "      <th>logOR</th>\n",
       "      <th>low</th>\n",
       "      <th>high</th>\n",
       "      <th>std_error</th>\n",
       "    </tr>\n",
       "  </thead>\n",
       "  <tbody>\n",
       "    <tr>\n",
       "      <th>0</th>\n",
       "      <td>Itoga</td>\n",
       "      <td>129.8</td>\n",
       "      <td>249.666667</td>\n",
       "      <td>2738.333333</td>\n",
       "      <td>2988.0</td>\n",
       "      <td>0.000</td>\n",
       "      <td>0.0000</td>\n",
       "      <td>0.000</td>\n",
       "      <td>0.000000</td>\n",
       "    </tr>\n",
       "    <tr>\n",
       "      <th>1</th>\n",
       "      <td>Itoga</td>\n",
       "      <td>134.6</td>\n",
       "      <td>249.666667</td>\n",
       "      <td>6048.333333</td>\n",
       "      <td>6298.0</td>\n",
       "      <td>-0.062</td>\n",
       "      <td>-0.1500</td>\n",
       "      <td>-0.023</td>\n",
       "      <td>0.032071</td>\n",
       "    </tr>\n",
       "    <tr>\n",
       "      <th>2</th>\n",
       "      <td>Itoga</td>\n",
       "      <td>139.0</td>\n",
       "      <td>249.666667</td>\n",
       "      <td>9341.333333</td>\n",
       "      <td>9591.0</td>\n",
       "      <td>0.077</td>\n",
       "      <td>0.0004</td>\n",
       "      <td>0.150</td>\n",
       "      <td>0.037778</td>\n",
       "    </tr>\n",
       "    <tr>\n",
       "      <th>3</th>\n",
       "      <td>Itoga</td>\n",
       "      <td>143.7</td>\n",
       "      <td>249.666667</td>\n",
       "      <td>8543.333333</td>\n",
       "      <td>8793.0</td>\n",
       "      <td>0.110</td>\n",
       "      <td>0.0220</td>\n",
       "      <td>0.210</td>\n",
       "      <td>0.047475</td>\n",
       "    </tr>\n",
       "    <tr>\n",
       "      <th>4</th>\n",
       "      <td>Itoga</td>\n",
       "      <td>149.5</td>\n",
       "      <td>249.666667</td>\n",
       "      <td>4401.333333</td>\n",
       "      <td>4651.0</td>\n",
       "      <td>0.190</td>\n",
       "      <td>0.1100</td>\n",
       "      <td>0.280</td>\n",
       "      <td>0.042929</td>\n",
       "    </tr>\n",
       "    <tr>\n",
       "      <th>5</th>\n",
       "      <td>Itoga</td>\n",
       "      <td>123.9</td>\n",
       "      <td>249.666667</td>\n",
       "      <td>786.333333</td>\n",
       "      <td>1036.0</td>\n",
       "      <td>0.230</td>\n",
       "      <td>0.1600</td>\n",
       "      <td>0.310</td>\n",
       "      <td>0.037879</td>\n",
       "    </tr>\n",
       "  </tbody>\n",
       "</table>\n",
       "</div>"
      ],
      "text/plain": [
       "  Author   dose       cases     controls  subjects  logOR     low   high  \\\n",
       "0  Itoga  129.8  249.666667  2738.333333    2988.0  0.000  0.0000  0.000   \n",
       "1  Itoga  134.6  249.666667  6048.333333    6298.0 -0.062 -0.1500 -0.023   \n",
       "2  Itoga  139.0  249.666667  9341.333333    9591.0  0.077  0.0004  0.150   \n",
       "3  Itoga  143.7  249.666667  8543.333333    8793.0  0.110  0.0220  0.210   \n",
       "4  Itoga  149.5  249.666667  4401.333333    4651.0  0.190  0.1100  0.280   \n",
       "5  Itoga  123.9  249.666667   786.333333    1036.0  0.230  0.1600  0.310   \n",
       "\n",
       "   std_error  \n",
       "0   0.000000  \n",
       "1   0.032071  \n",
       "2   0.037778  \n",
       "3   0.047475  \n",
       "4   0.042929  \n",
       "5   0.037879  "
      ]
     },
     "execution_count": 89,
     "metadata": {},
     "output_type": "execute_result"
    }
   ],
   "source": [
    "study_df_i"
   ]
  },
  {
   "cell_type": "markdown",
   "metadata": {},
   "source": [
    "Regular regression estimates"
   ]
  },
  {
   "cell_type": "code",
   "execution_count": 90,
   "metadata": {},
   "outputs": [
    {
     "name": "stderr",
     "output_type": "stream",
     "text": [
      "/opt/anaconda3/envs/correlationCorrection/lib/python3.12/site-packages/cvxpy/reductions/solvers/solving_chain.py:354: FutureWarning: \n",
      "    You specified your problem should be solved by ECOS. Starting in\n",
      "    CXVPY 1.6.0, ECOS will no longer be installed by default with CVXPY.\n",
      "    Please either add an explicit dependency on ECOS or switch to our new\n",
      "    default solver, Clarabel, by either not specifying a solver argument\n",
      "    or specifying ``solver=cp.CLARABEL``.\n",
      "    \n",
      "  warnings.warn(ECOS_DEP_DEPRECATION_MSG, FutureWarning)\n"
     ]
    }
   ],
   "source": [
    "# Generating covariance matrix and inverse\n",
    "Cr, inv_Cr = create_covar_matrix(study_df_i, v_i, \"logOR\")"
   ]
  },
  {
   "cell_type": "code",
   "execution_count": 91,
   "metadata": {},
   "outputs": [],
   "source": [
    "# Itoga corrected estimates\n",
    "vb_star = 1/(np.dot(x_i,np.dot(inv_Cr,x_i)))\n",
    "b_star = vb_star*(np.dot(x_i,np.dot(inv_Cr,L_i)))"
   ]
  },
  {
   "cell_type": "code",
   "execution_count": 92,
   "metadata": {},
   "outputs": [
    {
     "data": {
      "text/plain": [
       "-0.0014392444863819726"
      ]
     },
     "execution_count": 92,
     "metadata": {},
     "output_type": "execute_result"
    }
   ],
   "source": [
    "b_star"
   ]
  },
  {
   "cell_type": "code",
   "execution_count": 93,
   "metadata": {},
   "outputs": [],
   "source": [
    "# Itoga unadjusted estimates\n",
    "vb = 1/(np.dot(x_i,np.dot(np.linalg.inv(np.diag(v_i)**2),x_i)))\n",
    "b = vb*(np.dot(x_i,np.dot(np.linalg.inv(np.diag(v_i)**2),L_i)))"
   ]
  },
  {
   "cell_type": "code",
   "execution_count": 94,
   "metadata": {},
   "outputs": [
    {
     "data": {
      "text/plain": [
       "0.004898756562797416"
      ]
     },
     "execution_count": 94,
     "metadata": {},
     "output_type": "execute_result"
    }
   ],
   "source": [
    "b"
   ]
  },
  {
   "cell_type": "code",
   "execution_count": 95,
   "metadata": {},
   "outputs": [
    {
     "data": {
      "text/plain": [
       "<matplotlib.legend.Legend at 0x305de8a10>"
      ]
     },
     "execution_count": 95,
     "metadata": {},
     "output_type": "execute_result"
    },
    {
     "data": {
      "image/png": "[encoded data removed]",
      "text/plain": [
       "<Figure size 640x480 with 1 Axes>"
      ]
     },
     "metadata": {},
     "output_type": "display_data"
    }
   ],
   "source": [
    "def slope_fn(beta,x):\n",
    "    return beta*(x-129.8)\n",
    "\n",
    "x = np.linspace(115,165)\n",
    "\n",
    "# plt.plot(x,slope_fn(beta_s,x),label=\"No weights--S\",c=\"olive\")\n",
    "# # plt.fill_between(x,slope_fn(low_beta_s,x),slope_fn(high_beta_s,x),alpha=0.3,color=\"olive\")\n",
    "# plt.plot(x,slope_fn(beta_s_GL,x),label=\"Weights--S\",c=\"cornflowerblue\")\n",
    "# plt.fill_between(x,slope_fn(low_beta_s_GL,x),slope_fn(high_beta_s_GL,x),alpha=0.3,color=\"cornflowerblue\")\n",
    "plt.plot(x,slope_fn(b,x),label=\"No weights--I\",c=\"olive\")\n",
    "plt.plot(x,slope_fn(b_star,x),label=\"Weights--I\",c=\"cornflowerblue\")\n",
    "plt.scatter(study_df_i[\"dose\"],study_df_i[\"logOR\"])\n",
    "plt.ylabel(\"log relative risk\")\n",
    "plt.xlabel(\"Systolic blood pressure\")\n",
    "plt.legend()"
   ]
  },
  {
   "cell_type": "markdown",
   "metadata": {},
   "source": [
    "Quadratic regression"
   ]
  },
  {
   "cell_type": "code",
   "execution_count": 96,
   "metadata": {},
   "outputs": [],
   "source": [
    "x_2 = x_i**2"
   ]
  },
  {
   "cell_type": "code",
   "execution_count": 97,
   "metadata": {},
   "outputs": [
    {
     "data": {
      "text/plain": [
       "array([[ 23.04],\n",
       "       [ 84.64],\n",
       "       [193.21],\n",
       "       [388.09],\n",
       "       [ 34.81]])"
      ]
     },
     "execution_count": 97,
     "metadata": {},
     "output_type": "execute_result"
    }
   ],
   "source": [
    "np.array([x_2]).T"
   ]
  },
  {
   "cell_type": "code",
   "execution_count": 98,
   "metadata": {},
   "outputs": [],
   "source": [
    "X = np.hstack((np.array([x_2]).T,np.array([x_i]).T))"
   ]
  },
  {
   "cell_type": "code",
   "execution_count": 99,
   "metadata": {},
   "outputs": [],
   "source": [
    "V = np.diag(v_i)"
   ]
  },
  {
   "cell_type": "code",
   "execution_count": 100,
   "metadata": {},
   "outputs": [],
   "source": [
    "theta_vanilla = np.linalg.inv(X.T@np.linalg.inv(V)@X)@X.T@np.linalg.inv(V)@L_i"
   ]
  },
  {
   "cell_type": "code",
   "execution_count": 101,
   "metadata": {},
   "outputs": [
    {
     "data": {
      "text/plain": [
       "array([ 0.00147787, -0.016559  ])"
      ]
     },
     "execution_count": 101,
     "metadata": {},
     "output_type": "execute_result"
    }
   ],
   "source": [
    "theta_vanilla"
   ]
  },
  {
   "cell_type": "code",
   "execution_count": 103,
   "metadata": {},
   "outputs": [],
   "source": [
    "theta_adjusted = np.linalg.inv(X.T@inv_Cr@X)@X.T@inv_Cr@L_i"
   ]
  },
  {
   "cell_type": "code",
   "execution_count": 104,
   "metadata": {},
   "outputs": [
    {
     "data": {
      "text/plain": [
       "array([ 0.00079644, -0.01005034])"
      ]
     },
     "execution_count": 104,
     "metadata": {},
     "output_type": "execute_result"
    }
   ],
   "source": [
    "theta_adjusted"
   ]
  },
  {
   "cell_type": "code",
   "execution_count": 107,
   "metadata": {},
   "outputs": [
    {
     "data": {
      "text/plain": [
       "<matplotlib.legend.Legend at 0x305f59250>"
      ]
     },
     "execution_count": 107,
     "metadata": {},
     "output_type": "execute_result"
    },
    {
     "data": {
      "image/png": "[encoded data removed]",
      "text/plain": [
       "<Figure size 640x480 with 1 Axes>"
      ]
     },
     "metadata": {},
     "output_type": "display_data"
    }
   ],
   "source": [
    "def quad_fn(theta,x):\n",
    "    return theta[0]*(x-129.8)**2 + theta[1]*(x-129.8)\n",
    "\n",
    "# x = np.linspace(115,165)\n",
    "\n",
    "# plt.plot(x,slope_fn(beta_s,x),label=\"No weights--S\",c=\"olive\")\n",
    "# # plt.fill_between(x,slope_fn(low_beta_s,x),slope_fn(high_beta_s,x),alpha=0.3,color=\"olive\")\n",
    "# plt.plot(x,slope_fn(beta_s_GL,x),label=\"Weights--S\",c=\"cornflowerblue\")\n",
    "# plt.fill_between(x,slope_fn(low_beta_s_GL,x),slope_fn(high_beta_s_GL,x),alpha=0.3,color=\"cornflowerblue\")\n",
    "plt.plot(x,slope_fn(b,x),label=\"No weights--I\",c=\"olive\")\n",
    "plt.plot(x,slope_fn(b_star,x),label=\"Weights--I\",c=\"cornflowerblue\")\n",
    "plt.plot(x,quad_fn(theta_vanilla,x),label=\"No weights--I quad\")\n",
    "plt.plot(x,quad_fn(theta_adjusted,x),label=\"Weights--I quad\")\n",
    "plt.scatter(study_df_i[\"dose\"],study_df_i[\"logOR\"])\n",
    "plt.ylabel(\"log relative risk\")\n",
    "plt.xlabel(\"Systolic blood pressure\")\n",
    "plt.legend()"
   ]
  },
  {
   "cell_type": "code",
   "execution_count": null,
   "metadata": {},
   "outputs": [],
   "source": []
  }
 ],
 "metadata": {
  "kernelspec": {
   "display_name": "correlationCorrection",
   "language": "python",
   "name": "python3"
  },
  "language_info": {
   "codemirror_mode": {
    "name": "ipython",
    "version": 3
   },
   "file_extension": ".py",
   "mimetype": "text/x-python",
   "name": "python",
   "nbconvert_exporter": "python",
   "pygments_lexer": "ipython3",
   "version": "3.12.3"
  }
 },
 "nbformat": 4,
 "nbformat_minor": 2
}
