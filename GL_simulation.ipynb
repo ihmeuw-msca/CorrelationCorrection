{
 "cells": [
  {
   "cell_type": "code",
   "execution_count": 127,
   "metadata": {},
   "outputs": [],
   "source": [
    "import numpy as np\n",
    "import pandas as pd\n",
    "import matplotlib.pyplot as plt\n",
    "import statsmodels.api as sm\n",
    "\n",
    "from src.IterativeFitting import IterativeFitting as IF\n",
    "from src.CorrFuncs import covariance_matrix, trend_est"
   ]
  },
  {
   "cell_type": "code",
   "execution_count": 157,
   "metadata": {},
   "outputs": [],
   "source": [
    "# Initializing simulation slope and intercept parameters\n",
    "beta0 = 0.\n",
    "beta1 = 0.05\n",
    "\n",
    "# Number of samples\n",
    "n = 40000\n",
    "\n",
    "# Generating plausible x values to throw into probability generator\n",
    "xs = np.sort(np.random.uniform(low=0,high=20,size=n))\n",
    "\n",
    "# Getting quantiles of sorted xs\n",
    "quantile_indices = np.array([n//4, n//2, 3*n//4])\n",
    "\n",
    "# Getting exposure levels (randomly chosen from quantile ranges)\n",
    "exposure_levels = [np.random.choice(xs[:quantile_indices[0]])]\n",
    "for i in range(1,len(quantile_indices)):\n",
    "    exposure_levels.append(np.random.choice(xs[quantile_indices[i-1]:quantile_indices[i]]))\n",
    "exposure_levels.append(np.random.choice(xs[quantile_indices[-1]:]))\n",
    "exposure_indices = np.array([np.where(xs == elem)[0][0] for elem in exposure_levels])\n",
    "\n",
    "# Function to generate probabilities of being a case v non-case\n",
    "p = lambda x: (np.exp(beta0 + beta1*x))/(1 + np.exp(beta0 + beta1*x))\n",
    "\n",
    "# Actually calculating probabilities on exposures as defined\n",
    "px = p(xs)\n",
    "\n",
    "# Actually assigning to case or not\n",
    "outcomes = np.array([np.random.binomial(n=1,p=p,size=1)[0] for p in px])\n",
    "\n",
    "# Constructing and sorting dataframe of outcomes and exposure\n",
    "df = np.stack([outcomes,xs],axis=1)\n",
    "df = df[np.argsort(df[:, 1])]\n",
    "\n",
    "# Getting xs corresponding to each exposure interval\n",
    "categories = [df[:exposure_indices[0]]]\n",
    "for i in range(1,len(exposure_indices)):\n",
    "    categories.append(df[exposure_indices[i-1]:exposure_indices[i]])\n",
    "categories.append(df[exposure_indices[-1]:])\n",
    "\n",
    "# Getting case numbers\n",
    "A = np.array([np.sum(df[:,0]) for df in categories])\n",
    "N = np.array([df.shape[0] for df in categories])\n",
    "B = N - A\n",
    "M = np.sum(A)\n",
    "\n",
    "# \n",
    "age_vector = np.random.randint(17,75,size=n)\n",
    "dummy_list = []\n",
    "for i in range(1,len(exposure_indices)):\n",
    "    exp_cat = np.zeros(n)\n",
    "    exp_cat[exposure_indices[i-1]:exposure_indices[i]] = 1\n",
    "    dummy_list.append(exp_cat)\n",
    "last_cat = np.zeros(n)\n",
    "last_cat[exposure_indices[-1]:] = 1\n",
    "dummy_list.append(last_cat)\n",
    "to_adjust_matrix = np.column_stack([np.ones(n),age_vector] + dummy_list)"
   ]
  },
  {
   "cell_type": "code",
   "execution_count": 158,
   "metadata": {},
   "outputs": [
    {
     "data": {
      "text/plain": [
       "array([[ 1., 70.,  0.,  0.,  0.,  0.],\n",
       "       [ 1., 21.,  0.,  0.,  0.,  0.],\n",
       "       [ 1., 63.,  0.,  0.,  0.,  0.],\n",
       "       ...,\n",
       "       [ 1., 45.,  0.,  0.,  0.,  1.],\n",
       "       [ 1., 69.,  0.,  0.,  0.,  1.],\n",
       "       [ 1., 50.,  0.,  0.,  0.,  1.]])"
      ]
     },
     "execution_count": 158,
     "metadata": {},
     "output_type": "execute_result"
    }
   ],
   "source": [
    "to_adjust_matrix"
   ]
  },
  {
   "cell_type": "code",
   "execution_count": null,
   "metadata": {},
   "outputs": [],
   "source": []
  },
  {
   "cell_type": "code",
   "execution_count": 154,
   "metadata": {},
   "outputs": [
    {
     "data": {
      "text/plain": [
       "array([ 7054, 15224, 23046, 38813])"
      ]
     },
     "execution_count": 154,
     "metadata": {},
     "output_type": "execute_result"
    }
   ],
   "source": [
    "exposure_indices"
   ]
  },
  {
   "cell_type": "code",
   "execution_count": null,
   "metadata": {},
   "outputs": [],
   "source": []
  },
  {
   "cell_type": "code",
   "execution_count": null,
   "metadata": {},
   "outputs": [],
   "source": []
  },
  {
   "cell_type": "code",
   "execution_count": null,
   "metadata": {},
   "outputs": [],
   "source": []
  }
 ],
 "metadata": {
  "kernelspec": {
   "display_name": "correlationCorrection",
   "language": "python",
   "name": "python3"
  },
  "language_info": {
   "codemirror_mode": {
    "name": "ipython",
    "version": 3
   },
   "file_extension": ".py",
   "mimetype": "text/x-python",
   "name": "python",
   "nbconvert_exporter": "python",
   "pygments_lexer": "ipython3",
   "version": "3.12.3"
  }
 },
 "nbformat": 4,
 "nbformat_minor": 2
}
