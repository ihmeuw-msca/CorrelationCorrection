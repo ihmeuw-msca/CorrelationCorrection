{
 "cells": [
  {
   "cell_type": "code",
   "execution_count": 510,
   "metadata": {},
   "outputs": [],
   "source": [
    "import numpy as np\n",
    "import pandas as pd\n",
    "import matplotlib.pyplot as plt\n",
    "import statsmodels.api as sm\n",
    "\n",
    "from src.IterativeFitting import IterativeFitting as IF\n",
    "from src.CorrFuncs import covariance_matrix, trend_est"
   ]
  },
  {
   "cell_type": "code",
   "execution_count": 689,
   "metadata": {},
   "outputs": [],
   "source": [
    "quantile_indices = np.array([n//4, n//2, 3*n//4])\n",
    "exposure_indices = np.array([(0 + quantile_indices[1])//2, (quantile_indices[0] + quantile_indices[1])//2, (quantile_indices[1] + quantile_indices[2])//2, (quantile_indices[0] + n)//2])\n",
    "exposure_levels = xs[exposure_indices]"
   ]
  },
  {
   "cell_type": "code",
   "execution_count": 690,
   "metadata": {},
   "outputs": [
    {
     "data": {
      "text/plain": [
       "array([ 4.99965751,  7.50605312, 12.50857928, 12.50857928])"
      ]
     },
     "execution_count": 690,
     "metadata": {},
     "output_type": "execute_result"
    }
   ],
   "source": [
    "exposure_levels"
   ]
  },
  {
   "cell_type": "code",
   "execution_count": 688,
   "metadata": {},
   "outputs": [
    {
     "data": {
      "text/plain": [
       "array([ 750000., 1125000., 1875000., 1875000.])"
      ]
     },
     "execution_count": 688,
     "metadata": {},
     "output_type": "execute_result"
    }
   ],
   "source": [
    "exposure_indices"
   ]
  },
  {
   "cell_type": "code",
   "execution_count": 709,
   "metadata": {},
   "outputs": [
    {
     "name": "stdout",
     "output_type": "stream",
     "text": [
      "Optimization terminated successfully.\n",
      "         Current function value: 0.612178\n",
      "         Iterations 5\n"
     ]
    }
   ],
   "source": [
    "# Setting seed\n",
    "golden_seed = 6\n",
    "np.random.seed(golden_seed)\n",
    "\n",
    "# Initializing simulation slope and intercept parameters\n",
    "beta0 = -0.1\n",
    "beta1 = 0.02\n",
    "beta_age = 0.05\n",
    "beta_income = -0.05\n",
    "beta_sex = 1.0\n",
    "\n",
    "# Number of samples\n",
    "n = 40000\n",
    "\n",
    "# Constructing covariate vectors for additional covariates to adjust\n",
    "age_vector = np.random.uniform(low=0,high=1,size=n)\n",
    "income_vector = np.random.uniform(low=0,high=1,size=n)\n",
    "sex_vector = np.random.binomial(n=1,p=0.6,size=n)\n",
    "\n",
    "# Generating plausible x values to throw into probability generator\n",
    "xs = np.sort(np.random.uniform(low=0,high=20,size=n))\n",
    "\n",
    "# Getting quantiles of sorted xs\n",
    "quantile_indices = np.array([n//4, n//2, 3*n//4])\n",
    "exposure_indices = np.array([(0 + quantile_indices[1])//2, (quantile_indices[0] + quantile_indices[1])//2, (quantile_indices[1] + quantile_indices[2])//2, (quantile_indices[0] + n)//2])\n",
    "exposure_levels = xs[exposure_indices]\n",
    "\n",
    "# Getting exposure levels (randomly chosen from quantile ranges)\n",
    "exposure_levels = [np.random.choice(xs[:quantile_indices[0]])]\n",
    "for i in range(1,len(quantile_indices)):\n",
    "    exposure_levels.append(np.random.choice(xs[quantile_indices[i-1]:quantile_indices[i]]))\n",
    "exposure_levels.append(np.random.choice(xs[quantile_indices[-1]:]))\n",
    "exposure_indices = np.array([np.where(xs == elem)[0][0] for elem in exposure_levels])\n",
    "\n",
    "# Function to generate probabilities of being a case v non-case\n",
    "other_covs = beta0 + (beta_age*age_vector) + (income_vector*beta_income) + (sex_vector*beta_sex) \n",
    "p = lambda x: (np.exp(beta1*x + other_covs))/(1 + np.exp(beta1*x + other_covs))\n",
    "\n",
    "# Actually calculating probabilities on exposures as defined\n",
    "px = p(xs)\n",
    "\n",
    "# Actually assigning to case or not\n",
    "outcomes = np.array([np.random.binomial(n=1,p=p,size=1)[0] for p in px])\n",
    "\n",
    "# Constructing and sorting dataframe of outcomes and exposure\n",
    "df = np.stack([outcomes,xs],axis=1)\n",
    "df = df[np.argsort(df[:, 1])]\n",
    "\n",
    "# Getting xs corresponding to each exposure interval\n",
    "categories = [df[:exposure_indices[0]]]\n",
    "for i in range(1,len(exposure_indices)):\n",
    "    categories.append(df[exposure_indices[i-1]:exposure_indices[i]])\n",
    "categories.append(df[exposure_indices[-1]:])\n",
    "\n",
    "# Getting case numbers\n",
    "cases = np.array([np.sum(df[:,0]) for df in categories])\n",
    "N = np.array([df.shape[0] for df in categories])\n",
    "non_cases = N - cases\n",
    "M = np.sum(cases)\n",
    "a_0, A = cases[0], cases[1:]\n",
    "b_0, B = non_cases[0], non_cases[1:]\n",
    "\n",
    "# # Getting crude estimates to compare\n",
    "crude = lambda x,y: (x/y) / (a_0/b_0)\n",
    "crudeors = crude(A,B)\n",
    "\n",
    "# Constructing dummy variables with respect to exposure level\n",
    "dummy_list = []\n",
    "for i in range(1,len(exposure_indices)):\n",
    "    exp_cat = np.zeros(n)\n",
    "    exp_cat[exposure_indices[i-1]:exposure_indices[i]] = 1\n",
    "    dummy_list.append(exp_cat)\n",
    "last_cat = np.zeros(n)\n",
    "last_cat[exposure_indices[-1]:] = 1\n",
    "dummy_list.append(last_cat)\n",
    "\n",
    "# Getting regression matrix\n",
    "to_adjust_matrix = np.column_stack([np.ones(n), age_vector, income_vector, sex_vector] + dummy_list)\n",
    "\n",
    "# Performing logit\n",
    "cols = [\"intercept\", \"age\", \"income\", \"sex\"]\n",
    "cols += [\"exposure_\" + str(i+1) for i in range(len(exposure_levels))]\n",
    "to_adjust_df = pd.DataFrame(to_adjust_matrix, columns=cols)\n",
    "\n",
    "results = sm.Logit(endog=df[:,0], exog=to_adjust_df).fit()\n",
    "true_C = results.cov_params().to_numpy()[4:,4:]\n",
    "true_C_inv = np.linalg.inv(true_C)\n",
    "\n",
    "# Get log-ORs and corresponding variances\n",
    "L = results.params.to_numpy()[4:]\n",
    "v = (results.bse.to_numpy()[4:])**2"
   ]
  },
  {
   "cell_type": "code",
   "execution_count": 710,
   "metadata": {},
   "outputs": [],
   "source": [
    "# Running GL\n",
    "it_fit_ex = IF(L,A,N,M)\n",
    "Ap, Bp, a0p, b0p = it_fit_ex.convexProgram()\n",
    "\n",
    "C = covariance_matrix(Ap,Bp,a0p,b0p,v)\n",
    "inv_C = np.linalg.inv(C)"
   ]
  },
  {
   "cell_type": "code",
   "execution_count": 711,
   "metadata": {},
   "outputs": [],
   "source": [
    "# Recovering slope estimate for corrected correlation\n",
    "x = np.array(exposure_levels)\n",
    "vb_star = 1/(np.dot(x,np.dot(inv_C,x)))\n",
    "b_star = vb_star*(np.dot(x,np.dot(inv_C,L)))"
   ]
  },
  {
   "cell_type": "code",
   "execution_count": 712,
   "metadata": {},
   "outputs": [
    {
     "data": {
      "text/plain": [
       "0.01948094498080707"
      ]
     },
     "execution_count": 712,
     "metadata": {},
     "output_type": "execute_result"
    }
   ],
   "source": [
    "b_star"
   ]
  },
  {
   "cell_type": "code",
   "execution_count": 713,
   "metadata": {},
   "outputs": [
    {
     "data": {
      "text/plain": [
       "0.026950187506593885"
      ]
     },
     "execution_count": 713,
     "metadata": {},
     "output_type": "execute_result"
    }
   ],
   "source": [
    "# Recovering standard slope estimate\n",
    "vb = 1/(np.dot(x,np.dot(np.linalg.inv(np.diag(v)),x)))\n",
    "b = vb*(np.dot(x,np.dot(np.linalg.inv(np.diag(v)),L)))\n",
    "b"
   ]
  },
  {
   "cell_type": "code",
   "execution_count": 714,
   "metadata": {},
   "outputs": [
    {
     "data": {
      "text/plain": [
       "0.016708103411178617"
      ]
     },
     "execution_count": 714,
     "metadata": {},
     "output_type": "execute_result"
    }
   ],
   "source": [
    "rootWols = np.diag(1/np.sqrt(v))\n",
    "X_intercept_ols = np.vstack([np.ones(len(x)),x]).T\n",
    "intercept_ols_slope = np.linalg.lstsq(rootWols@X_intercept_ols,rootWols@L,rcond = 1e-15)[0][1]\n",
    "intercept_ols_slope"
   ]
  },
  {
   "cell_type": "code",
   "execution_count": 715,
   "metadata": {},
   "outputs": [
    {
     "data": {
      "text/plain": [
       "0.01946475967133422"
      ]
     },
     "execution_count": 715,
     "metadata": {},
     "output_type": "execute_result"
    }
   ],
   "source": [
    "# Getting Oracle estimates\n",
    "vb_oracle = 1/(np.dot(x,np.dot(true_C_inv,x)))\n",
    "b_oracle = vb_oracle*(np.dot(x,np.dot(true_C_inv,L)))\n",
    "b_oracle"
   ]
  },
  {
   "cell_type": "code",
   "execution_count": 716,
   "metadata": {},
   "outputs": [
    {
     "data": {
      "text/plain": [
       "0.01947493896280948"
      ]
     },
     "execution_count": 716,
     "metadata": {},
     "output_type": "execute_result"
    }
   ],
   "source": [
    "# Getting estimates from covariance matrix generated from raw counts\n",
    "C_raw = covariance_matrix(A,B,a_0,b_0,v)\n",
    "inv_C_raw = np.linalg.inv(C_raw)\n",
    "\n",
    "vb_r = 1/(x.T@inv_C_raw@x)\n",
    "b_r = vb_r*(x.T@inv_C_raw@L)\n",
    "b_r"
   ]
  },
  {
   "cell_type": "code",
   "execution_count": 717,
   "metadata": {},
   "outputs": [
    {
     "data": {
      "text/plain": [
       "<matplotlib.legend.Legend at 0x30c0cbd10>"
      ]
     },
     "execution_count": 717,
     "metadata": {},
     "output_type": "execute_result"
    },
    {
     "data": {
      "image/png": "[encoded data removed]",
      "text/plain": [
       "<Figure size 640x480 with 1 Axes>"
      ]
     },
     "metadata": {},
     "output_type": "display_data"
    }
   ],
   "source": [
    "x_valsp = np.hstack([0,x])\n",
    "plt.scatter(x,L,alpha=0.5,c=\"rebeccapurple\",s=100)\n",
    "plt.scatter(0,0,s=50,c=\"forestgreen\")\n",
    "plt.plot(x_valsp,b_star*x_valsp,label = 'GL',linestyle = 'dashed')\n",
    "plt.plot(x_valsp,b_oracle*x_valsp,label = 'Oracle_Cov', alpha = 0.5,lw = 5)\n",
    "plt.plot(x_valsp,beta1*x_valsp,label = 'Truth',c=\"cornflowerblue\",linestyle=\"dashdot\")\n",
    "plt.plot(x_valsp,b_r*x_valsp,label=\"Crude\",c=\"maroon\",lw = 5,alpha = 0.5)\n",
    "plt.plot(x_valsp,intercept_ols_slope*x_valsp,label=\"Intercept\",c=\"lightsteelblue\")\n",
    "plt.plot(x_valsp,b*x_valsp,label = \"OLS\")\n",
    "plt.legend()"
   ]
  },
  {
   "cell_type": "code",
   "execution_count": null,
   "metadata": {},
   "outputs": [],
   "source": []
  }
 ],
 "metadata": {
  "kernelspec": {
   "display_name": "correlationCorrection",
   "language": "python",
   "name": "python3"
  },
  "language_info": {
   "codemirror_mode": {
    "name": "ipython",
    "version": 3
   },
   "file_extension": ".py",
   "mimetype": "text/x-python",
   "name": "python",
   "nbconvert_exporter": "python",
   "pygments_lexer": "ipython3",
   "version": "3.12.3"
  }
 },
 "nbformat": 4,
 "nbformat_minor": 2
}
