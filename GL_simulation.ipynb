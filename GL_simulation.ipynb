{
 "cells": [
  {
   "cell_type": "code",
   "execution_count": 510,
   "metadata": {},
   "outputs": [],
   "source": [
    "import numpy as np\n",
    "import pandas as pd\n",
    "import matplotlib.pyplot as plt\n",
    "import statsmodels.api as sm\n",
    "\n",
    "from src.IterativeFitting import IterativeFitting as IF\n",
    "from src.CorrFuncs import covariance_matrix, trend_est"
   ]
  },
  {
   "cell_type": "code",
   "execution_count": 519,
   "metadata": {},
   "outputs": [
    {
     "name": "stdout",
     "output_type": "stream",
     "text": [
      "Optimization terminated successfully.\n",
      "         Current function value: 0.614559\n",
      "         Iterations 5\n"
     ]
    }
   ],
   "source": [
    "# Initializing simulation slope and intercept parameters\n",
    "beta0 = -0.1\n",
    "beta1 = 0.02\n",
    "beta_age = 0.05\n",
    "beta_income = -0.05\n",
    "beta_sex = 1.0\n",
    "\n",
    "# Number of samples\n",
    "n = 40000\n",
    "\n",
    "# Constructing covariate vectors for additional covariates to adjust\n",
    "age_vector = np.random.uniform(low=0,high=1,size=n)\n",
    "income_vector = np.random.uniform(low=0,high=1,size=n)\n",
    "sex_vector = np.random.binomial(n=1,p=0.6,size=n)\n",
    "\n",
    "# Generating plausible x values to throw into probability generator\n",
    "xs = np.sort(np.random.uniform(low=0,high=20,size=n))\n",
    "\n",
    "# Getting quantiles of sorted xs\n",
    "quantile_indices = np.array([n//4, n//2, 3*n//4])\n",
    "\n",
    "# Getting exposure levels (randomly chosen from quantile ranges)\n",
    "exposure_levels = [np.random.choice(xs[:quantile_indices[0]])]\n",
    "for i in range(1,len(quantile_indices)):\n",
    "    exposure_levels.append(np.random.choice(xs[quantile_indices[i-1]:quantile_indices[i]]))\n",
    "exposure_levels.append(np.random.choice(xs[quantile_indices[-1]:]))\n",
    "exposure_indices = np.array([np.where(xs == elem)[0][0] for elem in exposure_levels])\n",
    "\n",
    "# Function to generate probabilities of being a case v non-case\n",
    "other_covs = beta0 + (beta_age*age_vector) + (income_vector*beta_income) + (sex_vector*beta_sex) \n",
    "p = lambda x: (np.exp(beta1*x + other_covs))/(1 + np.exp(beta1*x + other_covs))\n",
    "\n",
    "# Actually calculating probabilities on exposures as defined\n",
    "px = p(xs)\n",
    "\n",
    "# Actually assigning to case or not\n",
    "outcomes = np.array([np.random.binomial(n=1,p=p,size=1)[0] for p in px])\n",
    "\n",
    "# Constructing and sorting dataframe of outcomes and exposure\n",
    "df = np.stack([outcomes,xs],axis=1)\n",
    "df = df[np.argsort(df[:, 1])]\n",
    "\n",
    "# Getting xs corresponding to each exposure interval\n",
    "categories = [df[:exposure_indices[0]]]\n",
    "for i in range(1,len(exposure_indices)):\n",
    "    categories.append(df[exposure_indices[i-1]:exposure_indices[i]])\n",
    "categories.append(df[exposure_indices[-1]:])\n",
    "\n",
    "# Getting case numbers\n",
    "cases = np.array([np.sum(df[:,0]) for df in categories])\n",
    "N = np.array([df.shape[0] for df in categories])\n",
    "non_cases = N - cases\n",
    "M = np.sum(cases)\n",
    "a_0, A = cases[0], cases[1:]\n",
    "b_0, B = non_cases[0], non_cases[1:]\n",
    "\n",
    "# Getting crude estimates to compare\n",
    "crude = lambda x,y: (x/y) / (a_0/b_0)\n",
    "crudeors = crude(A,B)\n",
    "\n",
    "# Constructing dummy variables with respect to exposure level\n",
    "dummy_list = []\n",
    "for i in range(1,len(exposure_indices)):\n",
    "    exp_cat = np.zeros(n)\n",
    "    exp_cat[exposure_indices[i-1]:exposure_indices[i]] = 1\n",
    "    dummy_list.append(exp_cat)\n",
    "last_cat = np.zeros(n)\n",
    "last_cat[exposure_indices[-1]:] = 1\n",
    "dummy_list.append(last_cat)\n",
    "\n",
    "# Getting regression matrix\n",
    "to_adjust_matrix = np.column_stack([np.ones(n), age_vector, income_vector, sex_vector] + dummy_list)\n",
    "\n",
    "# Performing logit\n",
    "cols = [\"intercept\", \"age\", \"income\", \"sex\"]\n",
    "cols += [\"exposure_\" + str(i+1) for i in range(len(exposure_levels))]\n",
    "to_adjust_df = pd.DataFrame(to_adjust_matrix, columns=cols)\n",
    "\n",
    "results = sm.Logit(endog=df[:,0], exog=to_adjust_df).fit()\n",
    "true_C = results.cov_params().to_numpy()[4:,4:]\n",
    "true_C_inv = np.linalg.inv(true_C)\n",
    "\n",
    "# Get log-ORs and corresponding variances\n",
    "L = results.params.to_numpy()[4:]\n",
    "v = (results.bse.to_numpy()[4:])**2"
   ]
  },
  {
   "cell_type": "code",
   "execution_count": 520,
   "metadata": {},
   "outputs": [],
   "source": [
    "# Running GL\n",
    "it_fit_ex = IF(L,A,N,M)\n",
    "Ap, Bp, a0p, b0p = it_fit_ex.convexProgram()\n",
    "\n",
    "C = covariance_matrix(Ap,Bp,a0p,b0p,v)\n",
    "inv_C = np.linalg.inv(C)"
   ]
  },
  {
   "cell_type": "code",
   "execution_count": 521,
   "metadata": {},
   "outputs": [],
   "source": [
    "# Recovering slope estimate for corrected correlation\n",
    "x = np.array(exposure_levels)\n",
    "vb_star = 1/(np.dot(x,np.dot(inv_C,x)))\n",
    "b_star = vb_star*(np.dot(x,np.dot(inv_C,L)))"
   ]
  },
  {
   "cell_type": "code",
   "execution_count": 522,
   "metadata": {},
   "outputs": [
    {
     "data": {
      "text/plain": [
       "0.01930133765234124"
      ]
     },
     "execution_count": 522,
     "metadata": {},
     "output_type": "execute_result"
    }
   ],
   "source": [
    "b_star"
   ]
  },
  {
   "cell_type": "code",
   "execution_count": 523,
   "metadata": {},
   "outputs": [],
   "source": [
    "# Recovering standard slope estimate\n",
    "vb = 1/(np.dot(x,np.dot(np.linalg.inv(np.diag(v)),x)))\n",
    "b = vb*(np.dot(x,np.dot(np.linalg.inv(np.diag(v)),L)))"
   ]
  },
  {
   "cell_type": "code",
   "execution_count": 524,
   "metadata": {},
   "outputs": [
    {
     "data": {
      "text/plain": [
       "0.025396143273001465"
      ]
     },
     "execution_count": 524,
     "metadata": {},
     "output_type": "execute_result"
    }
   ],
   "source": [
    "b"
   ]
  },
  {
   "cell_type": "code",
   "execution_count": 525,
   "metadata": {},
   "outputs": [
    {
     "data": {
      "text/plain": [
       "0.019275479447535014"
      ]
     },
     "execution_count": 525,
     "metadata": {},
     "output_type": "execute_result"
    }
   ],
   "source": [
    "vb_oracle = 1/(np.dot(x,np.dot(true_C_inv,x)))\n",
    "b_oracle = vb_oracle*(np.dot(x,np.dot(true_C_inv,L)))\n",
    "b_oracle"
   ]
  },
  {
   "cell_type": "code",
   "execution_count": 526,
   "metadata": {},
   "outputs": [
    {
     "data": {
      "text/plain": [
       "<matplotlib.legend.Legend at 0x309725490>"
      ]
     },
     "execution_count": 526,
     "metadata": {},
     "output_type": "execute_result"
    },
    {
     "data": {
      "image/png": "[encoded data removed]",
      "text/plain": [
       "<Figure size 640x480 with 1 Axes>"
      ]
     },
     "metadata": {},
     "output_type": "display_data"
    }
   ],
   "source": [
    "x_valsp = np.hstack([0,x])\n",
    "plt.scatter(x,L,alpha=0.5,c=\"rebeccapurple\",s=100)\n",
    "plt.scatter(0,0,s=50,c=\"forestgreen\")\n",
    "plt.plot(x_valsp,b_star*x_valsp,label = 'GL',linestyle = 'dashed')\n",
    "plt.plot(x_valsp,b_oracle*x_valsp,label = 'Oracle_Cov', alpha = 0.5)\n",
    "plt.plot(x_valsp,beta1*x_valsp,label = 'True truth',c=\"cornflowerblue\",linestyle=\"dashdot\")\n",
    "plt.plot(x_valsp,b*x_valsp,label = \"OLS\")\n",
    "plt.legend()"
   ]
  },
  {
   "cell_type": "code",
   "execution_count": 330,
   "metadata": {},
   "outputs": [
    {
     "data": {
      "text/plain": [
       "array([[0.00306147, 0.00261319, 0.0026142 , 0.00261532],\n",
       "       [0.00261319, 0.00319839, 0.00261857, 0.00262105],\n",
       "       [0.0026142 , 0.00261857, 0.00328982, 0.00262534],\n",
       "       [0.00261532, 0.00262105, 0.00262534, 0.00751937]])"
      ]
     },
     "execution_count": 330,
     "metadata": {},
     "output_type": "execute_result"
    }
   ],
   "source": [
    "true_C"
   ]
  },
  {
   "cell_type": "code",
   "execution_count": 331,
   "metadata": {},
   "outputs": [
    {
     "data": {
      "text/plain": [
       "array([[0.00306147, 0.00260615, 0.00260023, 0.00254178],\n",
       "       [0.00260615, 0.00319839, 0.00259679, 0.00253842],\n",
       "       [0.00260023, 0.00259679, 0.00328982, 0.00253265],\n",
       "       [0.00254178, 0.00253842, 0.00253265, 0.00751937]])"
      ]
     },
     "execution_count": 331,
     "metadata": {},
     "output_type": "execute_result"
    }
   ],
   "source": [
    "C"
   ]
  },
  {
   "cell_type": "code",
   "execution_count": null,
   "metadata": {},
   "outputs": [],
   "source": []
  }
 ],
 "metadata": {
  "kernelspec": {
   "display_name": "correlationCorrection",
   "language": "python",
   "name": "python3"
  },
  "language_info": {
   "codemirror_mode": {
    "name": "ipython",
    "version": 3
   },
   "file_extension": ".py",
   "mimetype": "text/x-python",
   "name": "python",
   "nbconvert_exporter": "python",
   "pygments_lexer": "ipython3",
   "version": "3.12.3"
  }
 },
 "nbformat": 4,
 "nbformat_minor": 2
}
