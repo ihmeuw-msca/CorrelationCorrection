{
 "cells": [
  {
   "cell_type": "code",
   "execution_count": 32,
   "id": "859b0e35",
   "metadata": {
    "scrolled": true
   },
   "outputs": [
    {
     "name": "stdout",
     "output_type": "stream",
     "text": [
      "Optimization Result:\n",
      "         cg_niter: 34\n",
      "     cg_stop_cond: 2\n",
      "           constr: []\n",
      "      constr_nfev: []\n",
      "      constr_nhev: []\n",
      "      constr_njev: []\n",
      "   constr_penalty: 1.0\n",
      " constr_violation: 0\n",
      "   execution_time: 0.036060333251953125\n",
      "              fun: 6.274675779715839e-12\n",
      "             grad: array([7.73933323e-06, 1.71065552e-05])\n",
      "              jac: []\n",
      "  lagrangian_grad: array([7.73933323e-06, 1.71065552e-05])\n",
      "          message: '`xtol` termination condition is satisfied.'\n",
      "           method: 'equality_constrained_sqp'\n",
      "             nfev: 84\n",
      "             nhev: 0\n",
      "              nit: 28\n",
      "            niter: 28\n",
      "             njev: 28\n",
      "       optimality: 1.7106555226830256e-05\n",
      "           status: 2\n",
      "          success: True\n",
      "        tr_radius: 5.422310407334549e-09\n",
      "                v: []\n",
      "                x: array([168.38769176, 175.91184736])\n"
     ]
    }
   ],
   "source": [
    "import numpy as np\n",
    "from scipy.optimize import minimize, NonlinearConstraint\n",
    "\n",
    "# Given data\n",
    "R = np.array([0.8, 1.16, 1.57])\n",
    "V = np.array([0.0542, 0.0563, 0.0563])\n",
    "# V = np.array([0.1,0.01,0.1])\n",
    "M1x = 451\n",
    "Nx = np.array([337, 167, 186, 212])\n",
    "A0 = M1x * Nx[1:] / Nx.sum()\n",
    "V_min = np.min(V)\n",
    "\n",
    "\n",
    "# Assuming arbitrary values for z and p for illustration\n",
    "z = 1.0\n",
    "p = 0.3813\n",
    "\n",
    "\n",
    "# Objective function adjustments\n",
    "def a0(B_plus, A_plus, z, p):\n",
    "    # Prevent division by zero by ensuring the denominator is never zero\n",
    "    return max(1 / (z * (1 - p)) * B_plus - A_plus, 1e-8)\n",
    "\n",
    "def b0(B_plus, p):\n",
    "    # Similarly, ensure b0 is never zero to avoid division by zero\n",
    "    return max(p / (1 - p) * B_plus, 1e-8)\n",
    "\n",
    "# Assuming the definitions of a0 and b0 functions, z, p, and V are already provided above\n",
    "def print_initialization(x0, V, z, p):\n",
    "    a0_value = a0(x0[0], x0[1], z, p)\n",
    "    b0_value = b0(x0[0], p)\n",
    "    \n",
    "    # Compute the denominators\n",
    "    v_denominators = V - 1 / a0_value - 1 / b0_value\n",
    "    \n",
    "    # Print the initialization values\n",
    "    print(\"Initialization:\")\n",
    "    print(f\"a0: {a0_value}\")\n",
    "    print(f\"b0: {b0_value}\")\n",
    "    print(f\"v_denominators: {v_denominators}\")\n",
    "\n",
    "\n",
    "# def find_feasible_point(V, z, p):\n",
    "#     B_plus = 100  # Initial positive B+\n",
    "#     A_plus = 100   # Start with a small A+\n",
    "    \n",
    "#     while True:\n",
    "#         a0_value = a0(B_plus, A_plus, z, p)\n",
    "#         b0_value = b0(B_plus, p)\n",
    "#         v_denominators = V - 1 / a0_value - 1 / b0_value\n",
    "        \n",
    "#         # Check if all conditions are satisfied\n",
    "#         if a0_value > 0 and b0_value > 0 and np.all(v_denominators > 0):\n",
    "#             print(f\"Feasible point found: B_+ = {B_plus}, A_+ = {A_plus}\")\n",
    "#             print(f\"a0: {a0_value}, b0: {b0_value}, v_denominators: {v_denominators}\")\n",
    "#             return np.array([B_plus, A_plus])  # Return the feasible point\n",
    "#         else:\n",
    "#             # Adjust B_+ and A_+ if conditions are not satisfied\n",
    "#             B_plus *= 1.1  # Increment B_+ to increase a0 and b0\n",
    "#             A_plus *= 0.9  # Adjust A_+ to ensure a0 > 0, may need fine-tuning\n",
    "\n",
    "\n",
    "def objective(x, V, R, z, p):\n",
    "    # TODO: Rewrite in terms of a_0 and b_0, so just pass in a_0 and b_0 as arguments for x instead of B_plus and A_plus\n",
    "    B_plus, A_plus = x\n",
    "    a0_value = a0(B_plus, A_plus, z, p)\n",
    "    b0_value = b0(B_plus, p)\n",
    "    \n",
    "    # Ensure denominators are always positive\n",
    "    v_denominators = V  - 1 / a0_value - 1 / b0_value\n",
    "    # if np.any(v_denominators <= 0):\n",
    "    #     # Handle the case where v_denominators are not positive\n",
    "    #     # This is a simple handling approach; you might want to use a different strategy\n",
    "    #    return np.inf\n",
    "\n",
    "    term1 = (B_plus - np.sum((1 + b0_value / (a0_value * R)) / v_denominators))**2\n",
    "    term2 = (A_plus - np.sum((1 + a0_value * R  / b0_value ) / v_denominators))**2\n",
    "    \n",
    "    # Print the computed a0, b0, and denominators for inspection\n",
    "    #print(\"a0:\", a0_value)\n",
    "    #print(\"b0:\", b0_value)\n",
    "    #print(\"v's across the sum:\", v_denominators)\n",
    "\n",
    "    return term1 + term2    \n",
    "    \n",
    "    \n",
    "constraints = [\n",
    "    # Existing constraints\n",
    "    {'type': 'ineq', 'fun': lambda x: 1/(z * (1 - p)) * x[0] - x[1]-1}, # Ensuring a0 >= 1, \n",
    "    {'type': 'ineq', 'fun': lambda x: p/(1-p)*x[0] - 1},  # Ensuring b0 >= 1, B_+ >= 1 \n",
    "    {'type': 'ineq', 'fun': lambda x: x[1] -1}  # ensuring A_+ >= 1\n",
    "]\n",
    "\n",
    "# You can now use x_feas as your initial guess in optimization\n",
    "# print(\"Feasible initial guess for optimization:\", x_feas)\n",
    "\n",
    "# x_0 = np.array([2,2])\n",
    "x_0 = np.array([165,172])\n",
    "# Optimization\n",
    "result = minimize(fun=objective, x0=x_0, args=(V, R, z, p), method='trust-constr')\n",
    "#result = minimize(fun=objective, x0=x_feas, args=(V, R, z, p))\n",
    "\n",
    "print(\"Optimization Result:\")\n",
    "print(result)"
   ]
  },
  {
   "cell_type": "code",
   "execution_count": 33,
   "id": "b311c264",
   "metadata": {},
   "outputs": [
    {
     "data": {
      "text/plain": [
       "168.3876917634603"
      ]
     },
     "execution_count": 33,
     "metadata": {},
     "output_type": "execute_result"
    }
   ],
   "source": [
    "result.x[0]"
   ]
  },
  {
   "cell_type": "code",
   "execution_count": 34,
   "id": "807cd33d",
   "metadata": {},
   "outputs": [
    {
     "data": {
      "text/plain": [
       "175.91184736080723"
      ]
     },
     "execution_count": 34,
     "metadata": {},
     "output_type": "execute_result"
    }
   ],
   "source": [
    "result.x[1]"
   ]
  },
  {
   "cell_type": "code",
   "execution_count": 35,
   "id": "daee8448",
   "metadata": {},
   "outputs": [
    {
     "name": "stdout",
     "output_type": "stream",
     "text": [
      "a0 (optimized): 96.25186972899442\n",
      "b0 (optimized): 103.77602532634138\n",
      "a0 + b0: 200.02789505533582\n",
      "A+ (optimized): 175.91184736080723\n",
      "B+ (optimized): 168.3876917634603\n",
      "A+ + B+: 344.29953912426754\n"
     ]
    }
   ],
   "source": [
    "# Assuming result.x contains the optimized values for B_+ and A_+\n",
    "B_plus_optimized, A_plus_optimized = result.x\n",
    "\n",
    "# Calculate a0 and b0 using the optimized values of B_+ and A_+\n",
    "a0_optimized = a0(B_plus_optimized, A_plus_optimized, z, p)\n",
    "b0_optimized = b0(B_plus_optimized, p)\n",
    "\n",
    "# Calculate the sums\n",
    "a0_b0_sum = a0_optimized + b0_optimized\n",
    "A_B_sum = A_plus_optimized + B_plus_optimized\n",
    "\n",
    "# Print the results\n",
    "print(f\"a0 (optimized): {a0_optimized}\")\n",
    "print(f\"b0 (optimized): {b0_optimized}\")\n",
    "print(f\"a0 + b0: {a0_b0_sum}\")\n",
    "print(f\"A+ (optimized): {A_plus_optimized}\")\n",
    "print(f\"B+ (optimized): {B_plus_optimized}\")\n",
    "print(f\"A+ + B+: {A_B_sum}\")"
   ]
  },
  {
   "cell_type": "code",
   "execution_count": 38,
   "id": "2b31afaa",
   "metadata": {},
   "outputs": [
    {
     "data": {
      "text/plain": [
       "array([0.03417445, 0.03627445, 0.03627445])"
      ]
     },
     "execution_count": 38,
     "metadata": {},
     "output_type": "execute_result"
    }
   ],
   "source": [
    "v_denominators"
   ]
  },
  {
   "cell_type": "code",
   "execution_count": 37,
   "id": "10e2edcd",
   "metadata": {},
   "outputs": [
    {
     "name": "stdout",
     "output_type": "stream",
     "text": [
      "Components of A:\n",
      "A[1]: 50.97365838766634\n",
      "A[2]: 57.227479572099845\n",
      "A[3]: 67.71070945212993\n",
      "\n",
      "Components of B:\n",
      "B[1]: 68.69793385194433\n",
      "B[2]: 53.19055087519288\n",
      "B[3]: 46.49920954073234\n",
      "\n",
      "Components of N:\n",
      "a0 + b0: 200.02789505533582\n",
      "N[1]: 119.67159223961067\n",
      "N[2]: 110.41803044729272\n",
      "N[3]: 114.20991899286227\n",
      "Nx = np.array([337, 167, 186, 212]\n"
     ]
    }
   ],
   "source": [
    "# Assuming a0_value, b0_value, R, and v_denominators are already calculated\n",
    "\n",
    "#    term2 = (A_plus - np.sum((1 + a0_value * R  / b0_value ) / v_denominators))**2\n",
    "#    term1 = (B_plus - np.sum((1 + b0_value / (a0_value * R)) / v_denominators))**2\n",
    "\n",
    "\n",
    "\n",
    "# Calculate A and B components\n",
    "v_denominators = V - 1 / a0_optimized - 1 / b0_optimized\n",
    "A_components = (1 + R * a0_optimized / b0_optimized ) / v_denominators\n",
    "B_components = (1 + b0_optimized / (a0_optimized * R)) / v_denominators\n",
    "N_components = A_components + B_components\n",
    "\n",
    "# Print the results for each component\n",
    "print(\"Components of A:\")\n",
    "for i, A_comp in enumerate(A_components, 1):\n",
    "    print(f\"A[{i}]: {A_comp}\")\n",
    "\n",
    "print(\"\\nComponents of B:\")\n",
    "for i, B_comp in enumerate(B_components, 1):\n",
    "    print(f\"B[{i}]: {B_comp}\")\n",
    "    \n",
    "\n",
    "print(\"\\nComponents of N:\")\n",
    "print(f\"a0 + b0: {a0_b0_sum}\")\n",
    "for i, N_comp in enumerate(N_components, 1):\n",
    "    print(f\"N[{i}]: {N_comp}\")\n",
    "\n",
    "print(\"Nx = np.array([337, 167, 186, 212]\")"
   ]
  },
  {
   "cell_type": "code",
   "execution_count": null,
   "id": "22d272b1",
   "metadata": {},
   "outputs": [],
   "source": []
  },
  {
   "cell_type": "code",
   "execution_count": null,
   "id": "2dbc4599",
   "metadata": {},
   "outputs": [],
   "source": []
  }
 ],
 "metadata": {
  "kernelspec": {
   "display_name": "Python 3.8.2 64-bit",
   "language": "python",
   "name": "python3"
  },
  "language_info": {
   "codemirror_mode": {
    "name": "ipython",
    "version": 3
   },
   "file_extension": ".py",
   "mimetype": "text/x-python",
   "name": "python",
   "nbconvert_exporter": "python",
   "pygments_lexer": "ipython3",
   "version": "3.8.2"
  },
  "vscode": {
   "interpreter": {
    "hash": "aee8b7b246df8f9039afb4144a1f6fd8d2ca17a180786b69acc140d282b71a49"
   }
  }
 },
 "nbformat": 4,
 "nbformat_minor": 5
}
