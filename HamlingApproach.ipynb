{
 "cells": [
  {
   "cell_type": "code",
   "execution_count": 9,
   "id": "859b0e35",
   "metadata": {
    "scrolled": true
   },
   "outputs": [
    {
     "name": "stdout",
     "output_type": "stream",
     "text": [
      "Optimization Result:\n",
      "         cg_niter: 13\n",
      "     cg_stop_cond: 4\n",
      "           constr: []\n",
      "      constr_nfev: []\n",
      "      constr_nhev: []\n",
      "      constr_njev: []\n",
      "   constr_penalty: 1.0\n",
      " constr_violation: 0\n",
      "   execution_time: 0.025408029556274414\n",
      "              fun: 6.264611792741763e-17\n",
      "             grad: array([-6.70507389e-15, -1.70150460e-10])\n",
      "              jac: []\n",
      "  lagrangian_grad: array([-6.70507389e-15, -1.70150460e-10])\n",
      "          message: '`gtol` termination condition is satisfied.'\n",
      "           method: 'equality_constrained_sqp'\n",
      "             nfev: 30\n",
      "             nhev: 0\n",
      "              nit: 10\n",
      "            niter: 10\n",
      "             njev: 10\n",
      "       optimality: 1.7015045963826633e-10\n",
      "           status: 1\n",
      "          success: True\n",
      "        tr_radius: 9.951174676280642\n",
      "                v: []\n",
      "                x: array([-2.12944810e-08, -3.53211452e-08])\n"
     ]
    }
   ],
   "source": [
    "import numpy as np\n",
    "from scipy.optimize import minimize, NonlinearConstraint\n",
    "\n",
    "# Given data\n",
    "R = np.array([0.8, 1.16, 1.57])\n",
    "V = np.array([0.0542, 0.0563, 0.0563])\n",
    "M1x = 451\n",
    "Nx = np.array([337, 167, 186, 212])\n",
    "A0 = M1x * Nx[1:] / Nx.sum()\n",
    "V_min = np.min(V)\n",
    "\n",
    "\n",
    "# Assuming arbitrary values for z and p for illustration\n",
    "z = 1.0\n",
    "p = 0.3813\n",
    "\n",
    "\n",
    "# Objective function adjustments\n",
    "def a0(B_plus, A_plus, z, p):\n",
    "    # Prevent division by zero by ensuring the denominator is never zero\n",
    "    return max(1 / (z * (1 - p)) * B_plus - A_plus, 1e-8)\n",
    "\n",
    "def b0(B_plus, p):\n",
    "    # Similarly, ensure b0 is never zero to avoid division by zero\n",
    "    return max(p / (1 - p) * B_plus, 1e-8)\n",
    "\n",
    "# Assuming the definitions of a0 and b0 functions, z, p, and V are already provided above\n",
    "def print_initialization(x0, V, z, p):\n",
    "    a0_value = a0(x0[0], x0[1], z, p)\n",
    "    b0_value = b0(x0[0], p)\n",
    "    \n",
    "    # Compute the denominators\n",
    "    v_denominators = V - 1 / a0_value - 1 / b0_value\n",
    "    \n",
    "    # Print the initialization values\n",
    "    print(\"Initialization:\")\n",
    "    print(f\"a0: {a0_value}\")\n",
    "    print(f\"b0: {b0_value}\")\n",
    "    print(f\"v_denominators: {v_denominators}\")\n",
    "\n",
    "\n",
    "# def find_feasible_point(V, z, p):\n",
    "#     B_plus = 100  # Initial positive B+\n",
    "#     A_plus = 100   # Start with a small A+\n",
    "    \n",
    "#     while True:\n",
    "#         a0_value = a0(B_plus, A_plus, z, p)\n",
    "#         b0_value = b0(B_plus, p)\n",
    "#         v_denominators = V - 1 / a0_value - 1 / b0_value\n",
    "        \n",
    "#         # Check if all conditions are satisfied\n",
    "#         if a0_value > 0 and b0_value > 0 and np.all(v_denominators > 0):\n",
    "#             print(f\"Feasible point found: B_+ = {B_plus}, A_+ = {A_plus}\")\n",
    "#             print(f\"a0: {a0_value}, b0: {b0_value}, v_denominators: {v_denominators}\")\n",
    "#             return np.array([B_plus, A_plus])  # Return the feasible point\n",
    "#         else:\n",
    "#             # Adjust B_+ and A_+ if conditions are not satisfied\n",
    "#             B_plus *= 1.1  # Increment B_+ to increase a0 and b0\n",
    "#             A_plus *= 0.9  # Adjust A_+ to ensure a0 > 0, may need fine-tuning\n",
    "\n",
    "\n",
    "def objective(x, V, R, z, p):\n",
    "    # TODO: Rewrite in terms of a_0 and b_0, so just pass in a_0 and b_0 as arguments for x instead of B_plus and A_plus\n",
    "    B_plus, A_plus = x\n",
    "    a0_value = a0(B_plus, A_plus, z, p)\n",
    "    b0_value = b0(B_plus, p)\n",
    "    \n",
    "    # Ensure denominators are always positive\n",
    "    v_denominators = V  - 1 / a0_value - 1 / b0_value\n",
    "    #if np.any(v_denominators <= 0):\n",
    "        # Handle the case where v_denominators are not positive\n",
    "        # This is a simple handling approach; you might want to use a different strategy\n",
    "     #   return np.inf\n",
    "\n",
    "    term1 = (B_plus - np.sum((1 + b0_value / (a0_value * R)) / v_denominators))**2\n",
    "    term2 = (A_plus - np.sum((1 + a0_value * R  / b0_value ) / v_denominators))**2\n",
    "    \n",
    "    # Print the computed a0, b0, and denominators for inspection\n",
    "    #print(\"a0:\", a0_value)\n",
    "    #print(\"b0:\", b0_value)\n",
    "    #print(\"v's across the sum:\", v_denominators)\n",
    "\n",
    "    return term1 + term2    \n",
    "    \n",
    "    \n",
    "constraints = [\n",
    "    # Existing constraints\n",
    "    {'type': 'ineq', 'fun': lambda x: 1/(z * (1 - p)) * x[0] - x[1]-1}, # Ensuring a0 >= 1, \n",
    "    {'type': 'ineq', 'fun': lambda x: p/(1-p)*x[0] - 1},  # Ensuring b0 >= 1, B_+ >= 1 \n",
    "    {'type': 'ineq', 'fun': lambda x: x[1] -1}  # ensuring A_+ >= 1\n",
    "]\n",
    "\n",
    "# You can now use x_feas as your initial guess in optimization\n",
    "# print(\"Feasible initial guess for optimization:\", x_feas)\n",
    "\n",
    "x_0 = np.array([2,2])\n",
    "# Optimization\n",
    "result = minimize(fun=objective, x0=x_0, args=(V, R, z, p), method='trust-constr')\n",
    "#result = minimize(fun=objective, x0=x_feas, args=(V, R, z, p))\n",
    "\n",
    "print(\"Optimization Result:\")\n",
    "print(result)"
   ]
  },
  {
   "cell_type": "code",
   "execution_count": 10,
   "id": "b311c264",
   "metadata": {},
   "outputs": [
    {
     "data": {
      "text/plain": [
       "-2.129448096696911e-08"
      ]
     },
     "execution_count": 10,
     "metadata": {},
     "output_type": "execute_result"
    }
   ],
   "source": [
    "result.x[0]"
   ]
  },
  {
   "cell_type": "code",
   "execution_count": 11,
   "id": "807cd33d",
   "metadata": {},
   "outputs": [
    {
     "data": {
      "text/plain": [
       "-3.532114520410966e-08"
      ]
     },
     "execution_count": 11,
     "metadata": {},
     "output_type": "execute_result"
    }
   ],
   "source": [
    "result.x[1]"
   ]
  },
  {
   "cell_type": "code",
   "execution_count": 12,
   "id": "daee8448",
   "metadata": {},
   "outputs": [
    {
     "name": "stdout",
     "output_type": "stream",
     "text": [
      "a0 (optimized): 1e-08\n",
      "b0 (optimized): 1e-08\n",
      "a0 + b0: 2e-08\n",
      "A+ (optimized): -3.532114520410966e-08\n",
      "B+ (optimized): -2.129448096696911e-08\n",
      "A+ + B+: -5.661562617107877e-08\n"
     ]
    }
   ],
   "source": [
    "# Assuming result.x contains the optimized values for B_+ and A_+\n",
    "B_plus_optimized, A_plus_optimized = result.x\n",
    "\n",
    "# Calculate a0 and b0 using the optimized values of B_+ and A_+\n",
    "a0_optimized = a0(B_plus_optimized, A_plus_optimized, z, p)\n",
    "b0_optimized = b0(B_plus_optimized, p)\n",
    "\n",
    "# Calculate the sums\n",
    "a0_b0_sum = a0_optimized + b0_optimized\n",
    "A_B_sum = A_plus_optimized + B_plus_optimized\n",
    "\n",
    "# Print the results\n",
    "print(f\"a0 (optimized): {a0_optimized}\")\n",
    "print(f\"b0 (optimized): {b0_optimized}\")\n",
    "print(f\"a0 + b0: {a0_b0_sum}\")\n",
    "print(f\"A+ (optimized): {A_plus_optimized}\")\n",
    "print(f\"B+ (optimized): {B_plus_optimized}\")\n",
    "print(f\"A+ + B+: {A_B_sum}\")"
   ]
  },
  {
   "cell_type": "code",
   "execution_count": 13,
   "id": "10e2edcd",
   "metadata": {},
   "outputs": [
    {
     "name": "stdout",
     "output_type": "stream",
     "text": [
      "Components of A:\n",
      "A[1]: -9.000000002439e-09\n",
      "A[2]: -1.08000000030402e-08\n",
      "A[3]: -1.2850000003617275e-08\n",
      "\n",
      "Components of B:\n",
      "B[1]: -1.125000000304875e-08\n",
      "B[2]: -9.310344830207069e-09\n",
      "B[3]: -8.184713378100173e-09\n",
      "\n",
      "Components of N:\n",
      "a0 + b0: 2e-08\n",
      "N[1]: -2.0250000005487747e-08\n",
      "N[2]: -2.011034483324727e-08\n",
      "N[3]: -2.103471338171745e-08\n",
      "Nx = np.array([337, 167, 186, 212]\n"
     ]
    }
   ],
   "source": [
    "# Assuming a0_value, b0_value, R, and v_denominators are already calculated\n",
    "\n",
    "#    term2 = (A_plus - np.sum((1 + a0_value * R  / b0_value ) / v_denominators))**2\n",
    "#    term1 = (B_plus - np.sum((1 + b0_value / (a0_value * R)) / v_denominators))**2\n",
    "\n",
    "\n",
    "\n",
    "# Calculate A and B components\n",
    "v_denominators = V - 1 / a0_optimized - 1 / b0_optimized\n",
    "A_components = (1 + R * a0_optimized / b0_optimized ) / v_denominators\n",
    "B_components = (1 + b0_optimized / (a0_optimized * R)) / v_denominators\n",
    "N_components = A_components + B_components\n",
    "\n",
    "# Print the results for each component\n",
    "print(\"Components of A:\")\n",
    "for i, A_comp in enumerate(A_components, 1):\n",
    "    print(f\"A[{i}]: {A_comp}\")\n",
    "\n",
    "print(\"\\nComponents of B:\")\n",
    "for i, B_comp in enumerate(B_components, 1):\n",
    "    print(f\"B[{i}]: {B_comp}\")\n",
    "    \n",
    "\n",
    "print(\"\\nComponents of N:\")\n",
    "print(f\"a0 + b0: {a0_b0_sum}\")\n",
    "for i, N_comp in enumerate(N_components, 1):\n",
    "    print(f\"N[{i}]: {N_comp}\")\n",
    "\n",
    "print(\"Nx = np.array([337, 167, 186, 212]\")"
   ]
  },
  {
   "cell_type": "code",
   "execution_count": null,
   "id": "22d272b1",
   "metadata": {},
   "outputs": [],
   "source": []
  },
  {
   "cell_type": "code",
   "execution_count": null,
   "id": "2dbc4599",
   "metadata": {},
   "outputs": [],
   "source": []
  }
 ],
 "metadata": {
  "kernelspec": {
   "display_name": "Python 3.8.2 64-bit",
   "language": "python",
   "name": "python3"
  },
  "language_info": {
   "codemirror_mode": {
    "name": "ipython",
    "version": 3
   },
   "file_extension": ".py",
   "mimetype": "text/x-python",
   "name": "python",
   "nbconvert_exporter": "python",
   "pygments_lexer": "ipython3",
   "version": "3.8.2"
  },
  "vscode": {
   "interpreter": {
    "hash": "aee8b7b246df8f9039afb4144a1f6fd8d2ca17a180786b69acc140d282b71a49"
   }
  }
 },
 "nbformat": 4,
 "nbformat_minor": 5
}
