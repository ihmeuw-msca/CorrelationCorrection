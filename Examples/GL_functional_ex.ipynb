{
 "cells": [
  {
   "cell_type": "code",
   "execution_count": 1,
   "metadata": {},
   "outputs": [],
   "source": [
    "import scipy\n",
    "import numpy as np\n",
    "import cvxpy as cp\n",
    "import matplotlib.pyplot as plt\n",
    "import seaborn as sns\n",
    "import correlation_correction.CorrFuncs as cf\n",
    "import correlation_correction.GLMethods as gl\n",
    "import correlation_correction.HamMethods as ham"
   ]
  },
  {
   "cell_type": "markdown",
   "metadata": {},
   "source": [
    "from importlib import reload to not restart kernel everytime."
   ]
  },
  {
   "cell_type": "markdown",
   "metadata": {},
   "source": [
    "#### Example in GL Paper"
   ]
  },
  {
   "cell_type": "code",
   "execution_count": 2,
   "metadata": {},
   "outputs": [],
   "source": [
    "x = np.array([2,6,11])\n",
    "Nx = np.array([337,167,186,212])\n",
    "M1x = np.array(451)\n",
    "Lx = np.array([np.log(0.80),np.log(1.16),np.log(1.57)])\n",
    "vx = np.array([0.0542,0.0563,0.0563])\n",
    "a0 = 10\n",
    "A0x = np.array([74,90,122])\n",
    "b0 = Nx[0] - a0\n",
    "B0x = Nx[1:] - A0x\n",
    "B0x_sum = np.sum(B0x) + b0\n",
    "\n",
    "p0 = b0 / B0x_sum\n",
    "z0 = B0x_sum / M1x\n",
    "\n",
    "x_feas = np.array([10/np.min(vx),10/np.min(vx)])"
   ]
  },
  {
   "cell_type": "code",
   "execution_count": 3,
   "metadata": {},
   "outputs": [],
   "source": [
    "A_gl, B_gl, a0_gl, b0_gl = gl.convex_GL(Lx,Nx,np.array(M1x))"
   ]
  },
  {
   "cell_type": "code",
   "execution_count": 4,
   "metadata": {},
   "outputs": [],
   "source": [
    "A_ham, B_ham, a0_ham, b0_ham = ham.ham_vanilla(Lx,p0,z0,vx,x_feas)"
   ]
  },
  {
   "cell_type": "markdown",
   "metadata": {},
   "source": [
    "Covariance Matrix"
   ]
  },
  {
   "cell_type": "code",
   "execution_count": 5,
   "metadata": {},
   "outputs": [
    {
     "data": {
      "text/plain": [
       "array([[0.0542    , 0.01189627, 0.01189627],\n",
       "       [0.01189627, 0.0563    , 0.01189627],\n",
       "       [0.01189627, 0.01189627, 0.0563    ]])"
      ]
     },
     "execution_count": 5,
     "metadata": {},
     "output_type": "execute_result"
    }
   ],
   "source": [
    "cf.covariance_matrix(Lx,A0x,Nx,M1x,p0,z0,x_feas,vx,method=\"convex_GL\")"
   ]
  },
  {
   "cell_type": "code",
   "execution_count": 6,
   "metadata": {},
   "outputs": [
    {
     "data": {
      "text/plain": [
       "array([[0.0542    , 0.01276901, 0.01276901],\n",
       "       [0.01276901, 0.0563    , 0.01276901],\n",
       "       [0.01276901, 0.01276901, 0.0563    ]])"
      ]
     },
     "execution_count": 6,
     "metadata": {},
     "output_type": "execute_result"
    }
   ],
   "source": [
    "cf.covariance_matrix(Lx,A0x,Nx,M1x,p0,z0,x_feas,vx,method=\"ham_vanilla\")"
   ]
  },
  {
   "cell_type": "code",
   "execution_count": null,
   "metadata": {},
   "outputs": [],
   "source": []
  }
 ],
 "metadata": {
  "kernelspec": {
   "display_name": "correlationCorrection",
   "language": "python",
   "name": "python3"
  },
  "language_info": {
   "codemirror_mode": {
    "name": "ipython",
    "version": 3
   },
   "file_extension": ".py",
   "mimetype": "text/x-python",
   "name": "python",
   "nbconvert_exporter": "python",
   "pygments_lexer": "ipython3",
   "version": "3.12.3"
  }
 },
 "nbformat": 4,
 "nbformat_minor": 2
}
