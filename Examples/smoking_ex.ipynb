{
 "cells": [
  {
   "cell_type": "code",
   "execution_count": 31,
   "metadata": {},
   "outputs": [],
   "source": [
    "import numpy as np\n",
    "import pandas as pd\n",
    "import rdata\n",
    "import matplotlib.pyplot as plt\n",
    "\n",
    "import correlation_correction.methods.hamling_methods as ham\n",
    "import correlation_correction.methods.gl_methods as gl\n",
    "import correlation_correction.regressions as reg"
   ]
  },
  {
   "cell_type": "code",
   "execution_count": 67,
   "metadata": {},
   "outputs": [
    {
     "name": "stderr",
     "output_type": "stream",
     "text": [
      "/opt/anaconda3/envs/correlationCorrection/lib/python3.12/site-packages/rdata/parser/_parser.py:1217: UserWarning: Unknown file type: assumed RDS\n",
      "  warnings.warn(\"Unknown file type: assumed RDS\")  # noqa: B028\n",
      "/opt/anaconda3/envs/correlationCorrection/lib/python3.12/site-packages/rdata/parser/_parser.py:1220: UserWarning: Wrong extension .RDS for file in RDS format\n",
      "  warnings.warn(f\"Wrong extension {extension} for file in RDS format\")  # noqa: B028\n"
     ]
    }
   ],
   "source": [
    "parsed = rdata.parser.parse_file(\"/Volumes/mnt/team/team/pub/sub_risks/tobacco/code/xdai88/gbd2020_smoking/relative_risk_curves/cleaned_all_data/00_prepped_data/asthma.RDS\")\n",
    "converted = rdata.conversion.convert(parsed)\n",
    "df = converted[\"df\"]"
   ]
  },
  {
   "cell_type": "code",
   "execution_count": 68,
   "metadata": {},
   "outputs": [
    {
     "data": {
      "text/html": [
       "<div>\n",
       "<style scoped>\n",
       "    .dataframe tbody tr th:only-of-type {\n",
       "        vertical-align: middle;\n",
       "    }\n",
       "\n",
       "    .dataframe tbody tr th {\n",
       "        vertical-align: top;\n",
       "    }\n",
       "\n",
       "    .dataframe thead th {\n",
       "        text-align: right;\n",
       "    }\n",
       "</style>\n",
       "<table border=\"1\" class=\"dataframe\">\n",
       "  <thead>\n",
       "    <tr style=\"text-align: right;\">\n",
       "      <th></th>\n",
       "      <th>nid</th>\n",
       "      <th>ln_effect</th>\n",
       "      <th>ln_se</th>\n",
       "      <th>b_0</th>\n",
       "      <th>b_1</th>\n",
       "      <th>a_0</th>\n",
       "      <th>a_1</th>\n",
       "      <th>percent_male</th>\n",
       "      <th>age_start</th>\n",
       "      <th>age_end</th>\n",
       "      <th>age_ref</th>\n",
       "      <th>cv_adj_L0</th>\n",
       "      <th>cv_adj_L1</th>\n",
       "      <th>cv_adj_L2</th>\n",
       "      <th>cv_exposure_study</th>\n",
       "    </tr>\n",
       "  </thead>\n",
       "  <tbody>\n",
       "    <tr>\n",
       "      <th>27</th>\n",
       "      <td>346743</td>\n",
       "      <td>-0.223144</td>\n",
       "      <td>0.159439</td>\n",
       "      <td>1.0</td>\n",
       "      <td>14.0</td>\n",
       "      <td>0</td>\n",
       "      <td>0</td>\n",
       "      <td>0.0</td>\n",
       "      <td>30</td>\n",
       "      <td>55</td>\n",
       "      <td>15</td>\n",
       "      <td>1</td>\n",
       "      <td>1</td>\n",
       "      <td>0</td>\n",
       "      <td>1</td>\n",
       "    </tr>\n",
       "    <tr>\n",
       "      <th>26</th>\n",
       "      <td>346743</td>\n",
       "      <td>-0.248461</td>\n",
       "      <td>0.160256</td>\n",
       "      <td>26.0</td>\n",
       "      <td>39.0</td>\n",
       "      <td>0</td>\n",
       "      <td>0</td>\n",
       "      <td>0.0</td>\n",
       "      <td>30</td>\n",
       "      <td>55</td>\n",
       "      <td>15</td>\n",
       "      <td>1</td>\n",
       "      <td>1</td>\n",
       "      <td>0</td>\n",
       "      <td>1</td>\n",
       "    </tr>\n",
       "    <tr>\n",
       "      <th>25</th>\n",
       "      <td>346743</td>\n",
       "      <td>-0.371064</td>\n",
       "      <td>0.140491</td>\n",
       "      <td>15.0</td>\n",
       "      <td>24.0</td>\n",
       "      <td>0</td>\n",
       "      <td>0</td>\n",
       "      <td>0.0</td>\n",
       "      <td>30</td>\n",
       "      <td>55</td>\n",
       "      <td>15</td>\n",
       "      <td>1</td>\n",
       "      <td>1</td>\n",
       "      <td>0</td>\n",
       "      <td>1</td>\n",
       "    </tr>\n",
       "  </tbody>\n",
       "</table>\n",
       "</div>"
      ],
      "text/plain": [
       "       nid  ln_effect     ln_se   b_0   b_1  a_0  a_1  percent_male  \\\n",
       "27  346743  -0.223144  0.159439   1.0  14.0    0    0           0.0   \n",
       "26  346743  -0.248461  0.160256  26.0  39.0    0    0           0.0   \n",
       "25  346743  -0.371064  0.140491  15.0  24.0    0    0           0.0   \n",
       "\n",
       "    age_start  age_end  age_ref  cv_adj_L0  cv_adj_L1  cv_adj_L2  \\\n",
       "27         30       55       15          1          1          0   \n",
       "26         30       55       15          1          1          0   \n",
       "25         30       55       15          1          1          0   \n",
       "\n",
       "    cv_exposure_study  \n",
       "27                  1  \n",
       "26                  1  \n",
       "25                  1  "
      ]
     },
     "execution_count": 68,
     "metadata": {},
     "output_type": "execute_result"
    }
   ],
   "source": [
    "flat_df = df[df[\"nid\"] == 346743]\n",
    "reindex_list = [27,26,25]\n",
    "flat_df = flat_df.reindex(reindex_list)\n",
    "flat_df"
   ]
  },
  {
   "cell_type": "markdown",
   "metadata": {},
   "source": [
    "We're defining our data here. I think $$b_0 = 321304$$ and $$a_0 = 329$$ because they do references as never-smokers. I'm not sure, but I can talk to Sasha about this."
   ]
  },
  {
   "cell_type": "code",
   "execution_count": 69,
   "metadata": {},
   "outputs": [],
   "source": [
    "# np.random.seed(123)\n",
    "# ratio_num = np.random.uniform(1,8)\n",
    "x = np.array([(1+14)/2, (15+24)/2, (26+39)/2])\n",
    "L = flat_df[flat_df[\"nid\"] == 346743][\"ln_effect\"].to_numpy()\n",
    "v = (flat_df[flat_df[\"nid\"] == 346743][\"ln_se\"].to_numpy())**2\n",
    "z = (174504 + 321304) / (103 + 329)\n",
    "p = 321304 / (174504 + 321304)\n",
    "\n",
    "N = np.array([321304, 174504/3, 174504/3, 174504/3])\n",
    "M1 = 329 + 103"
   ]
  },
  {
   "cell_type": "code",
   "execution_count": 70,
   "metadata": {},
   "outputs": [
    {
     "data": {
      "text/plain": [
       "(array([30.86757147, 30.8347298 , 43.37059471]),\n",
       " array([105.60915775, 108.20184051, 172.04235958]),\n",
       " 254.55786643061555,\n",
       " 696.7478319405238)"
      ]
     },
     "execution_count": 70,
     "metadata": {},
     "output_type": "execute_result"
    }
   ],
   "source": [
    "ham.hamling(L,p,z,v,OR=False)"
   ]
  },
  {
   "cell_type": "code",
   "execution_count": 71,
   "metadata": {},
   "outputs": [
    {
     "data": {
      "text/plain": [
       "(array([44.35277014, 43.24276129, 38.24956642]),\n",
       " array([58168., 58168., 58168.]),\n",
       " 306.15490215236093,\n",
       " 321304.0)"
      ]
     },
     "execution_count": 71,
     "metadata": {},
     "output_type": "execute_result"
    }
   ],
   "source": [
    "gl.convex_gl(L,N,M1,OR=False)"
   ]
  },
  {
   "cell_type": "code",
   "execution_count": 72,
   "metadata": {},
   "outputs": [],
   "source": [
    "C_ham = reg.covariance_matrix_hamling(L,p,z,v,OR=False)\n",
    "C_gl = reg.covariance_matrix_convex_gl(L,N,M1,v,OR=False)"
   ]
  },
  {
   "cell_type": "code",
   "execution_count": 73,
   "metadata": {},
   "outputs": [],
   "source": [
    "bstar_ham, vstar_ham = reg.gls_reg(C_ham,L,x)\n",
    "bstar_gl, vstar_gl = reg.gls_reg(C_gl,L,x)"
   ]
  },
  {
   "cell_type": "code",
   "execution_count": 74,
   "metadata": {},
   "outputs": [],
   "source": [
    "b, v_reg = reg.wls_reg(L,x,v)"
   ]
  },
  {
   "cell_type": "code",
   "execution_count": 83,
   "metadata": {},
   "outputs": [
    {
     "data": {
      "image/png": "[encoded data removed]",
      "text/plain": [
       "<Figure size 640x480 with 1 Axes>"
      ]
     },
     "metadata": {},
     "output_type": "display_data"
    }
   ],
   "source": [
    "def slope_fn(beta,x):\n",
    "    return beta*x\n",
    "\n",
    "x_pts = np.linspace(-10,40)\n",
    "\n",
    "# plt.plot(x,slope_fn(beta_s,x),label=\"No weights--S\",c=\"olive\")\n",
    "# plt.fill_between(x,slope_fn(low_beta_s,x),slope_fn(high_beta_s,x),alpha=0.3,color=\"olive\")\n",
    "# plt.plot(x,slope_fn(beta_s_GL,x),label=\"Weights--S\",c=\"cornflowerblue\")\n",
    "# plt.fill_between(x,slope_fn(low_beta_s_GL,x),slope_fn(high_beta_s_GL,x),alpha=0.3,color=\"cornflowerblue\")\n",
    "plt.plot(x_pts,slope_fn(b,x_pts),label=r\"$\\hat \\beta_{\\mathrm{WLS}}$\",c=\"olive\")\n",
    "plt.plot(x_pts,slope_fn(bstar_ham,x_pts),label=r\"$\\hat \\beta_{\\mathrm{ham}}$\",c=\"cornflowerblue\")\n",
    "plt.plot(x_pts,slope_fn(bstar_gl,x_pts),label=r\"$\\hat \\beta_{\\mathrm{gl}}$\",c=\"rosybrown\",linestyle=\"dashed\")\n",
    "# plt.plot(x,slope_fn(bstar,x)-0.063,label=\"Intercept\",linestyle=\"dashed\",c=\"cornflowerblue\")\n",
    "plt.scatter(x,L,s = 1/v)\n",
    "\n",
    "plt.scatter(0,0,c=\"darkred\",s=50,label=\"Baseline exposure\")\n",
    "plt.ylabel(\"log relative risk ratio\")\n",
    "plt.xlabel(\"Cigarettes smoked per day\")\n",
    "plt.legend()\n",
    "# plt.savefig(\"images/itoga_regression.pdf\",bbox_inches=\"tight\",pad_inches=0.1)\n",
    "plt.show()"
   ]
  },
  {
   "cell_type": "code",
   "execution_count": 84,
   "metadata": {},
   "outputs": [
    {
     "data": {
      "text/plain": [
       "array([0.02542072, 0.02568212, 0.01973772])"
      ]
     },
     "execution_count": 84,
     "metadata": {},
     "output_type": "execute_result"
    }
   ],
   "source": [
    "v"
   ]
  },
  {
   "cell_type": "code",
   "execution_count": 76,
   "metadata": {},
   "outputs": [
    {
     "data": {
      "text/plain": [
       "-0.011787684721382058"
      ]
     },
     "execution_count": 76,
     "metadata": {},
     "output_type": "execute_result"
    }
   ],
   "source": [
    "bstar_gl"
   ]
  },
  {
   "cell_type": "code",
   "execution_count": 77,
   "metadata": {},
   "outputs": [
    {
     "data": {
      "text/plain": [
       "-0.012270537350315344"
      ]
     },
     "execution_count": 77,
     "metadata": {},
     "output_type": "execute_result"
    }
   ],
   "source": [
    "b"
   ]
  },
  {
   "cell_type": "code",
   "execution_count": 78,
   "metadata": {},
   "outputs": [
    {
     "data": {
      "text/plain": [
       "-0.011760431489251362"
      ]
     },
     "execution_count": 78,
     "metadata": {},
     "output_type": "execute_result"
    }
   ],
   "source": [
    "bstar_ham"
   ]
  },
  {
   "cell_type": "code",
   "execution_count": 79,
   "metadata": {},
   "outputs": [
    {
     "data": {
      "text/plain": [
       "1.5958804316706667e-05"
      ]
     },
     "execution_count": 79,
     "metadata": {},
     "output_type": "execute_result"
    }
   ],
   "source": [
    "vstar_gl"
   ]
  },
  {
   "cell_type": "code",
   "execution_count": 80,
   "metadata": {},
   "outputs": [
    {
     "data": {
      "text/plain": [
       "1.614039368551281e-05"
      ]
     },
     "execution_count": 80,
     "metadata": {},
     "output_type": "execute_result"
    }
   ],
   "source": [
    "vstar_ham"
   ]
  },
  {
   "cell_type": "code",
   "execution_count": 82,
   "metadata": {},
   "outputs": [
    {
     "data": {
      "text/plain": [
       "1.4177743996667474e-05"
      ]
     },
     "execution_count": 82,
     "metadata": {},
     "output_type": "execute_result"
    }
   ],
   "source": [
    "v_reg"
   ]
  },
  {
   "cell_type": "code",
   "execution_count": null,
   "metadata": {},
   "outputs": [],
   "source": []
  }
 ],
 "metadata": {
  "kernelspec": {
   "display_name": "correlationCorrection",
   "language": "python",
   "name": "python3"
  },
  "language_info": {
   "codemirror_mode": {
    "name": "ipython",
    "version": 3
   },
   "file_extension": ".py",
   "mimetype": "text/x-python",
   "name": "python",
   "nbconvert_exporter": "python",
   "pygments_lexer": "ipython3",
   "version": "3.12.3"
  }
 },
 "nbformat": 4,
 "nbformat_minor": 2
}
