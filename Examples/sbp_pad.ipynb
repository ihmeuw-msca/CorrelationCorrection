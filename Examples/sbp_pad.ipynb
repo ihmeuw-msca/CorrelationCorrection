{
 "cells": [
  {
   "cell_type": "code",
   "execution_count": 2,
   "metadata": {},
   "outputs": [],
   "source": [
    "# import jax\n",
    "# jax.config.update('jax_enable_x64',True)\n",
    "# # jax.config.update(\"jax_default_device\", jax.devices()[6])\n",
    "# import jax.numpy as jnp\n",
    "# import pandas as pd\n",
    "# from jax.random import PRNGKey as pkey\n",
    "# from jax.scipy.special import expit\n",
    "# from jaxopt import LBFGS\n",
    "# import statsmodels.api as sm\n",
    "# from tqdm.auto import tqdm\n",
    "# from functools import partial\n",
    "# from scipy.optimize import root_scalar,minimize_scalar\n",
    "\n",
    "import numpy as np\n",
    "import pandas as pd\n",
    "from scipy.linalg import block_diag\n",
    "import matplotlib.pyplot as plt\n",
    "plt.style.use('ggplot')\n",
    "\n",
    "from correlation_correction.methods import gl_methods as gl\n",
    "from correlation_correction.methods import hamling_methods as ham\n",
    "from correlation_correction.regressions import gls_reg, wls_reg"
   ]
  },
  {
   "cell_type": "code",
   "execution_count": 64,
   "metadata": {},
   "outputs": [],
   "source": [
    "# Reading in data and removing trimmed point from model\n",
    "study_df = pd.read_excel(\"../SBPvPAD_data.xlsx\")\n",
    "to_exclude = study_df.index.isin([4])\n",
    "study_df = study_df[~to_exclude]\n",
    "study_df.reset_index(inplace=True)\n",
    "study_df = study_df.iloc[:,1:]\n",
    "\n",
    "# Getting log odds ratios\n",
    "study_df.iloc[0,5:8] = np.log(study_df.iloc[0,5:8].to_numpy().astype(np.float64))\n",
    "study_df.iloc[4,5:8] = np.log(study_df.iloc[4,5:8].to_numpy().astype(np.float64))\n",
    "\n",
    "# Get study specific data -- Hamling (and only Hamling) -- Stoekenbroek\n",
    "L_s = study_df[study_df[\"Author\"] == \"Stoekenbroek\"][\"logOR\"].to_numpy()[1:]\n",
    "x_s = study_df[study_df[\"Author\"] == \"Stoekenbroek\"][\"dose\"].to_numpy()[1:] - study_df[\"dose\"][0]\n",
    "v_s = (study_df[study_df[\"Author\"] == \"Stoekenbroek\"][\"std_error\"].to_numpy()[1:])**2\n",
    "N_s = study_df[study_df[\"Author\"] == \"Stoekenbroek\"][\"subjects\"].to_numpy()\n",
    "A_s_sum = study_df[study_df[\"Author\"] == \"Stoekenbroek\"][\"cases\"].sum()\n",
    "B_s_sum = study_df[study_df[\"Author\"] == \"Stoekenbroek\"][\"controls\"].sum()\n",
    "b0_s = study_df[study_df[\"Author\"] == \"Stoekenbroek\"][\"controls\"][0]\n",
    "p_s = b0_s / B_s_sum\n",
    "z_s = B_s_sum / A_s_sum\n",
    "\n",
    "# Get study specific data -- Hamling (and only Hamling) -- Itoga\n",
    "L_i = study_df[study_df[\"Author\"] == \"Itoga\"][\"logOR\"].to_numpy()[1:]\n",
    "x_i = study_df[study_df[\"Author\"] == \"Itoga\"][\"dose\"].to_numpy()[1:] - study_df[\"dose\"][4]\n",
    "v_i = (study_df[study_df[\"Author\"] == \"Itoga\"][\"std_error\"].to_numpy()[1:])**2\n",
    "N_i = study_df[study_df[\"Author\"] == \"Itoga\"][\"subjects\"].to_numpy()\n",
    "A_i_sum = study_df[study_df[\"Author\"] == \"Itoga\"][\"cases\"].sum()\n",
    "B_i_sum = study_df[study_df[\"Author\"] == \"Itoga\"][\"controls\"].sum()\n",
    "b0_i = study_df[study_df[\"Author\"] == \"Itoga\"][\"controls\"][4]\n",
    "p_i = b0_i / B_i_sum\n",
    "z_i = B_i_sum / A_i_sum\n",
    "\n",
    "# Get odds ratios and exposures for each study\n",
    "L = np.hstack((L_s, L_i))\n",
    "x = np.hstack((x_s, x_i))\n",
    "v = np.hstack((v_s,v_i))\n"
   ]
  },
  {
   "cell_type": "code",
   "execution_count": 68,
   "metadata": {},
   "outputs": [],
   "source": [
    "# Get counts from Hamling method for both studies\n",
    "counts_s = ham.hamling(L_s,p_s,z_s,v_s)\n",
    "counts_i = ham.hamling(L_i,p_i,z_i,v_i,x_feas=np.array([1000/np.min(v_i), 1000/np.min(v_i)]))\n",
    "\n",
    "# Get covariance matrices from both studies\n",
    "C_s = counts_s.cov(v_s)\n",
    "C_i = counts_i.cov(v_i)\n",
    "\n",
    "# Get block diagonal matrix of covariances\n",
    "C = block_diag(C_s, C_i)"
   ]
  },
  {
   "cell_type": "code",
   "execution_count": 69,
   "metadata": {},
   "outputs": [
    {
     "data": {
      "text/plain": [
       "array([0.00102851, 0.00142716, 0.00184293, 0.00225387])"
      ]
     },
     "execution_count": 69,
     "metadata": {},
     "output_type": "execute_result"
    }
   ],
   "source": [
    "np.linalg.eigvalsh(C_i)"
   ]
  },
  {
   "cell_type": "code",
   "execution_count": 70,
   "metadata": {},
   "outputs": [
    {
     "data": {
      "text/plain": [
       "array([1889.85246067, 1459.57270732,  939.81843744, 1200.11355549])"
      ]
     },
     "execution_count": 70,
     "metadata": {},
     "output_type": "execute_result"
    }
   ],
   "source": [
    "counts_i.A"
   ]
  },
  {
   "cell_type": "code",
   "execution_count": 72,
   "metadata": {},
   "outputs": [
    {
     "data": {
      "text/plain": [
       "array([[0.00872998, 0.0015498 , 0.0015498 ],\n",
       "       [0.0015498 , 0.0078117 , 0.0015498 ],\n",
       "       [0.0015498 , 0.0015498 , 0.00206612]])"
      ]
     },
     "execution_count": 72,
     "metadata": {},
     "output_type": "execute_result"
    }
   ],
   "source": [
    "C_s"
   ]
  },
  {
   "cell_type": "code",
   "execution_count": 73,
   "metadata": {},
   "outputs": [
    {
     "data": {
      "text/plain": [
       "array([[1.02853025e-03, 2.05706050e-06, 2.05706050e-06, 2.05706050e-06],\n",
       "       [2.05706050e-06, 1.42716049e-03, 2.05706050e-06, 2.05706050e-06],\n",
       "       [2.05706050e-06, 2.05706050e-06, 2.25385165e-03, 2.05706050e-06],\n",
       "       [2.05706050e-06, 2.05706050e-06, 2.05706050e-06, 1.84292419e-03]])"
      ]
     },
     "execution_count": 73,
     "metadata": {},
     "output_type": "execute_result"
    }
   ],
   "source": [
    "C_i"
   ]
  },
  {
   "cell_type": "code",
   "execution_count": 74,
   "metadata": {},
   "outputs": [],
   "source": [
    "# Get counts from Hamling method for both studies\n",
    "counts_s = gl.convex_gl(L_s,N_s,A_s_sum)\n",
    "counts_i = gl.convex_gl(L_i,N_i,A_i_sum)\n",
    "\n",
    "# Get covariance matrices from both studies\n",
    "C_s = counts_s.cov(v_s)\n",
    "C_i = counts_i.cov(v_i)\n",
    "\n",
    "# Get block diagonal matrix of covariances\n",
    "C = block_diag(C_s, C_i)"
   ]
  },
  {
   "cell_type": "code",
   "execution_count": 75,
   "metadata": {},
   "outputs": [
    {
     "data": {
      "text/plain": [
       "array([[0.00102853, 0.00086994, 0.00108614, 0.00090509],\n",
       "       [0.00086994, 0.00142716, 0.00138063, 0.00115049],\n",
       "       [0.00108614, 0.00138063, 0.00225385, 0.00143642],\n",
       "       [0.00090509, 0.00115049, 0.00143642, 0.00184292]])"
      ]
     },
     "execution_count": 75,
     "metadata": {},
     "output_type": "execute_result"
    }
   ],
   "source": [
    "C_i"
   ]
  },
  {
   "cell_type": "code",
   "execution_count": 7,
   "metadata": {},
   "outputs": [
    {
     "data": {
      "text/plain": [
       "array([0.00033447, 0.00041575, 0.00060432, 0.00519793])"
      ]
     },
     "execution_count": 7,
     "metadata": {},
     "output_type": "execute_result"
    }
   ],
   "source": [
    "np.linalg.eigvalsh(C_i)"
   ]
  },
  {
   "cell_type": "code",
   "execution_count": 8,
   "metadata": {},
   "outputs": [
    {
     "data": {
      "text/plain": [
       "array([48.99907928, 50.4750502 , 94.88265952])"
      ]
     },
     "execution_count": 8,
     "metadata": {},
     "output_type": "execute_result"
    }
   ],
   "source": [
    "counts_s.A"
   ]
  },
  {
   "cell_type": "code",
   "execution_count": 9,
   "metadata": {},
   "outputs": [],
   "source": [
    "# Perfrom generalized regression\n",
    "b_star, v_star = gls_reg(C,L,x)\n",
    "\n",
    "# Perfrom regression weighted by reported variances\n",
    "b, v = wls_reg(L,x,v)"
   ]
  },
  {
   "cell_type": "code",
   "execution_count": 10,
   "metadata": {},
   "outputs": [
    {
     "data": {
      "image/png": "[encoded data removed]",
      "text/plain": [
       "<Figure size 640x480 with 1 Axes>"
      ]
     },
     "metadata": {},
     "output_type": "display_data"
    }
   ],
   "source": [
    "# Perform plot\n",
    "def slope_fn(beta,x):\n",
    "    return beta*(x-114)\n",
    "\n",
    "xs = np.linspace(105,170)\n",
    "\n",
    "# plt.plot(x,slope_fn(beta_s,x),label=\"No weights--S\",c=\"olive\")\n",
    "# # plt.fill_between(x,slope_fn(low_beta_s,x),slope_fn(high_beta_s,x),alpha=0.3,color=\"olive\")\n",
    "# plt.plot(x,slope_fn(beta_s_GL,x),label=\"Weights--S\",c=\"cornflowerblue\")\n",
    "# plt.fill_between(x,slope_fn(low_beta_s_GL,x),slope_fn(high_beta_s_GL,x),alpha=0.3,color=\"cornflowerblue\")\n",
    "plt.plot(xs,slope_fn(b,xs),label=r\"$\\hat \\beta_{\\mathrm{WLS}}$\",c=\"olive\")\n",
    "plt.plot(xs,slope_fn(b_star,xs),label=r\"$\\hat \\beta_{\\mathrm{cor}}$\",c=\"cornflowerblue\")\n",
    "plt.plot(xs,slope_fn(b_star,xs)-0.5,label=\"Intercept\",linestyle=\"dashed\",c=\"cornflowerblue\")\n",
    "plt.scatter(study_df[\"dose\"],study_df[\"logOR\"])\n",
    "plt.scatter(114.,0,c=\"darkred\",s=50,label=\"Baseline exposure\")\n",
    "plt.ylabel(\"log odds ratio\")\n",
    "plt.xlabel(\"Systolic blood pressure\")\n",
    "plt.legend()\n",
    "# plt.savefig(\"images/itoga_regression.pdf\",bbox_inches=\"tight\",pad_inches=0.1)\n",
    "plt.show()"
   ]
  },
  {
   "cell_type": "markdown",
   "metadata": {},
   "source": [
    "#### Gamma estimation - Alex J estimator"
   ]
  },
  {
   "cell_type": "code",
   "execution_count": 58,
   "metadata": {},
   "outputs": [],
   "source": [
    "z = np.copy(x)\n",
    "z_s = np.copy(x_s)\n",
    "z_i = np.copy(x_i)\n",
    "\n",
    "def Q(b, C):\n",
    "    return (L - x*b).T @ np.linalg.inv(C) @ (L - x*b)\n",
    "\n",
    "def gamma_fun(b, C):\n",
    "    num = Q(b,C) - (n-p)\n",
    "    Cinv = np.linalg.inv(C)\n",
    "    XCinv = 1 / x.T@Cinv@x\n",
    "    # denom = np.trace(Cinv) - np.trace((Cinv @ x @ x.T @ Cinv)*XCinv)\n",
    "    denom1 = np.trace(Cinv) - np.dot(Cinv @ x, x.T@Cinv)*XCinv\n",
    "    denom = np.trace(Cinv) - np.trace(Cinv@np.outer(x,x)@Cinv)*XCinv\n",
    "    # print(f\"This is the numerator: {num}\")\n",
    "    # print(f\"This is the denominator: {denom}\")\n",
    "    # print(denom1 - denom)\n",
    "    return num / denom1\n",
    "\n",
    "def update_C(gamma, C):\n",
    "    C_s = C[:3,:3]\n",
    "    C_i = C[3:7,3:7]\n",
    "    zzts = np.outer(z_s,z_s)\n",
    "    zzti = np.outer(z_i,z_i)\n",
    "    C_s += gamma*zzts\n",
    "    C_i += gamma*zzti\n",
    "    return block_diag(C_s,C_i)"
   ]
  },
  {
   "cell_type": "code",
   "execution_count": 60,
   "metadata": {},
   "outputs": [],
   "source": [
    "n = C.shape[0]\n",
    "p = 1\n",
    "\n",
    "b_loop = b_star\n",
    "C_loop = np.copy(C)\n",
    "\n",
    "gamma_list = []\n",
    "gamma_diff = 100\n",
    "gamma_old = 100\n",
    "while gamma_diff > 1e-5:\n",
    "    gamma = gamma_fun(b_loop, C_loop)\n",
    "    gamma_list.append(gamma)\n",
    "\n",
    "    C_loop = update_C(gamma,C_loop)\n",
    "    b_loop, v_loop = gls_reg(C_loop, L, x)\n",
    "\n",
    "    gamma_diff = np.absolute(gamma - gamma_old)\n",
    "    gamma_old = gamma"
   ]
  },
  {
   "cell_type": "code",
   "execution_count": 61,
   "metadata": {},
   "outputs": [
    {
     "data": {
      "text/plain": [
       "[2.282605749512246e-11, 2.2827447644358814e-11]"
      ]
     },
     "execution_count": 61,
     "metadata": {},
     "output_type": "execute_result"
    }
   ],
   "source": [
    "gamma_list"
   ]
  },
  {
   "cell_type": "code",
   "execution_count": 34,
   "metadata": {},
   "outputs": [
    {
     "name": "stdout",
     "output_type": "stream",
     "text": [
      "This is the numerator: 79.13387211172964\n",
      "This is the denominator: -2379612182170.144\n"
     ]
    },
    {
     "data": {
      "text/plain": [
       "-3.325494494634904e-11"
      ]
     },
     "execution_count": 34,
     "metadata": {},
     "output_type": "execute_result"
    }
   ],
   "source": [
    "gamma_fun(b,np.diag(v))"
   ]
  },
  {
   "cell_type": "code",
   "execution_count": 22,
   "metadata": {},
   "outputs": [
    {
     "data": {
      "text/plain": [
       "array([0.37414418, 0.38626253, 0.19999155, 0.0458681 , 0.05916105,\n",
       "       0.07754127, 0.07120083])"
      ]
     },
     "execution_count": 22,
     "metadata": {},
     "output_type": "execute_result"
    }
   ],
   "source": [
    "x.T@C"
   ]
  },
  {
   "cell_type": "code",
   "execution_count": 23,
   "metadata": {},
   "outputs": [
    {
     "data": {
      "text/plain": [
       "array([0.37414418, 0.38626253, 0.19999155, 0.0458681 , 0.05916105,\n",
       "       0.07754127, 0.07120083])"
      ]
     },
     "execution_count": 23,
     "metadata": {},
     "output_type": "execute_result"
    }
   ],
   "source": [
    "C@x"
   ]
  },
  {
   "cell_type": "markdown",
   "metadata": {},
   "source": [
    "#### Gamma estimation - Alex H function"
   ]
  },
  {
   "cell_type": "code",
   "execution_count": 10,
   "metadata": {},
   "outputs": [],
   "source": [
    "logdet = jax.jit(lambda x:jnp.linalg.slogdet(x)[1])\n",
    "\n",
    "#@jax.jit\n",
    "def margin_like(gamma,covariance_matrices,Y,X_vals,Z_vals):\n",
    "    vmats = [Z@Z.T*gamma + C for C,Z in zip(covariance_matrices,Z_vals)]\n",
    "    inv_vmats = [jnp.linalg.inv(V) for V in vmats]\n",
    "    LNV = jnp.sum(jnp.array([logdet(V) for V in vmats]))\n",
    "    beta = (\n",
    "        jnp.linalg.inv(jnp.sum(jnp.array([X.T@inv_V@X for inv_V,X in zip(inv_vmats,X_vals)]),axis=0))@ \n",
    "        (jnp.sum(jnp.array([X.T@inv_V@y for inv_V,y,X in zip(inv_vmats,Y,X_vals)]),axis=0))\n",
    "    )\n",
    "    res_term = jnp.sum(\n",
    "        jnp.array([\n",
    "            (X@beta - y).T@inv_v@(X@beta-y) \n",
    "            for inv_v,y,X in zip(inv_vmats,Y,X_vals)])\n",
    "        )\n",
    "    return LNV+res_term\n",
    "\n",
    "\n",
    "# @jax.jit\n",
    "# def margin_like_reml(gamma,covariance_matrices,Y,X,Z):\n",
    "#     ZZT = Z@Z.T\n",
    "#     vmats = jnp.array([ZZT*gamma + C for C in covariance_matrices])\n",
    "#     inv_vmats = jnp.array([jnp.linalg.inv(V) for V in vmats])\n",
    "#     LNV = jnp.sum(jnp.array([logdet(V) for V in vmats]))\n",
    "#     REML_term = jnp.log(jnp.sum(jnp.array([X.T@invV@X for invV in inv_vmats])))\n",
    "#     beta = (\n",
    "#         jnp.linalg.inv(jnp.sum(jnp.array([X.T@inv_V@X for inv_V in inv_vmats]),axis=0))@ \n",
    "#         (jnp.sum(jnp.array([X.T@inv_V@y for inv_V,y in zip(inv_vmats,Y)]),axis=0))\n",
    "#     )\n",
    "#     res_term = jnp.sum(\n",
    "#         jnp.array([\n",
    "#             (X@beta - y).T@inv_v@(X@beta-y) \n",
    "#             for inv_v,y in zip(inv_vmats,Y)])\n",
    "#         )\n",
    "#     return LNV + res_term + REML_term\n",
    "# vec_reml_like = (\n",
    "#     jax.vmap(margin_like_reml,in_axes=[0,None,None,None,None])\n",
    "# )\n",
    "# diff_reml_like = jax.jit(\n",
    "#     jax.grad(margin_like_reml,argnums=0)\n",
    "# )\n",
    "# diff_margin_like = jax.jit(\n",
    "#     jax.grad(margin_like,argnums=0)\n",
    "# )\n",
    "vec_margin_like = (\n",
    "    jax.vmap(margin_like,in_axes=[0,None,None,None,None])\n",
    ")\n",
    "\n",
    "\n",
    "# def estimate_gamma(L_vals,cov_mats,X_vals,Z_vals):\n",
    "#     gamma_grid = jnp.logspace(-4,2,20)\n",
    "#     try:\n",
    "#         gamma = root_scalar(lambda x:diff_margin_like(x,cov_mats,L_vals,X_vals,Z_vals),bracket = (1e-3,10.)).root\n",
    "#     except:\n",
    "#         nll = vec_margin_like(gamma_grid,cov_mats,L_vals,X_vals,Z_vals)\n",
    "#         gamma = gamma_grid[jnp.argmin(nll)]\n",
    "\n",
    "#     vmats = jnp.array([Z@Z.T*gamma + C for C,Z in zip(cov_mats,Z_vals)])\n",
    "#     inv_vmats = jnp.array([jnp.linalg.inv(V) for V in vmats])\n",
    "#     beta = (\n",
    "#         jnp.linalg.inv(jnp.sum(jnp.array([X.T@inv_V@X for inv_V,X in zip(inv_vmats,X_vals)]),axis=0))@ \n",
    "#         (jnp.sum(jnp.array([X.T@inv_V@y for inv_V,y,X in zip(inv_vmats,Y,X_vals)]),axis=0))\n",
    "#     )\n",
    "#     return jnp.array(gamma),beta[0]"
   ]
  },
  {
   "cell_type": "code",
   "execution_count": 11,
   "metadata": {},
   "outputs": [],
   "source": [
    "X = x.reshape(-1,1)\n",
    "Z = x.reshape(-1,1)\n",
    "\n",
    "\n",
    "X_vals = [X[:3],X[3:]]\n",
    "Z_vals = [Z[:3],Z[3:]]\n",
    "covmats = [C_s,C_i]\n",
    "L_vals = [L_s,L_i]\n",
    "\n",
    "#gamma, beta = estimate_gamma(L_vals, covmats, X_vals, Z_vals)"
   ]
  },
  {
   "cell_type": "code",
   "execution_count": 12,
   "metadata": {},
   "outputs": [
    {
     "data": {
      "text/plain": [
       "array([[14. ],\n",
       "       [25. ],\n",
       "       [45. ],\n",
       "       [ 4.8],\n",
       "       [ 9.2],\n",
       "       [13.9],\n",
       "       [19.7]])"
      ]
     },
     "execution_count": 12,
     "metadata": {},
     "output_type": "execute_result"
    }
   ],
   "source": [
    "Z"
   ]
  },
  {
   "cell_type": "code",
   "execution_count": 21,
   "metadata": {},
   "outputs": [],
   "source": [
    "C = jax.scipy.linalg.block_diag(C_s,C_i)\n",
    "\n",
    "def margin_like_reml(gamma,cov,Y,X,Z):\n",
    "    outer_piece = jax.scipy.linalg.block_diag(Z[:3]@Z[:3].T,Z[3:]@Z[3:].T)\n",
    "    V = outer_piece* gamma + cov\n",
    "    inv_V = jnp.linalg.inv(V)\n",
    "    LNV = logdet(V)\n",
    "    REML_term = logdet(X.T@inv_V@X)\n",
    "    beta = jnp.linalg.inv(X.T@inv_V@X)@X.T@inv_V@Y\n",
    "    res_term = (X@beta - Y).T@inv_V@(X@beta-Y)\n",
    "    return LNV + res_term + REML_term\n",
    "\n",
    "vec_reml = (\n",
    "    jax.vmap(margin_like_reml,in_axes=[0,None,None,None,None])\n",
    ")\n"
   ]
  },
  {
   "cell_type": "code",
   "execution_count": 24,
   "metadata": {},
   "outputs": [
    {
     "name": "stdout",
     "output_type": "stream",
     "text": [
      "Correlated:  5.478901179593945e-05\n",
      "Diagonal:  0.00012603829296797275\n"
     ]
    },
    {
     "data": {
      "image/png": "[encoded data removed]",
      "text/plain": [
       "<Figure size 640x480 with 1 Axes>"
      ]
     },
     "metadata": {},
     "output_type": "display_data"
    }
   ],
   "source": [
    "gamma_grid = jnp.logspace(-8,0,200)\n",
    "nll = vec_reml(gamma_grid,C,L,X,Z)\n",
    "\n",
    "\n",
    "Cdiag = jnp.diag(jnp.diag(C))\n",
    "nll_diag = vec_reml(gamma_grid,Cdiag,L,X,Z)\n",
    "\n",
    "\n",
    "gamma = gamma_grid[jnp.argmin(nll)]\n",
    "gamma_diag = gamma_grid[jnp.argmin(nll_diag)]\n",
    "print(\"Correlated: \",gamma)\n",
    "print(\"Diagonal: \",gamma_diag)\n",
    "plt.plot(gamma_grid,nll,label = 'correlated')\n",
    "plt.plot(gamma_grid,nll_diag,label = 'diagonal cov')\n",
    "plt.xscale('log')\n",
    "plt.legend()\n",
    "plt.show()\n"
   ]
  },
  {
   "cell_type": "code",
   "execution_count": 25,
   "metadata": {},
   "outputs": [
    {
     "name": "stdout",
     "output_type": "stream",
     "text": [
      "       Mixed Linear Model Regression Results\n",
      "====================================================\n",
      "Model:            MixedLM Dependent Variable: L     \n",
      "No. Observations: 7       Method:             REML  \n",
      "No. Groups:       2       Scale:              0.0065\n",
      "Min. group size:  3       Log-Likelihood:     inf   \n",
      "Max. group size:  4       Converged:          Yes   \n",
      "Mean group size:  3.5                               \n",
      "------------------------------------------------------\n",
      "        Coef.   Std.Err.   z   P>|z|   [0.025   0.975]\n",
      "------------------------------------------------------\n",
      "X       0.028                                         \n",
      "X Var   0.000                                         \n",
      "====================================================\n",
      "\n"
     ]
    },
    {
     "name": "stderr",
     "output_type": "stream",
     "text": [
      "/home/owlx/miniconda3/envs/corr_correct/lib/python3.12/site-packages/statsmodels/base/model.py:607: ConvergenceWarning: Maximum Likelihood optimization failed to converge. Check mle_retvals\n",
      "  warnings.warn(\"Maximum Likelihood optimization failed to \"\n",
      "/home/owlx/miniconda3/envs/corr_correct/lib/python3.12/site-packages/statsmodels/regression/mixed_linear_model.py:2200: ConvergenceWarning: Retrying MixedLM optimization with lbfgs\n",
      "  warnings.warn(\n",
      "/home/owlx/miniconda3/envs/corr_correct/lib/python3.12/site-packages/statsmodels/regression/mixed_linear_model.py:1634: UserWarning: Random effects covariance is singular\n",
      "  warnings.warn(msg)\n",
      "/home/owlx/miniconda3/envs/corr_correct/lib/python3.12/site-packages/statsmodels/regression/mixed_linear_model.py:2054: UserWarning: The random effects covariance matrix is singular.\n",
      "  warnings.warn(_warn_cov_sing)\n",
      "/home/owlx/miniconda3/envs/corr_correct/lib/python3.12/site-packages/statsmodels/regression/mixed_linear_model.py:2237: ConvergenceWarning: The MLE may be on the boundary of the parameter space.\n",
      "  warnings.warn(msg, ConvergenceWarning)\n",
      "/home/owlx/miniconda3/envs/corr_correct/lib/python3.12/site-packages/statsmodels/regression/mixed_linear_model.py:2245: UserWarning: The random effects covariance matrix is singular.\n",
      "  warnings.warn(_warn_cov_sing)\n",
      "/home/owlx/miniconda3/envs/corr_correct/lib/python3.12/site-packages/statsmodels/regression/mixed_linear_model.py:2704: RuntimeWarning: invalid value encountered in sqrt\n",
      "  sdf[0:self.k_fe, 1] = np.sqrt(np.diag(self.cov_params()[0:self.k_fe]))\n"
     ]
    }
   ],
   "source": [
    "import statsmodels.api as sm\n",
    "import statsmodels.formula.api as smf\n",
    "\n",
    "groups = jnp.array([0,0,0.,1,1,1,1.])\n",
    "\n",
    "df = pd.DataFrame({\n",
    "    'L':L,\n",
    "    \"group\":groups,\n",
    "    'X':x\n",
    "})\n",
    "\n",
    "md = smf.mixedlm(\"L ~ 0 + X\", df, groups=df['group'],re_formula = '~ 0 + X')\n",
    "\n",
    "mdf = md.fit()\n",
    "print(mdf.summary())\n"
   ]
  }
 ],
 "metadata": {
  "kernelspec": {
   "display_name": "correlationCorrection",
   "language": "python",
   "name": "python3"
  },
  "language_info": {
   "codemirror_mode": {
    "name": "ipython",
    "version": 3
   },
   "file_extension": ".py",
   "mimetype": "text/x-python",
   "name": "python",
   "nbconvert_exporter": "python",
   "pygments_lexer": "ipython3",
   "version": "3.12.3"
  }
 },
 "nbformat": 4,
 "nbformat_minor": 2
}
